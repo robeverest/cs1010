{
  "metadata": {
    "language_info": {
      "codemirror_mode": {
        "name": "ipython",
        "version": 3
      },
      "file_extension": ".py",
      "mimetype": "text/x-python",
      "name": "python",
      "version": "3.8.5-final"
    },
    "orig_nbformat": 2,
    "kernelspec": {
      "name": "Python 3",
      "display_name": "Python 3"
    }
  },
  "nbformat": 4,
  "nbformat_minor": 2,
  "cells": [
    {
      "source": [
        "## COMP1010 Setup\n"
      ],
      "cell_type": "markdown",
      "metadata": {}
    },
    {
      "source": [
        "This notebook is for checking that your computer is set up for the latter part of COMP1010.\n",
        "\n",
        "Run the code in the cell below by clicking the green play button above it. If you are asked to install Jupyter, do so. It may take a while to install, but once the messsage disappears from the bottom left of the window, the installation has completed. Try again to run the cell above. If you are asked whether to trust the notebook, change your settings to trust all notebooks."
      ],
      "cell_type": "markdown",
      "metadata": {}
    },
    {
      "cell_type": "code",
      "execution_count": null,
      "metadata": {},
      "outputs": [],
      "source": [
        "1 + 1"
      ]
    },
    {
      "source": [
        "Once you are able to run the cell above and get a result of 2, run the cell below to install the extra python libraries we have used and will be using in this course (this can take a long time)."
      ],
      "cell_type": "markdown",
      "metadata": {}
    },
    {
      "cell_type": "code",
      "execution_count": null,
      "metadata": {},
      "outputs": [],
      "source": [
        "!pip3 install -r requirements.txt"
      ]
    },
    {
      "source": [
        "If the above cell completed with no error in its output, you should be able to run the cell below and see the helicopter."
      ],
      "cell_type": "markdown",
      "metadata": {}
    },
    {
      "cell_type": "code",
      "execution_count": null,
      "metadata": {},
      "outputs": [],
      "source": [
        "import plotly.graph_objects as go\n",
        "\n",
        "import pandas\n",
        "\n",
        "data = pandas.read_csv('https://raw.githubusercontent.com/plotly/datasets/master/3d-mesh-helicopter.csv')\n",
        "\n",
        "fig = go.Figure(go.Mesh3d(**data))\n",
        "\n",
        "fig.show()"
      ]
    },
    {
      "source": [
        "You're now set up and ready to use Python and Visual Studio Code on your own computer 🙂"
      ],
      "cell_type": "markdown",
      "metadata": {}
    }
  ]
}
