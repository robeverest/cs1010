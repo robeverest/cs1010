{
 "metadata": {
  "language_info": {
   "codemirror_mode": {
    "name": "ipython",
    "version": 3
   },
   "file_extension": ".py",
   "mimetype": "text/x-python",
   "name": "python",
   "nbconvert_exporter": "python",
   "pygments_lexer": "ipython3",
   "version": "3.8.5-final"
  },
  "orig_nbformat": 2,
  "kernelspec": {
   "name": "python3",
   "display_name": "Python 3",
   "language": "python"
  }
 },
 "nbformat": 4,
 "nbformat_minor": 2,
 "cells": [
  {
   "cell_type": "markdown",
   "metadata": {},
   "source": [
    "# Notebooks in COMP1010\n",
    "\n",
    "What you're looking at right now is a Python notebook. In COMP1010, we will be using notebooks as a tool for experimentation, demonstration and documentation.\n",
    "\n",
    "A notebook is comprised of a series of cells. Each of these cells is either a *text* cell or a *code* cell. What you're reading right now is a text cell. Below is a code cell. Don't worry if what is written in the code makes no sense to you. That's what you'll be learning in this course 🙂\n",
    "\n",
    "For weeks 1, 2 and 3 we will be using Colaboratory, a free online notebook environment provided by Google. You can use it to read the contents of a notebook by just following a link, as you did to get here, but in order to actually run code, you'll need to sign in with a Google account.\n",
    "\n",
    "If you don't already have a Google account, or you don't want to use your personal account for university course work, you can sign up for one using one of your UNSW student email addresses (e.g. z1234567@unsw.edu.au). To do so, simply click 'Sign in' in the top right corner of this page, then 'Create account', and follow the prompts to create an account.\n",
    "\n",
    "**If you're unable to create an account because your access to Google services is restricted, please scroll down to 'Google Alternative' below and follow the instructions there.**\n",
    "\n",
    "Once you're signed in, you can try running some code! If you hover over `[ ]` on the left hand side of the cell below, a play button should appear. Click on it to run the code. You may have to click \"Run Anyway\", if it warns you that the code was not authored by Google. It may take a moment, but you should see a helicopter once it finishes executing. You can use your mouse to move it around and see it from all sides."
   ]
  },
  {
   "cell_type": "code",
   "execution_count": null,
   "metadata": {},
   "outputs": [],
   "source": [
    "import plotly.graph_objects as go\n",
    "\n",
    "import pandas\n",
    "\n",
    "data = pandas.read_csv('https://raw.githubusercontent.com/plotly/datasets/master/3d-mesh-helicopter.csv')\n",
    "\n",
    "fig = go.Figure(go.Mesh3d(**data))\n",
    "\n",
    "fig.show()\n"
   ]
  },
  {
   "cell_type": "markdown",
   "metadata": {},
   "source": [
    "## Google Alternative\n",
    "\n",
    "If you're unable to use a Google account because of internet restrictions, you can access this notebook and run its code cell via mybinder.org:\n",
    "\n",
    "https://mybinder.org/v2/gh/robeverest/cs1010/master?filepath=week1%2Fintro.ipynb\n",
    "\n",
    "It may take a moment to start, but will work much the same Colaboratory. However, please pay careful attention to these **important** differences:\n",
    "\n",
    "* To run a cell you need to click on it then click on the 'Run' button at the top. Alternatively, you can click on it then hold down the Control key (ctrl) and press Enter.\n",
    "* It's not always obvious when a code cell is running. If you see 'In \\[\\*\\]' next to a cell, that means the cell is running, so you may need to wait for it to finish.\n",
    "* **Any changes you make are not automatically saved when you close the tab or window**. To save your work, click on the button to the right of 'Download' with the arrow pointing down. To load your previously saved work, click on the button next to that with the arrow pointing up. Note that this loads and saves from your own computer, so won't work if you're using multiple devices to access the notebook.\n",
    "* When you first open a notebook, you need to click \"Not trusted\" at the top of the page then \"Trust\" in order for code cells to work properly.\n",
    "\n",
    "While this is less convenient than Colaboratory, in week 3 we will help you setup a programming environment on your own computer so your experience then will be the same as everyone elses.\n",
    "\n",
    "**If you have had to follow these instructions instead of the ones above, please email robertce@cse.unsw.edu.au**. This is just so that I (Rob) know that I need to continue providing links and instructions for mybinder.org."
   ]
  }
 ]
}