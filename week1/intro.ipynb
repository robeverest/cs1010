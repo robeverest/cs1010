{
 "metadata": {
  "language_info": {
   "codemirror_mode": {
    "name": "ipython",
    "version": 3
   },
   "file_extension": ".py",
   "mimetype": "text/x-python",
   "name": "python",
   "nbconvert_exporter": "python",
   "pygments_lexer": "ipython3",
   "version": "3.8.5-final"
  },
  "orig_nbformat": 2,
  "kernelspec": {
   "name": "python3",
   "display_name": "Python 3",
   "language": "python"
  }
 },
 "nbformat": 4,
 "nbformat_minor": 2,
 "cells": [
  {
   "cell_type": "markdown",
   "metadata": {},
   "source": [
    "# Notebooks in COMP1010\n",
    "\n",
    "What you're looking at right now is a Python notebook. In COMP1010, we will be using notebooks as a tool for experimentation, demonstration and documentation.\n",
    "\n",
    "A notebook is comprised of a series of cells. Each of these cells is either a text cell or a code cell. What you're reading right now is a text cell. Below is a code cell. Don't worry if what is written in the code cell makes no sense to you. That's what you'll be learning in this course 🙂\n",
    "\n",
    "For weeks 1, 2 and 3 we will be using Colaboratory, a free online notebook environment provided by Google. It allows you to read the contents of a notebook by just following a link, as you did to get here, but in order to actually run code, you'll need to sign in with a Google account.\n",
    "\n",
    "If you don't already have a Google account, or you don't want to use your personal Google account for university course work, you can sign up for one using one of your UNSW student email addresses (e.g. z1234567@unsw.edu.au). To do so, simply click 'Sign in' in the top right corner of this page, then 'Create account', and follow the prompts to create an account.\n",
    "\n",
    "**If you're unable to create an account because access to Google services is restricted where you are, please scroll down to 'Google Alternative' below and follow the instructions there.**\n",
    "\n",
    "Once you're signed in to your google account you can try running some code! Click the play button on the left hand side of the code below. It may take a moment to run it, but you should see a helicopter below it once its done. Use your mouse to move the helicopter around and see it from all sides."
   ]
  },
  {
   "cell_type": "code",
   "execution_count": null,
   "metadata": {},
   "outputs": [],
   "source": [
    "import plotly.graph_objects as go\n",
    "\n",
    "import pandas\n",
    "\n",
    "data = pandas.read_csv('https://raw.githubusercontent.com/plotly/datasets/master/3d-mesh-helicopter.csv')\n",
    "\n",
    "fig = go.Figure(go.Mesh3d(**data))\n",
    "\n",
    "fig.show()\n"
   ]
  }
 ]
}
