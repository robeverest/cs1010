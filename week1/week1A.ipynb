{
  "nbformat": 4,
  "nbformat_minor": 0,
  "metadata": {
    "colab": {
      "name": "week1A.ipynb",
      "provenance": [],
      "collapsed_sections": []
    },
    "kernelspec": {
      "name": "python3",
      "display_name": "Python 3"
    }
  },
  "cells": [
    {
      "cell_type": "markdown",
      "metadata": {
        "id": "HwNY8n2qU289",
        "colab_type": "text"
      },
      "source": [
        "# What is programming?"
      ]
    },
    {
      "cell_type": "markdown",
      "metadata": {
        "id": "Dvr8dzNX5L14",
        "colab_type": "text"
      },
      "source": [
        "![programming?](https://cdn.kapwing.com/final_5f45fa85778d5e0015013451_630000.gif)\n",
        "![programming?](https://cdn.kapwing.com/video_image-08I9dmq23.jpeg)\n",
        "![programming](https://cdn.kapwing.com/final_5f45f431778d5e0015010631_452589.gif)\n"
      ]
    },
    {
      "cell_type": "markdown",
      "metadata": {
        "id": "5EJbx2frXuma",
        "colab_type": "text"
      },
      "source": [
        "# What is this course?"
      ]
    },
    {
      "cell_type": "markdown",
      "metadata": {
        "id": "oCwsjFILT4wx",
        "colab_type": "text"
      },
      "source": [
        "# What is python?"
      ]
    },
    {
      "cell_type": "markdown",
      "metadata": {
        "id": "E9MEAUesXix4",
        "colab_type": "text"
      },
      "source": [
        "Can we find out what 1 + 1 is?"
      ]
    },
    {
      "cell_type": "code",
      "metadata": {
        "id": "0UX2bbjGSVq1",
        "colab_type": "code",
        "colab": {}
      },
      "source": [
        ""
      ],
      "execution_count": null,
      "outputs": []
    }
  ]
}