{
  "nbformat": 4,
  "nbformat_minor": 0,
  "metadata": {
    "colab": {
      "name": "week1A.ipynb",
      "provenance": [],
      "collapsed_sections": []
    },
    "kernelspec": {
      "name": "python3",
      "display_name": "Python 3",
      "language": "python"
    }
  },
  "cells": [
    {
      "cell_type": "markdown",
      "metadata": {},
      "source": [
        "# Why are we here? What is this? What's going on?\n",
        "\n",
        "<img width=\"512\" alt=\"Why?\" src=\"https://upload.wikimedia.org/wikipedia/commons/thumb/d/d3/Why_Is_That%3F_Logo.jpg/512px-Why_Is_That%3F_Logo.jpg\">\n",
        "\n",
        "I know why I'm here, why are you here?\n",
        "\n",
        "* You want to learn to be a (better) programmer?\n",
        "* You want to build things?\n",
        "\n",
        "### First python program\n",
        "\n",
        "What's $1 + 1$?"
      ]
    },
    {
      "cell_type": "code",
      "execution_count": null,
      "metadata": {},
      "outputs": [],
      "source": []
    },
    {
      "cell_type": "markdown",
      "metadata": {},
      "source": [
        "# Admin (yay...)\n",
        "\n",
        "## Lectures\n",
        "\n",
        "* Online (via Zoom)\n",
        "* No lecture in week 6\n",
        "\n",
        "### Python with Rob"
      ]
    },
    {
      "cell_type": "markdown",
      "metadata": {
        "id": "HwNY8n2qU289",
        "colab_type": "text"
      },
      "source": [
        "# What is programming?"
      ]
    },
    {
      "cell_type": "markdown",
      "metadata": {
        "id": "Dvr8dzNX5L14",
        "colab_type": "text"
      },
      "source": [
        "<img alt=\"programming?\" src=\"https://cdn.kapwing.com/final_5f45fa85778d5e0015013451_630000.gif\" width=\"400\"/>\n",
        "<br/>\n",
        "<img alt=\"programming?\" src=\"https://cdn.kapwing.com/video_image-08I9dmq23.jpeg\" width=\"400\"/>\n",
        "<br/>\n",
        "<img alt=\"programming\" src=\"https://cdn.kapwing.com/final_5f45f431778d5e0015010631_452589.gif\" width=\"400\"/>\n"
      ]
    },
    {
      "cell_type": "markdown",
      "metadata": {
        "id": "5EJbx2frXuma",
        "colab_type": "text"
      },
      "source": [
        "----\n",
        "# What is this course?"
      ]
    },
    {
      "cell_type": "markdown",
      "metadata": {},
      "source": [
        "<video preload=\"yes\" playsinline=\"yes\" controls=\"yes\" loop=\"yes\" style=\"width: 50%; height: 50%; background-color: black;\" src=\"https://video.twimg.com/ext_tw_video/1284803944548425728/pu/vid/1244x720/Ao2PS55Am5jvogD0.mp4\"></video>"
      ]
    },
    {
      "cell_type": "markdown",
      "metadata": {},
      "source": []
    },
    {
      "cell_type": "markdown",
      "metadata": {
        "id": "oCwsjFILT4wx",
        "colab_type": "text"
      },
      "source": [
        "# What is python?"
      ]
    }
  ]
}