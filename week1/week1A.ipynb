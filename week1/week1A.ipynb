{
  "nbformat": 4,
  "nbformat_minor": 0,
  "metadata": {
    "colab": {
      "name": "week1A.ipynb",
      "provenance": [],
      "collapsed_sections": []
    },
    "kernelspec": {
      "name": "python3",
      "display_name": "Python",
      "language": "python"
    }
  },
  "cells": [
    {
      "cell_type": "markdown",
      "metadata": {
        "id": "O0kYe3RQM5lI",
        "colab_type": "text"
      },
      "source": [
        "# Why are we here? What is this? What's going on?"
      ]
    },
    {
      "cell_type": "markdown",
      "metadata": {
        "id": "jB1uU-GSP2Pu",
        "colab_type": "text"
      },
      "source": [
        "<center><img width=\"400\" alt=\"Why?\" src=\"https://upload.wikimedia.org/wikipedia/commons/thumb/d/d3/Why_Is_That%3F_Logo.jpg/512px-Why_Is_That%3F_Logo.jpg\"></center>\n",
        "\n",
        "I know why I'm here, why are you here?\n",
        "\n",
        "* Please [fill out the survey](https://forms.office.com/Pages/ResponsePage.aspx?id=pM_2PxXn20i44Qhnufn7o0AHgbuPdoxGu9gzTpCAubBURTFYU0gxQURXTVJETklMT0pFWEdYRUZHVi4u) if you haven't already."
      ]
    },
    {
      "cell_type": "markdown",
      "metadata": {
        "id": "5Yj_JR2mPqa4",
        "colab_type": "text"
      },
      "source": [
        "### First python program\n",
        "\n",
        "What's $1 + 1$?"
      ]
    },
    {
      "cell_type": "code",
      "metadata": {
        "id": "TGVBlv03M5lK",
        "colab_type": "code",
        "colab": {}
      },
      "source": [],
      "execution_count": null,
      "outputs": []
    },
    {
      "source": [
        "# What is computational thinking?\n",
        "\n",
        "![galaxy brain](https://i.kym-cdn.com/entries/icons/original/000/022/266/brain.png)\n",
        "\n",
        "* Thinking like a computer?\n",
        "* Philosophy?"
      ],
      "cell_type": "markdown",
      "metadata": {}
    },
    {
      "cell_type": "markdown",
      "metadata": {
        "id": "HwNY8n2qU289",
        "colab_type": "text"
      },
      "source": [
        "# What is programming?"
      ]
    },
    {
      "cell_type": "markdown",
      "metadata": {
        "id": "9eNcf3-jbUPK",
        "colab_type": "text"
      },
      "source": [
        "## Maths?\n",
        "<center><img alt=\"programming?\" src=\"https://cdn.kapwing.com/final_5f45fa85778d5e0015013451_630000.gif\" width=\"500\"/></center>"
      ]
    },
    {
      "cell_type": "markdown",
      "metadata": {
        "id": "yN0vAuqTbYLN",
        "colab_type": "text"
      },
      "source": [
        "## This guy?\n",
        "<center><img alt=\"programming?\" src=\"https://image.cnbcfm.com/api/v1/image/106330923-1578676182018gettyimages-1178141599.jpeg?v=1584633147&w=1400&h=950\"  width=\"700\"/></center>"
      ]
    },
    {
      "cell_type": "markdown",
      "metadata": {
        "id": "Dvr8dzNX5L14",
        "colab_type": "text"
      },
      "source": [
        "## More accurately\n",
        "<center><img alt=\"programming\" src=\"https://cdn.kapwing.com/final_5f45f431778d5e0015010631_452589.gif\" width=\"700\"/></center>\n"
      ]
    },
    {
      "cell_type": "markdown",
      "metadata": {
        "id": "jhNcZr_KP-g2",
        "colab_type": "text"
      },
      "source": [
        "# Admin "
      ]
    },
    {
      "cell_type": "markdown",
      "metadata": {
        "id": "sSGLQAevd0SX",
        "colab_type": "text"
      },
      "source": [
        "## Lectures"
      ]
    },
    {
      "cell_type": "markdown",
      "metadata": {
        "id": "aKKu7H-sd21p",
        "colab_type": "text"
      },
      "source": [
        "<center><img width=\"450\" src=\"https://images.pexels.com/photos/356065/pexels-photo-356065.jpeg?auto=compress&cs=tinysrgb&dpr=2&h=750&w=1260\" /></center>\n",
        "\n",
        "### Important info:\n",
        "\n",
        "* Tuesdays 1PM to 3PM, Wednesdays 4-6PM\n",
        "* Online (via Zoom)\n",
        "* Recordings will be made available on the course website\n",
        "* No lecture in week 6\n",
        "* 10 minute \"break\" in the middle\n",
        "* What interest is there in an in-person \"revision session\" in week 6?\n",
        "\n",
        "### Less important info:\n",
        "\n",
        "* We built [this](https://cs1010-trump-or-bot.azurewebsites.net/) during the 20T3 lectures."
      ]
    },
    {
      "cell_type": "markdown",
      "metadata": {
        "id": "TM-AJd5hM5la",
        "colab_type": "text"
      },
      "source": [
        "### What happens in lectures?\n",
        "<img width=\"384\" alt=\"python with Rob\" src=\"https://i.imgur.com/ZpL3LzK.jpg\" />\n",
        "<br />\n",
        "<small>Python with Rob</small>\n",
        "\n",
        "### \"What should I do during the lecture?\"\n",
        "\n",
        "* You can make notes, if you want...\n",
        "* You can do the exercises with me\n",
        "* You can work ahead of me"
      ]
    },
    {
      "cell_type": "markdown",
      "metadata": {
        "id": "Gt6TqKtdM5lc",
        "colab_type": "text"
      },
      "source": [
        "## Tutorials\n",
        "\n",
        "* Online \n",
        "* Emphasis on group activities and creative problem solving\n",
        "* Your tutors:\n",
        "  * Kai\n",
        "  * Sim\n",
        "\n",
        "## Labs\n",
        "\n",
        "* Online\n",
        "* One on one help, feedback and marking\n",
        "* You need to get your labs marked off either in the week they are assigned or the week after (e.g. you can get the week 1 lab marked off in either week 1 or week 2)."
      ]
    },
    {
      "cell_type": "markdown",
      "metadata": {
        "id": "UajpL2vqM5le",
        "colab_type": "text"
      },
      "source": [
        "## Project\n",
        "\n",
        "* Solve a problem of your choice\n",
        "* If you don't know what problem to solve, some ideas will be made available\n",
        "* If you wish, you can do it with a partner\n",
        "* By week 5 you should have a reasonable idea the sorts of things you could do\n",
        "\n",
        "### Due dates:\n",
        "\n",
        "* Week 7 - Project Proposal\n",
        "* Week 10 - Final submission\n",
        "\n",
        "## Exam\n",
        "\n",
        "* During exam period\n",
        "* Mostly programming exercises\n",
        "* Some short answer\n",
        "* It *does* have a hurdle of 50%\n",
        "* More specific details will be released closer to the date.\n"
      ]
    },
    {
      "source": [
        "## Resources\n",
        "\n",
        "* [Think Python](http://greenteapress.com/thinkpython2/html/index.html)\n",
        "* [Stack Overflow](https://stackoverflow.com/)?\n",
        "* Google?"
      ],
      "cell_type": "markdown",
      "metadata": {}
    },
    {
      "cell_type": "markdown",
      "metadata": {
        "id": "KNCjerTKYwxx",
        "colab_type": "text"
      },
      "source": [
        "# Okay, for real now, what is programming?"
      ]
    },
    {
      "cell_type": "markdown",
      "metadata": {
        "id": "oCwsjFILT4wx",
        "colab_type": "text"
      },
      "source": [
        "For the purposes of this course we will consider programming as:\n",
        "\n",
        "> *Writing code in a programming language*\n",
        "\n",
        "### So what's a programming language?\n",
        "\n",
        "This is some python code. What makes it different to English, French, or Mandarin?"
      ]
    },
    {
      "cell_type": "code",
      "metadata": {
        "id": "PuZVcAfhM5lg",
        "colab_type": "code",
        "colab": {}
      },
      "source": [
        "import plotly.graph_objects as go\n",
        "\n",
        "import pandas\n",
        "\n",
        "data = pandas.read_csv('https://raw.githubusercontent.com/plotly/datasets/master/3d-mesh-helicopter.csv')\n",
        "\n",
        "fig = go.Figure(go.Mesh3d(**data))\n",
        "\n",
        "fig.show()"
      ],
      "execution_count": null,
      "outputs": []
    },
    {
      "cell_type": "markdown",
      "metadata": {
        "id": "hZSJ6-xtM5lo",
        "colab_type": "text"
      },
      "source": [
        "## Language classification\n",
        "\n",
        "Broadly, there are two types of languages:\n",
        "* **Natural languages**\n",
        "  * The languages people speak (e.g. English, French, Mandarin, etc.).\n",
        "  * Typically evolve and change over thousands of years of culture. \n",
        "  * Can sometimes be *constructed languages* (e.g. Klingon, Elvish, Esperanto).\n",
        "* **Formal languages**\n",
        "  * Designed (or discovered) by humans\n",
        "  * Have *unambiguous semantics*.\n",
        "\n",
        "A language's semantics describe how meaning is extracted from the language. English has ambigious semantics. Example:\n",
        "\n",
        "*We saw her duck*\n",
        "\n",
        "Programming languages are formal languages that have a *computational* interpretation.\n",
        "\n",
        "There is only one \"right\" way to interpret the above code."
      ]
    },
    {
      "cell_type": "markdown",
      "metadata": {
        "id": "sjpPNgSkY9h3",
        "colab_type": "text"
      },
      "source": [
        "# Why do we need programming languages?"
      ]
    },
    {
      "cell_type": "markdown",
      "metadata": {
        "id": "KrL-3RUFM5lo",
        "colab_type": "text"
      },
      "source": [
        "Maybe we don't? See [this](https://video.twimg.com/ext_tw_video/1284803944548425728/pu/vid/1244x720/Ao2PS55Am5jvogD0.mp4) demo here.\n",
        "\n",
        "In general, when needing to describe, with accuracy, anything *sufficiently complicated*, natural languages don't work well. This is why:\n",
        "* Civil Engineers use blueprints\n",
        "* Mathematicians use funky looking symbols\n",
        "* Musicians use musical notation\n",
        "\n",
        "Arguably, the first programming language was intended as a [foundation for all of mathematics](https://en.wikipedia.org/wiki/Lambda_calculus).\n",
        "\n",
        "In 2020 programming languages are used for a wide variety of purposes:\n",
        "* Software and \"Apps\" (e.g. Windows, Facebook, Tiktok, Moodle)\n",
        "* Data analysis and statistics (e.g. who is dying from the coronavirus?)\n",
        "* Simulations and modelling (e.g. simulating the spread of coronavirus)\n",
        "* Art\n",
        "  * Visualisations (like [this](https://www.shadertoy.com/view/3tsfRM) one)\n",
        "  * Music\n",
        "  * [Live Coding](https://en.wikipedia.org/wiki/Live_coding)\n",
        "* Contracts\n",
        "  * Financial contracts ([smart contracts](https://en.wikipedia.org/wiki/Smart_contract))\n",
        "  * Legal contracts"
      ]
    },
    {
      "cell_type": "markdown",
      "metadata": {
        "id": "lbaXGZD6ZE65",
        "colab_type": "text"
      },
      "source": [
        "# Learning how to program"
      ]
    },
    {
      "cell_type": "markdown",
      "metadata": {
        "id": "YvioRWn1M5lq",
        "colab_type": "text"
      },
      "source": [
        "<img width=\"500\" src=\"https://source.unsplash.com/1pyqUh8Jx3E\">\n",
        "\n",
        "In order of importance:\n",
        "\n",
        "1. Practice\n",
        "2. Ask questions\n",
        "3. Get feedback\n",
        "4. See how others approach problems"
      ]
    },
    {
      "cell_type": "markdown",
      "metadata": {
        "id": "33_WNaSVZJ_u",
        "colab_type": "text"
      },
      "source": [
        "# Alright, let's program"
      ]
    },
    {
      "cell_type": "markdown",
      "metadata": {
        "id": "PO5LmBJgM5lr",
        "colab_type": "text"
      },
      "source": [
        "A shop is 12 metres by 8 metres. Social distancing rules say that there should be no more than 1 person for every 4 square meters. How many people can be in the shop at once?"
      ]
    },
    {
      "cell_type": "code",
      "metadata": {
        "id": "hg-g1aZUM5lt",
        "colab_type": "code",
        "colab": {}
      },
      "source": [],
      "execution_count": null,
      "outputs": []
    },
    {
      "cell_type": "markdown",
      "metadata": {
        "id": "7sNmGl1PM5l0",
        "colab_type": "text"
      },
      "source": [
        "A student has received marks for a course. They got:\n",
        "\n",
        "* 75% in the first assignment, which is worth 20% of the course mark\n",
        "* 80% in the second assignment, which is worth 30% of the course mark\n",
        "* 60% in the final exam, which is worth 50% of the course mark\n",
        "\n",
        "What is their overall course mark?"
      ]
    },
    {
      "cell_type": "code",
      "metadata": {
        "id": "Q7UMl_5yM5l1",
        "colab_type": "code",
        "colab": {}
      },
      "source": [],
      "execution_count": null,
      "outputs": []
    },
    {
      "cell_type": "markdown",
      "metadata": {
        "id": "I0CzJCPWM5l7",
        "colab_type": "text"
      },
      "source": [
        "## Comparing to a spreadsheet\n",
        "\n",
        "How many bricks are there in Sydney?\n",
        "\n",
        "With a [spreadsheet](https://docs.google.com/spreadsheets/d/1NSWzYXKqPW8bjVEKBT10iRyUOSR9HtgRRMAp04S0bMU/edit?usp=sharing).\n",
        "\n",
        "With python:"
      ]
    },
    {
      "cell_type": "code",
      "metadata": {
        "id": "g6SU5gVLM5l8",
        "colab_type": "code",
        "colab": {}
      },
      "source": [],
      "execution_count": null,
      "outputs": []
    },
    {
      "cell_type": "markdown",
      "metadata": {
        "id": "N1EQDoYyZS-l",
        "colab_type": "text"
      },
      "source": [
        "# Spreadsheets"
      ]
    },
    {
      "cell_type": "markdown",
      "metadata": {
        "id": "AcEqAEryM5mC",
        "colab_type": "text"
      },
      "source": [
        "Spreadsheets focus on the *what* and hide the *how*.\n",
        "\n",
        "For many applications this is the right choice, but...\n",
        "\n",
        "* Around 94% of spreadsheets contain errors ([citation](https://www.researchgate.net/publication/228662532_What_We_Know_About_Spreadsheet_Errors))\n",
        "* For any given spreadsheet formula, there's a 1% chance it contains an error ([citation](http://tuck-fac-cen.dartmouth.edu/images/uploads/faculty/serp/Errors.pdf))\n",
        "* [An example spreadsheet with a bug](https://docs.google.com/spreadsheets/d/1iC3K7gLN6C_9aWXSRvM4h5ZFdis7r7RDsFxwtknTDqE/edit?usp=sharing)\n",
        "\n",
        "Even if something *can* be done with spreadsheets, there is still benefit in doing it in a programming language (like python)"
      ]
    },
    {
      "cell_type": "markdown",
      "metadata": {
        "id": "uUT-EuPDZgIR",
        "colab_type": "text"
      },
      "source": [
        "# Variables"
      ]
    },
    {
      "cell_type": "markdown",
      "metadata": {
        "id": "Y_CryLXfM5mD",
        "colab_type": "text"
      },
      "source": [
        "Important points:\n",
        "* Variables are used to store intermediate results, like in the example above\n",
        "* We refer to the thing stored inside a variable as its value\n",
        "* The value inside a variable can change...\n",
        "\n",
        "This cell sets `x` to 0"
      ]
    },
    {
      "cell_type": "code",
      "metadata": {
        "id": "mp6WRluWM5mE",
        "colab_type": "code",
        "colab": {}
      },
      "source": [
        "x = 0"
      ],
      "execution_count": null,
      "outputs": []
    },
    {
      "cell_type": "markdown",
      "metadata": {
        "id": "jjv9NRBYM5mK",
        "colab_type": "text"
      },
      "source": [
        "but what happens to `x` if I run this cell?"
      ]
    },
    {
      "cell_type": "code",
      "metadata": {
        "id": "V83Ea0gXM5mL",
        "colab_type": "code",
        "colab": {}
      },
      "source": [
        "x = x + 1"
      ],
      "execution_count": null,
      "outputs": []
    },
    {
      "cell_type": "markdown",
      "metadata": {
        "id": "Zj7qifOlM5mQ",
        "colab_type": "text"
      },
      "source": [
        "This cell lets us look at the value of x"
      ]
    },
    {
      "cell_type": "code",
      "metadata": {
        "id": "9GXwP4V4M5mQ",
        "colab_type": "code",
        "colab": {}
      },
      "source": [
        "x"
      ],
      "execution_count": 3,
      "outputs": [
        {
          "output_type": "execute_result",
          "data": {
            "text/plain": [
              "0"
            ]
          },
          "metadata": {
            "tags": []
          },
          "execution_count": 3
        }
      ]
    },
    {
      "source": [
        "Can I do all of this in the one cell?"
      ],
      "cell_type": "markdown",
      "metadata": {}
    },
    {
      "cell_type": "code",
      "execution_count": null,
      "metadata": {},
      "outputs": [],
      "source": []
    },
    {
      "source": [
        "## Imperative vs Declarative\n",
        "\n",
        "* Spreadsheets are *declarative*. We write formulas in cells, but we don't specify the order in which the formulas are calculated.\n",
        "* Python programs are (typically) *imperative*. We write lines of code that are executed in the given order.\n",
        "\n",
        "Other examples:\n",
        "* Recipes?\n",
        "* Mathematical formulas?\n",
        "* Blueprints?\n",
        "* IKEA instructions?"
      ],
      "cell_type": "markdown",
      "metadata": {}
    }
  ]
}