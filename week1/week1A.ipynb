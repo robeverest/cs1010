{
  "nbformat": 4,
  "nbformat_minor": 0,
  "metadata": {
    "colab": {
      "name": "week1A.ipynb",
      "provenance": [],
      "collapsed_sections": []
    },
    "kernelspec": {
      "name": "python3",
      "display_name": "Python",
      "language": "python"
    }
  },
  "cells": [
    {
      "cell_type": "markdown",
      "metadata": {
        "id": "O0kYe3RQM5lI"
      },
      "source": [
        "# Why are we here? What is this? What's going on?"
      ]
    },
    {
      "cell_type": "markdown",
      "metadata": {
        "id": "jB1uU-GSP2Pu"
      },
      "source": [
        "<center><img width=\"400\" alt=\"Why?\" src=\"https://upload.wikimedia.org/wikipedia/commons/thumb/d/d3/Why_Is_That%3F_Logo.jpg/512px-Why_Is_That%3F_Logo.jpg\"></center>\n",
        "\n",
        "I know why I'm here, why are you here?\n",
        "\n",
        "* Please [fill out the survey](https://forms.office.com/Pages/ResponsePage.aspx?id=pM_2PxXn20i44Qhnufn7o0AHgbuPdoxGu9gzTpCAubBURTFYU0gxQURXTVJETklMT0pFWEdYRUZHVi4u) if you haven't already."
      ]
    },
    {
      "cell_type": "markdown",
      "metadata": {
        "id": "5Yj_JR2mPqa4"
      },
      "source": [
        "### First python program\n",
        "\n",
        "What's $1 + 1$?"
      ]
    },
    {
      "cell_type": "code",
      "metadata": {
        "id": "TGVBlv03M5lK",
        "colab": {
          "base_uri": "https://localhost:8080/",
          "height": 130
        },
        "outputId": "e5fac403-3fbe-40b2-a027-0d12863883ec"
      },
      "source": [
        "1 + 1"
      ],
      "execution_count": 3,
      "outputs": [
        {
          "output_type": "error",
          "ename": "SyntaxError",
          "evalue": "ignored",
          "traceback": [
            "\u001b[0;36m  File \u001b[0;32m\"<ipython-input-3-d998709663ea>\"\u001b[0;36m, line \u001b[0;32m1\u001b[0m\n\u001b[0;31m    1 1\u001b[0m\n\u001b[0m      ^\u001b[0m\n\u001b[0;31mSyntaxError\u001b[0m\u001b[0;31m:\u001b[0m invalid syntax\n"
          ]
        }
      ]
    },
    {
      "cell_type": "markdown",
      "metadata": {
        "id": "Fgx4qPtzhX8K"
      },
      "source": [
        "# What is computational thinking?\n",
        "\n",
        "![galaxy brain](https://i.kym-cdn.com/entries/icons/original/000/022/266/brain.png)\n",
        "\n",
        "* Thinking like a computer?\n",
        "* Philosophy?"
      ]
    },
    {
      "cell_type": "markdown",
      "metadata": {
        "id": "HwNY8n2qU289"
      },
      "source": [
        "# What is programming?"
      ]
    },
    {
      "cell_type": "markdown",
      "metadata": {
        "id": "9eNcf3-jbUPK"
      },
      "source": [
        "## Maths?\n",
        "<center><img alt=\"programming?\" src=\"https://cdn.kapwing.com/final_5f45fa85778d5e0015013451_630000.gif\" width=\"500\"/></center>"
      ]
    },
    {
      "cell_type": "markdown",
      "metadata": {
        "id": "yN0vAuqTbYLN"
      },
      "source": [
        "## This guy?\n",
        "<center><img alt=\"programming?\" src=\"https://image.cnbcfm.com/api/v1/image/106330923-1578676182018gettyimages-1178141599.jpeg?v=1584633147&w=1400&h=950\"  width=\"700\"/></center>"
      ]
    },
    {
      "cell_type": "markdown",
      "metadata": {
        "id": "Dvr8dzNX5L14"
      },
      "source": [
        "## More accurately\n",
        "<center><img alt=\"programming\" src=\"https://cdn.kapwing.com/final_5f45f431778d5e0015010631_452589.gif\" width=\"700\"/></center>\n"
      ]
    },
    {
      "cell_type": "markdown",
      "metadata": {
        "id": "jhNcZr_KP-g2"
      },
      "source": [
        "# Admin "
      ]
    },
    {
      "cell_type": "markdown",
      "metadata": {
        "id": "sSGLQAevd0SX"
      },
      "source": [
        "## Lectures"
      ]
    },
    {
      "cell_type": "markdown",
      "metadata": {
        "id": "aKKu7H-sd21p"
      },
      "source": [
        "<center><img width=\"450\" src=\"https://images.pexels.com/photos/356065/pexels-photo-356065.jpeg?auto=compress&cs=tinysrgb&dpr=2&h=750&w=1260\" /></center>\n",
        "\n",
        "### Important info:\n",
        "\n",
        "* Tuesdays 1PM to 3PM, Wednesdays 4-6PM\n",
        "* Online (via Zoom)\n",
        "* Recordings will be made available on the course website\n",
        "* No lecture in week 6\n",
        "* 10 minute \"break\" in the middle\n",
        "* What interest is there in an in-person \"revision session\" in week 6?\n",
        "\n",
        "### Less important info:\n",
        "\n",
        "* We built [this](https://cs1010-trump-or-bot.azurewebsites.net/) during the 20T3 lectures."
      ]
    },
    {
      "cell_type": "markdown",
      "metadata": {
        "id": "TM-AJd5hM5la"
      },
      "source": [
        "### What happens in lectures?\n",
        "<img width=\"384\" alt=\"python with Rob\" src=\"https://i.imgur.com/ZpL3LzK.jpg\" />\n",
        "<br />\n",
        "<small>Python with Rob</small>\n",
        "\n",
        "### \"What should I do during the lecture?\"\n",
        "\n",
        "* You can make notes, if you want...\n",
        "* You can do the exercises with me\n",
        "* You can work ahead of me"
      ]
    },
    {
      "cell_type": "markdown",
      "metadata": {
        "id": "tQborG2X0Tu2"
      },
      "source": [
        "Rob is showing of himself holding a snake for some reason. He hasn't explained why it's relevant"
      ]
    },
    {
      "cell_type": "markdown",
      "metadata": {
        "id": "Gt6TqKtdM5lc"
      },
      "source": [
        "## Tutorials\n",
        "\n",
        "* Online \n",
        "* Emphasis on group activities and creative problem solving\n",
        "* Your tutors:\n",
        "  * Kai\n",
        "  * Sim\n",
        "\n",
        "## Labs\n",
        "\n",
        "* Online\n",
        "* One on one help, feedback and marking\n",
        "* You need to get your labs marked off either in the week they are assigned or the week after (e.g. you can get the week 1 lab marked off in either week 1 or week 2)."
      ]
    },
    {
      "cell_type": "markdown",
      "metadata": {
        "id": "UajpL2vqM5le"
      },
      "source": [
        "## Project\n",
        "\n",
        "* Solve a problem of your choice\n",
        "* If you don't know what problem to solve, some ideas will be made available\n",
        "* If you wish, you can do it with a partner\n",
        "* By week 5 you should have a reasonable idea the sorts of things you could do\n",
        "\n",
        "### Due dates:\n",
        "\n",
        "* Week 7 - Project Proposal\n",
        "* Week 10 - Final submission\n",
        "\n",
        "## Exam\n",
        "\n",
        "* During exam period\n",
        "* Mostly programming exercises\n",
        "* Some short answer\n",
        "* It *does* have a hurdle of 50%\n",
        "* More specific details will be released closer to the date.\n"
      ]
    },
    {
      "cell_type": "markdown",
      "metadata": {
        "id": "JymnGr5EhX8P"
      },
      "source": [
        "## Resources\n",
        "\n",
        "* [Think Python](http://greenteapress.com/thinkpython2/html/index.html)\n",
        "* [Stack Overflow](https://stackoverflow.com/)?\n",
        "* Google?"
      ]
    },
    {
      "cell_type": "markdown",
      "metadata": {
        "id": "KNCjerTKYwxx"
      },
      "source": [
        "# Okay, for real now, what is programming?"
      ]
    },
    {
      "cell_type": "markdown",
      "metadata": {
        "id": "oCwsjFILT4wx"
      },
      "source": [
        "For the purposes of this course we will consider programming as:\n",
        "\n",
        "> *Writing code in a programming language*\n",
        "\n",
        "### So what's a programming language?\n",
        "\n",
        "This is some python code. What makes it different to English, French, or Mandarin?"
      ]
    },
    {
      "cell_type": "code",
      "metadata": {
        "id": "PuZVcAfhM5lg"
      },
      "source": [
        "import plotly.graph_objects as go\n",
        "\n",
        "import pandas\n",
        "\n",
        "data = pandas.read_csv('https://raw.githubusercontent.com/plotly/datasets/master/3d-mesh-helicopter.csv')\n",
        "\n",
        "fig = go.Figure(go.Mesh3d(**data))\n",
        "\n",
        "fig.show()"
      ],
      "execution_count": null,
      "outputs": []
    },
    {
      "cell_type": "markdown",
      "metadata": {
        "id": "hZSJ6-xtM5lo"
      },
      "source": [
        "## Language classification\n",
        "\n",
        "Broadly, there are two types of languages:\n",
        "* **Natural languages**\n",
        "  * The languages people speak (e.g. English, French, Mandarin, etc.).\n",
        "  * Typically evolve and change over thousands of years of culture. \n",
        "  * Can sometimes be *constructed languages* (e.g. Klingon, Elvish, Esperanto).\n",
        "* **Formal languages**\n",
        "  * Designed (or discovered) by humans\n",
        "  * Have *unambiguous semantics*.\n",
        "\n",
        "A language's semantics describe how meaning is extracted from the language. English has ambigious semantics. Example:\n",
        "\n",
        "*We saw her duck*\n",
        "\n",
        "Programming languages are formal languages that have a *computational* interpretation.\n",
        "\n",
        "There is only one \"right\" way to interpret the above code."
      ]
    },
    {
      "cell_type": "markdown",
      "metadata": {
        "id": "sjpPNgSkY9h3"
      },
      "source": [
        "# Why do we need programming languages?"
      ]
    },
    {
      "cell_type": "markdown",
      "metadata": {
        "id": "KrL-3RUFM5lo"
      },
      "source": [
        "Maybe we don't? See [this](https://video.twimg.com/ext_tw_video/1284803944548425728/pu/vid/1244x720/Ao2PS55Am5jvogD0.mp4) demo here.\n",
        "\n",
        "In general, when needing to describe, with accuracy, anything *sufficiently complicated*, natural languages don't work well. This is why:\n",
        "* Civil Engineers use blueprints\n",
        "* Mathematicians use funky looking symbols\n",
        "* Musicians use musical notation\n",
        "\n",
        "Arguably, the first programming language was intended as a [foundation for all of mathematics](https://en.wikipedia.org/wiki/Lambda_calculus).\n",
        "\n",
        "In 2020 programming languages are used for a wide variety of purposes:\n",
        "* Software and \"Apps\" (e.g. Windows, Facebook, Tiktok, Moodle)\n",
        "* Data analysis and statistics (e.g. who is dying from the coronavirus?)\n",
        "* Simulations and modelling (e.g. simulating the spread of coronavirus)\n",
        "* Art\n",
        "  * Visualisations (like [this](https://www.shadertoy.com/view/3tsfRM) one)\n",
        "  * Music\n",
        "  * [Live Coding](https://en.wikipedia.org/wiki/Live_coding)\n",
        "* Contracts\n",
        "  * Financial contracts ([smart contracts](https://en.wikipedia.org/wiki/Smart_contract))\n",
        "  * Legal contracts"
      ]
    },
    {
      "cell_type": "markdown",
      "metadata": {
        "id": "lbaXGZD6ZE65"
      },
      "source": [
        "# Learning how to program"
      ]
    },
    {
      "cell_type": "markdown",
      "metadata": {
        "id": "YvioRWn1M5lq"
      },
      "source": [
        "<img width=\"500\" src=\"https://source.unsplash.com/1pyqUh8Jx3E\">\n",
        "\n",
        "In order of importance:\n",
        "\n",
        "1. Practice\n",
        "2. Ask questions\n",
        "3. Get feedback\n",
        "4. See how others approach problems"
      ]
    },
    {
      "cell_type": "markdown",
      "metadata": {
        "id": "33_WNaSVZJ_u"
      },
      "source": [
        "# Alright, let's program"
      ]
    },
    {
      "cell_type": "markdown",
      "metadata": {
        "id": "PO5LmBJgM5lr"
      },
      "source": [
        "A shop is 12 metres by 8 metres. Social distancing rules say that there should be no more than 1 person for every 4 square meters. How many people can be in the shop at once?"
      ]
    },
    {
      "cell_type": "code",
      "metadata": {
        "id": "hg-g1aZUM5lt",
        "colab": {
          "base_uri": "https://localhost:8080/"
        },
        "outputId": "8412cb88-89f8-4618-c308-5233102e24f0"
      },
      "source": [
        "12*8 / 4"
      ],
      "execution_count": 13,
      "outputs": [
        {
          "output_type": "execute_result",
          "data": {
            "text/plain": [
              "24.0"
            ]
          },
          "metadata": {
            "tags": []
          },
          "execution_count": 13
        }
      ]
    },
    {
      "cell_type": "markdown",
      "metadata": {
        "id": "7sNmGl1PM5l0"
      },
      "source": [
        "A student has received marks for a course. They got:\n",
        "\n",
        "* 75% in the first assignment, which is worth 20% of the course mark\n",
        "* 80% in the second assignment, which is worth 30% of the course mark\n",
        "* 60% in the final exam, which is worth 50% of the course mark\n",
        "\n",
        "What is their overall course mark?"
      ]
    },
    {
      "cell_type": "code",
      "metadata": {
        "id": "Q7UMl_5yM5l1",
        "colab": {
          "base_uri": "https://localhost:8080/"
        },
        "outputId": "58970137-c3bf-4e2c-bfe0-a5ebd30d1db7"
      },
      "source": [
        "75 * 0.2 + 80 * 0.3 + 60 * 0.5"
      ],
      "execution_count": 16,
      "outputs": [
        {
          "output_type": "execute_result",
          "data": {
            "text/plain": [
              "69.0"
            ]
          },
          "metadata": {
            "tags": []
          },
          "execution_count": 16
        }
      ]
    },
    {
      "cell_type": "markdown",
      "metadata": {
        "id": "I0CzJCPWM5l7"
      },
      "source": [
        "## Comparing to a spreadsheet\n",
        "\n",
        "How many bricks are there in Sydney?\n",
        "\n",
        "With a [spreadsheet](https://docs.google.com/spreadsheets/d/1NSWzYXKqPW8bjVEKBT10iRyUOSR9HtgRRMAp04S0bMU/edit?usp=sharing).\n",
        "\n",
        "With python:"
      ]
    },
    {
      "cell_type": "code",
      "metadata": {
        "id": "g6SU5gVLM5l8",
        "colab": {
          "base_uri": "https://localhost:8080/"
        },
        "outputId": "f193bb15-58b6-4783-d29d-cdf5e81b6739"
      },
      "source": [
        "people_in_sydney = 5000000\n",
        "people_in_a_house = 3\n",
        "houses_in_sydney = people_in_sydney / people_in_a_house\n",
        "brick_houses = 0.3\n",
        "brick_houses_in_sydney = brick_houses * houses_in_sydney\n",
        "bricks_per_house = 2000\n",
        "bricks_in_sydney = brick_houses_in_sydney * bricks_per_house\n",
        "\n",
        "bricks_in_sydney"
      ],
      "execution_count": 17,
      "outputs": [
        {
          "output_type": "execute_result",
          "data": {
            "text/plain": [
              "1000000000.0"
            ]
          },
          "metadata": {
            "tags": []
          },
          "execution_count": 17
        }
      ]
    },
    {
      "cell_type": "markdown",
      "metadata": {
        "id": "N1EQDoYyZS-l"
      },
      "source": [
        "# Spreadsheets"
      ]
    },
    {
      "cell_type": "markdown",
      "metadata": {
        "id": "AcEqAEryM5mC"
      },
      "source": [
        "Spreadsheets focus on the *what* and hide the *how*.\n",
        "\n",
        "For many applications this is the right choice, but...\n",
        "\n",
        "* Around 94% of spreadsheets contain errors ([citation](https://www.researchgate.net/publication/228662532_What_We_Know_About_Spreadsheet_Errors))\n",
        "* For any given spreadsheet formula, there's a 1% chance it contains an error ([citation](http://tuck-fac-cen.dartmouth.edu/images/uploads/faculty/serp/Errors.pdf))\n",
        "* [An example spreadsheet with a bug](https://docs.google.com/spreadsheets/d/1iC3K7gLN6C_9aWXSRvM4h5ZFdis7r7RDsFxwtknTDqE/edit?usp=sharing)\n",
        "\n",
        "Even if something *can* be done with spreadsheets, there is still benefit in doing it in a programming language (like python)"
      ]
    },
    {
      "cell_type": "markdown",
      "metadata": {
        "id": "uUT-EuPDZgIR"
      },
      "source": [
        "# Variables"
      ]
    },
    {
      "cell_type": "markdown",
      "metadata": {
        "id": "Y_CryLXfM5mD"
      },
      "source": [
        "Important points:\n",
        "* Variables are used to store intermediate results, like in the example above\n",
        "* We refer to the thing stored inside a variable as its value\n",
        "* The value inside a variable can change...\n",
        "\n",
        "This cell sets `x` to 0"
      ]
    },
    {
      "cell_type": "code",
      "metadata": {
        "id": "mp6WRluWM5mE"
      },
      "source": [
        "x = 2"
      ],
      "execution_count": 20,
      "outputs": []
    },
    {
      "cell_type": "markdown",
      "metadata": {
        "id": "jjv9NRBYM5mK"
      },
      "source": [
        "but what happens to `x` if I run this cell?"
      ]
    },
    {
      "cell_type": "code",
      "metadata": {
        "id": "V83Ea0gXM5mL"
      },
      "source": [
        "x = x + 1"
      ],
      "execution_count": 24,
      "outputs": []
    },
    {
      "cell_type": "markdown",
      "metadata": {
        "id": "Zj7qifOlM5mQ"
      },
      "source": [
        "This cell lets us look at the value of x"
      ]
    },
    {
      "cell_type": "code",
      "metadata": {
        "id": "9GXwP4V4M5mQ",
        "colab": {
          "base_uri": "https://localhost:8080/"
        },
        "outputId": "f5474a70-04cc-4977-b99c-989ae5480378"
      },
      "source": [
        "x"
      ],
      "execution_count": 25,
      "outputs": [
        {
          "output_type": "execute_result",
          "data": {
            "text/plain": [
              "4"
            ]
          },
          "metadata": {
            "tags": []
          },
          "execution_count": 25
        }
      ]
    },
    {
      "cell_type": "markdown",
      "metadata": {
        "id": "rsuCJBy4hX8W"
      },
      "source": [
        "Can I do all of this in the one cell?"
      ]
    },
    {
      "cell_type": "code",
      "metadata": {
        "colab": {
          "base_uri": "https://localhost:8080/"
        },
        "id": "XUBI4DfIhX8W",
        "outputId": "40171e1a-9823-4cda-ecb8-4f121264d68e"
      },
      "source": [
        "x = 0\n",
        "x = x + 1\n",
        "x"
      ],
      "execution_count": 27,
      "outputs": [
        {
          "output_type": "execute_result",
          "data": {
            "text/plain": [
              "1"
            ]
          },
          "metadata": {
            "tags": []
          },
          "execution_count": 27
        }
      ]
    },
    {
      "cell_type": "markdown",
      "metadata": {
        "id": "iFYFU9QFhX8X"
      },
      "source": [
        "# Imperative vs Declarative\n",
        "\n",
        "* Spreadsheets are *declarative*. We write formulas in cells, but we don't specify the order in which the formulas are calculated.\n",
        "* Python programs are (typically) *imperative*. We write lines of code that are executed in the given order.\n",
        "\n",
        "Other examples:\n",
        "* Recipes?\n",
        "* Mathematical formulas?\n",
        "* Blueprints?\n",
        "* IKEA instructions?"
      ]
    }
  ]
}