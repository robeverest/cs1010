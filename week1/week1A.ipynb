{
  "nbformat": 4,
  "nbformat_minor": 0,
  "metadata": {
    "colab": {
      "name": "week1A.ipynb",
      "provenance": [],
      "collapsed_sections": []
    },
    "kernelspec": {
      "name": "python_defaultSpec_1600004041958",
      "display_name": "Python 3.8.5 64-bit",
      "language": "python"
    }
  },
  "cells": [
    {
      "cell_type": "markdown",
      "metadata": {},
      "source": [
        "# Why are we here? What is this? What's going on?\n",
        "\n",
        "<img width=\"384\" alt=\"Why?\" style=\"display: block; margin-left: auto; margin-right: auto;\" src=\"https://upload.wikimedia.org/wikipedia/commons/thumb/d/d3/Why_Is_That%3F_Logo.jpg/512px-Why_Is_That%3F_Logo.jpg\">\n",
        "\n",
        "I know why I'm here, why are you here?\n",
        "\n",
        "* You want to learn to be a (better) programmer?\n",
        "* You want to build things?\n",
        "\n",
        "### First python program\n",
        "\n",
        "What's $1 + 1$?"
      ]
    },
    {
      "cell_type": "code",
      "execution_count": null,
      "metadata": {},
      "outputs": [],
      "source": []
    },
    {
      "cell_type": "markdown",
      "metadata": {
        "id": "HwNY8n2qU289",
        "colab_type": "text"
      },
      "source": [
        "# What is programming?"
      ]
    },
    {
      "cell_type": "markdown",
      "metadata": {
        "id": "Dvr8dzNX5L14",
        "colab_type": "text"
      },
      "source": [
        "## Maths?\n",
        "\n",
        "<img alt=\"programming?\" src=\"https://cdn.kapwing.com/final_5f45fa85778d5e0015013451_630000.gif\" width=\"400\"/>\n",
        "\n",
        "## This guy?\n",
        "<img alt=\"programming?\" src=\"https://cdn.kapwing.com/video_image-08I9dmq23.jpeg\" width=\"400\"/>\n",
        "\n",
        "## Persistence\n",
        "<img alt=\"programming\" src=\"https://cdn.kapwing.com/final_5f45f431778d5e0015010631_452589.gif\" width=\"400\"/>\n",
        "\n",
        "## What about this course?\n"
      ]
    },
    {
      "cell_type": "markdown",
      "metadata": {},
      "source": [
        "# Admin (yay...)\n",
        "\n",
        "<img alt=\"Admin\" src=\"https://upload.wikimedia.org/wikipedia/commons/thumb/6/6f/Sleepy_Cartoon_Woman_Writing_Past_Her_Work_Time.svg/256px-Sleepy_Cartoon_Woman_Writing_Past_Her_Work_Time.svg.png\" />\n",
        "\n",
        "## Lectures\n",
        "\n",
        "### Important info:\n",
        "\n",
        "* Tuesdays and Wednesdays 1PM to 3PM\n",
        "* Online (via Zoom)\n",
        "* No lecture in week 6\n",
        "* 10 minute \"break\" in the middle\n",
        "* What interest is there in an in-person \"event\" in week 6?\n",
        "\n",
        "### What's going to happen?\n",
        "<img width=\"384\" alt=\"python with rob\" src=\"https://i.imgur.com/ZpL3LzK.jpg\" />\n",
        "<br />\n",
        "<small>Python with rob</small>\n",
        "\n",
        "### \"What should I do during the lecture?\"\n",
        "\n",
        "* You can make notes, if you want...\n",
        "* You can do the exercises with me\n",
        "* You can work ahead of me"
      ]
    },
    {
      "cell_type": "markdown",
      "metadata": {},
      "source": [
        "## Tutorials\n",
        "\n",
        "* Online \n",
        "* Emphasis on group activities and creative problem solving\n",
        "* Your tutors:\n",
        "  * Me!\n",
        "  * Amy\n",
        "  * Michelle\n",
        "\n",
        "## Labs\n",
        "\n",
        "* Online\n",
        "* One on one help, feedback and marking\n",
        "* You need to get your labs marked off either in the week they are assigned or the week after (e.g. you can get the week 1 lab marked off in week 1 or week 2).\n",
        "* In the event you are unable to attend your lab in a particular week, you may attend another one."
      ]
    },
    {
      "cell_type": "markdown",
      "metadata": {},
      "source": [
        "## Project\n",
        "\n",
        "* Solve a problem of your choice\n",
        "* If you don't know what problem to solve, some suggestions will be made available\n",
        "* If you wish, you can do it with a partner\n",
        "* By week 5 you should have a reasonable idea what sorts of things you could do\n",
        "\n",
        "### Due dates:\n",
        "\n",
        "* Week 7 - Project Proposal\n",
        "* Week 10 - Final submission\n",
        "\n",
        "## Exam\n",
        "\n",
        "* During exam period\n",
        "* Mostly programming exercises\n",
        "* Some multiple-choice and short answer\n",
        "* It *does* have a hurdle of 50%\n",
        "* More specific details will be released closer to the date.\n"
      ]
    },
    {
      "cell_type": "markdown",
      "metadata": {
        "id": "oCwsjFILT4wx",
        "colab_type": "text"
      },
      "source": [
        "# Okay, for real now, what is programming?\n",
        "\n",
        "*Writing code in a programming language*\n",
        "\n",
        "So what's a programming language?\n",
        "\n",
        "This is some python code. What makes it different to English, French, or Mandarin?"
      ]
    },
    {
      "cell_type": "code",
      "execution_count": null,
      "metadata": {},
      "outputs": [],
      "source": [
        "import plotly.graph_objects as go\n",
        "\n",
        "import pandas\n",
        "\n",
        "data = pandas.read_csv('https://raw.githubusercontent.com/plotly/datasets/master/3d-mesh-helicopter.csv')\n",
        "\n",
        "fig = go.Figure(go.Mesh3d(**data))\n",
        "\n",
        "fig.show()"
      ]
    },
    {
      "cell_type": "markdown",
      "metadata": {},
      "source": [
        "## Language classification\n",
        "\n",
        "Broadly, there are two types of languages:\n",
        "* **Natural languages** are the languages people speak (e.g. English, French, Mandarin, etc.). They typically evolve and change over thousands of years of culture, but can sometimes be *constructed languages* (e.g. Klingon, Elvish, Esperanto).\n",
        "* **Formal languages** are designed (or discovered) by humans and have *unambiguous semantics*.\n",
        "\n",
        "A language's semantics describe how meaning can be gained from the language. English has ambigious semantics. Example:\n",
        "\n",
        "*We saw her duck*\n",
        "\n",
        "Programming languages are formal languages that have a *computational* interpretation.\n",
        "\n",
        "There is only one \"right\" way to interpret the above code."
      ]
    },
    {
      "cell_type": "markdown",
      "metadata": {},
      "source": [
        "# Why do we need programming languages?\n",
        "\n",
        "Maybe we don't? See [this](https://video.twimg.com/ext_tw_video/1284803944548425728/pu/vid/1244x720/Ao2PS55Am5jvogD0.mp4) demo here.\n",
        "\n",
        "In general, when needing to describe, with accuracy, anything *sufficiently complicated*, natural languages don't work well. This is why:\n",
        "* Civil Engineers use blueprints\n",
        "* Mathematicians use funky looking symbols\n",
        "* Musicians use musical notation\n",
        "\n",
        "Arguably, the first programming language was intended as a [foundation for all of mathematics](https://en.wikipedia.org/wiki/Lambda_calculus).\n",
        "\n",
        "In 2020 programming languages are used for a wide variety of purposes:\n",
        "* Software and \"Apps\" (e.g. Windows, Facebook, Tiktok, Moodle)\n",
        "* Data analysis and statistics (e.g. who is dying from the coronavirus?)\n",
        "* Simulations and modelling (e.g. simulating the spread of coronavirus)\n",
        "* Art\n",
        "  * Visualisations (like [this](https://www.shadertoy.com/view/3tsfRM) one)\n",
        "  * Music\n",
        "  * [Live Coding](https://en.wikipedia.org/wiki/Live_coding)\n",
        "* Contracts\n",
        "  * Financial contracts ([smart contracts](https://en.wikipedia.org/wiki/Smart_contract))\n",
        "  * Legal contracts"
      ]
    },
    {
      "cell_type": "markdown",
      "metadata": {},
      "source": [
        "# Learning how to program\n",
        "\n",
        "In order of importance:\n",
        "\n",
        "1. Practice\n",
        "2. Ask questions\n",
        "3. Get feedback\n",
        "4. See how others approach problems"
      ]
    },
    {
      "cell_type": "markdown",
      "metadata": {},
      "source": [
        "# Alright, let's program\n",
        "\n",
        "A shop is 12 metres by 8 metres. Social distancing rules say that there should be no more than 1 person for every 4 square meters. How many people can be in the shop at once?"
      ]
    },
    {
      "cell_type": "code",
      "execution_count": null,
      "metadata": {},
      "outputs": [],
      "source": []
    },
    {
      "cell_type": "markdown",
      "metadata": {},
      "source": [
        "A student has received marks for a course. They got:\n",
        "\n",
        "* 75% in the first assignment, which is worth 20% of the course mark\n",
        "* 80% in the second assignment, which is worth 30% of the course mark\n",
        "* 60% in the final exam, which is worth 50% of the course mark\n",
        "\n",
        "What is their overall course mark?"
      ]
    },
    {
      "cell_type": "code",
      "execution_count": null,
      "metadata": {},
      "outputs": [],
      "source": []
    },
    {
      "cell_type": "markdown",
      "metadata": {},
      "source": [
        "## Comparing to a spreadsheet\n",
        "\n",
        "How many bricks are there in Sydney?\n"
      ]
    },
    {
      "cell_type": "code",
      "execution_count": null,
      "metadata": {},
      "outputs": [],
      "source": []
    },
    {
      "cell_type": "markdown",
      "metadata": {},
      "source": [
        "# Spreadsheets\n",
        "\n",
        "Spreadsheets focus on the *what* and hide the *how*.\n",
        "\n",
        "For many applications this is the right choice, but...\n",
        "\n",
        "* Around 94% of spreadsheets contain errors ([citation](https://www.researchgate.net/publication/228662532_What_We_Know_About_Spreadsheet_Errors))\n",
        "* For any given spreadsheet formula, there's a 1% chance it contains an error ([citation](http://tuck-fac-cen.dartmouth.edu/images/uploads/faculty/serp/Errors.pdf))\n",
        "\n",
        "Even if something *can* be done with spreadsheets, there is still benefit in doing it in a programming language (like python)"
      ]
    },
    {
      "cell_type": "markdown",
      "metadata": {},
      "source": [
        "# Variables\n",
        "\n",
        "Important points:\n",
        "* Variables are used to store intermediate results, like in the example above\n",
        "* We refer to the thing stored inside a variable as its value\n",
        "* The value inside a variable can change...\n",
        "\n",
        "This cell sets `x` to 0"
      ]
    },
    {
      "cell_type": "code",
      "execution_count": null,
      "metadata": {},
      "outputs": [],
      "source": [
        "x = 0"
      ]
    },
    {
      "cell_type": "markdown",
      "metadata": {},
      "source": [
        "but what happens to `x` if I run this cell?"
      ]
    },
    {
      "cell_type": "code",
      "execution_count": null,
      "metadata": {},
      "outputs": [],
      "source": [
        "x = x + 1"
      ]
    },
    {
      "cell_type": "markdown",
      "metadata": {},
      "source": [
        "This cell lets us look at the value of x"
      ]
    },
    {
      "cell_type": "code",
      "execution_count": null,
      "metadata": {},
      "outputs": [],
      "source": [
        "x"
      ]
    },
    {
      "cell_type": "markdown",
      "metadata": {},
      "source": [
        "# Numbers\n",
        "\n",
        "Python has two main types of numbers:\n",
        "\n",
        "* `int` is short for integer and is used for whole numbers that are either positive or negative (e.g. `0`, `1`, `42`, `-8`, etc.)\n",
        "* `float` is short for floating point and can be used to *approximate* all numbers (e.g. `0.7`, `4.2`, `3.14195...`)\n",
        "\n",
        "Use `type(...)` to determine the type of value.\n",
        "\n",
        "For example,"
      ]
    },
    {
      "cell_type": "code",
      "execution_count": null,
      "metadata": {},
      "outputs": [],
      "source": [
        "type(3)"
      ]
    },
    {
      "cell_type": "markdown",
      "metadata": {},
      "source": [
        "Or for a variable"
      ]
    },
    {
      "cell_type": "code",
      "execution_count": null,
      "metadata": {},
      "outputs": [],
      "source": [
        "x = 3\n",
        "type(x)"
      ]
    },
    {
      "cell_type": "markdown",
      "metadata": {},
      "source": [
        "By adding `.0` at the end of the number we can tell python we want it to be floating point."
      ]
    },
    {
      "cell_type": "code",
      "execution_count": null,
      "metadata": {},
      "outputs": [],
      "source": [
        "x = 3.0\n",
        "type(x)"
      ]
    },
    {
      "cell_type": "markdown",
      "metadata": {},
      "source": [
        "Because they are only an approximation, floating point numbers can do funny things. For example:"
      ]
    },
    {
      "cell_type": "code",
      "execution_count": null,
      "metadata": {},
      "outputs": [],
      "source": [
        "0.1 + 0.2"
      ]
    },
    {
      "cell_type": "markdown",
      "metadata": {},
      "source": [
        "# Strings\n",
        "\n",
        "Important info:\n",
        "* Strings are a series of characters\n",
        "* They can be used anywhere text is required (e.g. names, addresses, descriptions, etc.)\n",
        "* Like with numbers, Python provides lots of operations you can do on strings"
      ]
    },
    {
      "cell_type": "markdown",
      "metadata": {},
      "source": [
        "Can we add a string to a string?"
      ]
    },
    {
      "cell_type": "code",
      "execution_count": null,
      "metadata": {},
      "outputs": [],
      "source": []
    },
    {
      "cell_type": "markdown",
      "metadata": {},
      "source": [
        "Can we add a number to a string? "
      ]
    },
    {
      "cell_type": "code",
      "execution_count": null,
      "metadata": {},
      "outputs": [],
      "source": []
    },
    {
      "cell_type": "markdown",
      "metadata": {},
      "source": [
        "Can we store strings in variables?"
      ]
    },
    {
      "cell_type": "code",
      "execution_count": null,
      "metadata": {},
      "outputs": [],
      "source": []
    },
    {
      "cell_type": "markdown",
      "metadata": {},
      "source": [
        "Can we multiply a string by a number?"
      ]
    },
    {
      "cell_type": "code",
      "execution_count": null,
      "metadata": {},
      "outputs": [],
      "source": []
    },
    {
      "cell_type": "markdown",
      "metadata": {},
      "source": [
        "Can we multiply a string by a string?"
      ]
    },
    {
      "cell_type": "code",
      "execution_count": null,
      "metadata": {},
      "outputs": [],
      "source": []
    },
    {
      "cell_type": "markdown",
      "metadata": {},
      "source": [
        "Does `type(...)` work on strings?"
      ]
    },
    {
      "cell_type": "code",
      "execution_count": null,
      "metadata": {},
      "outputs": [],
      "source": []
    },
    {
      "cell_type": "markdown",
      "metadata": {},
      "source": [
        "Can we extract individual characters?"
      ]
    },
    {
      "cell_type": "code",
      "execution_count": null,
      "metadata": {},
      "outputs": [],
      "source": []
    },
    {
      "cell_type": "markdown",
      "metadata": {},
      "source": [
        "# What is wrong with programmers?\n",
        "\n",
        "<img width=\"50%\" src=\"https://i.imgur.com/NSxLS8D.png\" />\n",
        "\n",
        "Important info:\n",
        "\n",
        "* Programmers start counting from 0 for a complex variety of reasons\n",
        "* This is a common source of errors for new programmers"
      ]
    },
    {
      "cell_type": "markdown",
      "metadata": {},
      "source": [
        "# Back to strings"
      ]
    },
    {
      "cell_type": "markdown",
      "metadata": {},
      "source": [
        "Can we extract parts of strings?"
      ]
    },
    {
      "cell_type": "code",
      "execution_count": null,
      "metadata": {},
      "outputs": [],
      "source": []
    },
    {
      "cell_type": "markdown",
      "metadata": {},
      "source": [
        "Can we get the length of a string?"
      ]
    },
    {
      "cell_type": "code",
      "execution_count": null,
      "metadata": {},
      "outputs": [],
      "source": []
    },
    {
      "cell_type": "markdown",
      "metadata": {},
      "source": [
        "Can we count the number of e's in a string?"
      ]
    },
    {
      "cell_type": "code",
      "execution_count": null,
      "metadata": {},
      "outputs": [],
      "source": []
    },
    {
      "cell_type": "markdown",
      "metadata": {},
      "source": [
        "Can we replace the e's with a's?"
      ]
    },
    {
      "cell_type": "code",
      "execution_count": null,
      "metadata": {},
      "outputs": [],
      "source": []
    }
  ]
}