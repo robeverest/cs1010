{
  "nbformat": 4,
  "nbformat_minor": 0,
  "metadata": {
    "colab": {
      "name": "week1A.ipynb",
      "provenance": [],
      "collapsed_sections": []
    },
    "kernelspec": {
      "name": "python3",
      "display_name": "Python",
      "language": "python"
    }
  },
  "cells": [
    {
      "cell_type": "markdown",
      "metadata": {
        "id": "O0kYe3RQM5lI",
        "colab_type": "text"
      },
      "source": [
        "# Why are we here? What is this? What's going on?"
      ]
    },
    {
      "cell_type": "markdown",
      "metadata": {
        "id": "jB1uU-GSP2Pu",
        "colab_type": "text"
      },
      "source": [
        "<center><img width=\"400\" alt=\"Why?\" src=\"https://upload.wikimedia.org/wikipedia/commons/thumb/d/d3/Why_Is_That%3F_Logo.jpg/512px-Why_Is_That%3F_Logo.jpg\"></center>\n",
        "\n",
        "I know why I'm here, why are you here?\n",
        "\n",
        "* You want to learn to be a (better) programmer?\n",
        "* You want to build things?"
      ]
    },
    {
      "cell_type": "markdown",
      "metadata": {
        "id": "5Yj_JR2mPqa4",
        "colab_type": "text"
      },
      "source": [
        "### First python program\n",
        "\n",
        "What's $1 + 1$?"
      ]
    },
    {
      "cell_type": "code",
      "metadata": {
        "id": "TGVBlv03M5lK",
        "colab_type": "code",
        "colab": {}
      },
      "source": [
        ""
      ],
      "execution_count": null,
      "outputs": []
    },
    {
      "cell_type": "markdown",
      "metadata": {
        "id": "HwNY8n2qU289",
        "colab_type": "text"
      },
      "source": [
        "# What is programming?"
      ]
    },
    {
      "cell_type": "markdown",
      "metadata": {
        "id": "9eNcf3-jbUPK",
        "colab_type": "text"
      },
      "source": [
        "## Maths?\n",
        "<center><img alt=\"programming?\" src=\"https://cdn.kapwing.com/final_5f45fa85778d5e0015013451_630000.gif\" width=\"500\"/></center>"
      ]
    },
    {
      "cell_type": "markdown",
      "metadata": {
        "id": "yN0vAuqTbYLN",
        "colab_type": "text"
      },
      "source": [
        "## This guy?\n",
        "<center><img alt=\"programming?\" src=\"https://cdn.kapwing.com/video_image-08I9dmq23.jpeg\"  width=\"700\"/></center>"
      ]
    },
    {
      "cell_type": "markdown",
      "metadata": {
        "id": "Dvr8dzNX5L14",
        "colab_type": "text"
      },
      "source": [
        "## More accurately\n",
        "<center><img alt=\"programming\" src=\"https://cdn.kapwing.com/final_5f45f431778d5e0015010631_452589.gif\" width=\"700\"/></center>\n"
      ]
    },
    {
      "cell_type": "markdown",
      "metadata": {
        "id": "jhNcZr_KP-g2",
        "colab_type": "text"
      },
      "source": [
        "# Admin (yay...)"
      ]
    },
    {
      "cell_type": "markdown",
      "metadata": {
        "id": "sSGLQAevd0SX",
        "colab_type": "text"
      },
      "source": [
        "## Lectures"
      ]
    },
    {
      "cell_type": "markdown",
      "metadata": {
        "id": "aKKu7H-sd21p",
        "colab_type": "text"
      },
      "source": [
        "<center><img width=\"450\" src=\"https://images.pexels.com/photos/356065/pexels-photo-356065.jpeg?auto=compress&cs=tinysrgb&dpr=2&h=750&w=1260\" /></center>\n",
        "\n",
        "### Important info:\n",
        "\n",
        "* Tuesdays and Wednesdays 1PM to 3PM\n",
        "* Online (via Zoom)\n",
        "* Recordings will be made available on the course website\n",
        "* No lecture in week 6\n",
        "* 10 minute \"break\" in the middle\n",
        "* What interest is there in an in-person \"event\" in week 6?"
      ]
    },
    {
      "cell_type": "markdown",
      "metadata": {
        "id": "TM-AJd5hM5la",
        "colab_type": "text"
      },
      "source": [
        "### What happens in lectures?\n",
        "<img width=\"384\" alt=\"python with Rob\" src=\"https://i.imgur.com/ZpL3LzK.jpg\" />\n",
        "<br />\n",
        "<small>Python with Rob</small>\n",
        "\n",
        "### \"What should I do during the lecture?\"\n",
        "\n",
        "* You can make notes, if you want...\n",
        "* You can do the exercises with me\n",
        "* You can work ahead of me"
      ]
    },
    {
      "cell_type": "markdown",
      "metadata": {
        "id": "Gt6TqKtdM5lc",
        "colab_type": "text"
      },
      "source": [
        "## Tutorials\n",
        "\n",
        "* Online \n",
        "* Emphasis on group activities and creative problem solving\n",
        "* Your tutors:\n",
        "  * Me! (Rob)\n",
        "  * Amy\n",
        "  * Michelle\n",
        "\n",
        "## Labs\n",
        "\n",
        "* Online\n",
        "* One on one help, feedback and marking\n",
        "* You need to get your labs marked off either in the week they are assigned or the week after (e.g. you can get the week 1 lab marked off in week 1 or week 2).\n",
        "* In the event you are unable to attend your lab in a particular week, you may attend another one."
      ]
    },
    {
      "cell_type": "markdown",
      "metadata": {
        "id": "UajpL2vqM5le",
        "colab_type": "text"
      },
      "source": [
        "## Project\n",
        "\n",
        "* Solve a problem of your choice\n",
        "* If you don't know what problem to solve, some suggestions will be made available\n",
        "* If you wish, you can do it with a partner\n",
        "* By week 5 you should have a reasonable idea the sorts of things you could do\n",
        "\n",
        "### Due dates:\n",
        "\n",
        "* Week 7 - Project Proposal\n",
        "* Week 10 - Final submission\n",
        "\n",
        "## Exam\n",
        "\n",
        "* During exam period\n",
        "* Mostly programming exercises\n",
        "* Some multiple-choice and short answer\n",
        "* It *does* have a hurdle of 50%\n",
        "* More specific details will be released closer to the date.\n"
      ]
    },
    {
      "cell_type": "markdown",
      "metadata": {
        "id": "KNCjerTKYwxx",
        "colab_type": "text"
      },
      "source": [
        "# Okay, for real now, what is programming?"
      ]
    },
    {
      "cell_type": "markdown",
      "metadata": {
        "id": "oCwsjFILT4wx",
        "colab_type": "text"
      },
      "source": [
        "For the purposes of this course we will consider programming as:\n",
        "\n",
        "> *Writing code in a programming language*\n",
        "\n",
        "### So what's a programming language?\n",
        "\n",
        "This is some python code. What makes it different to English, French, or Mandarin?"
      ]
    },
    {
      "cell_type": "code",
      "metadata": {
        "id": "PuZVcAfhM5lg",
        "colab_type": "code",
        "colab": {}
      },
      "source": [
        "import plotly.graph_objects as go\n",
        "\n",
        "import pandas\n",
        "\n",
        "data = pandas.read_csv('https://raw.githubusercontent.com/plotly/datasets/master/3d-mesh-helicopter.csv')\n",
        "\n",
        "fig = go.Figure(go.Mesh3d(**data))\n",
        "\n",
        "fig.show()"
      ],
      "execution_count": null,
      "outputs": []
    },
    {
      "cell_type": "markdown",
      "metadata": {
        "id": "hZSJ6-xtM5lo",
        "colab_type": "text"
      },
      "source": [
        "## Language classification\n",
        "\n",
        "Broadly, there are two types of languages:\n",
        "* **Natural languages**\n",
        "  * The languages people speak (e.g. English, French, Mandarin, etc.).\n",
        "  * Typically evolve and change over thousands of years of culture. \n",
        "  * Can sometimes be *constructed languages* (e.g. Klingon, Elvish, Esperanto).\n",
        "* **Formal languages**\n",
        "  * Designed (or discovered) by humans\n",
        "  * Have *unambiguous semantics*.\n",
        "\n",
        "A language's semantics describe how meaning can be gained from the language. English has ambigious semantics. Example:\n",
        "\n",
        "*We saw her duck*\n",
        "\n",
        "Programming languages are formal languages that have a *computational* interpretation.\n",
        "\n",
        "There is only one \"right\" way to interpret the above code."
      ]
    },
    {
      "cell_type": "markdown",
      "metadata": {
        "id": "sjpPNgSkY9h3",
        "colab_type": "text"
      },
      "source": [
        "# Why do we need programming languages?"
      ]
    },
    {
      "cell_type": "markdown",
      "metadata": {
        "id": "KrL-3RUFM5lo",
        "colab_type": "text"
      },
      "source": [
        "Maybe we don't? See [this](https://video.twimg.com/ext_tw_video/1284803944548425728/pu/vid/1244x720/Ao2PS55Am5jvogD0.mp4) demo here.\n",
        "\n",
        "In general, when needing to describe, with accuracy, anything *sufficiently complicated*, natural languages don't work well. This is why:\n",
        "* Civil Engineers use blueprints\n",
        "* Mathematicians use funky looking symbols\n",
        "* Musicians use musical notation\n",
        "\n",
        "Arguably, the first programming language was intended as a [foundation for all of mathematics](https://en.wikipedia.org/wiki/Lambda_calculus).\n",
        "\n",
        "In 2020 programming languages are used for a wide variety of purposes:\n",
        "* Software and \"Apps\" (e.g. Windows, Facebook, Tiktok, Moodle)\n",
        "* Data analysis and statistics (e.g. who is dying from the coronavirus?)\n",
        "* Simulations and modelling (e.g. simulating the spread of coronavirus)\n",
        "* Art\n",
        "  * Visualisations (like [this](https://www.shadertoy.com/view/3tsfRM) one)\n",
        "  * Music\n",
        "  * [Live Coding](https://en.wikipedia.org/wiki/Live_coding)\n",
        "* Contracts\n",
        "  * Financial contracts ([smart contracts](https://en.wikipedia.org/wiki/Smart_contract))\n",
        "  * Legal contracts"
      ]
    },
    {
      "cell_type": "markdown",
      "metadata": {
        "id": "lbaXGZD6ZE65",
        "colab_type": "text"
      },
      "source": [
        "# Learning how to program"
      ]
    },
    {
      "cell_type": "markdown",
      "metadata": {
        "id": "YvioRWn1M5lq",
        "colab_type": "text"
      },
      "source": [
        "<img width=\"500\" src=\"https://source.unsplash.com/1pyqUh8Jx3E\">\n",
        "\n",
        "In order of importance:\n",
        "\n",
        "1. Practice\n",
        "2. Ask questions\n",
        "3. Get feedback\n",
        "4. See how others approach problems"
      ]
    },
    {
      "cell_type": "markdown",
      "metadata": {
        "id": "33_WNaSVZJ_u",
        "colab_type": "text"
      },
      "source": [
        "# Alright, let's program"
      ]
    },
    {
      "cell_type": "markdown",
      "metadata": {
        "id": "PO5LmBJgM5lr",
        "colab_type": "text"
      },
      "source": [
        "A shop is 12 metres by 8 metres. Social distancing rules say that there should be no more than 1 person for every 4 square meters. How many people can be in the shop at once?"
      ]
    },
    {
      "cell_type": "code",
      "metadata": {
        "id": "hg-g1aZUM5lt",
        "colab_type": "code",
        "colab": {}
      },
      "source": [
        ""
      ],
      "execution_count": null,
      "outputs": []
    },
    {
      "cell_type": "markdown",
      "metadata": {
        "id": "7sNmGl1PM5l0",
        "colab_type": "text"
      },
      "source": [
        "A student has received marks for a course. They got:\n",
        "\n",
        "* 75% in the first assignment, which is worth 20% of the course mark\n",
        "* 80% in the second assignment, which is worth 30% of the course mark\n",
        "* 60% in the final exam, which is worth 50% of the course mark\n",
        "\n",
        "What is their overall course mark?"
      ]
    },
    {
      "cell_type": "code",
      "metadata": {
        "id": "Q7UMl_5yM5l1",
        "colab_type": "code",
        "colab": {}
      },
      "source": [
        ""
      ],
      "execution_count": null,
      "outputs": []
    },
    {
      "cell_type": "markdown",
      "metadata": {
        "id": "I0CzJCPWM5l7",
        "colab_type": "text"
      },
      "source": [
        "## Comparing to a spreadsheet\n",
        "\n",
        "How many bricks are there in Sydney?\n",
        "\n",
        "With a [spreadsheet](https://docs.google.com/spreadsheets/d/1NSWzYXKqPW8bjVEKBT10iRyUOSR9HtgRRMAp04S0bMU/edit?usp=sharing).\n",
        "\n",
        "With python:"
      ]
    },
    {
      "cell_type": "code",
      "metadata": {
        "id": "g6SU5gVLM5l8",
        "colab_type": "code",
        "colab": {}
      },
      "source": [
        ""
      ],
      "execution_count": null,
      "outputs": []
    },
    {
      "cell_type": "markdown",
      "metadata": {
        "id": "N1EQDoYyZS-l",
        "colab_type": "text"
      },
      "source": [
        "# Spreadsheets"
      ]
    },
    {
      "cell_type": "markdown",
      "metadata": {
        "id": "AcEqAEryM5mC",
        "colab_type": "text"
      },
      "source": [
        "Spreadsheets focus on the *what* and hide the *how*.\n",
        "\n",
        "For many applications this is the right choice, but...\n",
        "\n",
        "* Around 94% of spreadsheets contain errors ([citation](https://www.researchgate.net/publication/228662532_What_We_Know_About_Spreadsheet_Errors))\n",
        "* For any given spreadsheet formula, there's a 1% chance it contains an error ([citation](http://tuck-fac-cen.dartmouth.edu/images/uploads/faculty/serp/Errors.pdf))\n",
        "* [An example spreadsheet with a bug](https://docs.google.com/spreadsheets/d/1iC3K7gLN6C_9aWXSRvM4h5ZFdis7r7RDsFxwtknTDqE/edit?usp=sharing)\n",
        "\n",
        "Even if something *can* be done with spreadsheets, there is still benefit in doing it in a programming language (like python)"
      ]
    },
    {
      "cell_type": "markdown",
      "metadata": {
        "id": "uUT-EuPDZgIR",
        "colab_type": "text"
      },
      "source": [
        "# Variables"
      ]
    },
    {
      "cell_type": "markdown",
      "metadata": {
        "id": "Y_CryLXfM5mD",
        "colab_type": "text"
      },
      "source": [
        "Important points:\n",
        "* Variables are used to store intermediate results, like in the example above\n",
        "* We refer to the thing stored inside a variable as its value\n",
        "* The value inside a variable can change...\n",
        "\n",
        "This cell sets `x` to 0"
      ]
    },
    {
      "cell_type": "code",
      "metadata": {
        "id": "mp6WRluWM5mE",
        "colab_type": "code",
        "colab": {}
      },
      "source": [
        "x = 0"
      ],
      "execution_count": null,
      "outputs": []
    },
    {
      "cell_type": "markdown",
      "metadata": {
        "id": "jjv9NRBYM5mK",
        "colab_type": "text"
      },
      "source": [
        "but what happens to `x` if I run this cell?"
      ]
    },
    {
      "cell_type": "code",
      "metadata": {
        "id": "V83Ea0gXM5mL",
        "colab_type": "code",
        "colab": {}
      },
      "source": [
        "x = x + 1"
      ],
      "execution_count": null,
      "outputs": []
    },
    {
      "cell_type": "markdown",
      "metadata": {
        "id": "Zj7qifOlM5mQ",
        "colab_type": "text"
      },
      "source": [
        "This cell lets us look at the value of x"
      ]
    },
    {
      "cell_type": "code",
      "metadata": {
        "id": "9GXwP4V4M5mQ",
        "colab_type": "code",
        "colab": {}
      },
      "source": [
        "x"
      ],
      "execution_count": null,
      "outputs": []
    },
    {
      "cell_type": "markdown",
      "metadata": {
        "id": "F6MOd50KZk1u",
        "colab_type": "text"
      },
      "source": [
        "# Numbers"
      ]
    },
    {
      "cell_type": "markdown",
      "metadata": {
        "id": "7m0jwgaGM5mV",
        "colab_type": "text"
      },
      "source": [
        "Python has two main types of numbers:\n",
        "\n",
        "* `int` is short for integer and is used for whole numbers that are either positive or negative (e.g. `0`, `1`, `42`, `-8`, etc.)\n",
        "* `float` is short for floating point and can be used to *approximate* all numbers (e.g. `0.7`, `4.2`, `3.14195...`)\n",
        "\n",
        "Use `type(...)` to determine the type of value.\n",
        "\n",
        "For example,"
      ]
    },
    {
      "cell_type": "code",
      "metadata": {
        "id": "HY3mPkbrM5mW",
        "colab_type": "code",
        "colab": {}
      },
      "source": [
        ""
      ],
      "execution_count": null,
      "outputs": []
    },
    {
      "cell_type": "markdown",
      "metadata": {
        "id": "SGwGHRx9M5mc",
        "colab_type": "text"
      },
      "source": [
        "Or for a variable"
      ]
    },
    {
      "cell_type": "code",
      "metadata": {
        "id": "I9ECKcnWM5md",
        "colab_type": "code",
        "colab": {}
      },
      "source": [
        ""
      ],
      "execution_count": null,
      "outputs": []
    },
    {
      "cell_type": "markdown",
      "metadata": {
        "id": "7fslFqxZM5mi",
        "colab_type": "text"
      },
      "source": [
        "By adding `.0` at the end of the number we can tell python we want it to be floating point."
      ]
    },
    {
      "cell_type": "code",
      "metadata": {
        "id": "eJSvER3jM5mi",
        "colab_type": "code",
        "colab": {}
      },
      "source": [
        ""
      ],
      "execution_count": null,
      "outputs": []
    },
    {
      "cell_type": "markdown",
      "metadata": {
        "id": "DpPvvz7_M5mo",
        "colab_type": "text"
      },
      "source": [
        "Because they are only an approximation, floating point numbers can do funny things. For example:"
      ]
    },
    {
      "cell_type": "code",
      "metadata": {
        "id": "GvDED9d5M5mr",
        "colab_type": "code",
        "colab": {}
      },
      "source": [
        ""
      ],
      "execution_count": null,
      "outputs": []
    },
    {
      "cell_type": "markdown",
      "metadata": {
        "id": "bP36WBObaQGM",
        "colab_type": "text"
      },
      "source": [
        "# Strings"
      ]
    },
    {
      "cell_type": "markdown",
      "metadata": {
        "id": "Klpl4Qx3M5mw",
        "colab_type": "text"
      },
      "source": [
        "Important info:\n",
        "* Strings are a series of characters\n",
        "* They can be used anywhere text is required (e.g. names, addresses, descriptions, etc.)\n",
        "* Like with numbers, Python provides lots of operations you can do on strings"
      ]
    },
    {
      "cell_type": "markdown",
      "metadata": {
        "id": "bCUEUHmlM5mx",
        "colab_type": "text"
      },
      "source": [
        "Can we add a string to a string?"
      ]
    },
    {
      "cell_type": "code",
      "metadata": {
        "id": "Ali2ZKBYM5mx",
        "colab_type": "code",
        "colab": {}
      },
      "source": [
        ""
      ],
      "execution_count": null,
      "outputs": []
    },
    {
      "cell_type": "markdown",
      "metadata": {
        "id": "HwTelFq5M5m3",
        "colab_type": "text"
      },
      "source": [
        "Can we add a number to a string? "
      ]
    },
    {
      "cell_type": "code",
      "metadata": {
        "id": "yUIBnZRGM5m4",
        "colab_type": "code",
        "colab": {}
      },
      "source": [
        ""
      ],
      "execution_count": null,
      "outputs": []
    },
    {
      "cell_type": "markdown",
      "metadata": {
        "id": "vKYzfFQwM5m8",
        "colab_type": "text"
      },
      "source": [
        "Can we store strings in variables?"
      ]
    },
    {
      "cell_type": "code",
      "metadata": {
        "id": "wEtn1karM5m9",
        "colab_type": "code",
        "colab": {}
      },
      "source": [
        ""
      ],
      "execution_count": null,
      "outputs": []
    },
    {
      "cell_type": "markdown",
      "metadata": {
        "id": "XAzEOoANM5nB",
        "colab_type": "text"
      },
      "source": [
        "Can we multiply a string by a number?"
      ]
    },
    {
      "cell_type": "code",
      "metadata": {
        "id": "tkJNfOWeM5nC",
        "colab_type": "code",
        "colab": {}
      },
      "source": [
        ""
      ],
      "execution_count": null,
      "outputs": []
    },
    {
      "cell_type": "markdown",
      "metadata": {
        "id": "sFf0kTf2M5nG",
        "colab_type": "text"
      },
      "source": [
        "Can we multiply a string by a string?"
      ]
    },
    {
      "cell_type": "code",
      "metadata": {
        "id": "F0b9nAPsM5nH",
        "colab_type": "code",
        "colab": {}
      },
      "source": [
        ""
      ],
      "execution_count": null,
      "outputs": []
    },
    {
      "cell_type": "markdown",
      "metadata": {
        "id": "pQXGHDpZM5nL",
        "colab_type": "text"
      },
      "source": [
        "Does `type(...)` work on strings?"
      ]
    },
    {
      "cell_type": "code",
      "metadata": {
        "id": "7gXehQ7gM5nL",
        "colab_type": "code",
        "colab": {}
      },
      "source": [
        ""
      ],
      "execution_count": null,
      "outputs": []
    },
    {
      "cell_type": "markdown",
      "metadata": {
        "id": "YBdaDgz2M5nP",
        "colab_type": "text"
      },
      "source": [
        "Can we extract individual characters?"
      ]
    },
    {
      "cell_type": "code",
      "metadata": {
        "id": "uDPhpgbiM5nQ",
        "colab_type": "code",
        "colab": {}
      },
      "source": [
        ""
      ],
      "execution_count": null,
      "outputs": []
    },
    {
      "cell_type": "markdown",
      "metadata": {
        "id": "CRQgX47vM5nU",
        "colab_type": "text"
      },
      "source": [
        "## What is wrong with programmers?\n",
        "\n",
        "<img width=\"40%\" src=\"https://i.imgur.com/NSxLS8D.png\" />\n",
        "\n",
        "Important info:\n",
        "\n",
        "* Programmers start counting from 0 for a complex variety of reasons\n",
        "* This is a common source of errors for new programmers"
      ]
    },
    {
      "cell_type": "markdown",
      "metadata": {
        "id": "5PPcjPLkM5nV",
        "colab_type": "text"
      },
      "source": [
        "# Back to strings"
      ]
    },
    {
      "cell_type": "markdown",
      "metadata": {
        "id": "4gDRN1WsM5nW",
        "colab_type": "text"
      },
      "source": [
        "Can we extract parts of strings?"
      ]
    },
    {
      "cell_type": "code",
      "metadata": {
        "id": "H-HUOq_3M5nW",
        "colab_type": "code",
        "colab": {}
      },
      "source": [
        ""
      ],
      "execution_count": null,
      "outputs": []
    },
    {
      "cell_type": "markdown",
      "metadata": {
        "id": "BxaqcMVqM5na",
        "colab_type": "text"
      },
      "source": [
        "Can we get the length of a string?"
      ]
    },
    {
      "cell_type": "code",
      "metadata": {
        "id": "k7inAtHjM5nb",
        "colab_type": "code",
        "colab": {}
      },
      "source": [
        ""
      ],
      "execution_count": null,
      "outputs": []
    },
    {
      "cell_type": "markdown",
      "metadata": {
        "id": "m0d90oTZM5nf",
        "colab_type": "text"
      },
      "source": [
        "Can we count the number of e's in a string?"
      ]
    },
    {
      "cell_type": "code",
      "metadata": {
        "id": "ZbTpxn1tM5ng",
        "colab_type": "code",
        "colab": {}
      },
      "source": [
        ""
      ],
      "execution_count": null,
      "outputs": []
    },
    {
      "cell_type": "markdown",
      "metadata": {
        "id": "Rn5L62YQM5nk",
        "colab_type": "text"
      },
      "source": [
        "Can we replace the e's with a's?"
      ]
    },
    {
      "cell_type": "code",
      "metadata": {
        "id": "ddsJk0QuM5nl",
        "colab_type": "code",
        "colab": {}
      },
      "source": [
        ""
      ],
      "execution_count": null,
      "outputs": []
    },
    {
      "cell_type": "markdown",
      "metadata": {
        "id": "e2vZO7ErqDys",
        "colab_type": "text"
      },
      "source": [
        "Can we create a string with multiple lines?"
      ]
    },
    {
      "cell_type": "code",
      "metadata": {
        "id": "qkgZ0pwkqyyr",
        "colab_type": "code",
        "colab": {}
      },
      "source": [
        ""
      ],
      "execution_count": null,
      "outputs": []
    },
    {
      "cell_type": "markdown",
      "metadata": {
        "id": "1-9CzhZF61_Y",
        "colab_type": "text"
      },
      "source": [
        "# Special Characters"
      ]
    },
    {
      "cell_type": "markdown",
      "metadata": {
        "id": "D0qihz2Ru_ba",
        "colab_type": "text"
      },
      "source": [
        "Strings can contain special characters that either can't be visualised or can't be typed on most keyboards.\n",
        "\n",
        "These include:\n",
        "* The \"newline\" character.\n",
        "  * Indicates that any characters after it should go on a new line.\n",
        "  * Written as \"\\n\"\n",
        "* Characters from alphabets other than the \"latin\" alphabet.\n",
        "* Emoji!\n",
        "  * Written as \"\\N{name of the emoji}\"\n",
        "  * You can look up names [here](https://emojipedia.org)"
      ]
    },
    {
      "cell_type": "markdown",
      "metadata": {
        "id": "f_H3iTMFtNs9",
        "colab_type": "text"
      },
      "source": [
        "Can we create a string with this box in it?\n",
        "\n",
        "```\n",
        "+-----+\n",
        "|     |\n",
        "|     |\n",
        "|     |\n",
        "+-----+\n",
        "```"
      ]
    },
    {
      "cell_type": "code",
      "metadata": {
        "id": "2A3TTsDmudEc",
        "colab_type": "code",
        "colab": {}
      },
      "source": [
        ""
      ],
      "execution_count": null,
      "outputs": []
    },
    {
      "cell_type": "markdown",
      "metadata": {
        "id": "xbQeQpd31kEn",
        "colab_type": "text"
      },
      "source": [
        "Can we describe 2020 with Emoji?"
      ]
    },
    {
      "cell_type": "code",
      "metadata": {
        "id": "xzF_6fT210k_",
        "colab_type": "code",
        "colab": {}
      },
      "source": [
        ""
      ],
      "execution_count": null,
      "outputs": []
    },
    {
      "cell_type": "markdown",
      "metadata": {
        "id": "RKA_GG841MTA",
        "colab_type": "text"
      },
      "source": [
        "# Aside: Emoji"
      ]
    },
    {
      "cell_type": "markdown",
      "metadata": {
        "id": "_bdyVq_czdVW",
        "colab_type": "text"
      },
      "source": [
        "The history (and present) of emoji is strange and deeply fascinating.\n",
        "\n",
        "<img src=\"https://media.wired.com/photos/5926a875cefba457b079abb6/master/w_1600%2Cc_limit/emoji_grid_gray.jpg\">\n",
        "<small>The first emoji</small>\n",
        "\n",
        "Further reading [here](https://www.wired.com/story/guide-emoji/)"
      ]
    },
    {
      "cell_type": "code",
      "metadata": {
        "id": "c-Jh4FYizjS3",
        "colab_type": "code",
        "colab": {}
      },
      "source": [
        ""
      ],
      "execution_count": null,
      "outputs": []
    },
    {
      "cell_type": "markdown",
      "metadata": {
        "id": "p1TGNU0x1615",
        "colab_type": "text"
      },
      "source": [
        "# Repeating ourselves"
      ]
    },
    {
      "cell_type": "markdown",
      "metadata": {
        "id": "MIaaJyCw1-2B",
        "colab_type": "text"
      },
      "source": [
        "Can we create this box?\n",
        "\n",
        "```\n",
        "+---+\n",
        "|   |\n",
        "|   |\n",
        "|   |\n",
        "|   |\n",
        "|   |\n",
        "+---+\n",
        "```"
      ]
    },
    {
      "cell_type": "code",
      "metadata": {
        "id": "GMoq7ZKU2FT1",
        "colab_type": "code",
        "colab": {}
      },
      "source": [
        ""
      ],
      "execution_count": null,
      "outputs": []
    },
    {
      "cell_type": "markdown",
      "metadata": {
        "id": "pR12xx3T2GLj",
        "colab_type": "text"
      },
      "source": [
        "What about this box?\n",
        "\n",
        "```\n",
        "+----------+\n",
        "|          |\n",
        "|          |\n",
        "|          |\n",
        "|          |\n",
        "|          |\n",
        "+----------+\n",
        "```"
      ]
    },
    {
      "cell_type": "code",
      "metadata": {
        "id": "execc-tY2NcU",
        "colab_type": "code",
        "colab": {}
      },
      "source": [
        ""
      ],
      "execution_count": null,
      "outputs": []
    },
    {
      "cell_type": "markdown",
      "metadata": {
        "id": "MLQ2LImI2OBN",
        "colab_type": "text"
      },
      "source": [
        "Lots of boxes of different sizes?"
      ]
    },
    {
      "cell_type": "code",
      "metadata": {
        "id": "3kV4Y88a2Q4V",
        "colab_type": "code",
        "colab": {}
      },
      "source": [
        ""
      ],
      "execution_count": null,
      "outputs": []
    },
    {
      "cell_type": "markdown",
      "metadata": {
        "id": "UfWe5bLM39L0",
        "colab_type": "text"
      },
      "source": [
        "# Functions"
      ]
    },
    {
      "cell_type": "markdown",
      "metadata": {
        "id": "zN49XQFS4mZY",
        "colab_type": "text"
      },
      "source": [
        "We use functions to avoid repeating code.\n",
        "* The parts that should always stay the same are the *body* of the function.\n",
        "* The parts that change are the *arguments*.\n",
        "* To indicate what value is returned from the function, we use `return`"
      ]
    },
    {
      "cell_type": "markdown",
      "metadata": {
        "id": "cX_6ffTP-kUC",
        "colab_type": "text"
      },
      "source": [
        "# Data"
      ]
    },
    {
      "cell_type": "markdown",
      "metadata": {
        "id": "4TFFZBgZ69Cz",
        "colab_type": "text"
      },
      "source": [
        "<center><img width=\"500\" src=\"https://source.unsplash.com/KgLtFCgfC28\" /></center>\n",
        "\n",
        "The word data is used in many contexts with variations in meaning.\n",
        "\n",
        "In this course we will define data as the way in which information is represented."
      ]
    }
  ]
}
