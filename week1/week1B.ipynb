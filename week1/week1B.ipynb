{
  "nbformat": 4,
  "nbformat_minor": 0,
  "metadata": {
    "colab": {
      "name": "week1B.ipynb",
      "provenance": [],
      "collapsed_sections": []
    },
    "kernelspec": {
      "name": "python3",
      "display_name": "Python 3.8.6 64-bit",
      "metadata": {
        "interpreter": {
          "hash": "1ee38ef4a5a9feb55287fd749643f13d043cb0a7addaab2a9c224cbe137c0062"
        }
      }
    }
  },
  "cells": [
    {
      "cell_type": "markdown",
      "metadata": {
        "id": "F6MOd50KZk1u",
        "colab_type": "text"
      },
      "source": [
        "# Numbers"
      ]
    },
    {
      "cell_type": "markdown",
      "metadata": {
        "id": "7m0jwgaGM5mV",
        "colab_type": "text"
      },
      "source": [
        "Python has two main types of numbers:\n",
        "\n",
        "* `int` is short for integer and is used for whole numbers that are either positive or negative (e.g. `0`, `1`, `42`, `-8`, etc.)\n",
        "* `float` is short for floating point and can be used to *approximate* all numbers (e.g. `0.7`, `4.2`, `3.14195...`)\n",
        "\n",
        "Use `type(...)` to determine the type of value.\n",
        "\n",
        "For example,"
      ]
    },
    {
      "cell_type": "code",
      "metadata": {
        "id": "HY3mPkbrM5mW",
        "colab_type": "code",
        "colab": {}
      },
      "source": [],
      "execution_count": null,
      "outputs": []
    },
    {
      "cell_type": "markdown",
      "metadata": {
        "id": "SGwGHRx9M5mc",
        "colab_type": "text"
      },
      "source": [
        "Or for a variable"
      ]
    },
    {
      "cell_type": "code",
      "metadata": {
        "id": "I9ECKcnWM5md",
        "colab_type": "code",
        "colab": {}
      },
      "source": [],
      "execution_count": null,
      "outputs": []
    },
    {
      "cell_type": "markdown",
      "metadata": {
        "id": "7fslFqxZM5mi",
        "colab_type": "text"
      },
      "source": [
        "By adding `.0` at the end of the number we can tell python we want it to be floating point."
      ]
    },
    {
      "cell_type": "code",
      "metadata": {
        "id": "eJSvER3jM5mi",
        "colab_type": "code",
        "colab": {}
      },
      "source": [],
      "execution_count": null,
      "outputs": []
    },
    {
      "cell_type": "markdown",
      "metadata": {
        "id": "DpPvvz7_M5mo",
        "colab_type": "text"
      },
      "source": [
        "Because they are only an approximation, floating point numbers can do funny things. For example:"
      ]
    },
    {
      "cell_type": "code",
      "metadata": {
        "id": "GvDED9d5M5mr",
        "colab_type": "code",
        "colab": {}
      },
      "source": [],
      "execution_count": null,
      "outputs": []
    },
    {
      "cell_type": "markdown",
      "metadata": {
        "id": "Chey8L_Jr0wx",
        "colab_type": "text"
      },
      "source": [
        "Can you round floating point numbers to integers?"
      ]
    },
    {
      "cell_type": "code",
      "metadata": {
        "id": "dyMUw8jRr0wx",
        "colab_type": "code",
        "colab": {}
      },
      "source": [],
      "execution_count": null,
      "outputs": []
    },
    {
      "cell_type": "markdown",
      "metadata": {
        "id": "bP36WBObaQGM",
        "colab_type": "text"
      },
      "source": [
        "# Strings"
      ]
    },
    {
      "cell_type": "markdown",
      "metadata": {
        "id": "Klpl4Qx3M5mw",
        "colab_type": "text"
      },
      "source": [
        "Important info:\n",
        "* Strings are a series of characters\n",
        "* They can be used anywhere text is required (e.g. names, addresses, descriptions, etc.)\n",
        "* Like with numbers, Python provides lots of operations you can do on strings"
      ]
    },
    {
      "cell_type": "markdown",
      "metadata": {
        "id": "bCUEUHmlM5mx",
        "colab_type": "text"
      },
      "source": [
        "Can we add a string to a string?"
      ]
    },
    {
      "cell_type": "code",
      "metadata": {
        "id": "Ali2ZKBYM5mx",
        "colab_type": "code",
        "colab": {}
      },
      "source": [],
      "execution_count": null,
      "outputs": []
    },
    {
      "cell_type": "markdown",
      "metadata": {
        "id": "HwTelFq5M5m3",
        "colab_type": "text"
      },
      "source": [
        "Can we add a number to a string? "
      ]
    },
    {
      "cell_type": "code",
      "metadata": {
        "id": "yUIBnZRGM5m4",
        "colab_type": "code",
        "colab": {}
      },
      "source": [],
      "execution_count": null,
      "outputs": []
    },
    {
      "cell_type": "markdown",
      "metadata": {
        "id": "vKYzfFQwM5m8",
        "colab_type": "text"
      },
      "source": [
        "Can we store strings in variables?"
      ]
    },
    {
      "cell_type": "code",
      "metadata": {
        "id": "wEtn1karM5m9",
        "colab_type": "code",
        "colab": {}
      },
      "source": [],
      "execution_count": null,
      "outputs": []
    },
    {
      "cell_type": "markdown",
      "metadata": {
        "id": "XAzEOoANM5nB",
        "colab_type": "text"
      },
      "source": [
        "Can we multiply a string by a number?"
      ]
    },
    {
      "cell_type": "code",
      "metadata": {
        "id": "tkJNfOWeM5nC",
        "colab_type": "code",
        "colab": {}
      },
      "source": [],
      "execution_count": null,
      "outputs": []
    },
    {
      "cell_type": "markdown",
      "metadata": {
        "id": "sFf0kTf2M5nG",
        "colab_type": "text"
      },
      "source": [
        "Can we multiply a string by a string?"
      ]
    },
    {
      "cell_type": "code",
      "metadata": {
        "id": "F0b9nAPsM5nH",
        "colab_type": "code",
        "colab": {}
      },
      "source": [],
      "execution_count": null,
      "outputs": []
    },
    {
      "cell_type": "markdown",
      "metadata": {
        "id": "pQXGHDpZM5nL",
        "colab_type": "text"
      },
      "source": [
        "Does `type(...)` work on strings?"
      ]
    },
    {
      "cell_type": "code",
      "metadata": {
        "id": "7gXehQ7gM5nL",
        "colab_type": "code",
        "colab": {}
      },
      "source": [],
      "execution_count": null,
      "outputs": []
    },
    {
      "cell_type": "markdown",
      "metadata": {
        "id": "YBdaDgz2M5nP",
        "colab_type": "text"
      },
      "source": [
        "Can we extract individual characters?"
      ]
    },
    {
      "cell_type": "code",
      "metadata": {
        "id": "uDPhpgbiM5nQ",
        "colab_type": "code",
        "colab": {}
      },
      "source": [],
      "execution_count": null,
      "outputs": []
    },
    {
      "cell_type": "markdown",
      "metadata": {
        "id": "CRQgX47vM5nU",
        "colab_type": "text"
      },
      "source": [
        "## What is wrong with programmers?\n",
        "\n",
        "<img width=\"40%\" src=\"https://i.imgur.com/NSxLS8D.png\" />\n",
        "\n",
        "Important info:\n",
        "\n",
        "* Programmers start counting from 0 for a complex variety of reasons\n",
        "* This is a common source of errors for new programmers"
      ]
    },
    {
      "cell_type": "markdown",
      "metadata": {
        "id": "5PPcjPLkM5nV",
        "colab_type": "text"
      },
      "source": [
        "# Back to strings"
      ]
    },
    {
      "cell_type": "markdown",
      "metadata": {
        "id": "4gDRN1WsM5nW",
        "colab_type": "text"
      },
      "source": [
        "Can we extract parts of strings?"
      ]
    },
    {
      "cell_type": "code",
      "metadata": {
        "id": "H-HUOq_3M5nW",
        "colab_type": "code",
        "colab": {}
      },
      "source": [],
      "execution_count": null,
      "outputs": []
    },
    {
      "cell_type": "markdown",
      "metadata": {
        "id": "BxaqcMVqM5na",
        "colab_type": "text"
      },
      "source": [
        "Can we get the length of a string?"
      ]
    },
    {
      "cell_type": "code",
      "metadata": {
        "id": "k7inAtHjM5nb",
        "colab_type": "code",
        "colab": {}
      },
      "source": [],
      "execution_count": null,
      "outputs": []
    },
    {
      "cell_type": "markdown",
      "metadata": {
        "id": "m0d90oTZM5nf",
        "colab_type": "text"
      },
      "source": [
        "Can we count the number of e's in a string?"
      ]
    },
    {
      "cell_type": "code",
      "metadata": {
        "id": "ZbTpxn1tM5ng",
        "colab_type": "code",
        "colab": {}
      },
      "source": [],
      "execution_count": null,
      "outputs": []
    },
    {
      "cell_type": "markdown",
      "metadata": {
        "id": "Rn5L62YQM5nk",
        "colab_type": "text"
      },
      "source": [
        "Can we replace the e's with a's?"
      ]
    },
    {
      "cell_type": "code",
      "metadata": {
        "id": "ddsJk0QuM5nl",
        "colab_type": "code",
        "colab": {}
      },
      "source": [],
      "execution_count": null,
      "outputs": []
    },
    {
      "cell_type": "markdown",
      "metadata": {
        "id": "e2vZO7ErqDys",
        "colab_type": "text"
      },
      "source": [
        "Can we create a string with multiple lines?"
      ]
    },
    {
      "cell_type": "code",
      "metadata": {
        "id": "qkgZ0pwkqyyr",
        "colab_type": "code",
        "colab": {}
      },
      "source": [],
      "execution_count": null,
      "outputs": []
    },
    {
      "cell_type": "markdown",
      "metadata": {
        "id": "1-9CzhZF61_Y",
        "colab_type": "text"
      },
      "source": [
        "# Special Characters"
      ]
    },
    {
      "cell_type": "markdown",
      "metadata": {
        "id": "D0qihz2Ru_ba",
        "colab_type": "text"
      },
      "source": [
        "Strings can contain special characters that either can't be visualised or can't be typed on most keyboards.\n",
        "\n",
        "These include:\n",
        "* The \"newline\" character.\n",
        "  * Indicates that any characters after it should go on a new line.\n",
        "  * Written as \"\\n\"\n",
        "* Characters from alphabets other than the \"latin\" alphabet.\n",
        "* Emoji!\n",
        "  * Written as \"\\N{name of the emoji}\"\n",
        "  * You can look up names [here](https://emojipedia.org)"
      ]
    },
    {
      "cell_type": "markdown",
      "metadata": {
        "id": "f_H3iTMFtNs9",
        "colab_type": "text"
      },
      "source": [
        "Can we create a string with this box in it?\n",
        "\n",
        "```\n",
        "+-----+\n",
        "|     |\n",
        "|     |\n",
        "|     |\n",
        "+-----+\n",
        "```"
      ]
    },
    {
      "cell_type": "code",
      "metadata": {
        "id": "2A3TTsDmudEc",
        "colab_type": "code",
        "colab": {}
      },
      "source": [],
      "execution_count": null,
      "outputs": []
    },
    {
      "cell_type": "markdown",
      "metadata": {
        "id": "xbQeQpd31kEn",
        "colab_type": "text"
      },
      "source": [
        "Can we describe 2020 with Emoji?"
      ]
    },
    {
      "cell_type": "code",
      "metadata": {
        "id": "xzF_6fT210k_",
        "colab_type": "code",
        "colab": {}
      },
      "source": [],
      "execution_count": null,
      "outputs": []
    },
    {
      "cell_type": "markdown",
      "metadata": {
        "id": "RKA_GG841MTA",
        "colab_type": "text"
      },
      "source": [
        "# Aside: Emoji"
      ]
    },
    {
      "cell_type": "markdown",
      "metadata": {
        "id": "_bdyVq_czdVW",
        "colab_type": "text"
      },
      "source": [
        "The history (and present) of emoji is strange and deeply fascinating.\n",
        "\n",
        "<img src=\"https://media.wired.com/photos/5926a875cefba457b079abb6/master/w_1600%2Cc_limit/emoji_grid_gray.jpg\">\n",
        "<small>The first emoji</small>\n",
        "\n",
        "Further reading [here](https://www.wired.com/story/guide-emoji/)"
      ]
    },
    {
      "cell_type": "code",
      "metadata": {
        "id": "c-Jh4FYizjS3",
        "colab_type": "code",
        "colab": {}
      },
      "source": [],
      "execution_count": null,
      "outputs": []
    },
    {
      "cell_type": "markdown",
      "metadata": {
        "id": "p1TGNU0x1615",
        "colab_type": "text"
      },
      "source": [
        "# Repeating ourselves"
      ]
    },
    {
      "cell_type": "markdown",
      "metadata": {
        "id": "MIaaJyCw1-2B",
        "colab_type": "text"
      },
      "source": [
        "Can we create this box?\n",
        "\n",
        "```\n",
        "+---+\n",
        "|   |\n",
        "|   |\n",
        "|   |\n",
        "|   |\n",
        "|   |\n",
        "+---+\n",
        "```"
      ]
    },
    {
      "cell_type": "code",
      "metadata": {
        "id": "GMoq7ZKU2FT1",
        "colab_type": "code",
        "colab": {}
      },
      "source": [],
      "execution_count": null,
      "outputs": []
    },
    {
      "cell_type": "markdown",
      "metadata": {
        "id": "pR12xx3T2GLj",
        "colab_type": "text"
      },
      "source": [
        "What about this box?\n",
        "\n",
        "```\n",
        "+----------+\n",
        "|          |\n",
        "|          |\n",
        "|          |\n",
        "|          |\n",
        "|          |\n",
        "+----------+\n",
        "```"
      ]
    },
    {
      "cell_type": "code",
      "metadata": {
        "id": "execc-tY2NcU",
        "colab_type": "code",
        "colab": {}
      },
      "source": [],
      "execution_count": null,
      "outputs": []
    },
    {
      "cell_type": "markdown",
      "metadata": {
        "id": "MLQ2LImI2OBN",
        "colab_type": "text"
      },
      "source": [
        "Lots of boxes of different sizes?"
      ]
    },
    {
      "cell_type": "code",
      "metadata": {
        "id": "3kV4Y88a2Q4V",
        "colab_type": "code",
        "colab": {}
      },
      "source": [],
      "execution_count": null,
      "outputs": []
    },
    {
      "cell_type": "markdown",
      "metadata": {
        "id": "UfWe5bLM39L0",
        "colab_type": "text"
      },
      "source": [
        "# Functions"
      ]
    },
    {
      "cell_type": "markdown",
      "metadata": {
        "id": "zN49XQFS4mZY",
        "colab_type": "text"
      },
      "source": [
        "We use functions to avoid repeating code.\n",
        "* The parts that should always stay the same are the *body* of the function.\n",
        "* The parts that change are the *arguments*.\n",
        "* To indicate what value is returned from the function, we use `return`"
      ]
    },
    {
      "cell_type": "markdown",
      "metadata": {
        "id": "cX_6ffTP-kUC",
        "colab_type": "text"
      },
      "source": [
        "# Data"
      ]
    },
    {
      "cell_type": "markdown",
      "metadata": {
        "id": "4TFFZBgZ69Cz",
        "colab_type": "text"
      },
      "source": [
        "<center><img width=\"500\" src=\"https://source.unsplash.com/KgLtFCgfC28\" /></center>\n",
        "\n",
        "The word data is used in many contexts with variations in meaning.\n",
        "\n",
        "In this course we will define data as the way in which information is represented."
      ]
    },
    {
      "cell_type": "markdown",
      "metadata": {
        "id": "bXhaEGoBr0yj",
        "colab_type": "text"
      },
      "source": [
        "## Different ways of representing things\n",
        "\n",
        "* \"Robert Clifton-Everest\" vs \"Clifton-Everest, Robert\"\n",
        "* 7 in decimal vs 111 in binary\n",
        "* MLA vs APA vs Chicago citation styles"
      ]
    },
    {
      "cell_type": "markdown",
      "metadata": {
        "id": "0yXmHKSEr0yj",
        "colab_type": "text"
      },
      "source": [
        "## Binary\n",
        "\n",
        "Computers work in binary (0 or 1). To compute with any sort of data we need a way to represent it in binary.\n",
        "\n",
        "We can represent almost anything in terms of numbers, so as long as we can represent a number in binary, we're good.\n",
        "\n",
        "<img src=\"https://www.onlinemathlearning.com/image-files/binary-to-decimal.png\" />"
      ]
    },
    {
      "cell_type": "markdown",
      "metadata": {
        "id": "s3tO522gr0yl",
        "colab_type": "text"
      },
      "source": [
        "10011100101 is a binary number, can python tell us what it is in decimal?"
      ]
    },
    {
      "cell_type": "code",
      "metadata": {
        "id": "PX4_wabhr0yl",
        "colab_type": "code",
        "colab": {}
      },
      "source": [],
      "execution_count": null,
      "outputs": []
    },
    {
      "cell_type": "markdown",
      "metadata": {
        "id": "FCVBl4B0r0yq",
        "colab_type": "text"
      },
      "source": [
        "Can we use python to find 10 in binary?"
      ]
    },
    {
      "cell_type": "code",
      "metadata": {
        "id": "a50565EQr0yq",
        "colab_type": "code",
        "colab": {}
      },
      "source": [],
      "execution_count": null,
      "outputs": []
    },
    {
      "cell_type": "markdown",
      "metadata": {
        "id": "ZGrl3RRQr0yt",
        "colab_type": "text"
      },
      "source": [
        "## Strings\n",
        "\n",
        "Every character *can* be represented as a number so therefore all characters can be represented in binary\n",
        "\n",
        " * The first attempt at this: [ASCII](https://en.wikipedia.org/wiki/ASCII)\n",
        " * More recently: [Unicode](https://home.unicode.org/)"
      ]
    },
    {
      "cell_type": "markdown",
      "metadata": {
        "id": "vxbFDzBwr0yv",
        "colab_type": "text"
      },
      "source": [
        "# Lists\n",
        "\n",
        "Lists are an *ordered data structure*."
      ]
    },
    {
      "cell_type": "markdown",
      "metadata": {
        "id": "PTZWttQ6r0yv",
        "colab_type": "text"
      },
      "source": [
        "Can we create a list with the names of the course staff?"
      ]
    },
    {
      "cell_type": "code",
      "metadata": {
        "id": "T011SJbjr0yw",
        "colab_type": "code",
        "colab": {}
      },
      "source": [],
      "execution_count": null,
      "outputs": []
    },
    {
      "cell_type": "markdown",
      "metadata": {
        "id": "ZYeCSeOZr0y0",
        "colab_type": "text"
      },
      "source": [
        "What is the tutor at index 0?"
      ]
    },
    {
      "cell_type": "code",
      "metadata": {
        "id": "uP2aa9HXr0y0",
        "colab_type": "code",
        "colab": {}
      },
      "source": [],
      "execution_count": null,
      "outputs": []
    },
    {
      "cell_type": "markdown",
      "metadata": {
        "id": "IZvAYDKSr0y3",
        "colab_type": "text"
      },
      "source": [
        "Can we replace a Rob?"
      ]
    },
    {
      "cell_type": "code",
      "metadata": {
        "id": "tsjOFMDkr0y4",
        "colab_type": "code",
        "colab": {}
      },
      "source": [],
      "execution_count": null,
      "outputs": []
    },
    {
      "cell_type": "markdown",
      "metadata": {
        "id": "X5Y_qj02r0y7",
        "colab_type": "text"
      },
      "source": [
        "Can we check if Sim is in the list?"
      ]
    },
    {
      "cell_type": "code",
      "metadata": {
        "id": "Wl3liT_Qr0y8",
        "colab_type": "code",
        "colab": {}
      },
      "source": [],
      "execution_count": null,
      "outputs": []
    },
    {
      "cell_type": "markdown",
      "metadata": {
        "id": "nmKLkPKRr0y_",
        "colab_type": "text"
      },
      "source": [
        "# Booleans"
      ]
    },
    {
      "cell_type": "markdown",
      "metadata": {
        "id": "Mq7bi1Aor0zA",
        "colab_type": "text"
      },
      "source": [
        "Python supports *boolean* values to indicate whether something is true or false. They have type `bool`. Like with numbers and strings, Python lets us do various operations on them.\n",
        "\n",
        "\n",
        "* `and` checks whether two boolean values are both `true`\n",
        "* `or` checks whether either boolean values are `true`\n",
        "* `not` turns `true` into `false` and `false` into `true`\n",
        "\n",
        "Boolean values can be created by various means. For example:\n",
        "* `x == y` is `true` if `x` is equal to `y`\n",
        "* `x > y` is `true` if `x` is greater than `y`\n",
        "* `x in y` is `true` if `x` is in the data structure `y`"
      ]
    },
    {
      "cell_type": "markdown",
      "metadata": {
        "id": "btHl0Az1r0zA",
        "colab_type": "text"
      },
      "source": [
        "Are Rob *and* Kai both course staff?"
      ]
    },
    {
      "cell_type": "code",
      "execution_count": null,
      "metadata": {},
      "outputs": [],
      "source": []
    },
    {
      "cell_type": "markdown",
      "metadata": {
        "id": "B47jFWS8r0zB",
        "colab_type": "text"
      },
      "source": [
        "Are Sim *or* Bill course staff?"
      ]
    },
    {
      "cell_type": "code",
      "metadata": {
        "id": "BD_X3RPxr0zB",
        "colab_type": "code",
        "colab": {}
      },
      "source": [],
      "execution_count": null,
      "outputs": []
    },
    {
      "cell_type": "markdown",
      "metadata": {
        "id": "_C_vbhRmr0zE",
        "colab_type": "text"
      },
      "source": [
        "# A bigger example"
      ]
    },
    {
      "cell_type": "markdown",
      "metadata": {
        "id": "lyTLGHx8r0zF",
        "colab_type": "text"
      },
      "source": [
        "This code cell creates a list from some of Elon Musk's tweets. \n",
        "\n",
        "*You're not expected to completely understand this code yet. It's only here to give us interesting data*."
      ]
    },
    {
      "cell_type": "code",
      "metadata": {
        "id": "04U54ND9r0zG",
        "colab_type": "code",
        "colab": {}
      },
      "source": [
        "import pandas\n",
        "\n",
        "raw_tweets = pandas.read_csv('https://raw.githubusercontent.com/robeverest/cs1010/master/data/elonmusk.csv')\n",
        "elon_tweets = list(raw_tweets[raw_tweets.retweet == False].tweet)"
      ],
      "execution_count": null,
      "outputs": []
    },
    {
      "cell_type": "markdown",
      "metadata": {
        "id": "sj84sQtsr0zI",
        "colab_type": "text"
      },
      "source": [
        "How many tweets are in this data set?"
      ]
    },
    {
      "cell_type": "code",
      "metadata": {
        "tags": [],
        "id": "bQ2pUdyUr0zI",
        "colab_type": "code",
        "colab": {}
      },
      "source": [],
      "execution_count": null,
      "outputs": []
    },
    {
      "cell_type": "markdown",
      "metadata": {
        "id": "Ia62M04hr0zb",
        "colab_type": "text"
      },
      "source": [
        "What tweet is at index 3750?"
      ]
    },
    {
      "cell_type": "code",
      "metadata": {
        "id": "U8WEDYLNr0zc",
        "colab_type": "code",
        "colab": {}
      },
      "source": [],
      "execution_count": null,
      "outputs": []
    },
    {
      "cell_type": "markdown",
      "metadata": {
        "id": "MhsZo7EJr0ze",
        "colab_type": "text"
      },
      "source": [
        "What is the total number of characters Elon has ever tweeted?"
      ]
    },
    {
      "cell_type": "code",
      "metadata": {
        "tags": [],
        "id": "hgGHAb4zr0zf",
        "colab_type": "code",
        "colab": {}
      },
      "source": [],
      "execution_count": null,
      "outputs": []
    },
    {
      "cell_type": "markdown",
      "metadata": {
        "id": "2Ynb9SJ6r0zj",
        "colab_type": "text"
      },
      "source": [
        "# Loops\n",
        "\n",
        "Loops allow us to execute code repeatedly. The most common form of loop in Python is the `for ... in ...` loop which lets you execute some code for every element inside a data structure.\n",
        "\n",
        "**Important info**:\n",
        "\n",
        "* The *body* of the loop needs to be *indented* so that Python knows what is in the loop and what isn't.\n",
        "* Don't forget the colon at the end of the first line!"
      ]
    }
  ]
}