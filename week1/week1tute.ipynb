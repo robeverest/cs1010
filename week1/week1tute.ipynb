{
 "metadata": {
  "language_info": {
   "codemirror_mode": {
    "name": "ipython",
    "version": 3
   },
   "file_extension": ".py",
   "mimetype": "text/x-python",
   "name": "python",
   "nbconvert_exporter": "python",
   "pygments_lexer": "ipython3",
   "version": 3
  },
  "orig_nbformat": 2
 },
 "nbformat": 4,
 "nbformat_minor": 2,
 "cells": [
  {
   "cell_type": "markdown",
   "metadata": {},
   "source": [
    "# Week 1 Tutorial"
   ]
  },
  {
   "cell_type": "markdown",
   "metadata": {},
   "source": [
    "## Introductions\n",
    "\n",
    "Yes, you guessed it! It's some \"getting to know each other\" exercises.\n",
    "\n",
    "### Breadth\n",
    "\n",
    "Your tutor will go round the class and ask you to introduce yourself to everybody there. Tell the class:\n",
    "\n",
    "* Your name\n",
    "* Your degree or program\n",
    "* Why you're doing this course\n",
    "* An answer to a question chosen by your tutor\n",
    "\n",
    "### Depth\n",
    "\n",
    "Your tutor will divide you up into groups of 2. With your partner, in 5-10 minutes, try to determine the most *improbable* thing you have in common. For example: \n",
    "\n",
    "* If you both have brown hair, that is a not very improbable\n",
    "* If you both play the same obscure video game, that is somewhat improbable.\n",
    "* If you have matching tattoos, that is very improbable.\n",
    "* If you have just discovered you are long lost twins, that is ridiculously improbable.\n",
    "\n",
    "Compound improbabilities don't count. For example, if you say you both have brown hair *and* glasses, that doesn't count. It has to be a distinct property you both share.\n",
    "\n",
    "After the time is up, your tutor will create a poll containing all the discovered improbabilities. Vote on which one you think is in fact the most improbable.\n",
    "\n",
    "Repeat the exercise with a new partner to see if you can come up with something even more improbable than the last round. Consider how you're approaching the problem. Do you immediately start telling your partner specific facts about yourself or do you try to find broad common ground (e.g. you both like movies) and narrow it down from there?"
   ]
  },
  {
   "cell_type": "markdown",
   "metadata": {},
   "source": [
    "## Problem solving\n",
    "\n",
    "Your tutor will divide you up into groups of 3 or 4. With your group, try to estimate how many people there are in Australia with the same first name as your tutor.\n",
    "\n",
    "Copy this notebook to google drive by clicking 'Copy to Drive' at the top of the page. In your copy, use the code cell below to calculate your estimate in python storing all the intermediate results in variables. You can add other code cells if you wish."
   ]
  },
  {
   "cell_type": "code",
   "execution_count": null,
   "metadata": {},
   "outputs": [],
   "source": []
  }
 ]
}