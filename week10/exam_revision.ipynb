{
 "metadata": {
  "language_info": {
   "codemirror_mode": {
    "name": "ipython",
    "version": 3
   },
   "file_extension": ".py",
   "mimetype": "text/x-python",
   "name": "python",
   "nbconvert_exporter": "python",
   "pygments_lexer": "ipython3",
   "version": "3.8.5-final"
  },
  "orig_nbformat": 2,
  "kernelspec": {
   "name": "python38564bit16056ce0e98a49208e5744e26803b7c0",
   "display_name": "Python 3.8.5 64-bit"
  }
 },
 "nbformat": 4,
 "nbformat_minor": 2,
 "cells": [
  {
   "source": [
    "# Exam Revision"
   ],
   "cell_type": "markdown",
   "metadata": {}
  },
  {
   "source": [
    "## House Hunting\n",
    "\n",
    "The following cell defines a list of houses for sale. It includes their address, number of bedrooms and bathrooms, price, and features (garage, pool, granny flat, etc.)"
   ],
   "cell_type": "markdown",
   "metadata": {}
  },
  {
   "cell_type": "code",
   "execution_count": null,
   "metadata": {},
   "outputs": [],
   "source": [
    "houses = [\n",
    "    { \n",
    "        \"address\": \"42 Wallaby Way, Sydney\", \n",
    "        \"bedrooms\": 3, \n",
    "        \"bathrooms\": 2, \n",
    "        \"features\": [\"garage\", \"pool\"] \n",
    "    },\n",
    "    { \n",
    "        \"address\": \"123 Fake Street, Mosman\", \n",
    "        \"bedrooms\": 6, \n",
    "        \"bathrooms\": 3, \n",
    "        \"features\": [\"pool\", \"granny flat\"]     \n",
    "    },\n",
    "    { \n",
    "        \"address\": \"1 High Street, Kensington\", \n",
    "        \"bedrooms\": 2, \n",
    "        \"bathrooms\": 1, \n",
    "        \"features\": [] \n",
    "    },\n",
    "    { \n",
    "        \"address\": \"109 Kirribilli Ave, Kirribilli\", \n",
    "        \"bedrooms\": 10, \n",
    "        \"bathrooms\": 7, \n",
    "        \"features\": [\"garage\", \"pool\", \"wine cellar\", \"tennis court\"] \n",
    "    }\n",
    "]"
   ]
  },
  {
   "source": [
    "Write the function `find_houses(bedrooms, bathrooms, features)` that returns a list of the addresses of all the houses with *at least* the given number of bedrooms and bathrooms and *at least* the given list of features.\n",
    "\n",
    "**NOTE**: Don't assume the list of houses or set of possible features is constrained to what is written above. Your function should still work if new houses were added to the above list."
   ],
   "cell_type": "markdown",
   "metadata": {}
  },
  {
   "cell_type": "code",
   "execution_count": null,
   "metadata": {},
   "outputs": [],
   "source": []
  },
  {
   "source": [
    "Use this cell to test your function."
   ],
   "cell_type": "markdown",
   "metadata": {}
  },
  {
   "cell_type": "code",
   "execution_count": null,
   "metadata": {},
   "outputs": [],
   "source": [
    "assert find_houses(3, 1, [\"garage\"]) == [\"42 Wallaby Way, Sydney\", \"109 Kirribilli Ave, Kirribilli\"]\n",
    "assert find_houses(6, 4, []) == [\"109 Kirribilli Ave, Kirribilli\"]\n",
    "assert find_houses(1, 1, [\"granny flat\"]) == [\"123 Fake Street, Mosman\"]"
   ]
  },
  {
   "source": [
    "## Making Change\n",
    "\n",
    "Assuming you're dealing with Australian coins (\\$2, \\$1, 50c, 20c, 10c, and 5c), write a function `change(price, paid)` that returns a list of coins (in decreasing order of value) that would need to be given as change if `paid` cents were given for something priced at `price` cents. The function should return the fewest coins needed to make the correct change. Some examples are in the testing cell below."
   ],
   "cell_type": "markdown",
   "metadata": {}
  },
  {
   "cell_type": "code",
   "execution_count": null,
   "metadata": {},
   "outputs": [],
   "source": []
  },
  {
   "source": [
    "Use this cell to test your function."
   ],
   "cell_type": "markdown",
   "metadata": {}
  },
  {
   "cell_type": "code",
   "execution_count": null,
   "metadata": {},
   "outputs": [],
   "source": [
    "assert change(400, 400) == []\n",
    "assert change(250, 300) == [\"50c\"]\n",
    "assert change(160, 200) == [\"20c\", \"20c\"]\n",
    "assert change(415, 1000) == [\"$2\", \"$2\", \"$1\", \"50c\", \"20c\", \"10c\", \"5c\"]"
   ]
  },
  {
   "source": [
    "## Uniqueness\n",
    "\n",
    "Write the function `only_unique(dicts)` that, for a given list of dictionaries, returns only the entries in each dictionary that have keys unique to that dictionary-- i.e. they only appear in that dictionary not any of the other dictionaries in the list. See the testing cell below for some examples."
   ],
   "cell_type": "markdown",
   "metadata": {}
  },
  {
   "cell_type": "code",
   "execution_count": null,
   "metadata": {},
   "outputs": [],
   "source": []
  },
  {
   "source": [
    "Use this cell to test your function."
   ],
   "cell_type": "markdown",
   "metadata": {}
  },
  {
   "cell_type": "code",
   "execution_count": null,
   "metadata": {},
   "outputs": [],
   "source": [
    "assert only_unique([{\"a\": 0}, {\"b\": 0}, {\"c\": 0}]) == [{\"a\":0}, {\"b\": 0}, {\"c\": 0}]\n",
    "assert only_unique([{\"a\": 0, \"b\": 0}, {\"a\": 0}]) == [{\"b\": 0}, {}]\n",
    "assert only_unique([{\"a\": 1, \"b\": 2}, {\"a\": 4, \"c\": 3}, {\"c\": 5, \"d\": 5, \"e\": 5}]) == [{\"b\": 2}, {}, {\"d\": 5, \"e\": 5}]"
   ]
  },
  {
   "source": [
    "## Pig Latin\n",
    "\n",
    "You can translate an English sentence into *Pig Latin* by moving all the consonants before each word to the end of the word and adding \"ay\". The test cell below has some examples.\n",
    "\n",
    "\n",
    "Write the function `pig_latin(text)` that translates English text into Pig Latin. The function should respect capitalisation-- i.e. if a word starts with an uppercase letter, the translated word should also start with an uppercase letter. Similarly, the function should work with text containing full stops and commas, but doesn't need to consider any other punctuation. You also don't need to consider cases where 'y' is used in a vowel position.\n",
    "\n",
    "**NOTE**: In an exam, there would be partial marks for this question if you were able to partially meet the requirements above."
   ],
   "cell_type": "markdown",
   "metadata": {}
  },
  {
   "cell_type": "code",
   "execution_count": null,
   "metadata": {},
   "outputs": [],
   "source": []
  },
  {
   "source": [
    "Use this cell to test your function."
   ],
   "cell_type": "markdown",
   "metadata": {}
  },
  {
   "cell_type": "code",
   "execution_count": 40,
   "metadata": {},
   "outputs": [],
   "source": [
    "assert pig_latin(\"hello\") == \"ellohay\"\n",
    "assert pig_latin(\"how are you\") == \"owhay areay ouyay\"\n",
    "assert pig_latin(\"Big Bad Wolf\") == \"Igbay Adbay Olfway\"\n",
    "assert pig_latin(\"Rob has snakes\") == \"Obray ashay akessnay\"\n",
    "assert pig_latin(\"Hermits United. We meet up every ten years, swap stories about caves.\") == \"Ermitshay Uniteday. Eway eetmay upay everyay entay earsyay, apsway oriesstay aboutay avescay.\""
   ]
  }
 ]
}