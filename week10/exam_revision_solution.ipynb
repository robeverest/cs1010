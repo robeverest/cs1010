{
 "metadata": {
  "language_info": {
   "codemirror_mode": {
    "name": "ipython",
    "version": 3
   },
   "file_extension": ".py",
   "mimetype": "text/x-python",
   "name": "python",
   "nbconvert_exporter": "python",
   "pygments_lexer": "ipython3",
   "version": "3.8.6-final"
  },
  "orig_nbformat": 2,
  "kernelspec": {
   "name": "python38564bit16056ce0e98a49208e5744e26803b7c0",
   "display_name": "Python 3.8.6 64-bit"
  },
  "metadata": {
   "interpreter": {
    "hash": "1ee38ef4a5a9feb55287fd749643f13d043cb0a7addaab2a9c224cbe137c0062"
   }
  }
 },
 "nbformat": 4,
 "nbformat_minor": 2,
 "cells": [
  {
   "source": [
    "# Exam Revision"
   ],
   "cell_type": "markdown",
   "metadata": {}
  },
  {
   "source": [
    "## House Hunting\n",
    "\n",
    "The following cell defines a list of houses for sale. It includes their address, number of bedrooms and bathrooms, price, and features (garage, pool, granny flat, etc.)"
   ],
   "cell_type": "markdown",
   "metadata": {}
  },
  {
   "cell_type": "code",
   "execution_count": 1,
   "metadata": {},
   "outputs": [],
   "source": [
    "houses = [\n",
    "    { \n",
    "        \"address\": \"42 Wallaby Way, Sydney\", \n",
    "        \"bedrooms\": 3, \n",
    "        \"bathrooms\": 2, \n",
    "        \"features\": [\"garage\", \"pool\"] \n",
    "    },\n",
    "    { \n",
    "        \"address\": \"123 Fake Street, Mosman\", \n",
    "        \"bedrooms\": 6, \n",
    "        \"bathrooms\": 3, \n",
    "        \"features\": [\"pool\", \"granny flat\"]     \n",
    "    },\n",
    "    { \n",
    "        \"address\": \"1 High Street, Kensington\", \n",
    "        \"bedrooms\": 2, \n",
    "        \"bathrooms\": 1, \n",
    "        \"features\": [] \n",
    "    },\n",
    "    { \n",
    "        \"address\": \"109 Kirribilli Ave, Kirribilli\", \n",
    "        \"bedrooms\": 10, \n",
    "        \"bathrooms\": 7, \n",
    "        \"features\": [\"garage\", \"pool\", \"wine cellar\", \"tennis court\"] \n",
    "    }\n",
    "]"
   ]
  },
  {
   "source": [
    "Write the function `find_houses(bedrooms, bathrooms, features)` that returns a list of the addresses of all the houses with *at least* the given number of bedrooms and bathrooms and *at least* the given list of features.\n",
    "\n",
    "**NOTE**: Don't assume the list of houses or set of possible features is constrained to what is written above. Your function should still work if new houses were added to the above list."
   ],
   "cell_type": "markdown",
   "metadata": {}
  },
  {
   "cell_type": "code",
   "execution_count": 2,
   "metadata": {},
   "outputs": [],
   "source": [
    "def find_houses(bedrooms, bathrooms, features):\n",
    "    addresses = []\n",
    "    for house in houses:\n",
    "        if bedrooms <= house['bedrooms'] and bathrooms <= house['bathrooms']:\n",
    "            has_features = True\n",
    "            for feature in features:\n",
    "                if feature not in house['features']:\n",
    "                    has_features = False\n",
    "            if has_features:\n",
    "                addresses.append(house['address'])\n",
    "    return addresses"
   ]
  },
  {
   "source": [
    "Use this cell to test your function."
   ],
   "cell_type": "markdown",
   "metadata": {}
  },
  {
   "cell_type": "code",
   "execution_count": 3,
   "metadata": {},
   "outputs": [],
   "source": [
    "assert find_houses(3, 1, [\"garage\"]) == [\"42 Wallaby Way, Sydney\", \"109 Kirribilli Ave, Kirribilli\"]\n",
    "assert find_houses(6, 4, []) == [\"109 Kirribilli Ave, Kirribilli\"]\n",
    "assert find_houses(1, 1, [\"granny flat\"]) == [\"123 Fake Street, Mosman\"]"
   ]
  },
  {
   "source": [
    "## Spam\n",
    "\n",
    "Write the function `spamify(synonyms, text)` that transforms text by swapping words with given synonyms. The first argument, `synonyms`, is a list of lists where each sub-list represents words that all have the same meaning. For example:"
   ],
   "cell_type": "markdown",
   "metadata": {}
  },
  {
   "cell_type": "code",
   "execution_count": 14,
   "metadata": {},
   "outputs": [],
   "source": [
    "example_synonyms = [\n",
    "    [\"amazing\", \"incredible\", \"unbelievable\", \"fantastic\"], \n",
    "    [\"awful\", \"unpleasant\", \"terrible\"],\n",
    "    [\"calm\", \"quiet\", \"peaceful\", \"tranquil\"]\n",
    "]"
   ]
  },
  {
   "source": [
    "The transformation should work by replacing each word out with the one that follows it in its list of synonyms. If the word is at the end of its list, then it should be replaced with the word at the start. There are examples in the test cell below.\n",
    "\n",
    "**NOTE**: To get full marks for this exercise, you need to account for all forms of punctuation as given in the testing cell, as well as capitalisation. However, you do not need to consider other forms of punctuation, plurals, possessives, etc."
   ],
   "cell_type": "markdown",
   "metadata": {}
  },
  {
   "cell_type": "code",
   "execution_count": 28,
   "metadata": {},
   "outputs": [
    {
     "output_type": "execute_result",
     "data": {
      "text/plain": [
       "'I thought it was incredible'"
      ]
     },
     "metadata": {},
     "execution_count": 28
    }
   ],
   "source": [
    "def spamify(synonyms, text):\n",
    "    result = \"\"\n",
    "    for word in text.split():\n",
    "        if word[-1] in '.,?!':\n",
    "            punctuation = word[-1]\n",
    "            word = word[:-1]\n",
    "        else:\n",
    "            punctuation = \"\"\n",
    "\n",
    "        if word[0].isupper():\n",
    "            capitalise = True\n",
    "        else:\n",
    "            capitalise = False\n",
    "        word = word.lower()\n",
    "\n",
    "        for equivalent_words in synonyms:\n",
    "            if word in equivalent_words:\n",
    "                i = equivalent_words.index(word)\n",
    "                word = equivalent_words[(i+1) % len(equivalent_words)]\n",
    "        if capitalise:\n",
    "            word = word.capitalize()\n",
    "        word += punctuation\n",
    "        result += word + \" \"\n",
    "    return result.rstrip()"
   ]
  },
  {
   "source": [
    "Use the cell below to test your solution."
   ],
   "cell_type": "markdown",
   "metadata": {}
  },
  {
   "cell_type": "code",
   "execution_count": 29,
   "metadata": {},
   "outputs": [],
   "source": [
    "assert spamify(example_synonyms, \"I thought it was amazing\") == \"I thought it was incredible\"\n",
    "assert spamify(example_synonyms, \"The quiet carriage was actually unpleasant\") == \"The peaceful carriage was actually terrible\"\n",
    "assert spamify(example_synonyms, \"Amazing people are everywhere\") == \"Incredible people are everywhere\"\n",
    "assert spamify(example_synonyms, \"The sea was tranquil\") == \"The sea was calm\"\n",
    "assert spamify(example_synonyms, \"The food was awful. There, I said it.\") == \"The food was unpleasant. There, I said it.\"\n",
    "assert spamify(example_synonyms, \"Was it really that awful?\") == \"Was it really that unpleasant?\"\n",
    "assert spamify(example_synonyms, \"That's amazing, incredible, fantastic!\") == \"That's incredible, unbelievable, amazing!\""
   ]
  },
  {
   "source": [
    "## Making Change\n",
    "\n",
    "Assuming you're dealing with Australian coins (\\$2, \\$1, 50c, 20c, 10c, and 5c), write a function `change(price, paid)` that returns a list of coins (in decreasing order of value) that would need to be given as change if `paid` cents were given for something priced at `price` cents. The function should return the fewest coins needed to make the correct change. Some examples are in the testing cell below."
   ],
   "cell_type": "markdown",
   "metadata": {}
  },
  {
   "cell_type": "code",
   "execution_count": 30,
   "metadata": {},
   "outputs": [],
   "source": [
    "def change(price, paid):\n",
    "    coins = { 200: \"$2\", 100: \"$1\", 50: \"50c\", 20: \"20c\", 10: \"10c\", 5: \"5c\" }\n",
    "    change = []\n",
    "    difference = paid - price\n",
    "    for coin in coins:\n",
    "        number = difference // coin\n",
    "        difference -= number * coin\n",
    "        change += [coins[coin]]*number\n",
    "    return change"
   ]
  },
  {
   "source": [
    "Use this cell to test your function."
   ],
   "cell_type": "markdown",
   "metadata": {}
  },
  {
   "cell_type": "code",
   "execution_count": 31,
   "metadata": {},
   "outputs": [],
   "source": [
    "assert change(400, 400) == []\n",
    "assert change(250, 300) == [\"50c\"]\n",
    "assert change(160, 200) == [\"20c\", \"20c\"]\n",
    "assert change(415, 1000) == [\"$2\", \"$2\", \"$1\", \"50c\", \"20c\", \"10c\", \"5c\"]"
   ]
  },
  {
   "source": [
    "## Russian Dolls\n",
    "\n",
    "Consider what would happen if you took a string and repeatedly inserted it into itself. For example, the string \"hello\" could be inserted into \"hello\" to give \"helhellolo\". Inserting it again and you could end up with \"helhhelloellolo\". We refer to such strings as nestings.\n",
    "\n",
    "#### Create a nesting\n",
    "\n",
    "Write the function `nest(word, positions)` that creates a nesting. The argument `word` is the initial word and `positions` is a list of positions to do the insertions. For example, inserting \"hello\" into itself at position 3 gives \"helhellolo\" then inserting \"hello\" into that at position 5 gives \"helhehellollolo\".\n",
    "\n",
    "**NOTE**: You can assume the list of positions is valid; i.e. the position will never be a negative number and will always be less than or equal to the length of the string at that point."
   ],
   "cell_type": "markdown",
   "metadata": {}
  },
  {
   "cell_type": "code",
   "execution_count": 32,
   "metadata": {},
   "outputs": [],
   "source": [
    "def nest(word, positions):\n",
    "    result = word\n",
    "    for position in positions:\n",
    "        result = result[:position] + word + result[position:]\n",
    "    return result"
   ]
  },
  {
   "source": [
    "Use this cell to test your function.\n",
    "\n"
   ],
   "cell_type": "markdown",
   "metadata": {}
  },
  {
   "cell_type": "code",
   "execution_count": 33,
   "metadata": {},
   "outputs": [],
   "source": [
    "assert nest(\"hello\", [3]) == \"helhellolo\"\n",
    "assert nest(\"hello\", [3,5]) == \"helhehellollolo\"\n",
    "assert nest(\"hello\", [0]) == \"hellohello\"\n",
    "assert nest(\"COMP1010\", [3, 14, 17, 30]) == \"COMCOMP1010P10COMCOMP1010P1010COMP101010\""
   ]
  },
  {
   "source": [
    "### Dismantle a nesting (harder)\n",
    "\n",
    "Now consider doing this in reverse. Can you start with a nesting like \"hhelloellohello\" and determine a list of positions that could have built it up from \"hello\"?\n",
    "\n",
    "Implement a function that does this called `nest_positions(nesting, word)`. It should take in a possible nesting as well as an initial word, and return a list of positions that would create such a nesting. If there is no way to create the nesting with the given word, the function should return `None`.\n",
    "\n",
    "**NOTE**: For some arguments, there are multiple possible results this function could return. Your function is correct if it returns any one of them."
   ],
   "cell_type": "markdown",
   "metadata": {}
  },
  {
   "cell_type": "code",
   "execution_count": 49,
   "metadata": {},
   "outputs": [],
   "source": [
    "def nest_positions(nesting, word):\n",
    "    positions = []\n",
    "    while word in nesting:\n",
    "        position = nesting.index(word)\n",
    "        positions.append(position)\n",
    "        nesting = nesting[:position] + nesting[position + len(word):]\n",
    "    if nesting == \"\":\n",
    "        positions = positions[:-1]\n",
    "        positions.reverse()\n",
    "        return positions\n",
    "    else:\n",
    "        return None"
   ]
  },
  {
   "source": [
    "Use this cell to test your function. Notice the `or` in the final test that accounts for the two possible valid outputs."
   ],
   "cell_type": "markdown",
   "metadata": {}
  },
  {
   "cell_type": "code",
   "execution_count": 50,
   "metadata": {},
   "outputs": [],
   "source": [
    "assert nest_positions(\"helhellolo\", \"hello\") == [3]\n",
    "assert nest_positions(\"helhehellollolo\", \"hello\") == [3, 5]\n",
    "assert nest_positions(\"hhellollo\", \"hello\") == None\n",
    "assert nest_positions(\"helhehehelllollolo\", \"hello\") == None\n",
    "assert nest_positions(\"hellohello\", \"hello\") == [0] or nest_positions(\"hellohello\", \"hello\") == [5]"
   ]
  },
  {
   "source": [
    "## Uniqueness\n",
    "\n",
    "Write the function `only_unique(dicts)` that, for a given list of dictionaries, returns only the entries in each dictionary that have keys unique to that dictionary-- i.e. they only appear in that dictionary not any of the other dictionaries in the list. See the testing cell below for some examples."
   ],
   "cell_type": "markdown",
   "metadata": {}
  },
  {
   "cell_type": "code",
   "execution_count": 6,
   "metadata": {},
   "outputs": [],
   "source": [
    "def only_unique(dicts):\n",
    "    keys = {}\n",
    "    results = []\n",
    "    for i in range(len(dicts)):\n",
    "        results.append({})\n",
    "        for key in dicts[i]:\n",
    "            if key in keys:\n",
    "                del results[keys[key]][key]\n",
    "            else:\n",
    "                results[i][key] = dicts[i][key]\n",
    "                keys[key] = i\n",
    "    return results"
   ]
  },
  {
   "source": [
    "Use this cell to test your function."
   ],
   "cell_type": "markdown",
   "metadata": {}
  },
  {
   "cell_type": "code",
   "execution_count": 7,
   "metadata": {},
   "outputs": [],
   "source": [
    "assert only_unique([{\"a\": 0}, {\"b\": 0}, {\"c\": 0}]) == [{\"a\":0}, {\"b\": 0}, {\"c\": 0}]\n",
    "assert only_unique([{\"a\": 0, \"b\": 0}, {\"a\": 0}]) == [{\"b\": 0}, {}]\n",
    "assert only_unique([{\"a\": 1, \"b\": 2}, {\"a\": 4, \"c\": 3}, {\"c\": 5, \"d\": 5, \"e\": 5}]) == [{\"b\": 2}, {}, {\"d\": 5, \"e\": 5}]"
   ]
  },
  {
   "source": [
    "## Pig Latin\n",
    "\n",
    "You can translate an English sentence into *Pig Latin* by moving all the consonants before each word to the end of the word and adding \"ay\". The test cell below has some examples.\n",
    "\n",
    "\n",
    "Write the function `pig_latin(text)` that translates English text into Pig Latin. The function should respect capitalisation-- i.e. if a word starts with an uppercase letter, the translated word should also start with an uppercase letter. Similarly, the function should work with text containing full stops and commas, but doesn't need to consider any other punctuation. You also don't need to consider cases where 'y' is used in a vowel position.\n",
    "\n",
    "**NOTE**: In an exam, there would be partial marks for this question if you were able to partially meet the requirements above."
   ],
   "cell_type": "markdown",
   "metadata": {}
  },
  {
   "cell_type": "code",
   "execution_count": 10,
   "metadata": {},
   "outputs": [],
   "source": [
    "def pig_latin(text):\n",
    "    result = \"\"\n",
    "    for word in text.split():\n",
    "        if word[-1] in '.,':\n",
    "            punctuation = word[-1]\n",
    "            word = word[:-1]\n",
    "        else:\n",
    "            punctuation = \"\"\n",
    "\n",
    "        if word[0].isupper():\n",
    "            capitalise = True\n",
    "        else:\n",
    "            capitalise = False\n",
    "        word = word.lower()\n",
    "        \n",
    "        prefix = \"\"\n",
    "        while word[0] not in 'aeiou':\n",
    "            prefix += word[0]\n",
    "            word = word[1:]\n",
    "\n",
    "        word = word + prefix + \"ay\" + punctuation\n",
    "\n",
    "        if capitalise:\n",
    "            word = word.capitalize()\n",
    "\n",
    "        result += word + \" \"\n",
    "    return result.rstrip()"
   ]
  },
  {
   "source": [
    "Use this cell to test your function."
   ],
   "cell_type": "markdown",
   "metadata": {}
  },
  {
   "cell_type": "code",
   "execution_count": 11,
   "metadata": {},
   "outputs": [],
   "source": [
    "assert pig_latin(\"hello\") == \"ellohay\"\n",
    "assert pig_latin(\"how are you\") == \"owhay areay ouyay\"\n",
    "assert pig_latin(\"Big Bad Wolf\") == \"Igbay Adbay Olfway\"\n",
    "assert pig_latin(\"Rob has snakes\") == \"Obray ashay akessnay\"\n",
    "assert pig_latin(\"Hermits United. We meet up every ten years, swap stories about caves.\") == \"Ermitshay Uniteday. Eway eetmay upay everyay entay earsyay, apsway oriesstay aboutay avescay.\""
   ]
  }
 ]
}