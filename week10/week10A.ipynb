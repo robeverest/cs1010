{
 "metadata": {
  "language_info": {
   "codemirror_mode": {
    "name": "ipython",
    "version": 3
   },
   "file_extension": ".py",
   "mimetype": "text/x-python",
   "name": "python",
   "nbconvert_exporter": "python",
   "pygments_lexer": "ipython3",
   "version": "3.8.5-final"
  },
  "orig_nbformat": 2,
  "kernelspec": {
   "name": "python38564bit16056ce0e98a49208e5744e26803b7c0",
   "display_name": "Python 3.8.5 64-bit"
  }
 },
 "nbformat": 4,
 "nbformat_minor": 2,
 "cells": [
  {
   "source": [
    "# Exam Information\n",
    "\n",
    "See [here](https://webcms3.cse.unsw.edu.au/COMP1010/21T1/resources/56948)"
   ],
   "cell_type": "markdown",
   "metadata": {}
  },
  {
   "source": [
    "# Lab solutions\n",
    "\n",
    "See notebooks."
   ],
   "cell_type": "markdown",
   "metadata": {}
  },
  {
   "source": [
    "# Revision questions"
   ],
   "cell_type": "markdown",
   "metadata": {}
  }
 ]
}