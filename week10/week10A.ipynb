{
 "metadata": {
  "language_info": {
   "codemirror_mode": {
    "name": "ipython",
    "version": 3
   },
   "file_extension": ".py",
   "mimetype": "text/x-python",
   "name": "python",
   "nbconvert_exporter": "python",
   "pygments_lexer": "ipython3",
   "version": "3.8.5-final"
  },
  "orig_nbformat": 2,
  "kernelspec": {
   "name": "python38564bit16056ce0e98a49208e5744e26803b7c0",
   "display_name": "Python 3.8.5 64-bit"
  }
 },
 "nbformat": 4,
 "nbformat_minor": 2,
 "cells": [
  {
   "source": [
    "# Exam Information\n",
    "\n",
    "See [here]()"
   ],
   "cell_type": "markdown",
   "metadata": {}
  },
  {
   "source": [
    "# Lab solutions\n",
    "\n",
    "See notebooks."
   ],
   "cell_type": "markdown",
   "metadata": {}
  },
  {
   "source": [
    "# Revision questions\n",
    "\n",
    "## Python Features\n",
    "\n",
    "* What does 'dictionary changed size during iteration' mean?\n",
    "* Why can't I use a list as a key in a dictionary?\n",
    "* How to use the `display()` function in a notebook?\n",
    "\n",
    "## Compositional problems\n",
    "\n",
    "* How do we use generate an HTML table from a SQL database?\n",
    "* How do we use functions inside a Flask application?\n",
    "* How do we store complicated nested structures inside 'session'?"
   ],
   "cell_type": "markdown",
   "metadata": {}
  }
 ]
}