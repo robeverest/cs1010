{
  "metadata": {
    "language_info": {
      "codemirror_mode": {
        "name": "ipython",
        "version": 3
      },
      "file_extension": ".py",
      "mimetype": "text/x-python",
      "name": "python",
      "nbconvert_exporter": "python",
      "pygments_lexer": "ipython3",
      "version": "3.9.0"
    },
    "orig_nbformat": 2,
    "kernelspec": {
      "name": "python3",
      "display_name": "Python 3.9.0 64-bit",
      "metadata": {
        "interpreter": {
          "hash": "ac2eaa0ea0ebeafcc7822e65e46aa9d4f966f30b695406963e145ea4a91cd4fc"
        }
      }
    }
  },
  "nbformat": 4,
  "nbformat_minor": 2,
  "cells": [
    {
      "source": [
        "### General revision\n",
        "\n",
        "Questions?"
      ],
      "cell_type": "markdown",
      "metadata": {}
    },
    {
      "source": [
        "## Static typing\n",
        "\n",
        "*Statically* typed languages restrict what types of values can be used in particular situations. For example, they may enforce that all elements of a list must be the same type. Importantly, it is possible to check whether a program meets these restrictions without actually running code.\n",
        "\n",
        "More recently, it has become possible to do static type checking in Python via external tools. Doing so can mean that:\n",
        "* Whole classes of bugs can be eliminated.\n",
        "* Fewer tests need to be written.\n",
        "* More information is available to programmer on how code works."
      ],
      "cell_type": "markdown",
      "metadata": {}
    },
    {
      "cell_type": "code",
      "execution_count": 3,
      "metadata": {},
      "outputs": [
        {
          "output_type": "execute_result",
          "data": {
            "text/plain": [
              "str"
            ]
          },
          "metadata": {},
          "execution_count": 3
        }
      ],
      "source": [
        "type(\"hello\")"
      ]
    },
    {
      "source": [
        "MyPy is a popular static type checker in Python. You can install it by running this cell."
      ],
      "cell_type": "markdown",
      "metadata": {}
    },
    {
      "cell_type": "code",
      "execution_count": 4,
      "metadata": {},
      "outputs": [
        {
          "output_type": "stream",
          "name": "stdout",
          "text": [
            "Defaulting to user installation because normal site-packages is not writeable\nRequirement already satisfied: mypy in /usr/local/lib/python3.9/site-packages (0.782)\nRequirement already satisfied: mypy-extensions<0.5.0,>=0.4.3 in /usr/local/lib/python3.9/site-packages (from mypy) (0.4.3)\nRequirement already satisfied: typing-extensions>=3.7.4 in /usr/local/lib/python3.9/site-packages (from mypy) (3.7.4.3)\nRequirement already satisfied: typed-ast<1.5.0,>=1.4.0 in /usr/local/lib/python3.9/site-packages (from mypy) (1.4.1)\n"
          ]
        }
      ],
      "source": [
        "!pip3 install mypy"
      ]
    },
    {
      "source": [
        "Can we do static type checking on our `find(...)` function?\n",
        "\n",
        "See `finding.py`."
      ],
      "cell_type": "markdown",
      "metadata": {}
    },
    {
      "source": [
        "## Random interesting things"
      ],
      "cell_type": "markdown",
      "metadata": {}
    },
    {
      "cell_type": "code",
      "execution_count": null,
      "metadata": {},
      "outputs": [],
      "source": [
        "if cell is alive:\n",
        "    if less than 2 neighbours:\n",
        "        cell dies\n",
        "    elif 2 to 3 neighbours:\n",
        "        cell lives\n",
        "    elif more than 3 neighbours:\n",
        "        cell dies\n",
        "elif cell is dead:\n",
        "    if exactly 3 neighbours:\n",
        "        cell is brought to life\n"
      ]
    }
  ]
}