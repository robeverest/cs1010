{
  "metadata": {
    "language_info": {
      "codemirror_mode": {
        "name": "ipython",
        "version": 3
      },
      "file_extension": ".py",
      "mimetype": "text/x-python",
      "name": "python",
      "nbconvert_exporter": "python",
      "pygments_lexer": "ipython3",
      "version": 3
    },
    "orig_nbformat": 2
  },
  "nbformat": 4,
  "nbformat_minor": 2,
  "cells": [
    {
      "source": [
        "### General revision\n",
        "\n",
        "Questions?"
      ],
      "cell_type": "markdown",
      "metadata": {}
    },
    {
      "source": [
        "## Static typing\n",
        "\n",
        "*Statically* typed languages restrict what types of values can be used in particular situations. For example, they may enforce that all elements of a list must be the same type. Importantly, it is possible to check whether a program meets these restrictions without actually running code.\n",
        "\n",
        "More recently, it has become possible to do static type checking in Python via external tools. Doing so can mean that:\n",
        "* Whole classes of bugs can be eliminated.\n",
        "* Fewer tests need to be written.\n",
        "* More information is available to programmer on how code works."
      ],
      "cell_type": "markdown",
      "metadata": {}
    },
    {
      "source": [
        "MyPy is a popular static type checker in Python. You can install it by running this cell."
      ],
      "cell_type": "markdown",
      "metadata": {}
    },
    {
      "cell_type": "code",
      "execution_count": null,
      "metadata": {},
      "outputs": [],
      "source": [
        "!pip3 install mypy"
      ]
    },
    {
      "source": [
        "Can we do static type checking on our `find(...)` function?\n",
        "\n",
        "See `finding.py`."
      ],
      "cell_type": "markdown",
      "metadata": {}
    },
    {
      "source": [
        "## Random interesting things"
      ],
      "cell_type": "markdown",
      "metadata": {}
    }
  ]
}