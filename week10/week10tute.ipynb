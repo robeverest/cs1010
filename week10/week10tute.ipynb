{
 "metadata": {
  "language_info": {
   "codemirror_mode": {
    "name": "ipython",
    "version": 3
   },
   "file_extension": ".py",
   "mimetype": "text/x-python",
   "name": "python",
   "nbconvert_exporter": "python",
   "pygments_lexer": "ipython3",
   "version": 3
  },
  "orig_nbformat": 2
 },
 "nbformat": 4,
 "nbformat_minor": 2,
 "cells": [
  {
   "source": [
    "# Week 10 Tutorial"
   ],
   "cell_type": "markdown",
   "metadata": {}
  },
  {
   "source": [
    "## Big Kahoot\n",
    "\n",
    "Your tutor will run through a Kahoot with you to test how well you remember certain concepts from the course.\n",
    "\n",
    "The Kahoot will be posted here after week 10."
   ],
   "cell_type": "markdown",
   "metadata": {}
  },
  {
   "source": [
    "## Functional Programming\n",
    "\n",
    "The prefix *sum* of a list `[x1, x2, x3, ...]` is the list `[x1, x1 + x2, x1 + x2 + x3, ...]`.\n",
    "\n",
    "Write the function `prefix_sum(numbers)`:"
   ],
   "cell_type": "markdown",
   "metadata": {}
  },
  {
   "cell_type": "code",
   "execution_count": null,
   "metadata": {},
   "outputs": [],
   "source": []
  },
  {
   "source": [
    "A *scan* is a prefix sum generalised to any operation, not just addition. For example, a scan with multiplication of `[x1, x2, x3, ...]` would be `[x1, x1 * x2, x1 * x2 * x3, ...]`.\n",
    "\n",
    "Write the function `scan(function, values)` that returns the scan with `function` over the list `values`."
   ],
   "cell_type": "markdown",
   "metadata": {}
  },
  {
   "cell_type": "code",
   "execution_count": null,
   "metadata": {},
   "outputs": [],
   "source": []
  },
  {
   "source": [
    "## Revision\n",
    "\n",
    "With any time remaining, go over any questions from previous tutorials you may have missed or are still unsure of."
   ],
   "cell_type": "markdown",
   "metadata": {}
  }
 ]
}