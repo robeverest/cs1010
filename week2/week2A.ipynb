{
  "nbformat": 4,
  "nbformat_minor": 0,
  "metadata": {
    "colab": {
      "name": "week1A.ipynb",
      "provenance": [],
      "collapsed_sections": []
    },
    "kernelspec": {
      "name": "python_defaultSpec_1600250669450",
      "display_name": "Python 3.8.5 64-bit",
      "language": "python"
    }
  },
  "cells": [
    {
      "cell_type": "markdown",
      "metadata": {
        "id": "MhsZo7EJr0ze",
        "colab_type": "text"
      },
      "source": [
        "What is the total number of characters Trump has ever tweeted?"
      ]
    },
    {
      "cell_type": "code",
      "metadata": {
        "tags": [],
        "id": "hgGHAb4zr0zf",
        "colab_type": "code",
        "colab": {
          "base_uri": "https://localhost:8080/",
          "height": 52
        },
        "outputId": "467b91f2-0cb2-41a6-f1d7-ecef44ceb8be"
      },
      "source": [
        "count_tweet_characters = 0\n",
        "\n",
        "for tweet in trump_tweets:\n",
        "    count_tweet_characters = count_tweet_characters + len(tweet)\n",
        "\n",
        "count_tweet_characters"
      ],
      "execution_count": 122,
      "outputs": [
        {
          "output_type": "stream",
          "text": [
            "hello\n"
          ],
          "name": "stdout"
        },
        {
          "output_type": "execute_result",
          "data": {
            "text/plain": [
              "4124783"
            ]
          },
          "metadata": {
            "tags": []
          },
          "execution_count": 122
        }
      ]
    },
    {
      "cell_type": "markdown",
      "metadata": {
        "id": "2Ynb9SJ6r0zj",
        "colab_type": "text"
      },
      "source": [
        "# Loops\n",
        "\n",
        "Loops allow us to execute code repeatedly. The most common form of loop in Python is the `for ... in ...` loop which lets you execute some code for every element inside a data structure.\n",
        "\n",
        "**Important info**:\n",
        "\n",
        "* The *body* of the loop needs to be *indented* so that Python knows what is in the loop and what isn't.\n",
        "* Don't forget the colon at the end of the first line!"
      ]
    },
    {
      "cell_type": "markdown",
      "metadata": {
        "id": "_flQZOQ7r0zj",
        "colab_type": "text"
      },
      "source": [
        "What is the distribution of the length of Trump's tweets?"
      ]
    },
    {
      "cell_type": "code",
      "metadata": {
        "id": "GbjQPULOr0zj",
        "colab_type": "code",
        "colab": {}
      },
      "source": [
        ""
      ],
      "execution_count": null,
      "outputs": []
    },
    {
      "cell_type": "markdown",
      "metadata": {
        "id": "pdFqXaJar0zm",
        "colab_type": "text"
      },
      "source": [
        "How many tweets end in 2 or more full stops?"
      ]
    },
    {
      "cell_type": "code",
      "metadata": {
        "id": "dQK-uqFZr0zm",
        "colab_type": "code",
        "colab": {}
      },
      "source": [
        ""
      ],
      "execution_count": null,
      "outputs": []
    },
    {
      "cell_type": "markdown",
      "metadata": {
        "id": "yGEnfgUBr0zo",
        "colab_type": "text"
      },
      "source": [
        "# Conditionals"
      ]
    },
    {
      "cell_type": "markdown",
      "metadata": {
        "id": "rLt-vMSbr0zo",
        "colab_type": "text"
      },
      "source": [
        "Python allows us to execute code *conditionally*.\n",
        "\n",
        "This is done with `if ...:`\n",
        "\n",
        "**Important info**:\n",
        "\n",
        "* Like with `for` the body of the `if` must be indented.\n",
        "* Any boolean value can be used after `if`."
      ]
    },
    {
      "cell_type": "markdown",
      "metadata": {
        "id": "aRDU0KO6r0zq",
        "colab_type": "text"
      },
      "source": [
        "What emoji does donald trump use and how often?"
      ]
    },
    {
      "cell_type": "code",
      "metadata": {
        "id": "SpeUrlu8r0zq",
        "colab_type": "code",
        "colab": {}
      },
      "source": [
        ""
      ],
      "execution_count": null,
      "outputs": []
    }
  ]
}