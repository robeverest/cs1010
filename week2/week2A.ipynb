{
  "nbformat": 4,
  "nbformat_minor": 0,
  "metadata": {
    "colab": {
      "name": "week2A.ipynb",
      "provenance": [],
      "collapsed_sections": []
    },
    "kernelspec": {
      "name": "python3",
      "display_name": "Python 3.9.0 64-bit",
      "metadata": {
        "interpreter": {
          "hash": "ac2eaa0ea0ebeafcc7822e65e46aa9d4f966f30b695406963e145ea4a91cd4fc"
        }
      }
    }
  },
  "cells": [
    {
      "cell_type": "markdown",
      "metadata": {
        "id": "7EivmaVAmu-b"
      },
      "source": [
        "# Survey Results\n",
        "\n",
        "Can't share the link with you unfortunately..."
      ]
    },
    {
      "cell_type": "markdown",
      "metadata": {
        "id": "qYNaMqZLmu-g"
      },
      "source": [
        "# Some extra problems"
      ]
    },
    {
      "cell_type": "markdown",
      "metadata": {
        "id": "bHZtEY4Emu-h"
      },
      "source": [
        "### Right Justify\n",
        "\n",
        "Given this string:"
      ]
    },
    {
      "cell_type": "code",
      "metadata": {
        "id": "irFlc80zmu-h"
      },
      "source": [
        "example_string = \"Hello, I'm Rob\""
      ],
      "execution_count": 2,
      "outputs": []
    },
    {
      "cell_type": "markdown",
      "metadata": {
        "id": "yqsKKquymu-i"
      },
      "source": [
        "Create a new string that adds enough space to the front of it such that it becomes 80 characters long?"
      ]
    },
    {
      "cell_type": "code",
      "metadata": {
        "id": "Rou1KJJamu-i",
        "outputId": "0029f8a5-fb3d-4f3e-c674-87545759f822",
        "colab": {
          "base_uri": "https://localhost:8080/",
          "height": 36
        }
      },
      "source": [
        "space_added = \" \"*(80 - len(example_string))\n",
        "space_added + example_string"
      ],
      "execution_count": 4,
      "outputs": [
        {
          "output_type": "execute_result",
          "data": {
            "application/vnd.google.colaboratory.intrinsic+json": {
              "type": "string"
            },
            "text/plain": [
              "\"                                                                  Hello, I'm Rob\""
            ]
          },
          "metadata": {
            "tags": []
          },
          "execution_count": 4
        }
      ]
    },
    {
      "cell_type": "code",
      "metadata": {
        "id": "eK6K0x0dtowX",
        "outputId": "4f2b95e0-df09-48f4-ed62-1a82e1fc8907",
        "colab": {
          "base_uri": "https://localhost:8080/",
          "height": 36
        }
      },
      "source": [
        "\" \"*(80 - len(example_string)) + example_string"
      ],
      "execution_count": 5,
      "outputs": [
        {
          "output_type": "execute_result",
          "data": {
            "application/vnd.google.colaboratory.intrinsic+json": {
              "type": "string"
            },
            "text/plain": [
              "\"                                                                  Hello, I'm Rob\""
            ]
          },
          "metadata": {
            "tags": []
          },
          "execution_count": 5
        }
      ]
    },
    {
      "cell_type": "code",
      "metadata": {
        "id": "CR61WJT6tvJ7",
        "outputId": "a1240e60-9494-47e6-9a8a-6896abe09012",
        "colab": {
          "base_uri": "https://localhost:8080/",
          "height": 71
        }
      },
      "source": [
        "amount_space_added = 80 - len(example_string)\n",
        "print(amount_space_added)\n",
        "space_added = \" \"*amount_space_added\n",
        "print(space_added)\n",
        "space_added + example_string"
      ],
      "execution_count": 8,
      "outputs": [
        {
          "output_type": "stream",
          "text": [
            "66\n",
            "                                                                  \n"
          ],
          "name": "stdout"
        },
        {
          "output_type": "execute_result",
          "data": {
            "application/vnd.google.colaboratory.intrinsic+json": {
              "type": "string"
            },
            "text/plain": [
              "\"                                                                  Hello, I'm Rob\""
            ]
          },
          "metadata": {
            "tags": []
          },
          "execution_count": 8
        }
      ]
    },
    {
      "cell_type": "markdown",
      "metadata": {
        "id": "ijl5kM0rmu-j"
      },
      "source": [
        "Write a function that does this for any given string?"
      ]
    },
    {
      "cell_type": "code",
      "metadata": {
        "id": "AbByUAaFmu-k"
      },
      "source": [
        "def right_justify(text):\n",
        "    return \" \"*(80 - len(text)) + text"
      ],
      "execution_count": 9,
      "outputs": []
    },
    {
      "cell_type": "code",
      "metadata": {
        "id": "BVPPNl56uzBH",
        "outputId": "9cd2030e-d9ef-4ebc-ac0d-0063d3fbec3c",
        "colab": {
          "base_uri": "https://localhost:8080/",
          "height": 36
        }
      },
      "source": [
        "right_justify(\"Goodbye, I'm still Rob\")"
      ],
      "execution_count": 10,
      "outputs": [
        {
          "output_type": "execute_result",
          "data": {
            "application/vnd.google.colaboratory.intrinsic+json": {
              "type": "string"
            },
            "text/plain": [
              "\"                                                          Goodbye, I'm still Rob\""
            ]
          },
          "metadata": {
            "tags": []
          },
          "execution_count": 10
        }
      ]
    },
    {
      "cell_type": "code",
      "metadata": {
        "id": "91btmtveu7FL",
        "outputId": "2cfbf455-1ec0-4f4d-b0ce-adb56669dbfa",
        "colab": {
          "base_uri": "https://localhost:8080/",
          "height": 36
        }
      },
      "source": [
        "right_justify(\"This is COMP1010!\")"
      ],
      "execution_count": 11,
      "outputs": [
        {
          "output_type": "execute_result",
          "data": {
            "application/vnd.google.colaboratory.intrinsic+json": {
              "type": "string"
            },
            "text/plain": [
              "'                                                               This is COMP1010!'"
            ]
          },
          "metadata": {
            "tags": []
          },
          "execution_count": 11
        }
      ]
    },
    {
      "cell_type": "code",
      "metadata": {
        "id": "gPg49QKavAym",
        "outputId": "ea72893a-e933-4719-a327-5cd4730418ff",
        "colab": {
          "base_uri": "https://localhost:8080/",
          "height": 36
        }
      },
      "source": [
        "right_justify(right_justify(\"This is COMP1010!\"))"
      ],
      "execution_count": 12,
      "outputs": [
        {
          "output_type": "execute_result",
          "data": {
            "application/vnd.google.colaboratory.intrinsic+json": {
              "type": "string"
            },
            "text/plain": [
              "'                                                               This is COMP1010!'"
            ]
          },
          "metadata": {
            "tags": []
          },
          "execution_count": 12
        }
      ]
    },
    {
      "cell_type": "markdown",
      "metadata": {
        "id": "x5u8Tfsdmu-k"
      },
      "source": [
        "### Obfuscation\n",
        "\n",
        "Solve the problem described in this text.\n",
        "\n",
        "> Oh no, somaona hes dona somathing tarribla to my writing. Thay'va sweppad eround tha lattar 'e' end tha lattar 'a'"
      ]
    },
    {
      "cell_type": "code",
      "metadata": {
        "id": "a7DkDE7Cmu-k",
        "outputId": "a44af7ea-c3f6-4a77-a49e-6ac9dcfca69a",
        "colab": {
          "base_uri": "https://localhost:8080/",
          "height": 36
        }
      },
      "source": [
        "\"Hello\".replace('e', 'a')"
      ],
      "execution_count": 13,
      "outputs": [
        {
          "output_type": "execute_result",
          "data": {
            "application/vnd.google.colaboratory.intrinsic+json": {
              "type": "string"
            },
            "text/plain": [
              "'Hallo'"
            ]
          },
          "metadata": {
            "tags": []
          },
          "execution_count": 13
        }
      ]
    },
    {
      "cell_type": "code",
      "metadata": {
        "id": "i5TC-QhZvfE6",
        "outputId": "e82d24a1-23b5-43bc-fccb-38838d883dfc",
        "colab": {
          "base_uri": "https://localhost:8080/",
          "height": 36
        }
      },
      "source": [
        "obfuscated_text = \"Oh no, somaona hes dona somathing tarribla to my writing. Thay'va sweppad eround tha lattar 'e' end tha lattar 'a'\"\n",
        "obfuscated_text.replace('a', '$').replace('e', 'a').replace('$', 'e')"
      ],
      "execution_count": 17,
      "outputs": [
        {
          "output_type": "execute_result",
          "data": {
            "application/vnd.google.colaboratory.intrinsic+json": {
              "type": "string"
            },
            "text/plain": [
              "\"Oh no, someone has done something terrible to my writing. They've swapped around the letter 'a' and the letter 'e'\""
            ]
          },
          "metadata": {
            "tags": []
          },
          "execution_count": 17
        }
      ]
    },
    {
      "cell_type": "markdown",
      "metadata": {
        "id": "FW_EK5sVmu-k"
      },
      "source": [
        "# Musk tweets\n",
        "\n",
        "This code cell creates a list from some of Elon Musk's tweets. \n",
        "\n",
        "*You're not expected to completely understand this code yet. It's only here to give us interesting data*."
      ]
    },
    {
      "cell_type": "code",
      "metadata": {
        "id": "OtYhu15Imu-m"
      },
      "source": [
        "import pandas\n",
        "\n",
        "raw_tweets = pandas.read_csv('https://raw.githubusercontent.com/robeverest/cs1010/master/data/elonmusk.csv')\n",
        "elon_tweets = list(raw_tweets.tweet)"
      ],
      "execution_count": 1,
      "outputs": []
    },
    {
      "cell_type": "markdown",
      "metadata": {
        "id": "LSPdibwumu-m"
      },
      "source": [
        "How many tweets are in this data set?"
      ]
    },
    {
      "cell_type": "code",
      "metadata": {
        "id": "XoFEf60Dmu-m",
        "outputId": "d80780b5-29b3-4a55-9d52-3cc7494a4ecd",
        "colab": {
          "base_uri": "https://localhost:8080/"
        }
      },
      "source": [
        "len(elon_tweets)"
      ],
      "execution_count": 20,
      "outputs": [
        {
          "output_type": "execute_result",
          "data": {
            "text/plain": [
              "9167"
            ]
          },
          "metadata": {
            "tags": []
          },
          "execution_count": 20
        }
      ]
    },
    {
      "cell_type": "markdown",
      "metadata": {
        "id": "lNRlmQfymu-m"
      },
      "source": [
        "What tweet is at index 3729?"
      ]
    },
    {
      "cell_type": "code",
      "metadata": {
        "id": "pcfEbPiCmu-n",
        "outputId": "636aa876-430b-461c-b53e-934e726dda26",
        "colab": {
          "base_uri": "https://localhost:8080/",
          "height": 36
        }
      },
      "source": [
        "elon_tweets[3729]"
      ],
      "execution_count": 25,
      "outputs": [
        {
          "output_type": "execute_result",
          "data": {
            "application/vnd.google.colaboratory.intrinsic+json": {
              "type": "string"
            },
            "text/plain": [
              "'Maybe this goat is available'"
            ]
          },
          "metadata": {
            "tags": []
          },
          "execution_count": 25
        }
      ]
    },
    {
      "cell_type": "markdown",
      "metadata": {
        "id": "H367KUEnmu-n"
      },
      "source": [
        "What is the total number of characters tweeted in this data set?"
      ]
    },
    {
      "cell_type": "code",
      "metadata": {
        "tags": [],
        "id": "7O6givwEmu-n",
        "outputId": "9579dc6f-9ad0-42bf-aaf4-7c7109d875f1",
        "colab": {
          "base_uri": "https://localhost:8080/"
        }
      },
      "source": [
        "course_staff = ['Rob', 'Kai', 'Sim']\n",
        "\n",
        "# len(course_staff[0]) + len(course_staff[1]) + len(course_staff[2])\n",
        "\n",
        "total_length = 0\n",
        "for staff_member in course_staff:\n",
        "    total_length = total_length + len(staff_member)\n",
        "\n",
        "total_length\n",
        "\n",
        "# total_length = 0\n",
        "# total_length = total_length + len(course_staff[0])\n",
        "# total_length = total_length + len(course_staff[1])\n",
        "# total_length = total_length + len(course_staff[2])\n",
        "# total_length"
      ],
      "execution_count": 29,
      "outputs": [
        {
          "output_type": "execute_result",
          "data": {
            "text/plain": [
              "9"
            ]
          },
          "metadata": {
            "tags": []
          },
          "execution_count": 29
        }
      ]
    },
    {
      "cell_type": "code",
      "metadata": {
        "id": "I-17e3SC0OpP",
        "outputId": "8408ac9c-df9a-46d2-fa55-6fe269427d24",
        "colab": {
          "base_uri": "https://localhost:8080/"
        }
      },
      "source": [
        "total_length = 0\n",
        "for tweet in elon_tweets:\n",
        "    total_length = total_length + len(tweet)\n",
        "total_length"
      ],
      "execution_count": 3,
      "outputs": [
        {
          "output_type": "execute_result",
          "data": {
            "text/plain": [
              "628234"
            ]
          },
          "metadata": {
            "tags": []
          },
          "execution_count": 3
        }
      ]
    },
    {
      "cell_type": "code",
      "metadata": {
        "id": "wlCooWBn0ozu",
        "outputId": "432592ea-11a2-42ca-c69c-0fc132075591",
        "colab": {
          "base_uri": "https://localhost:8080/",
          "height": 130
        }
      },
      "source": [
        "all_tweets = \"\"\n",
        "for tweet in elon_tweets:\n",
        "    all_tweets = all_tweets + tweet\n",
        "len(all_tweets)"
      ],
      "execution_count": 6,
      "outputs": [
        {
          "output_type": "error",
          "ename": "IndentationError",
          "evalue": "ignored",
          "traceback": [
            "\u001b[0;36m  File \u001b[0;32m\"<ipython-input-6-60342b722cba>\"\u001b[0;36m, line \u001b[0;32m3\u001b[0m\n\u001b[0;31m    all_tweets = all_tweets + tweet\u001b[0m\n\u001b[0m             ^\u001b[0m\n\u001b[0;31mIndentationError\u001b[0m\u001b[0;31m:\u001b[0m expected an indented block\n"
          ]
        }
      ]
    },
    {
      "cell_type": "markdown",
      "metadata": {
        "id": "2Ynb9SJ6r0zj"
      },
      "source": [
        "# Loops\n",
        "\n",
        "Loops allow us to execute code repeatedly. The most common form of loop in Python is the `for ... in ...` loop which lets you execute some code for every element inside a data structure.\n",
        "\n",
        "**Important info**:\n",
        "\n",
        "* The *body* of the loop needs to be *indented* so that Python knows what is in the loop and what isn't.\n",
        "* Don't forget the colon at the end of the first line!"
      ]
    },
    {
      "cell_type": "markdown",
      "metadata": {
        "id": "pdFqXaJar0zm"
      },
      "source": [
        "What is the average length of his tweets?"
      ]
    },
    {
      "cell_type": "code",
      "metadata": {
        "id": "dQK-uqFZr0zm",
        "colab": {
          "base_uri": "https://localhost:8080/"
        },
        "outputId": "4ec706e2-eec5-4a24-a9b9-c4406aa2d530"
      },
      "source": [
        "total_length = 0\n",
        "for tweet in elon_tweets:\n",
        "    total_length = total_length + len(tweet)\n",
        "total_length/len(elon_tweets)"
      ],
      "execution_count": 8,
      "outputs": [
        {
          "output_type": "execute_result",
          "data": {
            "text/plain": [
              "68.5321261045053"
            ]
          },
          "metadata": {
            "tags": []
          },
          "execution_count": 8
        }
      ]
    },
    {
      "cell_type": "markdown",
      "metadata": {
        "id": "4M7kYSn9mu-o"
      },
      "source": [
        "Averages can be misleading, can we get a distribution?"
      ]
    },
    {
      "cell_type": "code",
      "metadata": {
        "tags": [],
        "id": "mt1Fbo8Dmu-o"
      },
      "source": [
        "tweet_lengths = [0]*281\n",
        "# tweet_lengths = [0,0,0,0,0,0,0,0,...]\n",
        "for tweet in elon_tweets:\n",
        "    length = len(tweet)\n",
        "    tweet_lengths[length] = tweet_lengths[length] + 1\n",
        "\n",
        "tweet_lengths"
      ],
      "execution_count": null,
      "outputs": []
    },
    {
      "cell_type": "markdown",
      "metadata": {
        "id": "KwlOuoqEmu-p"
      },
      "source": [
        "Can we plot the distribution?"
      ]
    },
    {
      "cell_type": "code",
      "metadata": {
        "id": "B_2WPTFAmu-p",
        "outputId": "d680ee93-f30e-43a1-cf63-9a4e304867bb",
        "colab": {
          "base_uri": "https://localhost:8080/",
          "height": 542
        }
      },
      "source": [
        "import plotly.express\n",
        "\n",
        "plotly.express.bar(y=tweet_lengths)"
      ],
      "execution_count": 11,
      "outputs": [
        {
          "output_type": "display_data",
          "data": {
            "text/html": [
              "<html>\n",
              "<head><meta charset=\"utf-8\" /></head>\n",
              "<body>\n",
              "    <div>\n",
              "            <script src=\"https://cdnjs.cloudflare.com/ajax/libs/mathjax/2.7.5/MathJax.js?config=TeX-AMS-MML_SVG\"></script><script type=\"text/javascript\">if (window.MathJax) {MathJax.Hub.Config({SVG: {font: \"STIX-Web\"}});}</script>\n",
              "                <script type=\"text/javascript\">window.PlotlyConfig = {MathJaxConfig: 'local'};</script>\n",
              "        <script src=\"https://cdn.plot.ly/plotly-latest.min.js\"></script>    \n",
              "            <div id=\"b81e7864-4f58-477c-93b4-ffe1f1d75ae5\" class=\"plotly-graph-div\" style=\"height:525px; width:100%;\"></div>\n",
              "            <script type=\"text/javascript\">\n",
              "                \n",
              "                    window.PLOTLYENV=window.PLOTLYENV || {};\n",
              "                    \n",
              "                if (document.getElementById(\"b81e7864-4f58-477c-93b4-ffe1f1d75ae5\")) {\n",
              "                    Plotly.newPlot(\n",
              "                        'b81e7864-4f58-477c-93b4-ffe1f1d75ae5',\n",
              "                        [{\"alignmentgroup\": \"True\", \"hoverlabel\": {\"namelength\": 0}, \"hovertemplate\": \"y=%{y}\", \"legendgroup\": \"\", \"marker\": {\"color\": \"#636efa\"}, \"name\": \"\", \"offsetgroup\": \"\", \"orientation\": \"v\", \"showlegend\": false, \"textposition\": \"auto\", \"type\": \"bar\", \"xaxis\": \"x\", \"y\": [0, 102, 155, 292, 223, 72, 79, 171, 102, 140, 157, 158, 93, 112, 91, 126, 115, 104, 104, 112, 96, 90, 82, 93, 102, 80, 88, 70, 83, 88, 78, 81, 82, 79, 83, 93, 67, 61, 70, 68, 55, 62, 31, 49, 50, 48, 41, 46, 45, 42, 58, 50, 52, 57, 38, 48, 44, 34, 47, 47, 44, 37, 50, 40, 51, 48, 56, 44, 55, 35, 59, 41, 35, 48, 50, 42, 41, 31, 34, 35, 30, 34, 29, 36, 29, 35, 33, 45, 24, 33, 27, 35, 37, 41, 35, 34, 38, 40, 35, 35, 31, 24, 34, 31, 27, 43, 38, 30, 34, 26, 27, 39, 38, 31, 33, 29, 37, 41, 28, 33, 31, 32, 25, 21, 24, 20, 34, 28, 30, 43, 34, 28, 35, 31, 34, 31, 40, 52, 72, 60, 79, 12, 13, 13, 10, 22, 19, 17, 21, 12, 10, 13, 9, 10, 11, 8, 10, 5, 8, 4, 19, 16, 10, 11, 10, 14, 10, 6, 10, 12, 14, 16, 11, 12, 16, 15, 5, 5, 7, 7, 8, 9, 16, 5, 5, 9, 9, 6, 6, 6, 10, 6, 12, 8, 8, 15, 9, 6, 8, 5, 8, 10, 11, 9, 11, 7, 12, 8, 11, 4, 10, 5, 4, 5, 4, 3, 4, 7, 9, 3, 4, 5, 4, 6, 6, 2, 3, 5, 7, 4, 6, 5, 2, 2, 6, 2, 4, 6, 4, 10, 2, 4, 2, 4, 5, 5, 6, 5, 6, 5, 3, 5, 6, 2, 4, 6, 2, 6, 7, 4, 8, 5, 4, 2, 4, 2, 2, 1, 4, 5, 3, 9, 4, 5, 7, 10, 8, 7, 13, 16, 17], \"yaxis\": \"y\"}],\n",
              "                        {\"barmode\": \"relative\", \"legend\": {\"tracegroupgap\": 0}, \"margin\": {\"t\": 60}, \"template\": {\"data\": {\"bar\": [{\"error_x\": {\"color\": \"#2a3f5f\"}, \"error_y\": {\"color\": \"#2a3f5f\"}, \"marker\": {\"line\": {\"color\": \"#E5ECF6\", \"width\": 0.5}}, \"type\": \"bar\"}], \"barpolar\": [{\"marker\": {\"line\": {\"color\": \"#E5ECF6\", \"width\": 0.5}}, \"type\": \"barpolar\"}], \"carpet\": [{\"aaxis\": {\"endlinecolor\": \"#2a3f5f\", \"gridcolor\": \"white\", \"linecolor\": \"white\", \"minorgridcolor\": \"white\", \"startlinecolor\": \"#2a3f5f\"}, \"baxis\": {\"endlinecolor\": \"#2a3f5f\", \"gridcolor\": \"white\", \"linecolor\": \"white\", \"minorgridcolor\": \"white\", \"startlinecolor\": \"#2a3f5f\"}, \"type\": \"carpet\"}], \"choropleth\": [{\"colorbar\": {\"outlinewidth\": 0, \"ticks\": \"\"}, \"type\": \"choropleth\"}], \"contour\": [{\"colorbar\": {\"outlinewidth\": 0, \"ticks\": \"\"}, \"colorscale\": [[0.0, \"#0d0887\"], [0.1111111111111111, \"#46039f\"], [0.2222222222222222, \"#7201a8\"], [0.3333333333333333, \"#9c179e\"], [0.4444444444444444, \"#bd3786\"], [0.5555555555555556, \"#d8576b\"], [0.6666666666666666, \"#ed7953\"], [0.7777777777777778, \"#fb9f3a\"], [0.8888888888888888, \"#fdca26\"], [1.0, \"#f0f921\"]], \"type\": \"contour\"}], \"contourcarpet\": [{\"colorbar\": {\"outlinewidth\": 0, \"ticks\": \"\"}, \"type\": \"contourcarpet\"}], \"heatmap\": [{\"colorbar\": {\"outlinewidth\": 0, \"ticks\": \"\"}, \"colorscale\": [[0.0, \"#0d0887\"], [0.1111111111111111, \"#46039f\"], [0.2222222222222222, \"#7201a8\"], [0.3333333333333333, \"#9c179e\"], [0.4444444444444444, \"#bd3786\"], [0.5555555555555556, \"#d8576b\"], [0.6666666666666666, \"#ed7953\"], [0.7777777777777778, \"#fb9f3a\"], [0.8888888888888888, \"#fdca26\"], [1.0, \"#f0f921\"]], \"type\": \"heatmap\"}], \"heatmapgl\": [{\"colorbar\": {\"outlinewidth\": 0, \"ticks\": \"\"}, \"colorscale\": [[0.0, \"#0d0887\"], [0.1111111111111111, \"#46039f\"], [0.2222222222222222, \"#7201a8\"], [0.3333333333333333, \"#9c179e\"], [0.4444444444444444, \"#bd3786\"], [0.5555555555555556, \"#d8576b\"], [0.6666666666666666, \"#ed7953\"], [0.7777777777777778, \"#fb9f3a\"], [0.8888888888888888, \"#fdca26\"], [1.0, \"#f0f921\"]], \"type\": \"heatmapgl\"}], \"histogram\": [{\"marker\": {\"colorbar\": {\"outlinewidth\": 0, \"ticks\": \"\"}}, \"type\": \"histogram\"}], \"histogram2d\": [{\"colorbar\": {\"outlinewidth\": 0, \"ticks\": \"\"}, \"colorscale\": [[0.0, \"#0d0887\"], [0.1111111111111111, \"#46039f\"], [0.2222222222222222, \"#7201a8\"], [0.3333333333333333, \"#9c179e\"], [0.4444444444444444, \"#bd3786\"], [0.5555555555555556, \"#d8576b\"], [0.6666666666666666, \"#ed7953\"], [0.7777777777777778, \"#fb9f3a\"], [0.8888888888888888, \"#fdca26\"], [1.0, \"#f0f921\"]], \"type\": \"histogram2d\"}], \"histogram2dcontour\": [{\"colorbar\": {\"outlinewidth\": 0, \"ticks\": \"\"}, \"colorscale\": [[0.0, \"#0d0887\"], [0.1111111111111111, \"#46039f\"], [0.2222222222222222, \"#7201a8\"], [0.3333333333333333, \"#9c179e\"], [0.4444444444444444, \"#bd3786\"], [0.5555555555555556, \"#d8576b\"], [0.6666666666666666, \"#ed7953\"], [0.7777777777777778, \"#fb9f3a\"], [0.8888888888888888, \"#fdca26\"], [1.0, \"#f0f921\"]], \"type\": \"histogram2dcontour\"}], \"mesh3d\": [{\"colorbar\": {\"outlinewidth\": 0, \"ticks\": \"\"}, \"type\": \"mesh3d\"}], \"parcoords\": [{\"line\": {\"colorbar\": {\"outlinewidth\": 0, \"ticks\": \"\"}}, \"type\": \"parcoords\"}], \"pie\": [{\"automargin\": true, \"type\": \"pie\"}], \"scatter\": [{\"marker\": {\"colorbar\": {\"outlinewidth\": 0, \"ticks\": \"\"}}, \"type\": \"scatter\"}], \"scatter3d\": [{\"line\": {\"colorbar\": {\"outlinewidth\": 0, \"ticks\": \"\"}}, \"marker\": {\"colorbar\": {\"outlinewidth\": 0, \"ticks\": \"\"}}, \"type\": \"scatter3d\"}], \"scattercarpet\": [{\"marker\": {\"colorbar\": {\"outlinewidth\": 0, \"ticks\": \"\"}}, \"type\": \"scattercarpet\"}], \"scattergeo\": [{\"marker\": {\"colorbar\": {\"outlinewidth\": 0, \"ticks\": \"\"}}, \"type\": \"scattergeo\"}], \"scattergl\": [{\"marker\": {\"colorbar\": {\"outlinewidth\": 0, \"ticks\": \"\"}}, \"type\": \"scattergl\"}], \"scattermapbox\": [{\"marker\": {\"colorbar\": {\"outlinewidth\": 0, \"ticks\": \"\"}}, \"type\": \"scattermapbox\"}], \"scatterpolar\": [{\"marker\": {\"colorbar\": {\"outlinewidth\": 0, \"ticks\": \"\"}}, \"type\": \"scatterpolar\"}], \"scatterpolargl\": [{\"marker\": {\"colorbar\": {\"outlinewidth\": 0, \"ticks\": \"\"}}, \"type\": \"scatterpolargl\"}], \"scatterternary\": [{\"marker\": {\"colorbar\": {\"outlinewidth\": 0, \"ticks\": \"\"}}, \"type\": \"scatterternary\"}], \"surface\": [{\"colorbar\": {\"outlinewidth\": 0, \"ticks\": \"\"}, \"colorscale\": [[0.0, \"#0d0887\"], [0.1111111111111111, \"#46039f\"], [0.2222222222222222, \"#7201a8\"], [0.3333333333333333, \"#9c179e\"], [0.4444444444444444, \"#bd3786\"], [0.5555555555555556, \"#d8576b\"], [0.6666666666666666, \"#ed7953\"], [0.7777777777777778, \"#fb9f3a\"], [0.8888888888888888, \"#fdca26\"], [1.0, \"#f0f921\"]], \"type\": \"surface\"}], \"table\": [{\"cells\": {\"fill\": {\"color\": \"#EBF0F8\"}, \"line\": {\"color\": \"white\"}}, \"header\": {\"fill\": {\"color\": \"#C8D4E3\"}, \"line\": {\"color\": \"white\"}}, \"type\": \"table\"}]}, \"layout\": {\"annotationdefaults\": {\"arrowcolor\": \"#2a3f5f\", \"arrowhead\": 0, \"arrowwidth\": 1}, \"coloraxis\": {\"colorbar\": {\"outlinewidth\": 0, \"ticks\": \"\"}}, \"colorscale\": {\"diverging\": [[0, \"#8e0152\"], [0.1, \"#c51b7d\"], [0.2, \"#de77ae\"], [0.3, \"#f1b6da\"], [0.4, \"#fde0ef\"], [0.5, \"#f7f7f7\"], [0.6, \"#e6f5d0\"], [0.7, \"#b8e186\"], [0.8, \"#7fbc41\"], [0.9, \"#4d9221\"], [1, \"#276419\"]], \"sequential\": [[0.0, \"#0d0887\"], [0.1111111111111111, \"#46039f\"], [0.2222222222222222, \"#7201a8\"], [0.3333333333333333, \"#9c179e\"], [0.4444444444444444, \"#bd3786\"], [0.5555555555555556, \"#d8576b\"], [0.6666666666666666, \"#ed7953\"], [0.7777777777777778, \"#fb9f3a\"], [0.8888888888888888, \"#fdca26\"], [1.0, \"#f0f921\"]], \"sequentialminus\": [[0.0, \"#0d0887\"], [0.1111111111111111, \"#46039f\"], [0.2222222222222222, \"#7201a8\"], [0.3333333333333333, \"#9c179e\"], [0.4444444444444444, \"#bd3786\"], [0.5555555555555556, \"#d8576b\"], [0.6666666666666666, \"#ed7953\"], [0.7777777777777778, \"#fb9f3a\"], [0.8888888888888888, \"#fdca26\"], [1.0, \"#f0f921\"]]}, \"colorway\": [\"#636efa\", \"#EF553B\", \"#00cc96\", \"#ab63fa\", \"#FFA15A\", \"#19d3f3\", \"#FF6692\", \"#B6E880\", \"#FF97FF\", \"#FECB52\"], \"font\": {\"color\": \"#2a3f5f\"}, \"geo\": {\"bgcolor\": \"white\", \"lakecolor\": \"white\", \"landcolor\": \"#E5ECF6\", \"showlakes\": true, \"showland\": true, \"subunitcolor\": \"white\"}, \"hoverlabel\": {\"align\": \"left\"}, \"hovermode\": \"closest\", \"mapbox\": {\"style\": \"light\"}, \"paper_bgcolor\": \"white\", \"plot_bgcolor\": \"#E5ECF6\", \"polar\": {\"angularaxis\": {\"gridcolor\": \"white\", \"linecolor\": \"white\", \"ticks\": \"\"}, \"bgcolor\": \"#E5ECF6\", \"radialaxis\": {\"gridcolor\": \"white\", \"linecolor\": \"white\", \"ticks\": \"\"}}, \"scene\": {\"xaxis\": {\"backgroundcolor\": \"#E5ECF6\", \"gridcolor\": \"white\", \"gridwidth\": 2, \"linecolor\": \"white\", \"showbackground\": true, \"ticks\": \"\", \"zerolinecolor\": \"white\"}, \"yaxis\": {\"backgroundcolor\": \"#E5ECF6\", \"gridcolor\": \"white\", \"gridwidth\": 2, \"linecolor\": \"white\", \"showbackground\": true, \"ticks\": \"\", \"zerolinecolor\": \"white\"}, \"zaxis\": {\"backgroundcolor\": \"#E5ECF6\", \"gridcolor\": \"white\", \"gridwidth\": 2, \"linecolor\": \"white\", \"showbackground\": true, \"ticks\": \"\", \"zerolinecolor\": \"white\"}}, \"shapedefaults\": {\"line\": {\"color\": \"#2a3f5f\"}}, \"ternary\": {\"aaxis\": {\"gridcolor\": \"white\", \"linecolor\": \"white\", \"ticks\": \"\"}, \"baxis\": {\"gridcolor\": \"white\", \"linecolor\": \"white\", \"ticks\": \"\"}, \"bgcolor\": \"#E5ECF6\", \"caxis\": {\"gridcolor\": \"white\", \"linecolor\": \"white\", \"ticks\": \"\"}}, \"title\": {\"x\": 0.05}, \"xaxis\": {\"automargin\": true, \"gridcolor\": \"white\", \"linecolor\": \"white\", \"ticks\": \"\", \"title\": {\"standoff\": 15}, \"zerolinecolor\": \"white\", \"zerolinewidth\": 2}, \"yaxis\": {\"automargin\": true, \"gridcolor\": \"white\", \"linecolor\": \"white\", \"ticks\": \"\", \"title\": {\"standoff\": 15}, \"zerolinecolor\": \"white\", \"zerolinewidth\": 2}}}, \"xaxis\": {\"anchor\": \"y\", \"domain\": [0.0, 1.0]}, \"yaxis\": {\"anchor\": \"x\", \"domain\": [0.0, 1.0], \"title\": {\"text\": \"y\"}}},\n",
              "                        {\"responsive\": true}\n",
              "                    ).then(function(){\n",
              "                            \n",
              "var gd = document.getElementById('b81e7864-4f58-477c-93b4-ffe1f1d75ae5');\n",
              "var x = new MutationObserver(function (mutations, observer) {{\n",
              "        var display = window.getComputedStyle(gd).display;\n",
              "        if (!display || display === 'none') {{\n",
              "            console.log([gd, 'removed!']);\n",
              "            Plotly.purge(gd);\n",
              "            observer.disconnect();\n",
              "        }}\n",
              "}});\n",
              "\n",
              "// Listen for the removal of the full notebook cells\n",
              "var notebookContainer = gd.closest('#notebook-container');\n",
              "if (notebookContainer) {{\n",
              "    x.observe(notebookContainer, {childList: true});\n",
              "}}\n",
              "\n",
              "// Listen for the clearing of the current output cell\n",
              "var outputEl = gd.closest('.output');\n",
              "if (outputEl) {{\n",
              "    x.observe(outputEl, {childList: true});\n",
              "}}\n",
              "\n",
              "                        })\n",
              "                };\n",
              "                \n",
              "            </script>\n",
              "        </div>\n",
              "</body>\n",
              "</html>"
            ]
          },
          "metadata": {
            "tags": []
          }
        }
      ]
    },
    {
      "cell_type": "markdown",
      "metadata": {
        "id": "_flQZOQ7r0zj"
      },
      "source": [
        "Does Elon say \"Tesla\" or \"SpaceX\" more often?"
      ]
    },
    {
      "cell_type": "code",
      "metadata": {
        "id": "GbjQPULOr0zj",
        "colab": {
          "base_uri": "https://localhost:8080/"
        },
        "tags": [],
        "outputId": "eb85d49f-dc98-4da4-d10d-1d9360e8868a"
      },
      "source": [
        "tesla = 0\n",
        "spacex = 0\n",
        "\n",
        "for tweet in elon_tweets:\n",
        "    tesla = tesla + tweet.count(\"Tesla\")\n",
        "    spacex = spacex + tweet.count(\"SpaceX\")\n",
        "\n",
        "print(tesla)\n",
        "print(spacex)"
      ],
      "execution_count": 12,
      "outputs": [
        {
          "output_type": "stream",
          "text": [
            "872\n",
            "215\n"
          ],
          "name": "stdout"
        }
      ]
    },
    {
      "cell_type": "code",
      "metadata": {
        "id": "JBCwP1_C9yb_",
        "outputId": "dbfbd2b8-6916-4621-ce8f-a850df8b9b50",
        "colab": {
          "base_uri": "https://localhost:8080/"
        }
      },
      "source": [
        "tesla = 0\n",
        "for tweet in elon_tweets:\n",
        "    tesla = tesla + tweet.count(\"Tesla\")\n",
        "\n",
        "spacex = 0\n",
        "for tweet in elon_tweets:\n",
        "    spacex = spacex + tweet.count(\"SpaceX\")\n",
        "\n",
        "print(tesla)\n",
        "print(spacex)"
      ],
      "execution_count": 13,
      "outputs": [
        {
          "output_type": "stream",
          "text": [
            "872\n",
            "215\n"
          ],
          "name": "stdout"
        }
      ]
    },
    {
      "cell_type": "markdown",
      "metadata": {
        "id": "yGEnfgUBr0zo"
      },
      "source": [
        "# Conditionals"
      ]
    },
    {
      "cell_type": "markdown",
      "metadata": {
        "id": "rLt-vMSbr0zo"
      },
      "source": [
        "Python allows us to execute code *conditionally*.\n",
        "\n",
        "This is done with `if ...:`\n",
        "\n",
        "**Important info**:\n",
        "\n",
        "* Like with `for`, the body of the `if` must be indented.\n",
        "* Any boolean value can be used after `if`."
      ]
    },
    {
      "cell_type": "code",
      "metadata": {
        "id": "JAZAsXQA-uS_",
        "outputId": "18642263-ba58-4e50-f869-5c34bef1184d",
        "colab": {
          "base_uri": "https://localhost:8080/"
        }
      },
      "source": [
        "x = 5\n",
        "\n",
        "if x < 5:\n",
        "    print(\"Number too small\")\n",
        "elif x > 5:\n",
        "    print(\"Number is too big\")\n",
        "else:\n",
        "    print(\"Number is just right\")"
      ],
      "execution_count": 20,
      "outputs": [
        {
          "output_type": "stream",
          "text": [
            "Number is just right\n"
          ],
          "name": "stdout"
        }
      ]
    },
    {
      "cell_type": "markdown",
      "metadata": {
        "id": "zSnqnUiemu-q"
      },
      "source": [
        "Can we print all the 3 character tweets?"
      ]
    },
    {
      "cell_type": "code",
      "metadata": {
        "tags": [],
        "id": "x90ploaEmu-q"
      },
      "source": [
        "for tweet in elon_tweets:\n",
        "    if len(tweet) == 3:\n",
        "        print(tweet)"
      ],
      "execution_count": null,
      "outputs": []
    },
    {
      "cell_type": "markdown",
      "metadata": {
        "id": "hGSg49cHmu-q"
      },
      "source": [
        "How many tweets end in at least 2 full stops?"
      ]
    },
    {
      "cell_type": "code",
      "metadata": {
        "id": "oGQ5nSWTmu-q",
        "outputId": "de7b23d7-dce1-4529-c01f-27e18170f988",
        "colab": {
          "base_uri": "https://localhost:8080/"
        }
      },
      "source": [
        "dot_tweets = 0\n",
        "for tweet in elon_tweets:\n",
        "    if tweet.endswith('..'):\n",
        "        dot_tweets = dot_tweets + 1\n",
        "\n",
        "dot_tweets"
      ],
      "execution_count": 22,
      "outputs": [
        {
          "output_type": "execute_result",
          "data": {
            "text/plain": [
              "71"
            ]
          },
          "metadata": {
            "tags": []
          },
          "execution_count": 22
        }
      ]
    },
    {
      "cell_type": "markdown",
      "metadata": {
        "id": "SsJlc8rLmu-r"
      },
      "source": [
        "How many of the 140 character tweets end in 2 or more full stops?"
      ]
    },
    {
      "cell_type": "code",
      "metadata": {
        "id": "iiM9o75Imu-r",
        "outputId": "4bd0e673-e17d-400a-92c0-fbac089e44aa",
        "colab": {
          "base_uri": "https://localhost:8080/"
        }
      },
      "source": [
        "long_dot_tweets = 0\n",
        "for tweet in elon_tweets:\n",
        "    if tweet.endswith('..') and len(tweet) == 140:\n",
        "        print(tweet)\n",
        "        long_dot_tweets = long_dot_tweets + 1\n",
        "long_dot_tweets"
      ],
      "execution_count": 24,
      "outputs": [
        {
          "output_type": "stream",
          "text": [
            "Tillerson at his confirmation hearing: \"I think it’s important that the United States maintain its seat at the table in the conversation ...\n"
          ],
          "name": "stdout"
        },
        {
          "output_type": "execute_result",
          "data": {
            "text/plain": [
              "1"
            ]
          },
          "metadata": {
            "tags": []
          },
          "execution_count": 24
        }
      ]
    },
    {
      "cell_type": "markdown",
      "metadata": {
        "id": "Zuwnuv1hmu-r"
      },
      "source": [
        "In what tweets has Elon said \"goat\"?"
      ]
    },
    {
      "cell_type": "code",
      "metadata": {
        "id": "-bh3j0Tcmu-r"
      },
      "source": [
        ""
      ],
      "execution_count": null,
      "outputs": []
    },
    {
      "cell_type": "markdown",
      "metadata": {
        "id": "lMhrpv4rmu-r"
      },
      "source": [
        "# Complex conditionals\n",
        "\n",
        "In addition to `if`, conditional execution can be achieved with `else` and `elif`.\n",
        "\n",
        "* `elif` lets us add another condition that is checked if the last condition failed\n",
        "* `else` lets us add perform an action if *all* previous conditions fail "
      ]
    },
    {
      "cell_type": "markdown",
      "metadata": {
        "id": "_2IE3kq1mu-s"
      },
      "source": [
        "A simple example:"
      ]
    },
    {
      "cell_type": "code",
      "metadata": {
        "id": "6Zdcsdlnmu-s"
      },
      "source": [
        ""
      ],
      "execution_count": null,
      "outputs": []
    },
    {
      "cell_type": "markdown",
      "metadata": {
        "id": "oP9d9VSUmu-s"
      },
      "source": [
        "Can we solve this problem a different way?\n",
        "\n",
        "> Oh no, somaona hes dona somathing tarribla to my writing. Thay'va sweppad eround tha lattar 'e' end tha lattar 'a'"
      ]
    },
    {
      "cell_type": "code",
      "metadata": {
        "id": "9wQLaRJZmu-s"
      },
      "source": [
        ""
      ],
      "execution_count": null,
      "outputs": []
    }
  ]
}