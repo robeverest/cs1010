{
  "nbformat": 4,
  "nbformat_minor": 0,
  "metadata": {
    "colab": {
      "name": "week2A.ipynb",
      "provenance": [],
      "collapsed_sections": []
    },
    "kernelspec": {
      "name": "python3",
      "display_name": "Python",
      "language": "python"
    }
  },
  "cells": [
    {
      "cell_type": "markdown",
      "metadata": {},
      "source": [
        "# Admin stuff"
      ]
    },
    {
      "cell_type": "markdown",
      "metadata": {},
      "source": [
        "* I'm no longer posting mybinder links as I don't think anyone is using it. Let me know if you are!\n",
        "* You should consider enabling screen sharing on Zoom before your lab this week.\n",
        "* Some interesting statistics from the survey:\n",
        "  * Programming Experience?\n",
        "    * 25/39 of have done no programming before\n",
        "    * 5/39 have done a little bit\n",
        "    * 7/39 have done some but don't consider themselves experienced\n",
        "    * 2/39 are experienced\n",
        "  * 25/39 of you are doing this course as a gen-ed\n",
        "  * Reasons for doing the course? Top 3 first choices.\n",
        "    1. Wanting to be a better programmer for studies/career\n",
        "    2. Having a specific project in mind\n",
        "    3. Programming is fun\n",
        "  * Areas of interest? Top 3\n",
        "    1. Video Games\n",
        "    2. Business\n",
        "    3. Finance"
      ]
    },
    {
      "cell_type": "markdown",
      "metadata": {},
      "source": [
        "# Lab Feedback"
      ]
    },
    {
      "cell_type": "markdown",
      "metadata": {},
      "source": [
        "## Lab updates\n",
        "\n",
        "* Future labs won't contain any Wednesday material from the same week\n",
        "* Tutes won't contain either Tuesday or Wednesday Material from that week\n",
        "* A non-marked challenge exercise has been added to this week's lab. Let me know if you want more of them in future weeks."
      ]
    },
    {
      "cell_type": "markdown",
      "metadata": {},
      "source": [
        "## Some extra problems"
      ]
    },
    {
      "cell_type": "markdown",
      "metadata": {},
      "source": [
        "### Right Justify\n",
        "\n",
        "Give this string:"
      ]
    },
    {
      "cell_type": "code",
      "execution_count": null,
      "metadata": {},
      "outputs": [],
      "source": [
        "example_string = \"Hello, I'm Rob\""
      ],
      "execution_count": null,
      "outputs": []
    },
    {
      "cell_type": "markdown",
      "metadata": {},
      "source": [
        "Create a new string that adds enough space to the front of it such that it becomes 80 characters long?"
      ]
    },
    {
      "cell_type": "code",
      "execution_count": null,
      "metadata": {},
      "outputs": [],
      "source": []
    },
    {
      "cell_type": "markdown",
      "metadata": {},
      "source": [
        "Write a function that does this for any given string?"
      ]
    },
    {
      "cell_type": "code",
      "execution_count": null,
      "metadata": {},
      "outputs": [],
      "source": []
    },
    {
      "cell_type": "markdown",
      "metadata": {},
      "source": [
        "### Obfuscation\n",
        "\n",
        "Solve the problem described in this text.\n",
        "\n",
        "> Oh no, somaona hes dona somathing tarribla to my writing. Thay'va sweppad eround tha lattar 'e' end tha lattar 'a'"
      ]
    },
    {
      "cell_type": "code",
      "execution_count": null,
      "metadata": {},
      "outputs": [],
      "source": []
    },
    {
      "cell_type": "markdown",
      "metadata": {},
      "source": [
        "# Trump tweets\n",
        "\n",
        "This code cell creates a list from Donald Trump's tweets. *You're not expected to completely understand this code yet. It's only here to give us interesting data*."
      ]
    },
    {
      "cell_type": "code",
      "execution_count": null,
      "metadata": {},
      "outputs": [],
      "source": [
        "import pandas\n",
        "\n",
        "trump_tweets = list(pandas.read_json('https://raw.githubusercontent.com/robeverest/cs1010/master/data/trump.json', 'records').text)"
      ]
    },
    {
      "cell_type": "markdown",
      "metadata": {
        "id": "2Ynb9SJ6r0zj",
        "colab_type": "text"
      },
      "source": [
        "# Loops\n",
        "\n",
        "Loops allow us to execute code repeatedly. The most common form of loop in Python is the `for ... in ...` loop which lets you execute some code for every element inside a data structure.\n",
        "\n",
        "**Important info**:\n",
        "\n",
        "* The *body* of the loop needs to be *indented* so that Python knows what is in the loop and what isn't.\n",
        "* Don't forget the colon at the end of the first line!"
      ]
    },
    {
      "cell_type": "markdown",
      "metadata": {
        "id": "MhsZo7EJr0ze",
        "colab_type": "text"
      },
      "source": [
        "What is the total number of characters Trump has ever tweeted?"
      ]
    },
    {
      "cell_type": "code",
      "metadata": {
        "tags": [],
        "id": "hgGHAb4zr0zf",
        "colab_type": "code",
        "colab": {
          "base_uri": "https://localhost:8080/",
          "height": 52
        },
        "outputId": "467b91f2-0cb2-41a6-f1d7-ecef44ceb8be"
      },
      "source": [
        "count_tweet_characters = 0\n",
        "\n",
        "for tweet in trump_tweets:\n",
        "    count_tweet_characters = count_tweet_characters + len(tweet)\n",
        "\n",
        "count_tweet_characters"
      ],
      "execution_count": null,
      "outputs": []
    },
    {
      "cell_type": "markdown",
      "metadata": {
        "id": "_flQZOQ7r0zj",
        "colab_type": "text"
      },
      "source": [
        "Does trump say \"Republican\" or \"Democrat\" more often?"
      ]
    },
    {
      "cell_type": "code",
      "metadata": {
        "id": "GbjQPULOr0zj",
        "colab_type": "code",
        "colab": {},
        "tags": []
      },
      "source": [],
      "execution_count": null,
      "outputs": []
    },
    {
      "cell_type": "markdown",
      "metadata": {
        "id": "pdFqXaJar0zm",
        "colab_type": "text"
      },
      "source": [
        "What is the average length of his tweets?"
      ]
    },
    {
      "cell_type": "code",
      "metadata": {
        "id": "dQK-uqFZr0zm",
        "colab_type": "code",
        "colab": {}
      },
      "source": [],
      "execution_count": null,
      "outputs": []
    },
    {
      "cell_type": "markdown",
      "metadata": {},
      "source": [
        "Averages can be misleading, can we get a distribution?"
      ]
    },
    {
      "cell_type": "code",
      "execution_count": null,
      "metadata": {},
      "outputs": [],
      "source": []
    },
    {
      "cell_type": "markdown",
      "metadata": {},
      "source": [
        "Can we plot the distribution?"
      ]
    },
    {
      "cell_type": "code",
      "execution_count": null,
      "metadata": {},
      "outputs": [],
      "source": []
    },
    {
      "cell_type": "markdown",
      "metadata": {
        "id": "yGEnfgUBr0zo",
        "colab_type": "text"
      },
      "source": [
        "# Conditionals"
      ]
    },
    {
      "cell_type": "markdown",
      "metadata": {
        "id": "rLt-vMSbr0zo",
        "colab_type": "text"
      },
      "source": [
        "Python allows us to execute code *conditionally*.\n",
        "\n",
        "This is done with `if ...:`\n",
        "\n",
        "**Important info**:\n",
        "\n",
        "* Like with `for`, the body of the `if` must be indented.\n",
        "* Any boolean value can be used after `if`."
      ]
    },
    {
      "cell_type": "markdown",
      "metadata": {},
      "source": [
        "Can we print all the 280 character tweets?"
      ]
    },
    {
      "cell_type": "code",
      "execution_count": null,
      "metadata": {
        "tags": [
          "outputPrepend"
        ]
      },
      "outputs": [],
      "source": []
    },
    {
      "cell_type": "markdown",
      "metadata": {},
      "source": [
        "How many tweets end in at least 2 full stops?"
      ]
    },
    {
      "cell_type": "code",
      "execution_count": null,
      "metadata": {},
      "outputs": [],
      "source": []
    },
    {
      "cell_type": "markdown",
      "metadata": {},
      "source": [
        "How many of the 280 and 140 character tweets end in 2 or more full stops?"
      ]
    },
    {
      "cell_type": "code",
      "execution_count": null,
      "metadata": {},
      "outputs": [],
      "source": []
    },
    {
      "cell_type": "markdown",
      "metadata": {},
      "source": [
        "Are there any other ways tweets are extended?"
      ]
    },
    {
      "cell_type": "code",
      "execution_count": null,
      "metadata": {
        "tags": [
          "outputPrepend"
        ]
      },
      "outputs": [],
      "source": []
    },
    {
      "cell_type": "markdown",
      "metadata": {},
      "source": [
        "In what tweets has trump said \"covfefe\"?"
      ]
    },
    {
      "cell_type": "code",
      "execution_count": null,
      "metadata": {},
      "outputs": [],
      "source": []
    },
    {
      "cell_type": "markdown",
      "metadata": {},
      "source": [
        "# Complex conditionals\n",
        "\n",
        "In addition to `if`, conditional execution can be achieved with `else` and `elif`.\n",
        "\n",
        "* `elif` lets us add another condition that is checked if the last condition failed\n",
        "* `else` lets us add perform an action if *all* previous conditions fail "
      ]
    },
    {
      "cell_type": "markdown",
      "metadata": {},
      "source": [
        "A simple example:"
      ]
    },
    {
      "cell_type": "code",
      "execution_count": null,
      "metadata": {},
      "outputs": [],
      "source": []
    },
    {
      "cell_type": "markdown",
      "metadata": {},
      "source": [
        "Can we solve this problem a different way?\n",
        "\n",
        "> Oh no, somaona hes dona somathing tarribla to my writing. Thay'va sweppad eround tha lattar 'e' end tha lattar 'a'"
      ]
    },
    {
      "cell_type": "code",
      "metadata": {
        "id": "gRWxfwRVmJpz",
        "colab_type": "code",
        "colab": {
          "base_uri": "https://localhost:8080/",
          "height": 36
        },
        "outputId": "22f22528-f4be-4d05-ac2e-c3d03b73a767"
      },
      "source": [
        "example = \"Oh no, somaona hes dona somathing tarribla to my writing. Thay'va sweppad eround tha lattar 'e' end tha lattar 'a'\"\n",
        "\n",
        "fixed_example = \"\"\n",
        "\n",
        "for character in example:\n",
        "    if character == \"e\":\n",
        "        fixed_example = fixed_example + \"a\"\n",
        "    elif character == \"a\":\n",
        "        fixed_example += \"e\"\n",
        "    else:\n",
        "        fixed_example += character\n",
        "\n",
        "fixed_example"
      ],
      "execution_count": null,
      "metadata": {},
      "outputs": [],
      "source": []
    }
  ]
}
