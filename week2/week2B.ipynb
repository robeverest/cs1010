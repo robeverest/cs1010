{
  "nbformat": 4,
  "nbformat_minor": 0,
  "metadata": {
    "colab": {
      "name": "week1A.ipynb",
      "provenance": [],
      "collapsed_sections": []
    },
    "kernelspec": {
      "name": "python_defaultSpec_1600645477781",
      "display_name": "Python 3.8.5 64-bit",
      "language": "python"
    }
  },
  "cells": [
    {
      "cell_type": "markdown",
      "metadata": {
        "id": "66g8ozhFmJol",
        "colab_type": "text"
      },
      "source": [
        "# Trump tweets\n",
        "\n",
        "This code cell creates a list from Donald Trump's tweets. *You're not expected to completely understand this code yet. It's only here to give us interesting data*."
      ]
    },
    {
      "cell_type": "code",
      "metadata": {
        "id": "sm93K6xzmJon",
        "colab_type": "code",
        "colab": {}
      },
      "source": [
        "import pandas\n",
        "\n",
        "trump_tweets = list(pandas.read_json('https://raw.githubusercontent.com/robeverest/cs1010/master/data/trump.json', 'records').text)"
      ],
      "execution_count": null,
      "outputs": []
    },
    {
      "cell_type": "markdown",
      "metadata": {
        "id": "yIFzttojmJpt",
        "colab_type": "text"
      },
      "source": [
        "# Complex conditionals\n",
        "\n",
        "In addition to `if`, conditional execution can be achieved with `else` and `elif`.\n",
        "\n",
        "* `elif` lets us add another condition that is checked if the last condition failed\n",
        "* `else` lets us add perform an action if *all* previous conditions fail "
      ]
    },
    {
      "cell_type": "markdown",
      "metadata": {
        "id": "K6aBbqJVmJpt",
        "colab_type": "text"
      },
      "source": [
        "A simple example:"
      ]
    },
    {
      "cell_type": "code",
      "metadata": {
        "id": "4k0RUmnymJpv",
        "colab_type": "code",
        "colab": {
          "base_uri": "https://localhost:8080/",
          "height": 36
        },
        "outputId": "c7dadbaa-580c-4155-9480-2ee078e5cf2e"
      },
      "source": [
        "\n",
        "def better_number(x):\n",
        "    if x == 0:\n",
        "        better_x = \"Zero\"\n",
        "    elif x == 1:\n",
        "        better_x = \"One\"\n",
        "    elif x == 2:\n",
        "        better_x = \"Two\"\n",
        "    else:\n",
        "        better_x = \"Lots\"\n",
        "    return better_x\n",
        "\n",
        "better_number(5)"
      ],
      "execution_count": null,
      "outputs": []
    },
    {
      "cell_type": "markdown",
      "metadata": {
        "id": "63YHqBGJmJpy",
        "colab_type": "text"
      },
      "source": [
        "Can we solve this problem a different way?\n",
        "\n",
        "> Oh no, somaona hes dona somathing tarribla to my writing. Thay'va sweppad eround tha lattar 'e' end tha lattar 'a'"
      ]
    },
    {
      "cell_type": "code",
      "metadata": {
        "id": "gRWxfwRVmJpz",
        "colab_type": "code",
        "colab": {
          "base_uri": "https://localhost:8080/",
          "height": 36
        },
        "outputId": "22f22528-f4be-4d05-ac2e-c3d03b73a767"
      },
      "source": [
        "example = \"Oh no, somaona hes dona somathing tarribla to my writing. Thay'va sweppad eround tha lattar 'e' end tha lattar 'a'\"\n",
        "\n",
        "fixed_example = \"\"\n",
        "\n",
        "for character in example:\n",
        "    if character == \"e\":\n",
        "        fixed_example = fixed_example + \"a\"\n",
        "    elif character == \"a\":\n",
        "        fixed_example += \"e\"\n",
        "    else:\n",
        "        fixed_example += character\n",
        "\n",
        "fixed_example"
      ],
      "execution_count": null,
      "outputs": []
    },
    {
      "cell_type": "markdown",
      "metadata": {
        "id": "mBKF68LPmJp4",
        "colab_type": "text"
      },
      "source": [
        "How many trump tweets are all in uppercase and how many are all in lowercase?"
      ]
    },
    {
      "cell_type": "code",
      "metadata": {
        "tags": [],
        "id": "9dLelpLImJp4",
        "colab_type": "code",
        "colab": {}
      },
      "source": [
        ""
      ],
      "execution_count": null,
      "outputs": []
    },
    {
      "cell_type": "markdown",
      "metadata": {
        "id": "yqnwWy0XmJp8",
        "colab_type": "text"
      },
      "source": [
        "What tweets don't contain any latin characters?"
      ]
    },
    {
      "cell_type": "code",
      "metadata": {
        "tags": [],
        "id": "w389bCetmJp9",
        "colab_type": "code",
        "colab": {}
      },
      "source": [
        ""
      ],
      "execution_count": null,
      "outputs": []
    },
    {
      "cell_type": "markdown",
      "metadata": {
        "id": "eH_lpYuGmJqB",
        "colab_type": "text"
      },
      "source": [
        "# Conditional Confusion"
      ]
    },
    {
      "cell_type": "markdown",
      "metadata": {
        "id": "BQ2tbTvSmJqC",
        "colab_type": "text"
      },
      "source": [
        "<img src=\"https://source.unsplash.com/xj8qrWvuOEs\" width=500 />\n",
        "\n",
        "Dealing with lots of conditional statements and boolean logic can get confusing. If you're finding it hard to write some code, don't be afraid to develop *iteratively*.\n",
        "\n",
        "As an example, finding all the 140 and 280 character Trump tweets that don't end in two or more full stops."
      ]
    },
    {
      "cell_type": "code",
      "metadata": {
        "id": "oGvjCS6PmJqD",
        "colab_type": "code",
        "colab": {}
      },
      "source": [
        ""
      ],
      "execution_count": null,
      "outputs": []
    },
    {
      "cell_type": "markdown",
      "metadata": {
        "id": "aRDU0KO6r0zq",
        "colab_type": "text"
      },
      "source": [
        "What emoji does Donald Trump use?"
      ]
    },
    {
      "cell_type": "code",
      "metadata": {
        "id": "SpeUrlu8r0zq",
        "colab_type": "code",
        "colab": {}
      },
      "source": [
        ""
      ],
      "execution_count": null,
      "outputs": []
    },
    {
      "cell_type": "markdown",
      "metadata": {
        "id": "zQFjYNUkmJqN",
        "colab_type": "text"
      },
      "source": [
        "# Dictionaries\n",
        "\n",
        "In the real world, dictionaries let us look up *words* and find *meanings*.\n",
        "In Python, dictionaries let us look up *keys* and find *values*"
      ]
    },
    {
      "cell_type": "markdown",
      "metadata": {
        "id": "PKChMup2mJqO",
        "colab_type": "text"
      },
      "source": [
        "Create a dictionary mapping tutorial classes to tutor"
      ]
    },
    {
      "cell_type": "code",
      "metadata": {
        "id": "8_NOUeu7mJqP",
        "colab_type": "code",
        "colab": {}
      },
      "source": [
        ""
      ],
      "execution_count": null,
      "outputs": []
    },
    {
      "cell_type": "markdown",
      "metadata": {
        "id": "8lwgQNrmmJqT",
        "colab_type": "text"
      },
      "source": [
        "Which tutor teaches T17A?"
      ]
    },
    {
      "cell_type": "code",
      "metadata": {
        "id": "BD4QRZ1NmJqT",
        "colab_type": "code",
        "colab": {}
      },
      "source": [
        ""
      ],
      "execution_count": null,
      "outputs": []
    },
    {
      "cell_type": "markdown",
      "metadata": {
        "id": "0g6DEOXemJqY",
        "colab_type": "text"
      },
      "source": [
        "In what ways are dictionaries the same as or different to arrays?"
      ]
    },
    {
      "cell_type": "code",
      "metadata": {
        "id": "8EKZyAXcmJqY",
        "colab_type": "code",
        "colab": {}
      },
      "source": [
        ""
      ],
      "execution_count": null,
      "outputs": []
    },
    {
      "cell_type": "markdown",
      "metadata": {
        "id": "rMbd_OPHmJqb",
        "colab_type": "text"
      },
      "source": [
        "Can we build a dictionary counting how often Trump uses each Emoji?"
      ]
    },
    {
      "cell_type": "code",
      "metadata": {
        "id": "LgXPIif0mJqc",
        "colab_type": "code",
        "colab": {}
      },
      "source": [
        ""
      ],
      "execution_count": null,
      "outputs": []
    },
    {
      "cell_type": "markdown",
      "metadata": {
        "id": "C3KwsWtZmJqg",
        "colab_type": "text"
      },
      "source": [
        "Can we plot it?"
      ]
    },
    {
      "cell_type": "code",
      "metadata": {
        "id": "Ao-lAMFHmJqi",
        "colab_type": "code",
        "colab": {}
      },
      "source": [
        ""
      ],
      "execution_count": null,
      "outputs": []
    },
    {
      "cell_type": "markdown",
      "metadata": {
        "id": "UmA5GhWAmJqk",
        "colab_type": "text"
      },
      "source": [
        "What words does Donald Trump use?"
      ]
    },
    {
      "cell_type": "code",
      "metadata": {
        "id": "dbYvdN8rmJqm",
        "colab_type": "code",
        "colab": {}
      },
      "source": [
        ""
      ],
      "execution_count": null,
      "outputs": []
    },
    {
      "cell_type": "markdown",
      "metadata": {
        "id": "GxkiifprmJqq",
        "colab_type": "text"
      },
      "source": [
        "What long words does trump use?"
      ]
    },
    {
      "cell_type": "code",
      "metadata": {
        "id": "NfcnEgPWmJqq",
        "colab_type": "code",
        "colab": {}
      },
      "source": [
        ""
      ],
      "execution_count": null,
      "outputs": []
    },
    {
      "cell_type": "markdown",
      "metadata": {
        "id": "0Z53ibRomJqu",
        "colab_type": "text"
      },
      "source": [
        "Is there yet another solution to this problem?\n",
        "\n",
        "> Oh no, somaona hes dona somathing tarribla to my writing. Thay'va sweppad eround tha lattar 'e' end tha lattar 'a'"
      ]
    },
    {
      "cell_type": "code",
      "metadata": {
        "id": "-Hc64cuBmJqv",
        "colab_type": "code",
        "colab": {}
      },
      "source": [
        ""
      ],
      "execution_count": null,
      "outputs": []
    },
    {
      "cell_type": "markdown",
      "metadata": {
        "id": "613oIoSUmJqx",
        "colab_type": "text"
      },
      "source": [
        "# Randomness\n",
        "\n"
      ]
    },
    {
      "cell_type": "markdown",
      "metadata": {
        "id": "L54e4Sp8mJqy",
        "colab_type": "text"
      },
      "source": [
        "Many times, introducing some randomness in our programs is useful. In Python, this can be done with the `random` module."
      ]
    },
    {
      "cell_type": "code",
      "metadata": {
        "id": "YKOFxcTemJqz",
        "colab_type": "code",
        "colab": {}
      },
      "source": [
        "import random"
      ],
      "execution_count": null,
      "outputs": []
    },
    {
      "cell_type": "markdown",
      "metadata": {
        "id": "ZtQP7UZ_mJq3",
        "colab_type": "text"
      },
      "source": [
        "Can we pick a random Trump tweet?"
      ]
    },
    {
      "cell_type": "code",
      "metadata": {
        "id": "tl6tVkaymJq4",
        "colab_type": "code",
        "colab": {}
      },
      "source": [
        ""
      ],
      "execution_count": null,
      "outputs": []
    },
    {
      "cell_type": "markdown",
      "metadata": {
        "id": "x896vEOsmJq8",
        "colab_type": "text"
      },
      "source": [
        "Pick a random word from Trump's tweets?"
      ]
    },
    {
      "cell_type": "code",
      "metadata": {
        "id": "AbtMtHIamJq8",
        "colab_type": "code",
        "colab": {}
      },
      "source": [
        ""
      ],
      "execution_count": null,
      "outputs": []
    },
    {
      "cell_type": "markdown",
      "metadata": {
        "id": "-Dk1mVWjmJq_",
        "colab_type": "text"
      },
      "source": [
        "Pick a random word with the same probability that it would occur in a Trump tweet?"
      ]
    },
    {
      "cell_type": "code",
      "metadata": {
        "id": "_MXp_45NmJrA",
        "colab_type": "code",
        "colab": {}
      },
      "source": [
        ""
      ],
      "execution_count": null,
      "outputs": []
    },
    {
      "cell_type": "markdown",
      "metadata": {
        "id": "JBuutgfOmJrC",
        "colab_type": "text"
      },
      "source": [
        "Generate a random Trump tweet?"
      ]
    },
    {
      "cell_type": "code",
      "metadata": {
        "id": "PY_dM-BimJrD",
        "colab_type": "code",
        "colab": {}
      },
      "source": [
        ""
      ],
      "execution_count": null,
      "outputs": []
    }
  ]
}