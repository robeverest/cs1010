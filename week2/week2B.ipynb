{
  "nbformat": 4,
  "nbformat_minor": 0,
  "metadata": {
    "colab": {
      "name": "week2B.ipynb",
      "provenance": [],
      "collapsed_sections": []
    },
    "kernelspec": {
      "name": "python3",
      "display_name": "Python 3",
      "language": "python"
    }
  },
  "cells": [
    {
      "cell_type": "markdown",
      "metadata": {
        "id": "YTt5mk8qrZCJ"
      },
      "source": [
        "# Project\n",
        "\n",
        "* Specification released next week.\n",
        "* If you want to work with a partner, and haven't already found someone, email your tutor. They will do their best to act as a matchmaker. "
      ]
    },
    {
      "cell_type": "markdown",
      "metadata": {
        "id": "66g8ozhFmJol"
      },
      "source": [
        "# Musk tweets\n",
        "\n",
        "This code cell creates a list from some of Elon Musk's tweets. \n",
        "\n",
        "*You're not expected to completely understand this code yet. It's only here to give us interesting data*."
      ]
    },
    {
      "cell_type": "code",
      "metadata": {
        "id": "sm93K6xzmJon"
      },
      "source": [
        "import pandas\n",
        "\n",
        "raw_tweets = pandas.read_csv('https://raw.githubusercontent.com/robeverest/cs1010/master/data/elonmusk.csv')\n",
        "elon_tweets = list(raw_tweets.tweet)"
      ],
      "execution_count": 1,
      "outputs": []
    },
    {
      "cell_type": "markdown",
      "metadata": {
        "id": "fi2bz3-JhJiA"
      },
      "source": [
        "In what tweets has Elon said \"simulation\"?"
      ]
    },
    {
      "cell_type": "code",
      "metadata": {
        "id": "kGa38930hJiA",
        "outputId": "94b8dd69-d0f3-48a9-9430-ae5b1b112ee1",
        "colab": {
          "base_uri": "https://localhost:8080/"
        }
      },
      "source": [
        "simulation_tweets = []\n",
        "\n",
        "for tweet in elon_tweets:\n",
        "    if \"simulation\" in tweet:\n",
        "        simulation_tweets.append(tweet)\n",
        "\n",
        "simulation_tweets\n",
        "\n",
        "len(simulation_tweets)"
      ],
      "execution_count": 9,
      "outputs": [
        {
          "output_type": "execute_result",
          "data": {
            "text/plain": [
              "17"
            ]
          },
          "metadata": {
            "tags": []
          },
          "execution_count": 9
        }
      ]
    },
    {
      "cell_type": "code",
      "metadata": {
        "id": "fUp9x0Dcm3kG",
        "outputId": "3054b093-3b0a-449b-f7db-44041587a8b5",
        "colab": {
          "base_uri": "https://localhost:8080/"
        }
      },
      "source": [
        "stuff = [1, 2, 3]\n",
        "\n",
        "stuff.append(4)\n",
        "\n",
        "stuff"
      ],
      "execution_count": 11,
      "outputs": [
        {
          "output_type": "execute_result",
          "data": {
            "text/plain": [
              "[1, 2, 3, 4]"
            ]
          },
          "metadata": {
            "tags": []
          },
          "execution_count": 11
        }
      ]
    },
    {
      "cell_type": "markdown",
      "metadata": {
        "id": "yIFzttojmJpt"
      },
      "source": [
        "# Complex conditionals\n",
        "\n",
        "In addition to `if`, conditional execution can be achieved with `else` and `elif`.\n",
        "\n",
        "* `elif` lets us add another condition that is checked if the last condition failed\n",
        "* `else` lets us add perform an action if *all* previous conditions fail "
      ]
    },
    {
      "cell_type": "markdown",
      "metadata": {
        "id": "63YHqBGJmJpy"
      },
      "source": [
        "Can we solve this problem in a different way?\n",
        "\n",
        "> Oh no, somaona hes dona somathing tarribla to my writing. Thay'va sweppad eround tha lattar 'e' end tha lattar 'a'"
      ]
    },
    {
      "cell_type": "code",
      "metadata": {
        "id": "gRWxfwRVmJpz",
        "colab": {
          "base_uri": "https://localhost:8080/",
          "height": 36
        },
        "outputId": "ef378b7d-277d-4de1-9ef0-9fc9f5b07a6c"
      },
      "source": [
        "example_string = \"Oh no, somaona hes dona somathing tarribla to my writing. Thay'va sweppad eround tha lattar 'e' end tha lattar 'a'\"\n",
        "\n",
        "result = \"\"\n",
        "for character in example_string:\n",
        "    if character == 'a':\n",
        "        result = result + 'e'\n",
        "    elif character == 'e':\n",
        "        result = result + 'a'\n",
        "    else:\n",
        "        result = result + character\n",
        "result"
      ],
      "execution_count": 15,
      "outputs": [
        {
          "output_type": "execute_result",
          "data": {
            "application/vnd.google.colaboratory.intrinsic+json": {
              "type": "string"
            },
            "text/plain": [
              "\"Oh no, someone has done something terrible to my writing. They've swapped around the letter 'a' and the letter 'e'\""
            ]
          },
          "metadata": {
            "tags": []
          },
          "execution_count": 15
        }
      ]
    },
    {
      "cell_type": "markdown",
      "metadata": {
        "id": "mBKF68LPmJp4"
      },
      "source": [
        "How many tweets are all in uppercase and how many are all in lowercase?"
      ]
    },
    {
      "cell_type": "code",
      "metadata": {
        "tags": [],
        "id": "9dLelpLImJp4",
        "colab": {
          "base_uri": "https://localhost:8080/"
        },
        "outputId": "b970f822-6077-4bc5-8f95-9ec883a96668"
      },
      "source": [
        "lowercase_tweets = 0\n",
        "uppercase_tweets = 0\n",
        "\n",
        "for tweet in elon_tweets:\n",
        "    if tweet.isupper():\n",
        "        # uppercase_tweets = uppercase_tweets + 1\n",
        "        uppercase_tweets += 1\n",
        "    elif tweet.islower():\n",
        "        # lowercase_tweets = lowercase_tweets + 1\n",
        "        lowercase_tweets += 1\n",
        "\n",
        "print(lowercase_tweets)\n",
        "print(uppercase_tweets)"
      ],
      "execution_count": 16,
      "outputs": [
        {
          "output_type": "stream",
          "text": [
            "291\n",
            "22\n"
          ],
          "name": "stdout"
        }
      ]
    },
    {
      "cell_type": "markdown",
      "metadata": {
        "id": "bI_O_D9fhJiE"
      },
      "source": [
        "How many tweets do not contain any characters from the latin alphabet?"
      ]
    },
    {
      "cell_type": "code",
      "metadata": {
        "id": "4QZo9YDmq_5s",
        "outputId": "8140b70a-641f-4a43-c581-effc8074d59d",
        "colab": {
          "base_uri": "https://localhost:8080/"
        }
      },
      "source": [
        "x = \"Hello\"\n",
        "\n",
        "x.isalpha()"
      ],
      "execution_count": 24,
      "outputs": [
        {
          "output_type": "execute_result",
          "data": {
            "text/plain": [
              "True"
            ]
          },
          "metadata": {
            "tags": []
          },
          "execution_count": 24
        }
      ]
    },
    {
      "cell_type": "code",
      "metadata": {
        "id": "tumzJncRhJiF",
        "outputId": "9d2387d5-7a11-4721-b523-f9e853a709bf",
        "colab": {
          "base_uri": "https://localhost:8080/"
        }
      },
      "source": [
        "nonlatin_tweets = 0\n",
        "\n",
        "for tweet in elon_tweets:\n",
        "    if tweet.lower() == tweet and tweet.upper() == tweet:\n",
        "        # print(tweet)\n",
        "        nonlatin_tweets += 1\n",
        "\n",
        "nonlatin_tweets"
      ],
      "execution_count": 26,
      "outputs": [
        {
          "output_type": "execute_result",
          "data": {
            "text/plain": [
              "208"
            ]
          },
          "metadata": {
            "tags": []
          },
          "execution_count": 26
        }
      ]
    },
    {
      "cell_type": "markdown",
      "metadata": {
        "id": "eH_lpYuGmJqB"
      },
      "source": [
        "# Conditional Confusion"
      ]
    },
    {
      "cell_type": "markdown",
      "metadata": {
        "id": "BQ2tbTvSmJqC"
      },
      "source": [
        "<img src=\"https://source.unsplash.com/xj8qrWvuOEs\" width=500 />\n",
        "\n",
        "Dealing with lots of conditional statements and boolean logic can get confusing. If you're finding it hard to write some code, don't be afraid to develop *iteratively*.\n",
        "\n",
        "As an example, finding all the tweets mentioning Tesla or SpaceX, ignoring any capitalisation."
      ]
    },
    {
      "cell_type": "code",
      "metadata": {
        "id": "oGvjCS6PmJqD"
      },
      "source": [
        "company_tweets = []\n",
        "\n",
        "for tweet in elon_tweets:\n",
        "    if \"tesla\" in tweet.lower() or \"spacex\" in tweet.lower():\n",
        "        company_tweets.append(tweet)\n",
        "company_tweets"
      ],
      "execution_count": null,
      "outputs": []
    },
    {
      "cell_type": "markdown",
      "metadata": {
        "id": "aRDU0KO6r0zq"
      },
      "source": [
        "What emoji does Elon Musk use?"
      ]
    },
    {
      "cell_type": "code",
      "metadata": {
        "id": "SpeUrlu8r0zq",
        "colab": {
          "base_uri": "https://localhost:8080/"
        },
        "outputId": "27399272-6201-4672-b811-9f52da85fcf6"
      },
      "source": [
        "!pip install emoji"
      ],
      "execution_count": 34,
      "outputs": [
        {
          "output_type": "stream",
          "text": [
            "Collecting emoji\n",
            "\u001b[?25l  Downloading https://files.pythonhosted.org/packages/24/fa/b3368f41b95a286f8d300e323449ab4e86b85334c2e0b477e94422b8ed0f/emoji-1.2.0-py3-none-any.whl (131kB)\n",
            "\r\u001b[K     |██▌                             | 10kB 18.1MB/s eta 0:00:01\r\u001b[K     |█████                           | 20kB 11.8MB/s eta 0:00:01\r\u001b[K     |███████▌                        | 30kB 7.3MB/s eta 0:00:01\r\u001b[K     |██████████                      | 40kB 6.5MB/s eta 0:00:01\r\u001b[K     |████████████▌                   | 51kB 4.4MB/s eta 0:00:01\r\u001b[K     |███████████████                 | 61kB 5.0MB/s eta 0:00:01\r\u001b[K     |█████████████████▌              | 71kB 5.2MB/s eta 0:00:01\r\u001b[K     |████████████████████            | 81kB 5.3MB/s eta 0:00:01\r\u001b[K     |██████████████████████▌         | 92kB 4.9MB/s eta 0:00:01\r\u001b[K     |█████████████████████████       | 102kB 5.0MB/s eta 0:00:01\r\u001b[K     |███████████████████████████▌    | 112kB 5.0MB/s eta 0:00:01\r\u001b[K     |██████████████████████████████  | 122kB 5.0MB/s eta 0:00:01\r\u001b[K     |████████████████████████████████| 133kB 5.0MB/s \n",
            "\u001b[?25hInstalling collected packages: emoji\n",
            "Successfully installed emoji-1.2.0\n"
          ],
          "name": "stdout"
        }
      ]
    },
    {
      "cell_type": "code",
      "metadata": {
        "id": "vnUTFDdEuTNA",
        "outputId": "c676deb1-1cb7-4490-e8a0-6e0b0e507e5c",
        "colab": {
          "base_uri": "https://localhost:8080/"
        }
      },
      "source": [
        "import emoji\n",
        "\n",
        "elon_emoji = []\n",
        "for tweet in elon_tweets:\n",
        "    for character in tweet:\n",
        "        if character in emoji.UNICODE_EMOJI_ALIAS_ENGLISH:\n",
        "            elon_emoji.append(character)\n",
        "\n",
        "print(elon_emoji)"
      ],
      "execution_count": 45,
      "outputs": [
        {
          "output_type": "stream",
          "text": [
            "['👀', '👀', '👀', '🔥', '🔥', '🖤', '✨', '✨', '🖤', '🤣', '🤣', '💕', '🤣', '🤣', '🤣', '🤣', '🤣', '🤣', '🇺', '🇸', '🇺', '🇸', '🇺', '🇸', '🇺', '🇸', '🤣', '🤣', '🤣', '🤣', '😂', '😂', '🤣', '🤣', '🤔', '💕', '🤣', '🤣', '🤣', '🤣', '♥', '🤣', '🤣', '🤣', '🤣', '🤣', '🤣', '😢', '🤣', '🤣', '🤣', '🤣', '🐈', '😅', '🤣', '🤣', '🤣', '🤣', '🤣', '🤣', '❤', '🤣', '🤣', '🎶', '🎶', '🤣', '😉', '😎', '🤣', '🤣', '🚀', '♥', '🤣', '🤣', '🖤', '🤣', '💕', '🤣', '🤣', '🤣', '🤣', '🌹', '👻', '🤣', '🤣', '♥', '🤣', '💕', '🤣', '🤣', '💕', '😀', '❤', '👍', '♥', '♥', '♥', '❤', '🤣', '🐝', '🐝', '🤣', '🤣', '🤣', '🤣', '🧚', '♀', '👸', '🤣', '🤣', '💕', '🔥', '🤣', '🤣', '🧲', '🤣', '🤣', '🥜', '🤣', '🤣', '🔥', '🤣', '🤣', '👆', '💯', '😅', '🥜', '🔥', '🔥', '🔥', '👍', '🤣', '🤣', '🤣', '🤣', '🤣', '👍', '🤣', '🤣', '😉', '🤣', '🤣', '🤓', '🤣', '🤣', '🤣', '🤣', '🤣', '🤣', '🤣', '🤣', '🤣', '😀', '🤣', '🤣', '😅', '😀', '🐇', '💯', '🤣', '🤣', '😮', '🤣', '🤣', '🤣', '🤣', '❤', '🤣', '🤣', '👍', '😀', '🤔', '🤣', '🤣', '🤣', '🤣', '💖', '🤣', '🤣', '😀', '🤣', '🤣', '👍', '😀', '⚡', '✌', '🤣', '🤣', '🤔', '💕', '✌', '❤', '👀', '🤣', '🤣', '🔭', '❤', '🔥', '🔥', '😀', '🤣', '🤣', '😊', '💘', '💘', '😉', '❤', '🤹', '🏻', '♂', '♥', '🤣', '🤣', '💯', '🔥', '🔥', '🤣', '🤣', '💕', '🤣', '🤣', '🤣', '🔥', '🔥', '🔥', '😀', '🤣', '🤣', '😅', '🤣', '🤣', '🕺', '☃', '\\U0001fa91', '✌', '🍻', '🤣', '💯', '🔭', '🌏', '💨', '🤣', '🤣', '😞', '🔥', '⚡', '🎶', '🎶', '😉', '👶', '🏻', '♥', '♥', '♥', '♥', '🤣', '🤣', '🔥', '🔥', '🤣', '🤣', '🤣', '🤣', '♥', '🚀', '🚘', '☀', '🐈', '🎥', '❤', '🤣', '🤣', '🤣', '🤣', '❤', '❤', '🤣', '🤣', '😎', '😮', '🧱', '♥', '❤', '🤣', '🤣', '🖤', '🐌', '🤣', '🤣', '🎄', '🎁', '😀', '🤣', '🤣', '☺', '🚘', '💨', '🤣', '🤣', '🤣', '♥', '🤣', '🤣', '🐼', '🤞', '🤣', '🤣', '🎄', '😀', '💕', '♥', '♥', '♥', '🔥', '🔥', '🤣', '🤣', '🤣', '🤣', '🤣', '🤣', '⚔', '⚔', '🤣', '🤣', '🖤', '🖤', '🖤', '🖤', '🖤', '🖤', '😉', '🧝', '♂', '🧝', '♂', '🖤', '🇩', '🇪', '🇩', '🇪', '🇩', '🇪', '🖤', '♥', '💛', '💛', '♥', '🖤', '😘', '🎃', '♥', '♥', '♥', '😉', '🔥', '🤣', '🤣', '🥇', '™', '♥', '🎥', '🤣', '🤣', '🍟', '😈', '😉', '🤣', '🤣', '♥', '🚀', '🚘', '🧠', '🕳', '🚘', '🎤', '🦌', '🦶', '💨', '🤣', '💨', '🐐', '🤣', '🤣', '🤣', '🤣', '💩', '🤣', '🤣', '♥', '😀', '😉', '🔥', '😉', '👁', '🥧', '🔥', '💣', '💦', '🚀', '♥', '♥', '🚀', '♥', '♥', '♥', '👍', '♥', '🤣', '🤣', '👍', '♥', '♥', '🇮', '🇸', '🇮', '🇸', '🇮', '🇸', '🇮', '🇸', '♥', '♥', '🤣', '🤣', '🥳', '😲', '🤗', '🤔', '🤣', '🤣', '♥', '♥', '♥', '🇳', '🇴', '🇳', '🇱', '😅', '🍀', '😋', '🇮', '🇸', '🇮', '🇸', '♥', '♥', '♥', '😉', '😢', '🤣', '🤣', '👍', '👍', '🤣', '🤣', '😀', '🤣', '🤣', '🤣', '🔥', '🔥', '😉', '™', '🤣', '🤣', '🤣', '🥜', '🚀', '🤔', '😀', '🎶', '🎶', '🚀', '🚘', '🧠', '🐝', '🐝', '🐝', '🧐', '👍', '🐝', '👌', '♥', '🐝', '🐝', '🐝', '🎩', '🤣', '🤣', '🤝', '🐏', '😢', '🐏', '🥳', '🤣', '🤣', '™', '🍷', '🚀', '🥳', '🤣', '🤣', '♥', '👽', '👽', '♥', '🔥', '🍀', '🍀', '😋', '🤣', '🤣', '🤖', '🚘', '😀', '👍', '🧙', '♂', '🤣', '🤣', '✌', '♥', '♥', '🤣', '🤣', '😀', '♥', '♥', '♥', '♥', '♥', '💕', '🤣', '🤣', '♥', '♥', '♥', '🚀', '🚀', '♥', '🖤', '🖤', '🤗', '🤣', '🤣', '🦆', '🦆', '💰', '🎶', '🎶', '🤣', '🤣', '♥', '😇', '🖤', '😀', '😉', '🧲', '⚡', '🤣', '💖', '🇳', '🇴', '🇳', '🇴', '💖', '♥', '🚀', '😀', '👍', '😀', '🐣', '🧨', '🧠', '🤣', '😀', '⬇', '🤣', '💨', '🌌', '👍', '🤣', '🤣', '🐌', '😉', '😐', '🤣', '😋', '🏴', '☠', '🍀', '👍', '🚀', '♥', '🤣', '😉', '😔', '👌', '🇫', '🇮', '🖤', '🖤', '🇫', '🇮', '💙', '💨', '🍭', '🙏', '🐐', '🤣', '🤣', '👌', '🤣', '🤣', '😜', '😜', '🍁', '🍃', '🍂', '😔', '🤣', '🤣', '♥', '🇯', '🇵', '🦆', '♥', '♥', '♥', '🐍', '🐍', '🐍', '♥', '♥', '♥', '🐏', '💡', '🚀', '🙏', '🤔', '🤣', '🤣', '🧦', '🔥', '🔥', '💕', '💕', '💫', '💫', '😀', '😀', '🧦', '♥', '🚀', '💫', '💫', '🚀', '♥', '💫', '♥', '♥', '♥', '😲', '🧀', '🐈', '🧁', '🤔', '😀', '👍', '🐿', '🦊', '♥', '🐜', '🤖', '♥', '🇳', '🇴', '🇳', '🇴', '♥', '🦆', '🤗', '🇳', '🇴', '🌏', '💛', '💛', '🥧', '😉', '🤣', '☺', '💕', '💕', '💕', '😉', '😍', '😍', '😍', '😍', '😍', '😍', '😢', '🤗', '🐜', '👟', '🤣', '😜', '😀', '☺', '😀', '🚀', '🤡', '👌', '♥', '🎼', '🤡', '😎', '🌪', '💩', '🔥', '🥜', '💨', '🍃', '💫', '🚀', '🥰', '😅', '🔥', '🖤', '🖤', '🔥', '💙', '💙', '💨', '😀', '💩', '♥', '😀', '🤔', '♥', '🇳', '🇴', '💡', '😀', '🐉', '👨', '🚀', '👩', '🚀', '🚀', '🚀', '😉', '🤣', '⭐', '😲', '😀', '🇺', '🇦', '⛄', '🎄', '🎁', '🎅', '💝', '😀', '🤣', '😀', '♥', '👌', '💛', '💛', '🙏', '😴', '💨', '💨', '💨', '👍', '😀', '💨', '💨', '👍', '😉', '💕', '🍜', '🍜', '💕', '😀', '⚾', '👍', '🦙', '💩', '✨', '😴', '🚘', '♥', '♥', '♥', '♥', '♥', '🛸', '🛸', '🛸', '🛸', '♥', '♥', '♥', '♥', '☺', '😀', '🧙', '♂', '😉', '😉', '🖤', '🚀', '🚀', '😀', '🚀', '🥜', '👌', '♥', '🇳', '🇴', '🐻', '🧠', '🚘', '♥', '♥', '♥', '♥', '♥', '♥', '♥', '♥', '♥', '♥', '♥', '♥', '♥', '♥', '♥', '♥', '♥', '♥', '♥', '🐻', '🧠', '😉', '😉', '🖤', '♥', '😀', '😀', '🖤', '🖤', '🖤', '🖤', '🚘', '🚘', '🚘', '🚘', '🖤', '🖤', '🖤', '🖤', '💗', '👽', '👾', '😉', '😀', '❤', '😀', '👽', '👾', '🐻', '🧠', '🚘', '😀', '😀', '😇', '😉', '❤', '🇨', '🇦', '♥', '♥', '😀', '👽', '💘', '♥', '😀', '😀', '😉', '😎', '🚀', '😀', '🇯', '🇵', '🎮', '🦊', '🐶', '😀', '🖤', '🚀', '🖤', '♥', '🖤', '🖤', '🤣', '😀', '🖤', '🖤', '🖤', '🤣', '🤣', '🤣', '😛', '♥', '🔬', '💫', '🌏', '🚀', '👨', '🔬', '😀', '😱', '🖤', '🚀', '💫', '♥', '🤗', '🦄', '💨', '✌', '😅', '🧙', '♂', '👽', '🌌', '💫', '🍩', '😊', '🖤', '🖤', '🖤', '🖤', '🖤', '🖤', '🎁', '🎉', '🎂', '⚡', '⚡', '♥', '♥', '💡', '🧛', '♀', '🛸', '🐇', '👻', '🍒', '💨', '🐌', '❤', '🧡', '💛', '💚', '💙', '💜', '🖤', '💖', '🌈', '🛸', '🛸', '🛸', '🛸', '🛸', '🛸', '🛸', '🛸', '🛸', '🛸', '🚀', '⛺', '😜', '🤖', '♥', '🖤', '🐈', '🧙', '♂', '⛪', '🌃', '🤗', '♥', '🚘', '💫', '💕', '👽', '🧚', '♀', '🚀', '🍃', '🍄', '🍕', '🍕', '🍕', '🚘', '🤔', '👽', '💕', '🚀', '🤔', '🧠', '🛸', '👽', '♥', '💫', '🥜', '🔥', '🚀', '🚀', '🚀', '💕', '👻', '😅', '🚘', '🖤', '✌', '♥', '😀', '🤣', '♥', '🖤', '🚀', '🎶', '👻', '🐇', '🧚', '♀', '💫', '😃', '😢', '🙃', '😊', '🚀', '🔬', '♥', '🤔', '🚗', '🚙', '🚘', '🚀', '♥', '🌏', '🤗', '♥', '🎼', '🐇', '😔', '👻', '😉', '☺', '♥', '🦄', '🚀', '💫', '🎉', '🐌', '🎩', '🍭', '🇳', '🇱', '🌸', '🇦', '🇪', '🖤', '🖤', '😉', '🐉', '😉', '🐱', '🤗', '🤗', '🤗', '🇦', '🇺', '😘', '🐻', '🔥', '🥜', '🔥', '🔥', '💩', '😎', '❤']\n"
          ],
          "name": "stdout"
        }
      ]
    },
    {
      "cell_type": "code",
      "metadata": {
        "id": "aFDq9-vmv5qu"
      },
      "source": [
        "x = []\n",
        "y = \"\""
      ],
      "execution_count": null,
      "outputs": []
    },
    {
      "cell_type": "markdown",
      "metadata": {
        "id": "zQFjYNUkmJqN"
      },
      "source": [
        "# Dictionaries\n",
        "\n",
        "In the real world, dictionaries let us look up *words* and find *meanings*.\n",
        "In Python, dictionaries let us look up *keys* and find *values*"
      ]
    },
    {
      "cell_type": "markdown",
      "metadata": {
        "id": "PKChMup2mJqO"
      },
      "source": [
        "Create a dictionary mapping classes to tutor or lecturer"
      ]
    },
    {
      "cell_type": "code",
      "metadata": {
        "id": "8_NOUeu7mJqP"
      },
      "source": [
        "classes = { 'T13A': 'Rob', 'T15A': 'Sim', 'T16A': 'Kai' }"
      ],
      "execution_count": 47,
      "outputs": []
    },
    {
      "cell_type": "markdown",
      "metadata": {
        "id": "8lwgQNrmmJqT"
      },
      "source": [
        "Which tutor teaches T16A?"
      ]
    },
    {
      "cell_type": "code",
      "metadata": {
        "id": "BD4QRZ1NmJqT",
        "colab": {
          "base_uri": "https://localhost:8080/",
          "height": 36
        },
        "outputId": "f007acfe-5dd1-466e-b0aa-282011f1ca58"
      },
      "source": [
        "classes['T16A']"
      ],
      "execution_count": 48,
      "outputs": [
        {
          "output_type": "execute_result",
          "data": {
            "application/vnd.google.colaboratory.intrinsic+json": {
              "type": "string"
            },
            "text/plain": [
              "'Kai'"
            ]
          },
          "metadata": {
            "tags": []
          },
          "execution_count": 48
        }
      ]
    },
    {
      "cell_type": "code",
      "metadata": {
        "id": "5fX2ojGa0HJ2"
      },
      "source": [
        "example_list = ['cat', 'dog', 'snake']\n",
        "\n",
        "example_list.append('lizard')\n",
        "\n",
        "example_list[0] = 'spider'\n",
        "\n",
        "example_list\n",
        "\n",
        "# example_list[7] = 'scorpion'"
      ],
      "execution_count": null,
      "outputs": []
    },
    {
      "cell_type": "code",
      "metadata": {
        "id": "oaeNQ1W504Y7",
        "outputId": "c5c5e1bf-abc9-4598-8cf2-ad96cbe6f199",
        "colab": {
          "base_uri": "https://localhost:8080/"
        }
      },
      "source": [
        "classes['H09A'] = 'Sim'\n",
        "\n",
        "classes['T13A'] = 'Some poor soul'\n",
        "\n",
        "classes"
      ],
      "execution_count": 62,
      "outputs": [
        {
          "output_type": "execute_result",
          "data": {
            "text/plain": [
              "{'H09A': 'Sim', 'T13A': 'Some poor soul', 'T15A': 'Sim', 'T16A': 'Kai'}"
            ]
          },
          "metadata": {
            "tags": []
          },
          "execution_count": 62
        }
      ]
    },
    {
      "cell_type": "markdown",
      "metadata": {
        "id": "0g6DEOXemJqY"
      },
      "source": [
        "In what ways are dictionaries the same as or different to lists?"
      ]
    },
    {
      "cell_type": "code",
      "metadata": {
        "id": "8EKZyAXcmJqY",
        "colab": {
          "base_uri": "https://localhost:8080/"
        },
        "outputId": "d04eacdc-12ad-47f8-f5ec-88761677a79e"
      },
      "source": [
        "list1 = [1, 2, 3]\n",
        "list2 = [3, 2, 1]\n",
        "\n",
        "list1 == list2"
      ],
      "execution_count": 63,
      "outputs": [
        {
          "output_type": "execute_result",
          "data": {
            "text/plain": [
              "False"
            ]
          },
          "metadata": {
            "tags": []
          },
          "execution_count": 63
        }
      ]
    },
    {
      "cell_type": "code",
      "metadata": {
        "id": "5lJrvx4m1gaL",
        "outputId": "89a7cd66-0c4b-4669-8737-c317fbb7a753",
        "colab": {
          "base_uri": "https://localhost:8080/"
        }
      },
      "source": [
        "dict1 = { 1: 'a', 7: 'b' }\n",
        "dict2 = { 7: 'b', 1: 'a' }\n",
        "\n",
        "dict1 == dict2"
      ],
      "execution_count": 64,
      "outputs": [
        {
          "output_type": "execute_result",
          "data": {
            "text/plain": [
              "True"
            ]
          },
          "metadata": {
            "tags": []
          },
          "execution_count": 64
        }
      ]
    },
    {
      "cell_type": "markdown",
      "metadata": {
        "id": "rMbd_OPHmJqb"
      },
      "source": [
        "Can we build a dictionary counting how often Elon Musk uses each Emoji?"
      ]
    },
    {
      "cell_type": "code",
      "metadata": {
        "id": "LgXPIif0mJqc"
      },
      "source": [
        "emoji_count = {}\n",
        "\n",
        "for an_emoji in elon_emoji:\n",
        "    if an_emoji in emoji_count:\n",
        "        emoji_count[an_emoji] = emoji_count[an_emoji] + 1\n",
        "    else:\n",
        "        emoji_count[an_emoji] = 1\n",
        "\n",
        "emoji_count"
      ],
      "execution_count": null,
      "outputs": []
    },
    {
      "cell_type": "markdown",
      "metadata": {
        "id": "C3KwsWtZmJqg"
      },
      "source": [
        "Can we plot it?"
      ]
    },
    {
      "cell_type": "code",
      "metadata": {
        "id": "Ao-lAMFHmJqi",
        "colab": {
          "base_uri": "https://localhost:8080/",
          "height": 542
        },
        "outputId": "e1a5627b-bdfe-4bdc-c817-dea278e5f82e"
      },
      "source": [
        "import plotly.express\n",
        "\n",
        "plotly.express.bar(x=list(emoji_count.keys()), y=list(emoji_count.values()))"
      ],
      "execution_count": 68,
      "outputs": [
        {
          "output_type": "display_data",
          "data": {
            "text/html": [
              "<html>\n",
              "<head><meta charset=\"utf-8\" /></head>\n",
              "<body>\n",
              "    <div>\n",
              "            <script src=\"https://cdnjs.cloudflare.com/ajax/libs/mathjax/2.7.5/MathJax.js?config=TeX-AMS-MML_SVG\"></script><script type=\"text/javascript\">if (window.MathJax) {MathJax.Hub.Config({SVG: {font: \"STIX-Web\"}});}</script>\n",
              "                <script type=\"text/javascript\">window.PlotlyConfig = {MathJaxConfig: 'local'};</script>\n",
              "        <script src=\"https://cdn.plot.ly/plotly-latest.min.js\"></script>    \n",
              "            <div id=\"59d441be-c175-43a6-b39a-b190bae568b1\" class=\"plotly-graph-div\" style=\"height:525px; width:100%;\"></div>\n",
              "            <script type=\"text/javascript\">\n",
              "                \n",
              "                    window.PLOTLYENV=window.PLOTLYENV || {};\n",
              "                    \n",
              "                if (document.getElementById(\"59d441be-c175-43a6-b39a-b190bae568b1\")) {\n",
              "                    Plotly.newPlot(\n",
              "                        '59d441be-c175-43a6-b39a-b190bae568b1',\n",
              "                        [{\"alignmentgroup\": \"True\", \"hoverlabel\": {\"namelength\": 0}, \"hovertemplate\": \"x=%{x}<br>y=%{y}\", \"legendgroup\": \"\", \"marker\": {\"color\": \"#636efa\"}, \"name\": \"\", \"offsetgroup\": \"\", \"orientation\": \"v\", \"showlegend\": false, \"textposition\": \"auto\", \"type\": \"bar\", \"x\": [\"\\ud83d\\udc40\", \"\\ud83d\\udd25\", \"\\ud83d\\udda4\", \"\\u2728\", \"\\ud83e\\udd23\", \"\\ud83d\\udc95\", \"\\ud83c\\uddfa\", \"\\ud83c\\uddf8\", \"\\ud83d\\ude02\", \"\\ud83e\\udd14\", \"\\u2665\", \"\\ud83d\\ude22\", \"\\ud83d\\udc08\", \"\\ud83d\\ude05\", \"\\u2764\", \"\\ud83c\\udfb6\", \"\\ud83d\\ude09\", \"\\ud83d\\ude0e\", \"\\ud83d\\ude80\", \"\\ud83c\\udf39\", \"\\ud83d\\udc7b\", \"\\ud83d\\ude00\", \"\\ud83d\\udc4d\", \"\\ud83d\\udc1d\", \"\\ud83e\\uddda\", \"\\u2640\", \"\\ud83d\\udc78\", \"\\ud83e\\uddf2\", \"\\ud83e\\udd5c\", \"\\ud83d\\udc46\", \"\\ud83d\\udcaf\", \"\\ud83e\\udd13\", \"\\ud83d\\udc07\", \"\\ud83d\\ude2e\", \"\\ud83d\\udc96\", \"\\u26a1\", \"\\u270c\", \"\\ud83d\\udd2d\", \"\\ud83d\\ude0a\", \"\\ud83d\\udc98\", \"\\ud83e\\udd39\", \"\\ud83c\\udffb\", \"\\u2642\", \"\\ud83d\\udd7a\", \"\\u2603\", \"\\ud83e\\ude91\", \"\\ud83c\\udf7b\", \"\\ud83c\\udf0f\", \"\\ud83d\\udca8\", \"\\ud83d\\ude1e\", \"\\ud83d\\udc76\", \"\\ud83d\\ude98\", \"\\u2600\", \"\\ud83c\\udfa5\", \"\\ud83e\\uddf1\", \"\\ud83d\\udc0c\", \"\\ud83c\\udf84\", \"\\ud83c\\udf81\", \"\\u263a\", \"\\ud83d\\udc3c\", \"\\ud83e\\udd1e\", \"\\u2694\", \"\\ud83e\\udddd\", \"\\ud83c\\udde9\", \"\\ud83c\\uddea\", \"\\ud83d\\udc9b\", \"\\ud83d\\ude18\", \"\\ud83c\\udf83\", \"\\ud83e\\udd47\", \"\\u2122\", \"\\ud83c\\udf5f\", \"\\ud83d\\ude08\", \"\\ud83e\\udde0\", \"\\ud83d\\udd73\", \"\\ud83c\\udfa4\", \"\\ud83e\\udd8c\", \"\\ud83e\\uddb6\", \"\\ud83d\\udc10\", \"\\ud83d\\udca9\", \"\\ud83d\\udc41\", \"\\ud83e\\udd67\", \"\\ud83d\\udca3\", \"\\ud83d\\udca6\", \"\\ud83c\\uddee\", \"\\ud83e\\udd73\", \"\\ud83d\\ude32\", \"\\ud83e\\udd17\", \"\\ud83c\\uddf3\", \"\\ud83c\\uddf4\", \"\\ud83c\\uddf1\", \"\\ud83c\\udf40\", \"\\ud83d\\ude0b\", \"\\ud83e\\uddd0\", \"\\ud83d\\udc4c\", \"\\ud83c\\udfa9\", \"\\ud83e\\udd1d\", \"\\ud83d\\udc0f\", \"\\ud83c\\udf77\", \"\\ud83d\\udc7d\", \"\\ud83e\\udd16\", \"\\ud83e\\uddd9\", \"\\ud83e\\udd86\", \"\\ud83d\\udcb0\", \"\\ud83d\\ude07\", \"\\ud83d\\udc23\", \"\\ud83e\\udde8\", \"\\u2b07\", \"\\ud83c\\udf0c\", \"\\ud83d\\ude10\", \"\\ud83c\\udff4\", \"\\u2620\", \"\\ud83d\\ude14\", \"\\ud83c\\uddeb\", \"\\ud83d\\udc99\", \"\\ud83c\\udf6d\", \"\\ud83d\\ude4f\", \"\\ud83d\\ude1c\", \"\\ud83c\\udf41\", \"\\ud83c\\udf43\", \"\\ud83c\\udf42\", \"\\ud83c\\uddef\", \"\\ud83c\\uddf5\", \"\\ud83d\\udc0d\", \"\\ud83d\\udca1\", \"\\ud83e\\udde6\", \"\\ud83d\\udcab\", \"\\ud83e\\uddc0\", \"\\ud83e\\uddc1\", \"\\ud83d\\udc3f\", \"\\ud83e\\udd8a\", \"\\ud83d\\udc1c\", \"\\ud83d\\ude0d\", \"\\ud83d\\udc5f\", \"\\ud83e\\udd21\", \"\\ud83c\\udfbc\", \"\\ud83c\\udf2a\", \"\\ud83e\\udd70\", \"\\ud83d\\udc09\", \"\\ud83d\\udc68\", \"\\ud83d\\udc69\", \"\\u2b50\", \"\\ud83c\\udde6\", \"\\u26c4\", \"\\ud83c\\udf85\", \"\\ud83d\\udc9d\", \"\\ud83d\\ude34\", \"\\ud83c\\udf5c\", \"\\u26be\", \"\\ud83e\\udd99\", \"\\ud83d\\udef8\", \"\\ud83d\\udc3b\", \"\\ud83d\\udc97\", \"\\ud83d\\udc7e\", \"\\ud83c\\udde8\", \"\\ud83c\\udfae\", \"\\ud83d\\udc36\", \"\\ud83d\\ude1b\", \"\\ud83d\\udd2c\", \"\\ud83d\\ude31\", \"\\ud83e\\udd84\", \"\\ud83c\\udf69\", \"\\ud83c\\udf89\", \"\\ud83c\\udf82\", \"\\ud83e\\udddb\", \"\\ud83c\\udf52\", \"\\ud83e\\udde1\", \"\\ud83d\\udc9a\", \"\\ud83d\\udc9c\", \"\\ud83c\\udf08\", \"\\u26fa\", \"\\u26ea\", \"\\ud83c\\udf03\", \"\\ud83c\\udf44\", \"\\ud83c\\udf55\", \"\\ud83d\\ude03\", \"\\ud83d\\ude43\", \"\\ud83d\\ude97\", \"\\ud83d\\ude99\", \"\\ud83c\\udf38\", \"\\ud83d\\udc31\"], \"xaxis\": \"x\", \"y\": [4, 34, 50, 3, 226, 20, 6, 10, 2, 11, 124, 5, 4, 8, 15, 9, 28, 5, 38, 1, 5, 48, 18, 9, 3, 4, 1, 2, 7, 1, 4, 1, 4, 2, 4, 5, 6, 2, 3, 3, 1, 2, 7, 1, 1, 1, 1, 4, 15, 1, 1, 17, 1, 2, 1, 4, 3, 3, 5, 1, 1, 2, 2, 3, 4, 7, 2, 1, 1, 3, 1, 1, 7, 1, 1, 1, 1, 2, 5, 1, 2, 1, 1, 8, 3, 3, 10, 10, 8, 2, 4, 3, 1, 6, 2, 1, 3, 1, 9, 3, 4, 4, 1, 2, 1, 1, 1, 2, 1, 1, 1, 3, 2, 4, 2, 3, 4, 1, 3, 1, 2, 2, 3, 3, 2, 13, 1, 1, 1, 2, 2, 6, 1, 2, 2, 1, 1, 2, 2, 1, 1, 4, 1, 1, 1, 2, 2, 1, 1, 16, 4, 1, 2, 1, 1, 1, 1, 3, 1, 2, 1, 2, 1, 1, 1, 1, 1, 1, 1, 1, 1, 1, 1, 3, 1, 1, 1, 1, 1, 1], \"yaxis\": \"y\"}],\n",
              "                        {\"barmode\": \"relative\", \"legend\": {\"tracegroupgap\": 0}, \"margin\": {\"t\": 60}, \"template\": {\"data\": {\"bar\": [{\"error_x\": {\"color\": \"#2a3f5f\"}, \"error_y\": {\"color\": \"#2a3f5f\"}, \"marker\": {\"line\": {\"color\": \"#E5ECF6\", \"width\": 0.5}}, \"type\": \"bar\"}], \"barpolar\": [{\"marker\": {\"line\": {\"color\": \"#E5ECF6\", \"width\": 0.5}}, \"type\": \"barpolar\"}], \"carpet\": [{\"aaxis\": {\"endlinecolor\": \"#2a3f5f\", \"gridcolor\": \"white\", \"linecolor\": \"white\", \"minorgridcolor\": \"white\", \"startlinecolor\": \"#2a3f5f\"}, \"baxis\": {\"endlinecolor\": \"#2a3f5f\", \"gridcolor\": \"white\", \"linecolor\": \"white\", \"minorgridcolor\": \"white\", \"startlinecolor\": \"#2a3f5f\"}, \"type\": \"carpet\"}], \"choropleth\": [{\"colorbar\": {\"outlinewidth\": 0, \"ticks\": \"\"}, \"type\": \"choropleth\"}], \"contour\": [{\"colorbar\": {\"outlinewidth\": 0, \"ticks\": \"\"}, \"colorscale\": [[0.0, \"#0d0887\"], [0.1111111111111111, \"#46039f\"], [0.2222222222222222, \"#7201a8\"], [0.3333333333333333, \"#9c179e\"], [0.4444444444444444, \"#bd3786\"], [0.5555555555555556, \"#d8576b\"], [0.6666666666666666, \"#ed7953\"], [0.7777777777777778, \"#fb9f3a\"], [0.8888888888888888, \"#fdca26\"], [1.0, \"#f0f921\"]], \"type\": \"contour\"}], \"contourcarpet\": [{\"colorbar\": {\"outlinewidth\": 0, \"ticks\": \"\"}, \"type\": \"contourcarpet\"}], \"heatmap\": [{\"colorbar\": {\"outlinewidth\": 0, \"ticks\": \"\"}, \"colorscale\": [[0.0, \"#0d0887\"], [0.1111111111111111, \"#46039f\"], [0.2222222222222222, \"#7201a8\"], [0.3333333333333333, \"#9c179e\"], [0.4444444444444444, \"#bd3786\"], [0.5555555555555556, \"#d8576b\"], [0.6666666666666666, \"#ed7953\"], [0.7777777777777778, \"#fb9f3a\"], [0.8888888888888888, \"#fdca26\"], [1.0, \"#f0f921\"]], \"type\": \"heatmap\"}], \"heatmapgl\": [{\"colorbar\": {\"outlinewidth\": 0, \"ticks\": \"\"}, \"colorscale\": [[0.0, \"#0d0887\"], [0.1111111111111111, \"#46039f\"], [0.2222222222222222, \"#7201a8\"], [0.3333333333333333, \"#9c179e\"], [0.4444444444444444, \"#bd3786\"], [0.5555555555555556, \"#d8576b\"], [0.6666666666666666, \"#ed7953\"], [0.7777777777777778, \"#fb9f3a\"], [0.8888888888888888, \"#fdca26\"], [1.0, \"#f0f921\"]], \"type\": \"heatmapgl\"}], \"histogram\": [{\"marker\": {\"colorbar\": {\"outlinewidth\": 0, \"ticks\": \"\"}}, \"type\": \"histogram\"}], \"histogram2d\": [{\"colorbar\": {\"outlinewidth\": 0, \"ticks\": \"\"}, \"colorscale\": [[0.0, \"#0d0887\"], [0.1111111111111111, \"#46039f\"], [0.2222222222222222, \"#7201a8\"], [0.3333333333333333, \"#9c179e\"], [0.4444444444444444, \"#bd3786\"], [0.5555555555555556, \"#d8576b\"], [0.6666666666666666, \"#ed7953\"], [0.7777777777777778, \"#fb9f3a\"], [0.8888888888888888, \"#fdca26\"], [1.0, \"#f0f921\"]], \"type\": \"histogram2d\"}], \"histogram2dcontour\": [{\"colorbar\": {\"outlinewidth\": 0, \"ticks\": \"\"}, \"colorscale\": [[0.0, \"#0d0887\"], [0.1111111111111111, \"#46039f\"], [0.2222222222222222, \"#7201a8\"], [0.3333333333333333, \"#9c179e\"], [0.4444444444444444, \"#bd3786\"], [0.5555555555555556, \"#d8576b\"], [0.6666666666666666, \"#ed7953\"], [0.7777777777777778, \"#fb9f3a\"], [0.8888888888888888, \"#fdca26\"], [1.0, \"#f0f921\"]], \"type\": \"histogram2dcontour\"}], \"mesh3d\": [{\"colorbar\": {\"outlinewidth\": 0, \"ticks\": \"\"}, \"type\": \"mesh3d\"}], \"parcoords\": [{\"line\": {\"colorbar\": {\"outlinewidth\": 0, \"ticks\": \"\"}}, \"type\": \"parcoords\"}], \"pie\": [{\"automargin\": true, \"type\": \"pie\"}], \"scatter\": [{\"marker\": {\"colorbar\": {\"outlinewidth\": 0, \"ticks\": \"\"}}, \"type\": \"scatter\"}], \"scatter3d\": [{\"line\": {\"colorbar\": {\"outlinewidth\": 0, \"ticks\": \"\"}}, \"marker\": {\"colorbar\": {\"outlinewidth\": 0, \"ticks\": \"\"}}, \"type\": \"scatter3d\"}], \"scattercarpet\": [{\"marker\": {\"colorbar\": {\"outlinewidth\": 0, \"ticks\": \"\"}}, \"type\": \"scattercarpet\"}], \"scattergeo\": [{\"marker\": {\"colorbar\": {\"outlinewidth\": 0, \"ticks\": \"\"}}, \"type\": \"scattergeo\"}], \"scattergl\": [{\"marker\": {\"colorbar\": {\"outlinewidth\": 0, \"ticks\": \"\"}}, \"type\": \"scattergl\"}], \"scattermapbox\": [{\"marker\": {\"colorbar\": {\"outlinewidth\": 0, \"ticks\": \"\"}}, \"type\": \"scattermapbox\"}], \"scatterpolar\": [{\"marker\": {\"colorbar\": {\"outlinewidth\": 0, \"ticks\": \"\"}}, \"type\": \"scatterpolar\"}], \"scatterpolargl\": [{\"marker\": {\"colorbar\": {\"outlinewidth\": 0, \"ticks\": \"\"}}, \"type\": \"scatterpolargl\"}], \"scatterternary\": [{\"marker\": {\"colorbar\": {\"outlinewidth\": 0, \"ticks\": \"\"}}, \"type\": \"scatterternary\"}], \"surface\": [{\"colorbar\": {\"outlinewidth\": 0, \"ticks\": \"\"}, \"colorscale\": [[0.0, \"#0d0887\"], [0.1111111111111111, \"#46039f\"], [0.2222222222222222, \"#7201a8\"], [0.3333333333333333, \"#9c179e\"], [0.4444444444444444, \"#bd3786\"], [0.5555555555555556, \"#d8576b\"], [0.6666666666666666, \"#ed7953\"], [0.7777777777777778, \"#fb9f3a\"], [0.8888888888888888, \"#fdca26\"], [1.0, \"#f0f921\"]], \"type\": \"surface\"}], \"table\": [{\"cells\": {\"fill\": {\"color\": \"#EBF0F8\"}, \"line\": {\"color\": \"white\"}}, \"header\": {\"fill\": {\"color\": \"#C8D4E3\"}, \"line\": {\"color\": \"white\"}}, \"type\": \"table\"}]}, \"layout\": {\"annotationdefaults\": {\"arrowcolor\": \"#2a3f5f\", \"arrowhead\": 0, \"arrowwidth\": 1}, \"coloraxis\": {\"colorbar\": {\"outlinewidth\": 0, \"ticks\": \"\"}}, \"colorscale\": {\"diverging\": [[0, \"#8e0152\"], [0.1, \"#c51b7d\"], [0.2, \"#de77ae\"], [0.3, \"#f1b6da\"], [0.4, \"#fde0ef\"], [0.5, \"#f7f7f7\"], [0.6, \"#e6f5d0\"], [0.7, \"#b8e186\"], [0.8, \"#7fbc41\"], [0.9, \"#4d9221\"], [1, \"#276419\"]], \"sequential\": [[0.0, \"#0d0887\"], [0.1111111111111111, \"#46039f\"], [0.2222222222222222, \"#7201a8\"], [0.3333333333333333, \"#9c179e\"], [0.4444444444444444, \"#bd3786\"], [0.5555555555555556, \"#d8576b\"], [0.6666666666666666, \"#ed7953\"], [0.7777777777777778, \"#fb9f3a\"], [0.8888888888888888, \"#fdca26\"], [1.0, \"#f0f921\"]], \"sequentialminus\": [[0.0, \"#0d0887\"], [0.1111111111111111, \"#46039f\"], [0.2222222222222222, \"#7201a8\"], [0.3333333333333333, \"#9c179e\"], [0.4444444444444444, \"#bd3786\"], [0.5555555555555556, \"#d8576b\"], [0.6666666666666666, \"#ed7953\"], [0.7777777777777778, \"#fb9f3a\"], [0.8888888888888888, \"#fdca26\"], [1.0, \"#f0f921\"]]}, \"colorway\": [\"#636efa\", \"#EF553B\", \"#00cc96\", \"#ab63fa\", \"#FFA15A\", \"#19d3f3\", \"#FF6692\", \"#B6E880\", \"#FF97FF\", \"#FECB52\"], \"font\": {\"color\": \"#2a3f5f\"}, \"geo\": {\"bgcolor\": \"white\", \"lakecolor\": \"white\", \"landcolor\": \"#E5ECF6\", \"showlakes\": true, \"showland\": true, \"subunitcolor\": \"white\"}, \"hoverlabel\": {\"align\": \"left\"}, \"hovermode\": \"closest\", \"mapbox\": {\"style\": \"light\"}, \"paper_bgcolor\": \"white\", \"plot_bgcolor\": \"#E5ECF6\", \"polar\": {\"angularaxis\": {\"gridcolor\": \"white\", \"linecolor\": \"white\", \"ticks\": \"\"}, \"bgcolor\": \"#E5ECF6\", \"radialaxis\": {\"gridcolor\": \"white\", \"linecolor\": \"white\", \"ticks\": \"\"}}, \"scene\": {\"xaxis\": {\"backgroundcolor\": \"#E5ECF6\", \"gridcolor\": \"white\", \"gridwidth\": 2, \"linecolor\": \"white\", \"showbackground\": true, \"ticks\": \"\", \"zerolinecolor\": \"white\"}, \"yaxis\": {\"backgroundcolor\": \"#E5ECF6\", \"gridcolor\": \"white\", \"gridwidth\": 2, \"linecolor\": \"white\", \"showbackground\": true, \"ticks\": \"\", \"zerolinecolor\": \"white\"}, \"zaxis\": {\"backgroundcolor\": \"#E5ECF6\", \"gridcolor\": \"white\", \"gridwidth\": 2, \"linecolor\": \"white\", \"showbackground\": true, \"ticks\": \"\", \"zerolinecolor\": \"white\"}}, \"shapedefaults\": {\"line\": {\"color\": \"#2a3f5f\"}}, \"ternary\": {\"aaxis\": {\"gridcolor\": \"white\", \"linecolor\": \"white\", \"ticks\": \"\"}, \"baxis\": {\"gridcolor\": \"white\", \"linecolor\": \"white\", \"ticks\": \"\"}, \"bgcolor\": \"#E5ECF6\", \"caxis\": {\"gridcolor\": \"white\", \"linecolor\": \"white\", \"ticks\": \"\"}}, \"title\": {\"x\": 0.05}, \"xaxis\": {\"automargin\": true, \"gridcolor\": \"white\", \"linecolor\": \"white\", \"ticks\": \"\", \"title\": {\"standoff\": 15}, \"zerolinecolor\": \"white\", \"zerolinewidth\": 2}, \"yaxis\": {\"automargin\": true, \"gridcolor\": \"white\", \"linecolor\": \"white\", \"ticks\": \"\", \"title\": {\"standoff\": 15}, \"zerolinecolor\": \"white\", \"zerolinewidth\": 2}}}, \"xaxis\": {\"anchor\": \"y\", \"domain\": [0.0, 1.0], \"title\": {\"text\": \"x\"}}, \"yaxis\": {\"anchor\": \"x\", \"domain\": [0.0, 1.0], \"title\": {\"text\": \"y\"}}},\n",
              "                        {\"responsive\": true}\n",
              "                    ).then(function(){\n",
              "                            \n",
              "var gd = document.getElementById('59d441be-c175-43a6-b39a-b190bae568b1');\n",
              "var x = new MutationObserver(function (mutations, observer) {{\n",
              "        var display = window.getComputedStyle(gd).display;\n",
              "        if (!display || display === 'none') {{\n",
              "            console.log([gd, 'removed!']);\n",
              "            Plotly.purge(gd);\n",
              "            observer.disconnect();\n",
              "        }}\n",
              "}});\n",
              "\n",
              "// Listen for the removal of the full notebook cells\n",
              "var notebookContainer = gd.closest('#notebook-container');\n",
              "if (notebookContainer) {{\n",
              "    x.observe(notebookContainer, {childList: true});\n",
              "}}\n",
              "\n",
              "// Listen for the clearing of the current output cell\n",
              "var outputEl = gd.closest('.output');\n",
              "if (outputEl) {{\n",
              "    x.observe(outputEl, {childList: true});\n",
              "}}\n",
              "\n",
              "                        })\n",
              "                };\n",
              "                \n",
              "            </script>\n",
              "        </div>\n",
              "</body>\n",
              "</html>"
            ]
          },
          "metadata": {
            "tags": []
          }
        }
      ]
    },
    {
      "cell_type": "markdown",
      "metadata": {
        "id": "UmA5GhWAmJqk"
      },
      "source": [
        "What words does Elon Musk use?"
      ]
    },
    {
      "cell_type": "code",
      "metadata": {
        "id": "dbYvdN8rmJqm"
      },
      "source": [
        "\"Mr. Smith is big\" \"They're too many, I think\" \"He said 'hello'\" \"hello\" \"Hello\" \"hello.\""
      ],
      "execution_count": null,
      "outputs": []
    },
    {
      "cell_type": "code",
      "metadata": {
        "id": "NfcnEgPWmJqq"
      },
      "source": [
        "import string\n",
        "\n",
        "example_tweet = \"Hello, how is everyone doing today. They're clouds in the sky.\"\n",
        "\n",
        "def words_in_tweet(tweet):\n",
        "    result = []\n",
        "    for word in tweet.split():\n",
        "        if word[-1] in string.punctuation:\n",
        "            word = word[0:-1]\n",
        "        if not (word == ''):\n",
        "            result.append(word)\n",
        "    return result\n",
        "\n",
        "elon_words = {}\n",
        "for tweet in elon_tweets:\n",
        "    words = words_in_tweet(tweet)\n",
        "    for word in words:\n",
        "        if word in elon_words:\n",
        "            elon_words[word] += 1\n",
        "        else:\n",
        "            elon_words[word] = 1\n",
        "\n",
        "elon_words"
      ],
      "execution_count": null,
      "outputs": []
    },
    {
      "cell_type": "markdown",
      "metadata": {
        "id": "GxkiifprmJqq"
      },
      "source": [
        "What long words does Elon use?"
      ]
    },
    {
      "cell_type": "code",
      "metadata": {
        "id": "Jl4GTAu47qsz"
      },
      "source": [
        "for word in elon_words:\n",
        "    if len(word) >= 12 and not word.startswith('@'):\n",
        "        print(word)"
      ],
      "execution_count": null,
      "outputs": []
    },
    {
      "cell_type": "markdown",
      "metadata": {
        "id": "0Z53ibRomJqu"
      },
      "source": [
        "Is there another solution to this problem?\n",
        "\n",
        "> Oh no, somaona hes dona somathing tarribla to my writing. Thay'va sweppad eround tha lattar 'e' end tha lattar 'a'"
      ]
    },
    {
      "cell_type": "code",
      "metadata": {
        "id": "-Hc64cuBmJqv",
        "colab": {
          "base_uri": "https://localhost:8080/",
          "height": 36
        },
        "outputId": "f1fcf46c-2175-4fe9-bd35-6495728b186f"
      },
      "source": [
        "example_string = \"Oh no, somaona hes dona somathing tarribla to my writing. Thay'va sweppad eround tha lattar 'e' end tha lattar 'a'\"\n",
        "\n",
        "translation = { \"a\": \"e\", \"e\": \"a\" }\n",
        "\n",
        "result = \"\"\n",
        "for character in example_string:\n",
        "    if character in translation:\n",
        "        result += translation[character]\n",
        "    else:\n",
        "        result += character\n",
        "\n",
        "result\n",
        "\n",
        "example_string.translate(str.maketrans(translation))"
      ],
      "execution_count": 88,
      "outputs": [
        {
          "output_type": "execute_result",
          "data": {
            "application/vnd.google.colaboratory.intrinsic+json": {
              "type": "string"
            },
            "text/plain": [
              "\"Oh no, someone has done something terrible to my writing. They've swapped around the letter 'a' and the letter 'e'\""
            ]
          },
          "metadata": {
            "tags": []
          },
          "execution_count": 88
        }
      ]
    }
  ]
}