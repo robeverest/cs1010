{
 "metadata": {
  "language_info": {
   "codemirror_mode": {
    "name": "ipython",
    "version": 3
   },
   "file_extension": ".py",
   "mimetype": "text/x-python",
   "name": "python",
   "nbconvert_exporter": "python",
   "pygments_lexer": "ipython3",
   "version": "3.8.5-final"
  },
  "orig_nbformat": 2,
  "kernelspec": {
   "name": "python_defaultSpec_1600409647053",
   "display_name": "Python 3.8.5 64-bit",
   "language": "python"
  }
 },
 "nbformat": 4,
 "nbformat_minor": 2,
 "cells": [
  {
   "cell_type": "markdown",
   "metadata": {},
   "source": [
    "# Week 2 Lab (2 marks)\n",
    "\n",
    "**IMPORTANT NOTE** If you're using Colaboratory, make sure you save a copy of these exercises to Google drive by clicking 'Copy to Drive' at the top of the page. Otherwise, your answers will not be saved.\n",
    "\n",
    "To get the marks for these tasks, you need to show your solutions to you lab demonstrater in either your week 2 or week 3 lab."
   ]
  },
  {
   "cell_type": "markdown",
   "metadata": {},
   "source": [
    "## More functions (0.5 marks)\n",
    "\n",
    "Write functions in the cells provided to answer the following questions."
   ]
  },
  {
   "cell_type": "markdown",
   "metadata": {},
   "source": [
    "### Longer tweets\n",
    "\n",
    "Write a function `extend_tweet(tweet)` that takes in a string that is 280 characters or less and adds enough full stops ('.') to the end to make it exactly 280 characters."
   ]
  },
  {
   "cell_type": "code",
   "execution_count": null,
   "metadata": {},
   "outputs": [],
   "source": []
  },
  {
   "cell_type": "markdown",
   "metadata": {},
   "source": [
    "Use this cell below to check if you got it right. The last line of the result should say the tweet is 280 characters."
   ]
  },
  {
   "cell_type": "code",
   "execution_count": null,
   "metadata": {
    "tags": []
   },
   "outputs": [],
   "source": [
    "short_tweet = \"Oh my god, did you hear about my amazing life. It's just so great. I want to tell you about it in so much detail\"\n",
    "long_tweet = extend_tweet(short_tweet)\n",
    "print(long_tweet)\n",
    "print(\"Tweet is \" + str(len(long_tweet)) + \" characters long\")"
   ]
  },
  {
   "cell_type": "markdown",
   "metadata": {},
   "source": [
    "### Tranquility\n",
    "\n",
    "Write a function `field_of_trees(size)` that takes in one argument, `size`, and returns a string containing a `size*size` field of palm trees surrounded by water. For example, this is what `field_of_trees(3)` should look like.\n",
    "```\n",
    "🌊🌊🌊🌊🌊\n",
    "🌊🌴🌴🌴🌊\n",
    "🌊🌴🌴🌴🌊\n",
    "🌊🌴🌴🌴🌊\n",
    "🌊🌊🌊🌊🌊\n",
    "```\n",
    "The names of the two emoji being used are \"palm tree\" and \"water wave\"."
   ]
  },
  {
   "cell_type": "code",
   "execution_count": null,
   "metadata": {
    "tags": []
   },
   "outputs": [],
   "source": []
  },
  {
   "cell_type": "markdown",
   "metadata": {},
   "source": [
    "Run the code cell below to check you have the right answer. You should get a result that is the same as the example above."
   ]
  },
  {
   "cell_type": "code",
   "execution_count": null,
   "metadata": {
    "tags": []
   },
   "outputs": [],
   "source": [
    "print(field_of_trees(3))"
   ]
  },
  {
   "cell_type": "markdown",
   "metadata": {},
   "source": [
    "## Lists (0.5 marks)\n",
    "\n",
    "Like with strings, Python features many operations that can be performed on lists. These include:\n",
    "\n",
    "* Concatenating (joining together) them with `+`\n",
    "* Replicating (repeating) them with `*`\n",
    "* Indexing them with `[...]`\n",
    "\n",
    "Use these operations on the following list to answer the questions below. They can all be solved **without** loops."
   ]
  },
  {
   "cell_type": "code",
   "execution_count": null,
   "metadata": {},
   "outputs": [],
   "source": [
    "students = [\"Sally Studies\", \"Penelope Prepares\", \"Francis Forgets\", \"David Doesn't-Read-Spec\", \"Oliver Overconfident\", \"Larry Leaves-It-To-The-Last-Minute\"]"
   ]
  },
  {
   "cell_type": "markdown",
   "metadata": {},
   "source": [
    "Who is the student at index 2?"
   ]
  },
  {
   "cell_type": "code",
   "execution_count": null,
   "metadata": {},
   "outputs": [],
   "source": []
  },
  {
   "cell_type": "markdown",
   "metadata": {},
   "source": [
    "Replace \"David Doesn't-Read-Spec\" with a new student \"Emily Eager\""
   ]
  },
  {
   "cell_type": "code",
   "execution_count": null,
   "metadata": {},
   "outputs": [],
   "source": []
  },
  {
   "cell_type": "markdown",
   "metadata": {},
   "source": [
    "Create a new list with just the first two students repeated 2 times (i.e. `[\"Sally Studies\", \"Penelope Prepares\", \"Sally Studies\", \"Penelope Prepares\"]`)"
   ]
  },
  {
   "cell_type": "code",
   "execution_count": null,
   "metadata": {},
   "outputs": [],
   "source": []
  },
  {
   "cell_type": "markdown",
   "metadata": {},
   "source": [
    "## For Loops (0.5 marks)"
   ]
  },
  {
   "cell_type": "markdown",
   "metadata": {},
   "source": [
    "Given the following list of words, write a `for... in...` loop in the same cell that joins all the words together in a single string (i.e. \"correcthorsebatterystaple\")"
   ]
  },
  {
   "cell_type": "code",
   "execution_count": null,
   "metadata": {},
   "outputs": [],
   "source": [
    "words = [\"correct\", \"horse\", \"battery\", \"staple\"]"
   ]
  },
  {
   "cell_type": "markdown",
   "metadata": {},
   "source": [
    "Using the same list of words as above, write a loop that calculates $2a + e$ where $a$ is the number of times the letter \"a\" appears in all the words and $e$ is the number of times the letter \"e\" occurs. You should get a result of 8."
   ]
  },
  {
   "cell_type": "code",
   "execution_count": null,
   "metadata": {
    "tags": []
   },
   "outputs": [],
   "source": []
  },
  {
   "cell_type": "markdown",
   "metadata": {},
   "source": [
    "## Conditionals (0.5 marks)\n",
    "\n",
    "Write a function `bad_div(x,y)` that returns $\\frac{x}{y}$ unless `y` is zero in which case it returns the number 0. "
   ]
  },
  {
   "cell_type": "code",
   "execution_count": null,
   "metadata": {},
   "outputs": [],
   "source": []
  },
  {
   "cell_type": "markdown",
   "metadata": {},
   "source": [
    "Write a for loop that computes the sum of all the numbers in the given list excluding any that are 13 or greater. You should get a result of 37."
   ]
  },
  {
   "cell_type": "code",
   "execution_count": null,
   "metadata": {},
   "outputs": [],
   "source": [
    "numbers = [4 , 7 , 2, 13, 3, 5, 4, 12, 14]"
   ]
  },
  {
   "cell_type": "markdown",
   "metadata": {},
   "source": [
    "## Challenge question\n",
    "\n",
    "**NOTE:** This question is **NOT** worth any marks and is meant to present a significant challenge. It's here for those who wish to extend themselves. Even if you're not able to solve it, you may find giving it a try good practice and you can always come back to it in later weeks. "
   ]
  },
  {
   "cell_type": "markdown",
   "metadata": {},
   "source": [
    "Write a function `obfuscate(text)` that takes in any text and moves the last letter of each word to the end. For example, \"the quick brown fox jumped over the lazy dog\" becomes \"het uickq rownb oxf umpedj vero het azyl ogd\". You can make the following assumptions:\n",
    "\n",
    "* The only characters other than letters of the alphabet are spaces\n",
    "* If the word is a single character (e.g. \"a\") you don't need to do anything\n",
    "* The text won't start with a space\n",
    "* You won't have two spaces next to each other\n",
    "\n",
    "**HINT** You can loop over characters in an array with a `for... in...` loop, just like you can with a list."
   ]
  },
  {
   "cell_type": "code",
   "execution_count": null,
   "metadata": {},
   "outputs": [],
   "source": []
  },
  {
   "cell_type": "markdown",
   "metadata": {},
   "source": [
    "Use the cell below to check your function works."
   ]
  },
  {
   "cell_type": "code",
   "execution_count": null,
   "metadata": {},
   "outputs": [],
   "source": [
    "obfuscate(\"the quick brown fox jumped over the lazy dog\")"
   ]
  }
 ]
}