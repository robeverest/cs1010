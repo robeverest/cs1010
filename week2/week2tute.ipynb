{
 "metadata": {
  "language_info": {
   "codemirror_mode": {
    "name": "ipython",
    "version": 3
   },
   "file_extension": ".py",
   "mimetype": "text/x-python",
   "name": "python",
   "nbconvert_exporter": "python",
   "pygments_lexer": "ipython3",
   "version": "3.8.5-final"
  },
  "orig_nbformat": 2,
  "kernelspec": {
   "name": "python3",
   "display_name": "Python 3.8.5 64-bit",
   "language": "python"
  }
 },
 "nbformat": 4,
 "nbformat_minor": 2,
 "cells": [
  {
   "cell_type": "markdown",
   "metadata": {},
   "source": [
    "# Week 2 Tutorial"
   ]
  },
  {
   "cell_type": "markdown",
   "metadata": {},
   "source": [
    "## Kahoot\n",
    "\n",
    "Your tutor will run through a Kahoot with you to test how well you remember basic Python concepts.\n",
    "\n",
    "The Kahoot is available [here](https://create.kahoot.it/v2/share/2c2d8474-9a8e-4251-95a6-f180de039174)."
   ]
  },
  {
   "cell_type": "markdown",
   "metadata": {},
   "source": [
    "## Fixing python\n",
    "\n",
    "The following problems all have solutions written in Python. However, they contain bugs that stop them from working correctly. Try to identify the bug and fix it."
   ]
  },
  {
   "cell_type": "markdown",
   "metadata": {},
   "source": [
    "How many characters are in this quote?"
   ]
  },
  {
   "cell_type": "code",
   "execution_count": null,
   "metadata": {},
   "outputs": [],
   "source": [
    "quote = \"This isn’t flying. This is falling with style.\"\n",
    "\n",
    "quote.len()"
   ]
  },
  {
   "cell_type": "markdown",
   "metadata": {},
   "source": [
    "How many 9s are in the decimal representation of this number?"
   ]
  },
  {
   "cell_type": "code",
   "execution_count": null,
   "metadata": {},
   "outputs": [],
   "source": [
    "a big number = 87609809843907458937469\n",
    "\n",
    "str(a big number).count(\"9\")"
   ]
  },
  {
   "cell_type": "markdown",
   "metadata": {},
   "source": [
    "If factory produces 500 cars in 30 days, how many cars are they producing an hour, on average, assuming the factory operates for 8 hours a day?"
   ]
  },
  {
   "cell_type": "code",
   "execution_count": null,
   "metadata": {},
   "outputs": [],
   "source": [
    "500 / 30*8"
   ]
  },
  {
   "cell_type": "markdown",
   "metadata": {},
   "source": [
    "Write a function that computes the multiplicative inverse of its argument `x` (i.e. $\\frac{1}{x}$)"
   ]
  },
  {
   "cell_type": "code",
   "execution_count": null,
   "metadata": {},
   "outputs": [],
   "source": [
    "def inverse(x):\n",
    "    1 / x"
   ]
  },
  {
   "cell_type": "markdown",
   "metadata": {},
   "source": [
    "## Boolean logic\n",
    "\n",
    "Your tutor will divide you into groups of 3 or 4 for this task.\n",
    "\n",
    "Consider the code in this cell:"
   ]
  },
  {
   "cell_type": "code",
   "execution_count": null,
   "metadata": {},
   "outputs": [],
   "source": [
    "word = \"laugh\"\n",
    "len(word) == 5 and (word[0] == \"l\" or word[3:5] == \"gh\")"
   ]
  },
  {
   "cell_type": "markdown",
   "metadata": {},
   "source": [
    "If you run it, you will see that it evaluates to `False`. If you change the first line to `word = \"laugh\"` and rerun the cell, you should see the result change to `True`. With the other members of your group, see how many other dictionary words you can assign to `word` such that the result is `True`. You may find it helpful to write down, in natural language, the logic that is being used."
   ]
  },
  {
   "cell_type": "markdown",
   "metadata": {},
   "source": [
    "## For loops\n",
    "\n",
    "The following code uses a `for... in...` loop to multiply a list of numbers."
   ]
  },
  {
   "cell_type": "code",
   "execution_count": null,
   "metadata": {},
   "outputs": [],
   "source": [
    "numbers = [4, 8, 15, 16, 23, 42]\n",
    "product = 1\n",
    "\n",
    "for n in numbers:\n",
    "    product = product * n\n",
    "\n",
    "product"
   ]
  },
  {
   "cell_type": "markdown",
   "metadata": {},
   "source": [
    "If there are parts of this you do not understand, ask your tutor for clarification. In particular consider:\n",
    "\n",
    "* Why is `product` initially set to 1 and not 0?\n",
    "* How many times is the body of the loop going to get executed?\n",
    "* Why does the line in the body of the loop need to be indented?"
   ]
  }
 ]
}