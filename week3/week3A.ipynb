{
  "nbformat": 4,
  "nbformat_minor": 0,
  "metadata": {
    "colab": {
      "name": "week3A.ipynb",
      "provenance": [],
      "collapsed_sections": []
    },
    "kernelspec": {
      "name": "python3",
      "display_name": "Python 3",
      "language": "python"
    }
  },
  "cells": [
    {
      "cell_type": "markdown",
      "metadata": {
        "id": "YTt5mk8qrZCJ",
        "colab_type": "text"
      },
      "source": [
        "# Project\n",
        "\n",
        "* Specification is up on the class website.\n",
        "* If you're still looking for a partner, email your tutor!\n",
        "* It's okay if you don't have a project idea yet, but you might want to start thinking of one.\n",
        "* Next week we'll start building web servers in Python, so that should give you a better idea of the things you can do.\n",
        "\n",
        "## Key Terms\n",
        "\n",
        "* Prototype - A preliminary version of a product or system.\n",
        "* Minimum Viable Product (MVP) - A version of a product with just enough features to satisfy early customers and provide feedback."
      ]
    },
    {
      "source": [
        "# Loop Recap"
      ],
      "cell_type": "markdown",
      "metadata": {}
    },
    {
      "source": [
        "Given this list of strings, find all the strings with the same first and last letter."
      ],
      "cell_type": "markdown",
      "metadata": {}
    },
    {
      "cell_type": "code",
      "execution_count": null,
      "metadata": {},
      "outputs": [],
      "source": [
        "words = [\"thought\", \"lilac\", \"going\", \"upside\", \"kayak\"]"
      ]
    },
    {
      "source": [
        "# None\n",
        "\n",
        "None is a special value in Python we can use to represent values that are unknown.\n",
        "\n",
        "**Important Info**:\n",
        "\n",
        "* The type of `None` is `NoneType`. It is the only value of that type.\n",
        "* Python has special support for dealing with `None` values in `if` statements."
      ],
      "cell_type": "markdown",
      "metadata": {}
    },
    {
      "source": [
        "Write a function `maximum(numbers)` that finds the maximum number in a list."
      ],
      "cell_type": "markdown",
      "metadata": {}
    },
    {
      "cell_type": "code",
      "execution_count": null,
      "metadata": {
        "tags": []
      },
      "outputs": [],
      "source": []
    },
    {
      "source": [
        "# Assertions\n",
        "\n",
        "We use `assert` in Python to check whether certain things are true and cause an error if they're not.\n",
        "\n",
        "**Important Info**:\n",
        "\n",
        "* We use *assert* to test whether code is working correctly.\n",
        "* It works for any boolean value, but most often is used to check equality."
      ],
      "cell_type": "markdown",
      "metadata": {}
    },
    {
      "source": [
        "Write further tests for `maximum(numbers)`."
      ],
      "cell_type": "markdown",
      "metadata": {}
    },
    {
      "cell_type": "code",
      "execution_count": null,
      "metadata": {},
      "outputs": [],
      "source": []
    },
    {
      "cell_type": "markdown",
      "metadata": {
        "id": "66g8ozhFmJol",
        "colab_type": "text"
      },
      "source": [
        "# Musk tweets\n",
        "\n",
        "This code cell creates a list from some of Elon Musk's tweets. \n",
        "\n",
        "*You're not expected to completely understand this code yet. It's only here to give us interesting data*."
      ]
    },
    {
      "cell_type": "code",
      "metadata": {
        "id": "sm93K6xzmJon",
        "colab_type": "code",
        "colab": {}
      },
      "source": [
        "import pandas\n",
        "\n",
        "raw_tweets = pandas.read_csv('https://raw.githubusercontent.com/robeverest/cs1010/master/data/elonmusk-full.csv')\n",
        "elon_tweets = list(raw_tweets.tweet)"
      ],
      "execution_count": 47,
      "outputs": []
    },
    {
      "source": [
        "What words does Elon use?"
      ],
      "cell_type": "markdown",
      "metadata": {}
    },
    {
      "cell_type": "code",
      "execution_count": null,
      "metadata": {},
      "outputs": [],
      "source": [
        "import string\n",
        "\n",
        "example_tweet = \"Hello, how is everyone doing today. They're clouds in the sky.\"\n",
        "\n",
        "def words_in_tweet(tweet):\n",
        "    result = []\n",
        "    for word in tweet.split():\n",
        "        if word[-1] in string.punctuation:\n",
        "            word = word[0:-1]\n",
        "        if not (word == ''):\n",
        "            result.append(word)\n",
        "    return result\n",
        "\n",
        "elon_words = {}\n",
        "for tweet in elon_tweets:\n",
        "    words = words_in_tweet(tweet)\n",
        "    for word in words:\n",
        "        if word in elon_words:\n",
        "            elon_words[word] += 1\n",
        "        else:\n",
        "            elon_words[word] = 1\n",
        "\n",
        "elon_words"
      ]
    },
    {
      "cell_type": "markdown",
      "metadata": {
        "id": "613oIoSUmJqx"
      },
      "source": [
        "# Randomness\n",
        "\n"
      ]
    },
    {
      "cell_type": "markdown",
      "metadata": {
        "id": "L54e4Sp8mJqy"
      },
      "source": [
        "Many times, introducing some randomness in our programs is useful. In Python, this can be done with the `random` module."
      ]
    },
    {
      "cell_type": "code",
      "metadata": {
        "id": "YKOFxcTemJqz"
      },
      "source": [
        "import random"
      ],
      "execution_count": null,
      "outputs": []
    },
    {
      "cell_type": "markdown",
      "metadata": {
        "id": "ZtQP7UZ_mJq3"
      },
      "source": [
        "Can we pick a random Elon Musk tweet?"
      ]
    },
    {
      "cell_type": "code",
      "metadata": {
        "id": "tl6tVkaymJq4"
      },
      "source": [],
      "execution_count": null,
      "outputs": []
    },
    {
      "cell_type": "markdown",
      "metadata": {
        "id": "x896vEOsmJq8"
      },
      "source": [
        "Pick a random word from Elon Musk's tweets?"
      ]
    },
    {
      "cell_type": "code",
      "metadata": {
        "id": "AbtMtHIamJq8"
      },
      "source": [],
      "execution_count": null,
      "outputs": []
    },
    {
      "cell_type": "markdown",
      "metadata": {
        "id": "-Dk1mVWjmJq_"
      },
      "source": [
        "Pick a random word with the same probability that it would occur in a Elon Musk tweet?"
      ]
    },
    {
      "cell_type": "code",
      "metadata": {
        "id": "_MXp_45NmJrA"
      },
      "source": [],
      "execution_count": null,
      "outputs": []
    },
    {
      "cell_type": "markdown",
      "metadata": {
        "id": "JBuutgfOmJrC"
      },
      "source": [
        "Generate a random Elon Musk tweet?"
      ]
    },
    {
      "cell_type": "code",
      "metadata": {
        "id": "PY_dM-BimJrD"
      },
      "source": [],
      "execution_count": null,
      "outputs": []
    },
    {
      "source": [
        "# While loops\n",
        "\n",
        "In Python, `while` can be used to create a loop that will execute *while* some boolean value is true."
      ],
      "cell_type": "markdown",
      "metadata": {}
    },
    {
      "source": [
        "Count from 1 to 10"
      ],
      "cell_type": "markdown",
      "metadata": {}
    },
    {
      "cell_type": "code",
      "execution_count": null,
      "metadata": {},
      "outputs": [],
      "source": []
    },
    {
      "source": [
        "Keep on rerolling a die till you roll a 6"
      ],
      "cell_type": "markdown",
      "metadata": {}
    },
    {
      "cell_type": "code",
      "execution_count": null,
      "metadata": {},
      "outputs": [],
      "source": []
    },
    {
      "cell_type": "markdown",
      "metadata": {
        "id": "MGchX8kWrZEP"
      },
      "source": [
        "# Tuples\n",
        "\n",
        "In Python, Tuples are like lists, with on key difference. They are *immutable*. That means they cannot be changed after they have been created. In this way, they are similar to strings."
      ]
    },
    {
      "cell_type": "markdown",
      "metadata": {
        "id": "qR7sB87zrZEQ"
      },
      "source": [
        "Create a tuple containing 'a', 'b', and 'c'."
      ]
    },
    {
      "cell_type": "code",
      "metadata": {
        "id": "9J1XOBSqrZER"
      },
      "source": [],
      "execution_count": null,
      "outputs": []
    },
    {
      "cell_type": "markdown",
      "metadata": {
        "id": "qys5UkdlrZEU"
      },
      "source": [
        "In what way are tuples different to lists?"
      ]
    },
    {
      "cell_type": "code",
      "metadata": {
        "id": "lOF4QbelrZEU"
      },
      "source": [],
      "execution_count": null,
      "outputs": []
    },
    {
      "source": [
        "# Better Generated Tweets"
      ],
      "cell_type": "markdown",
      "metadata": {}
    },
    {
      "source": [
        "What words follow other words and how often?"
      ],
      "cell_type": "markdown",
      "metadata": {}
    },
    {
      "cell_type": "code",
      "execution_count": null,
      "metadata": {},
      "outputs": [],
      "source": []
    },
    {
      "source": [
        "What words are only ever followed by one or zero other words?"
      ],
      "cell_type": "markdown",
      "metadata": {}
    },
    {
      "cell_type": "code",
      "execution_count": null,
      "metadata": {},
      "outputs": [],
      "source": []
    },
    {
      "source": [
        "Can we use this to generate convincing sounding Trump tweets?"
      ],
      "cell_type": "markdown",
      "metadata": {}
    },
    {
      "cell_type": "code",
      "execution_count": null,
      "metadata": {},
      "outputs": [],
      "source": []
    },
    {
      "cell_type": "markdown",
      "metadata": {
        "id": "p6OfOfo7rZEX"
      },
      "source": [
        "# Images\n",
        "\n",
        "<img src=\"https://source.unsplash.com/deb2EnbWPr8\" width=500 />\n",
        "\n",
        "**Important info**:\n",
        "* An image is a $width \\times height$ grid of pixels\n",
        "* Each pixel has a Red, Green, and Blue component\n"
      ]
    },
    {
      "cell_type": "markdown",
      "metadata": {
        "id": "jNPI25OLrZEY"
      },
      "source": [
        "Using the [Pillow](https://python-pillow.org/) library in python allows us to create and manipulate images.\n",
        "\n",
        "**Note:** This is not something we will be covering in depth in this course, so don't feel you have to memorise how to manipulate images."
      ]
    },
    {
      "cell_type": "markdown",
      "metadata": {
        "id": "biK8bQdIrZEY"
      },
      "source": [
        "Can we create a blank canvas"
      ]
    },
    {
      "cell_type": "code",
      "metadata": {
        "id": "oFRsb9BprZEZ"
      },
      "source": [],
      "execution_count": null,
      "outputs": []
    },
    {
      "cell_type": "markdown",
      "metadata": {
        "id": "aHpUqq85rZEb"
      },
      "source": [
        "Can we create some abstract art"
      ]
    },
    {
      "cell_type": "code",
      "metadata": {
        "id": "ArPV6hAqrZEd"
      },
      "source": [],
      "execution_count": null,
      "outputs": []
    },
    {
      "cell_type": "markdown",
      "metadata": {
        "id": "lTRbF5F0rZEf"
      },
      "source": [
        "Can we blur our art?"
      ]
    },
    {
      "cell_type": "code",
      "metadata": {
        "id": "oAnszqfmrZEf"
      },
      "source": [],
      "execution_count": null,
      "outputs": []
    }
  ]
}
