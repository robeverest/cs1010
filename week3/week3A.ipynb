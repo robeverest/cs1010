{
  "nbformat": 4,
  "nbformat_minor": 0,
  "metadata": {
    "colab": {
      "name": "week3A.ipynb",
      "provenance": [],
      "collapsed_sections": []
    },
    "kernelspec": {
      "name": "python3",
      "display_name": "Python 3",
      "language": "python"
    }
  },
  "cells": [
    {
      "cell_type": "markdown",
      "metadata": {
        "id": "YTt5mk8qrZCJ"
      },
      "source": [
        "# Project\n",
        "\n",
        "* Specification is up on the class website.\n",
        "* If you're still looking for a partner, email your tutor!\n",
        "* It's okay if you don't have a project idea yet, but you might want to start thinking of one.\n",
        "* Next week we'll start building web servers in Python, so that should give you a better idea of the things you can do.\n",
        "\n",
        "## Key Terms\n",
        "\n",
        "* Prototype - A preliminary version of a product or system.\n",
        "* Minimum Viable Product (MVP) - A version of a product with just enough features to satisfy early customers and provide feedback."
      ]
    },
    {
      "cell_type": "markdown",
      "metadata": {
        "id": "zWzc21ZXnDhx"
      },
      "source": [
        "# Loop Recap"
      ]
    },
    {
      "cell_type": "markdown",
      "metadata": {
        "id": "bwoF33wLnDhx"
      },
      "source": [
        "Given this list of strings, find all the strings with the same first and last letter."
      ]
    },
    {
      "cell_type": "code",
      "metadata": {
        "id": "0dYJFUrCnDhy",
        "outputId": "6eda7b8a-0821-4437-bb14-e67dde7a0ef3",
        "colab": {
          "base_uri": "https://localhost:8080/"
        }
      },
      "source": [
        "words = [\"thought\", \"lilac\", \"going\", \"upside\", \"kayak\"]\n",
        "\n",
        "first_last_words = []\n",
        "for word in words:\n",
        "    if word[0] == word[-1]:\n",
        "        first_last_words.append(word)\n",
        "\n",
        "first_last_words"
      ],
      "execution_count": 3,
      "outputs": [
        {
          "output_type": "execute_result",
          "data": {
            "text/plain": [
              "['thought', 'going', 'kayak']"
            ]
          },
          "metadata": {
            "tags": []
          },
          "execution_count": 3
        }
      ]
    },
    {
      "cell_type": "markdown",
      "metadata": {
        "id": "fVjLLbIvnDhz"
      },
      "source": [
        "# None\n",
        "\n",
        "None is a special value in Python we can use to represent values that are unknown.\n",
        "\n",
        "**Important Info**:\n",
        "\n",
        "* The type of `None` is `NoneType`. It is the only value of that type.\n",
        "* Python has special support for dealing with `None` values in `if` statements."
      ]
    },
    {
      "cell_type": "markdown",
      "metadata": {
        "id": "czRFDjwFnDhz"
      },
      "source": [
        "Write a function `maximum(numbers)` that finds the maximum number in a list."
      ]
    },
    {
      "cell_type": "code",
      "metadata": {
        "tags": [],
        "id": "kSJJOycgnDhz"
      },
      "source": [
        "def maximum(numbers):\n",
        "    highest = None\n",
        "    for number in numbers:\n",
        "        if highest == None or number > highest:\n",
        "        # if not highest or number > highest:\n",
        "            highest = number\n",
        "    return highest"
      ],
      "execution_count": 30,
      "outputs": []
    },
    {
      "cell_type": "code",
      "metadata": {
        "id": "cT1tELpMv6zL",
        "outputId": "461d036a-afd4-4998-a030-71c7e17e8146",
        "colab": {
          "base_uri": "https://localhost:8080/"
        }
      },
      "source": [
        "maximum([1,2,3])"
      ],
      "execution_count": 19,
      "outputs": [
        {
          "output_type": "execute_result",
          "data": {
            "text/plain": [
              "3"
            ]
          },
          "metadata": {
            "tags": []
          },
          "execution_count": 19
        }
      ]
    },
    {
      "cell_type": "code",
      "metadata": {
        "id": "Dg_zU7BIv-yk",
        "outputId": "1e9c98e3-b449-4bd0-c51a-d153d472edff",
        "colab": {
          "base_uri": "https://localhost:8080/"
        }
      },
      "source": [
        "maximum([3,2,1])"
      ],
      "execution_count": 20,
      "outputs": [
        {
          "output_type": "execute_result",
          "data": {
            "text/plain": [
              "3"
            ]
          },
          "metadata": {
            "tags": []
          },
          "execution_count": 20
        }
      ]
    },
    {
      "cell_type": "code",
      "metadata": {
        "id": "Fdzih1k6wB2Z",
        "outputId": "2d6eb54b-5737-46d6-eebf-fd8d6aed5262",
        "colab": {
          "base_uri": "https://localhost:8080/"
        }
      },
      "source": [
        "maximum([0, 10, 10000000])"
      ],
      "execution_count": 21,
      "outputs": [
        {
          "output_type": "execute_result",
          "data": {
            "text/plain": [
              "10000000"
            ]
          },
          "metadata": {
            "tags": []
          },
          "execution_count": 21
        }
      ]
    },
    {
      "cell_type": "code",
      "metadata": {
        "id": "2htA9_xLwG3L",
        "outputId": "4db86f5a-afe4-4333-c842-2810ed0664af",
        "colab": {
          "base_uri": "https://localhost:8080/"
        }
      },
      "source": [
        "maximum([-1, 0, 1])"
      ],
      "execution_count": 22,
      "outputs": [
        {
          "output_type": "execute_result",
          "data": {
            "text/plain": [
              "1"
            ]
          },
          "metadata": {
            "tags": []
          },
          "execution_count": 22
        }
      ]
    },
    {
      "cell_type": "code",
      "metadata": {
        "id": "asuxILCywKmx",
        "outputId": "aa383edd-2cdf-4946-bfa9-b17af62ccc17",
        "colab": {
          "base_uri": "https://localhost:8080/"
        }
      },
      "source": [
        "maximum([-1, -2, -3])"
      ],
      "execution_count": 23,
      "outputs": [
        {
          "output_type": "execute_result",
          "data": {
            "text/plain": [
              "-1"
            ]
          },
          "metadata": {
            "tags": []
          },
          "execution_count": 23
        }
      ]
    },
    {
      "cell_type": "markdown",
      "metadata": {
        "id": "YAD40Nb8nDhz"
      },
      "source": [
        "# Assertions\n",
        "\n",
        "We use `assert` in Python to check whether certain things are true and cause an error if they're not.\n",
        "\n",
        "**Important Info**:\n",
        "\n",
        "* We use *assert* to test whether code is working correctly.\n",
        "* It works for any boolean value, but most often is used to check equality."
      ]
    },
    {
      "cell_type": "markdown",
      "metadata": {
        "id": "N8l45ePWnDh1"
      },
      "source": [
        "Write further tests for `maximum(numbers)`."
      ]
    },
    {
      "cell_type": "code",
      "metadata": {
        "id": "rWF_olwonDh1"
      },
      "source": [
        "assert maximum([1,2,3]) == 3\n",
        "assert maximum([3,2,1]) == 3\n",
        "assert maximum([0,10,10000000]) == 10000000\n",
        "assert maximum([-1,0,1]) == 1\n",
        "assert maximum([-1,-2,-3]) == -1"
      ],
      "execution_count": 31,
      "outputs": []
    },
    {
      "cell_type": "markdown",
      "metadata": {
        "id": "66g8ozhFmJol"
      },
      "source": [
        "# Musk tweets\n",
        "\n",
        "This code cell creates a list from some of Elon Musk's tweets. \n",
        "\n",
        "*You're not expected to completely understand this code yet. It's only here to give us interesting data*."
      ]
    },
    {
      "cell_type": "code",
      "metadata": {
        "id": "sm93K6xzmJon"
      },
      "source": [
        "import pandas\n",
        "\n",
        "raw_tweets = pandas.read_csv('https://raw.githubusercontent.com/robeverest/cs1010/master/data/elonmusk-full.csv')\n",
        "elon_tweets = list(map(str, list(raw_tweets.tweet)))"
      ],
      "execution_count": 97,
      "outputs": []
    },
    {
      "cell_type": "code",
      "metadata": {
        "id": "S0tzwu7szcql"
      },
      "source": [
        "elon_tweets"
      ],
      "execution_count": null,
      "outputs": []
    },
    {
      "cell_type": "markdown",
      "metadata": {
        "id": "gmoGP1e0nDh2"
      },
      "source": [
        "What words does Elon use?"
      ]
    },
    {
      "cell_type": "code",
      "metadata": {
        "id": "1zwsOEEjnDh2"
      },
      "source": [
        "import string\n",
        "\n",
        "example_tweet = \"Hello, how is everyone doing today. They're clouds in the sky.\"\n",
        "\n",
        "def words_in_tweet(tweet):\n",
        "    result = []\n",
        "    for word in tweet.split():\n",
        "        if word[-1] in string.punctuation:\n",
        "            word = word[0:-1]\n",
        "        if not (word == ''):\n",
        "            result.append(word)\n",
        "    return result\n",
        "\n",
        "elon_words = {}\n",
        "for tweet in elon_tweets:\n",
        "    words = words_in_tweet(tweet)\n",
        "    for word in words:\n",
        "        if word in elon_words:\n",
        "            elon_words[word] += 1\n",
        "        else:\n",
        "            elon_words[word] = 1\n",
        "\n",
        "elon_words"
      ],
      "execution_count": null,
      "outputs": []
    },
    {
      "cell_type": "markdown",
      "metadata": {
        "id": "613oIoSUmJqx"
      },
      "source": [
        "# Randomness\n",
        "\n"
      ]
    },
    {
      "cell_type": "markdown",
      "metadata": {
        "id": "L54e4Sp8mJqy"
      },
      "source": [
        "Many times, introducing some randomness in our programs is useful. In Python, this can be done with the `random` module."
      ]
    },
    {
      "cell_type": "code",
      "metadata": {
        "id": "YKOFxcTemJqz"
      },
      "source": [
        "import random"
      ],
      "execution_count": 37,
      "outputs": []
    },
    {
      "cell_type": "markdown",
      "metadata": {
        "id": "ZtQP7UZ_mJq3"
      },
      "source": [
        "Can we pick a random Elon Musk tweet?"
      ]
    },
    {
      "cell_type": "code",
      "metadata": {
        "id": "tl6tVkaymJq4",
        "outputId": "2dd56095-997d-4a3c-e367-e1c5d81db714",
        "colab": {
          "base_uri": "https://localhost:8080/",
          "height": 36
        }
      },
      "source": [
        "random.choice(elon_tweets)"
      ],
      "execution_count": 42,
      "outputs": [
        {
          "output_type": "execute_result",
          "data": {
            "application/vnd.google.colaboratory.intrinsic+json": {
              "type": "string"
            },
            "text/plain": [
              "'There are way easier places to work, but nobody ever changed the world on 40 hours a week'"
            ]
          },
          "metadata": {
            "tags": []
          },
          "execution_count": 42
        }
      ]
    },
    {
      "cell_type": "markdown",
      "metadata": {
        "id": "x896vEOsmJq8"
      },
      "source": [
        "Pick a random word from Elon Musk's tweets?"
      ]
    },
    {
      "cell_type": "code",
      "metadata": {
        "id": "AbtMtHIamJq8",
        "outputId": "1ad4f26e-2771-46b7-e8c4-e8392c9edbe8",
        "colab": {
          "base_uri": "https://localhost:8080/",
          "height": 36
        }
      },
      "source": [
        "random.choice(list(elon_words.keys()))"
      ],
      "execution_count": 67,
      "outputs": [
        {
          "output_type": "execute_result",
          "data": {
            "application/vnd.google.colaboratory.intrinsic+json": {
              "type": "string"
            },
            "text/plain": [
              "'rescuing'"
            ]
          },
          "metadata": {
            "tags": []
          },
          "execution_count": 67
        }
      ]
    },
    {
      "cell_type": "markdown",
      "metadata": {
        "id": "-Dk1mVWjmJq_"
      },
      "source": [
        "Pick a random word with the same probability that it would occur in a Elon Musk tweet?"
      ]
    },
    {
      "cell_type": "code",
      "metadata": {
        "id": "_MXp_45NmJrA",
        "outputId": "7fd4772c-c2b2-4720-8b44-9eb992df3373",
        "colab": {
          "base_uri": "https://localhost:8080/"
        }
      },
      "source": [
        "random.choices(list(elon_words.keys()), weights=list(elon_words.values()))"
      ],
      "execution_count": 82,
      "outputs": [
        {
          "output_type": "execute_result",
          "data": {
            "text/plain": [
              "['as']"
            ]
          },
          "metadata": {
            "tags": []
          },
          "execution_count": 82
        }
      ]
    },
    {
      "cell_type": "markdown",
      "metadata": {
        "id": "JBuutgfOmJrC"
      },
      "source": [
        "Generate a random Elon Musk tweet?"
      ]
    },
    {
      "cell_type": "code",
      "metadata": {
        "id": "PY_dM-BimJrD",
        "outputId": "2633c320-82e8-42e7-fe32-7440e2418ffa",
        "colab": {
          "base_uri": "https://localhost:8080/",
          "height": 36
        }
      },
      "source": [
        "words = random.choices(list(elon_words.keys()), weights=list(elon_words.values()), k=6)\n",
        "\n",
        "fake_tweet = \"\"\n",
        "for word in words:\n",
        "    fake_tweet = fake_tweet + word + \" \"\n",
        "\n",
        "fake_tweet"
      ],
      "execution_count": 106,
      "outputs": [
        {
          "output_type": "execute_result",
          "data": {
            "application/vnd.google.colaboratory.intrinsic+json": {
              "type": "string"
            },
            "text/plain": [
              "'to but 20 good amazing people '"
            ]
          },
          "metadata": {
            "tags": []
          },
          "execution_count": 106
        }
      ]
    },
    {
      "cell_type": "code",
      "metadata": {
        "id": "GA5bmDWJ2y6F",
        "outputId": "7bab8c80-303c-4356-c2e5-097047d0bfcc",
        "colab": {
          "base_uri": "https://localhost:8080/",
          "height": 36
        }
      },
      "source": [
        "elon_tweets[-1]"
      ],
      "execution_count": 87,
      "outputs": [
        {
          "output_type": "execute_result",
          "data": {
            "application/vnd.google.colaboratory.intrinsic+json": {
              "type": "string"
            },
            "text/plain": [
              "'Please ignore prior tweets, as that was someone pretending to be me :)  This is actually me.'"
            ]
          },
          "metadata": {
            "tags": []
          },
          "execution_count": 87
        }
      ]
    },
    {
      "cell_type": "markdown",
      "metadata": {
        "id": "t-8kqkwhnDh6"
      },
      "source": [
        "# While loops\n",
        "\n",
        "In Python, `while` can be used to create a loop that will execute *while* some boolean value is true."
      ]
    },
    {
      "cell_type": "markdown",
      "metadata": {
        "id": "Wm0DeczXnDh6"
      },
      "source": [
        "Count from 1 to 10"
      ]
    },
    {
      "cell_type": "code",
      "metadata": {
        "id": "qyVx-qz4nDh6",
        "outputId": "a43bfda2-d490-43d5-b315-9b08dae60d22",
        "colab": {
          "base_uri": "https://localhost:8080/"
        }
      },
      "source": [
        "i = 1\n",
        "while i <= 10:\n",
        "    print(i)\n",
        "    i = i + 1"
      ],
      "execution_count": 108,
      "outputs": [
        {
          "output_type": "stream",
          "text": [
            "1\n",
            "2\n",
            "3\n",
            "4\n",
            "5\n",
            "6\n",
            "7\n",
            "8\n",
            "9\n",
            "10\n"
          ],
          "name": "stdout"
        }
      ]
    },
    {
      "cell_type": "markdown",
      "metadata": {
        "id": "3VziuFBtnDh7"
      },
      "source": [
        "Keep on rerolling a die till you roll a 6"
      ]
    },
    {
      "cell_type": "code",
      "metadata": {
        "id": "TbGtMMIvnDh7",
        "outputId": "2014b4a4-38d4-408b-dba1-da8bae7fb05b",
        "colab": {
          "base_uri": "https://localhost:8080/"
        }
      },
      "source": [
        "die = None\n",
        "\n",
        "while die != 6:\n",
        "    die = random.randint(1, 6)\n",
        "    print(die)"
      ],
      "execution_count": 113,
      "outputs": [
        {
          "output_type": "stream",
          "text": [
            "4\n",
            "3\n",
            "3\n",
            "5\n",
            "4\n",
            "6\n"
          ],
          "name": "stdout"
        }
      ]
    },
    {
      "cell_type": "markdown",
      "metadata": {
        "id": "MGchX8kWrZEP"
      },
      "source": [
        "# Tuples\n",
        "\n",
        "In Python, Tuples are like lists, with on key difference. They are *immutable*. That means they cannot be changed after they have been created. In this way, they are similar to strings."
      ]
    },
    {
      "cell_type": "markdown",
      "metadata": {
        "id": "qR7sB87zrZEQ"
      },
      "source": [
        "Create a tuple containing 'a', 'b', and 'c'."
      ]
    },
    {
      "cell_type": "code",
      "metadata": {
        "id": "9J1XOBSqrZER",
        "outputId": "a92d7045-44ee-4799-f199-0f2b1fca9fe2",
        "colab": {
          "base_uri": "https://localhost:8080/"
        }
      },
      "source": [
        "example_list = ['a', 'b', 'c']\n",
        "example_tuple = ('a', 'b', 'c')\n",
        "\n",
        "example_tuple"
      ],
      "execution_count": 115,
      "outputs": [
        {
          "output_type": "execute_result",
          "data": {
            "text/plain": [
              "('a', 'b', 'c')"
            ]
          },
          "metadata": {
            "tags": []
          },
          "execution_count": 115
        }
      ]
    },
    {
      "cell_type": "markdown",
      "metadata": {
        "id": "qys5UkdlrZEU"
      },
      "source": [
        "In what way are tuples different to lists?"
      ]
    },
    {
      "cell_type": "code",
      "metadata": {
        "id": "lOF4QbelrZEU"
      },
      "source": [
        "example_list.append('d')\n",
        "\n",
        "# example_tuple.append('d')\n",
        "\n",
        "example_list[0] = 'f'\n",
        "# example_tuple[0] = 'f'"
      ],
      "execution_count": null,
      "outputs": []
    },
    {
      "cell_type": "code",
      "metadata": {
        "id": "zERxXZpG8je7"
      },
      "source": [
        "example_dictionary = { ('a', 'b'): 1, ('c', 'd'): 2 }"
      ],
      "execution_count": 121,
      "outputs": []
    },
    {
      "cell_type": "code",
      "metadata": {
        "id": "YKNwz3P586z0"
      },
      "source": [
        "repeated_tuple = (1,1,3)\n",
        "repeated_list = [1,1,3]"
      ],
      "execution_count": 122,
      "outputs": []
    },
    {
      "cell_type": "markdown",
      "metadata": {
        "id": "jMIZJ5VInDh8"
      },
      "source": [
        "# Better Generated Tweets"
      ]
    },
    {
      "cell_type": "markdown",
      "metadata": {
        "id": "R2PjouFPnDh8"
      },
      "source": [
        "What words follow other words and how often?"
      ]
    },
    {
      "cell_type": "code",
      "metadata": {
        "id": "LKPzcVb4nDh8"
      },
      "source": [
        "example_tweet = \"the cat sat on the mat. the cat slept\"\n",
        "\n",
        "# the 2-> cat, the -> mat., cat -> sat, sat -> on, on -> the, cat -> slept\n",
        "\n",
        "example_result = { None: { \"the\": 1 }, \"the\": { \"cat\": 2, \"mat.\": 1}, \n",
        "                  \"cat\": { \"sat\": 1, \"slept\": 1}, \"sat\": { \"on\": 1 }, \"on\": {\"the\": 1}}\n",
        "\n",
        "# word_pairs = []\n",
        "# for tweet in elon_tweets:\n",
        "#     previous_word = None\n",
        "#     for word in tweet.split():\n",
        "#         word_pairs.append((previous_word, word))\n",
        "#         previous_word = word\n",
        "# word_pairs\n",
        "\n",
        "word_probabilities = {}\n",
        "\n",
        "word_probabilities[None] = {}\n",
        "\n",
        "for tweet in elon_tweets:\n",
        "    previous_word = None\n",
        "    for word in tweet.split():\n",
        "        if word in word_probabilities[previous_word]:\n",
        "            word_probabilities[previous_word][word] += 1\n",
        "        else:\n",
        "            word_probabilities[previous_word][word] = 1\n",
        "        if not word in word_probabilities:\n",
        "            word_probabilities[word] = {} \n",
        "        previous_word = word\n",
        "word_probabilities"
      ],
      "execution_count": null,
      "outputs": []
    },
    {
      "cell_type": "markdown",
      "metadata": {
        "id": "c3ud7xYUnDh9"
      },
      "source": [
        "What words are only ever followed by one or zero other words?"
      ]
    },
    {
      "cell_type": "code",
      "metadata": {
        "id": "n7CRoEfsnDh9"
      },
      "source": [
        "# for word in word_probabilities:\n",
        "#     if word_probabilities[word] == {}:\n",
        "#         print(word)\n",
        "\n",
        "for word in word_probabilities:\n",
        "    if len(word_probabilities[word]) == 1:\n",
        "        print(word)\n",
        "        print(word_probabilities[word].keys())"
      ],
      "execution_count": null,
      "outputs": []
    },
    {
      "cell_type": "markdown",
      "metadata": {
        "id": "22_99kOqnDh9"
      },
      "source": [
        "Can we use this to generate convincing sounding Trump tweets?"
      ]
    },
    {
      "cell_type": "code",
      "metadata": {
        "id": "mONHwAU2nDh-"
      },
      "source": [
        ""
      ],
      "execution_count": null,
      "outputs": []
    },
    {
      "cell_type": "markdown",
      "metadata": {
        "id": "p6OfOfo7rZEX"
      },
      "source": [
        "# Images\n",
        "\n",
        "<img src=\"https://source.unsplash.com/deb2EnbWPr8\" width=500 />\n",
        "\n",
        "**Important info**:\n",
        "* An image is a $width \\times height$ grid of pixels\n",
        "* Each pixel has a Red, Green, and Blue component\n"
      ]
    },
    {
      "cell_type": "markdown",
      "metadata": {
        "id": "jNPI25OLrZEY"
      },
      "source": [
        "Using the [Pillow](https://python-pillow.org/) library in python allows us to create and manipulate images.\n",
        "\n",
        "**Note:** This is not something we will be covering in depth in this course, so don't feel you have to memorise how to manipulate images."
      ]
    },
    {
      "cell_type": "markdown",
      "metadata": {
        "id": "biK8bQdIrZEY"
      },
      "source": [
        "Can we create a blank canvas"
      ]
    },
    {
      "cell_type": "code",
      "metadata": {
        "id": "oFRsb9BprZEZ"
      },
      "source": [
        ""
      ],
      "execution_count": null,
      "outputs": []
    },
    {
      "cell_type": "markdown",
      "metadata": {
        "id": "aHpUqq85rZEb"
      },
      "source": [
        "Can we create some abstract art"
      ]
    },
    {
      "cell_type": "code",
      "metadata": {
        "id": "ArPV6hAqrZEd"
      },
      "source": [
        ""
      ],
      "execution_count": null,
      "outputs": []
    },
    {
      "cell_type": "markdown",
      "metadata": {
        "id": "lTRbF5F0rZEf"
      },
      "source": [
        "Can we blur our art?"
      ]
    },
    {
      "cell_type": "code",
      "metadata": {
        "id": "oAnszqfmrZEf"
      },
      "source": [
        ""
      ],
      "execution_count": null,
      "outputs": []
    }
  ]
}