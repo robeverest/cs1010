{
  "nbformat": 4,
  "nbformat_minor": 0,
  "metadata": {
    "colab": {
      "name": "week3A.ipynb",
      "provenance": [],
      "collapsed_sections": []
    },
    "kernelspec": {
      "name": "python3",
      "display_name": "Python",
      "language": "python"
    }
  },
  "cells": [
    {
      "cell_type": "markdown",
      "metadata": {
        "id": "YTt5mk8qrZCJ",
        "colab_type": "text"
      },
      "source": [
        "# Project\n",
        "\n",
        "* Specification is up on the class website.\n",
        "* If you're still looking for a partner, email your tutor!\n",
        "* It's okay if you don't have a project idea yet, but you might want to start thinking of one.\n",
        "* Next week we'll start building web servers in Python, so that should give you a better idea of the things you can do.\n",
        "\n",
        "## Key Terms\n",
        "\n",
        "* Prototype - A preliminary version of a product or system.\n",
        "* Minimum Viable Product (MVP) - A version of a product with just enough features to satisfy early customers and provide feedback."
      ]
    },
    {
      "source": [
        "# Loop Recap"
      ],
      "cell_type": "markdown",
      "metadata": {}
    },
    {
      "source": [
        "Given this list of strings, find all the strings with the same first and last letter."
      ],
      "cell_type": "markdown",
      "metadata": {}
    },
    {
      "cell_type": "code",
      "execution_count": null,
      "metadata": {},
      "outputs": [],
      "source": [
        "words = [\"thought\", \"lilac\", \"going\", \"upside\", \"kayak\"]"
      ]
    },
    {
      "source": [
        "# None\n",
        "\n",
        "None is a special value in Python we can use to represent values that are unknown.\n",
        "\n",
        "**Important Info**:\n",
        "\n",
        "* The type of `None` is `NoneType`. It is the only value of that type.\n",
        "* Python has special support for dealing with `None` values in `if` statements."
      ],
      "cell_type": "markdown",
      "metadata": {}
    },
    {
      "source": [
        "Write a function `maximum(numbers)` that finds the maximum number in a list."
      ],
      "cell_type": "markdown",
      "metadata": {}
    },
    {
      "cell_type": "code",
      "execution_count": null,
      "metadata": {
        "tags": []
      },
      "outputs": [],
      "source": []
    },
    {
      "source": [
        "# Assertions\n",
        "\n",
        "We use `assert` in Python to check whether certain things are true and cause an error if they're not.\n",
        "\n",
        "**Important Info**:\n",
        "\n",
        "* We use *assert* to test whether code is working correctly.\n",
        "* It works for any boolean value, but most often is used to check equality."
      ],
      "cell_type": "markdown",
      "metadata": {}
    },
    {
      "source": [
        "Write further tests for `maximum(numbers)`."
      ],
      "cell_type": "markdown",
      "metadata": {}
    },
    {
      "cell_type": "code",
      "execution_count": null,
      "metadata": {},
      "outputs": [],
      "source": []
    },
    {
      "source": [
        "# While loops\n",
        "\n",
        "In Python, `while` can be used to create a loop that will execute *while* some boolean value is true."
      ],
      "cell_type": "markdown",
      "metadata": {}
    },
    {
      "source": [
        "Count from 1 to 10"
      ],
      "cell_type": "markdown",
      "metadata": {}
    },
    {
      "cell_type": "code",
      "execution_count": null,
      "metadata": {},
      "outputs": [],
      "source": []
    },
    {
      "source": [
        "Keep on rerolling a die till you roll a 6"
      ],
      "cell_type": "markdown",
      "metadata": {}
    },
    {
      "cell_type": "code",
      "execution_count": null,
      "metadata": {},
      "outputs": [],
      "source": []
    },
    {
      "cell_type": "markdown",
      "metadata": {
        "id": "66g8ozhFmJol",
        "colab_type": "text"
      },
      "source": [
        "# Trump tweets\n",
        "\n",
        "This code cell creates a list from Donald Trump's tweets. *You're not expected to completely understand this code yet. It's only here to give us interesting data*."
      ]
    },
    {
      "cell_type": "code",
      "metadata": {
        "id": "sm93K6xzmJon",
        "colab_type": "code",
        "colab": {}
      },
      "source": [
        "import pandas\n",
        "\n",
        "trump_tweets = list(pandas.read_json('https://raw.githubusercontent.com/robeverest/cs1010/master/data/trump.json', 'records').text)"
      ],
      "execution_count": null,
      "outputs": []
    },
    {
      "source": [
        "What words does Trump use?"
      ],
      "cell_type": "markdown",
      "metadata": {}
    },
    {
      "cell_type": "code",
      "execution_count": null,
      "metadata": {},
      "outputs": [],
      "source": [
        "trump_words = {}\n",
        "\n",
        "import string\n",
        "\n",
        "def words_in_tweet(tweet):\n",
        "    words = []\n",
        "    for word in tweet.split():\n",
        "        if word[-1] in string.punctuation:\n",
        "            word = word[0:-1]\n",
        "        words.append(word)\n",
        "    return words\n",
        "\n",
        "for tweet in trump_tweets:\n",
        "    words = words_in_tweet(tweet)\n",
        "    for word in words:\n",
        "        if word in trump_words:\n",
        "            trump_words[word] += 1\n",
        "        else:\n",
        "            trump_words[word] = 1"
      ]
    },
    {
      "cell_type": "markdown",
      "metadata": {
        "id": "JBuutgfOmJrC",
        "colab_type": "text"
      },
      "source": [
        "Generate a random Trump tweet from the words?"
      ]
    },
    {
      "cell_type": "code",
      "metadata": {
        "id": "PY_dM-BimJrD",
        "colab_type": "code",
        "colab": {
          "base_uri": "https://localhost:8080/",
          "height": 36
        },
        "outputId": "0adac4c5-4a44-4297-99a8-ad5a3572f993"
      },
      "source": [
        "import random\n",
        "\n",
        "trump_random_words = random.choices(list(trump_words.keys()), weights=list(trump_words.values()), k=20)\n",
        "\n",
        "generated_tweet = \"\"\n",
        "for word in trump_random_words:\n",
        "    generated_tweet += word + \" \"\n",
        "\n",
        "generated_tweet"
      ],
      "execution_count": null,
      "outputs": []
    },
    {
      "source": [
        "What words follow other words and how often?"
      ],
      "cell_type": "markdown",
      "metadata": {}
    },
    {
      "cell_type": "code",
      "execution_count": null,
      "metadata": {},
      "outputs": [],
      "source": []
    },
    {
      "source": [
        "What words are only ever followed by one or zero other words?"
      ],
      "cell_type": "markdown",
      "metadata": {}
    },
    {
      "cell_type": "code",
      "execution_count": null,
      "metadata": {},
      "outputs": [],
      "source": []
    },
    {
      "source": [
        "Can we use this to generate convincing sounding Trump tweets?"
      ],
      "cell_type": "markdown",
      "metadata": {}
    },
    {
      "cell_type": "code",
      "execution_count": null,
      "metadata": {},
      "outputs": [],
      "source": [
        "\n"
      ]
    },
    {
      "source": [
        "How often are generated tweets identical to real tweets? "
      ],
      "execution_count": 75,
      "outputs": [
        {
          "output_type": "execute_result",
          "data": {
            "text/plain": [
              "0.01"
            ]
          },
          "metadata": {
            "tags": []
          },
          "execution_count": 75
        }
      ]
    }
  ]
}