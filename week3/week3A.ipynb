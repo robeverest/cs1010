{
  "nbformat": 4,
  "nbformat_minor": 0,
  "metadata": {
    "colab": {
      "name": "week3A.ipynb",
      "provenance": [],
      "collapsed_sections": []
    },
    "kernelspec": {
      "name": "python3",
      "display_name": "Python",
      "language": "python"
    }
  },
  "cells": [
    {
      "cell_type": "markdown",
      "metadata": {
        "id": "YTt5mk8qrZCJ",
        "colab_type": "text"
      },
      "source": [
        "# Project\n",
        "\n",
        "* Specification is up on the class website.\n",
        "* If you're still looking for a partner, email your tutor!\n",
        "* It's okay if you don't have a project idea yet, but you might want to start thinking of one.\n",
        "* Next week we'll start building web servers in Python, so that should give you a better idea of the things you can do."
      ]
    },
    {
      "source": [
        "# Loop Recap"
      ],
      "cell_type": "markdown",
      "metadata": {}
    },
    {
      "source": [
        "Given this list of strings, find all the strings with the same first and last letter."
      ],
      "cell_type": "markdown",
      "metadata": {}
    },
    {
      "cell_type": "code",
      "execution_count": null,
      "metadata": {},
      "outputs": [],
      "source": [
        "words = [\"thought\", \"lilac\", \"going\", \"upside\", \"kayak\"]"
      ]
    },
    {
      "source": [
        "# None\n",
        "\n",
        "None is a special value in Python we can use to represent values that are unknown.\n",
        "\n",
        "**Important Info**:\n",
        "\n",
        "* The type of `None` is `NoneType`. It is the only value of that type.\n",
        "* Python has special support for dealing with `None` values in `if` statements."
      ],
      "cell_type": "markdown",
      "metadata": {}
    },
    {
      "source": [
        "Write a function `maximum(numbers)` that finds the maximum number in a list."
      ],
      "cell_type": "markdown",
      "metadata": {}
    },
    {
      "cell_type": "code",
      "execution_count": null,
      "metadata": {
        "tags": []
      },
      "outputs": [],
      "source": []
    },
    {
      "source": [
        "# Assertions\n",
        "\n",
        "We use `assert` in Python to check whether certain things are true and cause an error if they're not.\n",
        "\n",
        "**Important Info**:\n",
        "\n",
        "* We use *assert* to test whether code is working correctly.\n",
        "* It works for any boolean value, but most often is used to check equality."
      ],
      "cell_type": "markdown",
      "metadata": {}
    },
    {
      "source": [
        "Write further tests for `maximum(numbers)`."
      ],
      "cell_type": "markdown",
      "metadata": {}
    },
    {
      "cell_type": "code",
      "execution_count": null,
      "metadata": {},
      "outputs": [],
      "source": []
    },
    {
      "source": [
        "# While loops\n",
        "\n",
        "In Python, `while` can be used to create a loop that will execute *while* some boolean value is true."
      ],
      "cell_type": "markdown",
      "metadata": {}
    },
    {
      "source": [
        "Count from 1 to 10"
      ],
      "cell_type": "markdown",
      "metadata": {}
    },
    {
      "cell_type": "code",
      "execution_count": null,
      "metadata": {},
      "outputs": [],
      "source": []
    },
    {
      "source": [
        "Keep on rerolling a die till you roll a 6"
      ],
      "cell_type": "markdown",
      "metadata": {}
    },
    {
      "cell_type": "code",
      "execution_count": null,
      "metadata": {},
      "outputs": [],
      "source": []
    },
    {
      "cell_type": "markdown",
      "metadata": {
        "id": "66g8ozhFmJol",
        "colab_type": "text"
      },
      "source": [
        "# Trump tweets\n",
        "\n",
        "This code cell creates a list from Donald Trump's tweets. *You're not expected to completely understand this code yet. It's only here to give us interesting data*."
      ]
    },
    {
      "cell_type": "code",
      "metadata": {
        "id": "sm93K6xzmJon",
        "colab_type": "code",
        "colab": {}
      },
      "source": [
        "import pandas\n",
        "\n",
        "trump_tweets = list(pandas.read_json('https://raw.githubusercontent.com/robeverest/cs1010/master/data/trump.json', 'records').text)"
      ],
      "execution_count": null,
      "outputs": []
    },
    {
      "source": [
        "What words does Trump use?"
      ],
      "cell_type": "markdown",
      "metadata": {}
    },
    {
      "cell_type": "code",
      "execution_count": null,
      "metadata": {},
      "outputs": [],
      "source": [
        "trump_words = {}\n",
        "\n",
        "import string\n",
        "\n",
        "def words_in_tweet(tweet):\n",
        "    words = []\n",
        "    for word in tweet.split():\n",
        "        if word[-1] in string.punctuation:\n",
        "            word = word[0:-1]\n",
        "        words.append(word)\n",
        "    return words\n",
        "\n",
        "for tweet in trump_tweets:\n",
        "    words = words_in_tweet(tweet)\n",
        "    for word in words:\n",
        "        if word in trump_words:\n",
        "            trump_words[word] += 1\n",
        "        else:\n",
        "            trump_words[word] = 1"
      ]
    },
    {
      "cell_type": "markdown",
      "metadata": {
        "id": "JBuutgfOmJrC",
        "colab_type": "text"
      },
      "source": [
        "Generate a random Trump tweet from the words?"
      ]
    },
    {
      "cell_type": "code",
      "metadata": {
        "id": "PY_dM-BimJrD",
        "colab_type": "code",
        "colab": {
          "base_uri": "https://localhost:8080/",
          "height": 36
        },
        "outputId": "0adac4c5-4a44-4297-99a8-ad5a3572f993"
      },
      "source": [
        "import random\n",
        "\n",
        "trump_random_words = random.choices(list(trump_words.keys()), weights=list(trump_words.values()), k=20)\n",
        "\n",
        "generated_tweet = \"\"\n",
        "for word in trump_random_words:\n",
        "    generated_tweet += word + \" \"\n",
        "\n",
        "generated_tweet"
      ],
      "execution_count": null,
      "outputs": []
    },
    {
      "source": [
        "What words follow other words and how often?"
      ],
      "cell_type": "markdown",
      "metadata": {}
    },
    {
      "cell_type": "code",
      "execution_count": null,
      "metadata": {},
      "outputs": [],
      "source": []
    },
    {
      "source": [
        "What words are only ever followed by one or zero other words?"
      ],
      "cell_type": "markdown",
      "metadata": {}
    },
    {
      "cell_type": "code",
      "execution_count": null,
      "metadata": {},
      "outputs": [],
      "source": []
    },
    {
      "source": [
        "Can we use this to generate convincing sounding Trump tweets?"
      ],
      "cell_type": "markdown",
      "metadata": {}
    },
    {
      "cell_type": "code",
      "execution_count": null,
      "metadata": {},
      "outputs": [],
      "source": [
        "\n"
      ]
    },
    {
      "source": [
        "How often are generated tweets identical to real tweets? "
      ],
      "cell_type": "markdown",
      "metadata": {}
    },
    {
      "cell_type": "code",
      "execution_count": null,
      "metadata": {},
      "outputs": [],
      "source": []
    },
    {
      "source": [
        "Can we generalise our work to look at what words follow N previous words?"
      ],
      "cell_type": "markdown",
      "metadata": {}
    },
    {
      "cell_type": "code",
      "execution_count": null,
      "metadata": {},
      "outputs": [],
      "source": []
    },
    {
      "source": [
        "How does prefix length affect predictability?"
      ],
      "cell_type": "markdown",
      "metadata": {}
    },
    {
      "cell_type": "code",
      "execution_count": null,
      "metadata": {},
      "outputs": [],
      "source": []
    },
    {
      "source": [
        "Can we generate a tweet from a word map of arbitrary prefix length?"
      ],
      "cell_type": "markdown",
      "metadata": {}
    },
    {
      "cell_type": "code",
      "execution_count": null,
      "metadata": {},
      "outputs": [],
      "source": []
    },
    {
      "source": [
        "How often are we generating actual tweets with a prefix length of 2 (or 3, 4, 5, etc.)?"
      ],
      "cell_type": "markdown",
      "metadata": {}
    },
    {
      "cell_type": "code",
      "execution_count": null,
      "metadata": {},
      "outputs": [],
      "source": []
    },
    {
      "source": [
        "# Algorithms\n",
        "\n",
        "An algorithm is a sequence of well-defined steps to solve particular problem.\n",
        "\n",
        "In this course we have already *implemented* many algorithms."
      ],
      "cell_type": "markdown",
      "metadata": {}
    },
    {
      "source": [
        "## Greatest Common Divisor\n",
        "\n",
        "The greatest common divisor of numbers $a$ and $b$ is the largest number that divides both of them without remainder.\n",
        "\n",
        "This is a problem for which we can come up with multiple different algorithms (and implementations).\n",
        "\n"
      ],
      "cell_type": "markdown",
      "metadata": {}
    },
    {
      "source": [
        "### Modulo operator\n",
        "\n",
        "The modulo operator (`%`) in Python lets us compute what the remainder of division operations."
      ],
      "cell_type": "markdown",
      "metadata": {}
    },
    {
      "source": [
        "What is the remainder of dividing 25 by 7?"
      ],
      "cell_type": "markdown",
      "metadata": {}
    },
    {
      "cell_type": "code",
      "execution_count": null,
      "metadata": {},
      "outputs": [],
      "source": []
    },
    {
      "source": [
        "Is 8298973 divisible by 2591"
      ],
      "cell_type": "markdown",
      "metadata": {}
    },
    {
      "cell_type": "code",
      "execution_count": null,
      "metadata": {},
      "outputs": [],
      "source": []
    },
    {
      "source": [
        "What's the simplest way to find the GCD of two numbers?"
      ],
      "cell_type": "markdown",
      "metadata": {}
    },
    {
      "cell_type": "code",
      "execution_count": null,
      "metadata": {},
      "outputs": [],
      "source": []
    },
    {
      "source": [
        "What's the GCD of 157680487 and 190876379?"
      ],
      "cell_type": "markdown",
      "metadata": {}
    },
    {
      "cell_type": "code",
      "execution_count": null,
      "metadata": {},
      "outputs": [],
      "source": []
    },
    {
      "source": [
        "### Euclid's algorithm\n",
        "\n",
        "Euclid's algorithm is a fast way of calculating the GCD of two numbers."
      ],
      "cell_type": "markdown",
      "metadata": {}
    },
    {
      "source": [
        "Implement Euclid's algorithm using the modulo operator"
      ],
      "cell_type": "markdown",
      "metadata": {}
    },
    {
      "cell_type": "code",
      "execution_count": null,
      "metadata": {},
      "outputs": [],
      "source": []
    },
    {
      "source": [
        "Implement Euclid's algorithm using subtraction"
      ],
      "cell_type": "markdown",
      "metadata": {}
    },
    {
      "cell_type": "code",
      "execution_count": null,
      "metadata": {},
      "outputs": [],
      "source": []
    },
    {
      "source": [
        "# Recursion\n",
        "\n",
        "In addition to loops, another way to achieve repeated computation is recursion.\n",
        "\n",
        "In programming, recursion is when functions *call* themselves, either directly or indirectly."
      ],
      "cell_type": "markdown",
      "metadata": {}
    },
    {
      "source": [
        "Write a function that computes the factorial of a given number"
      ],
      "cell_type": "markdown",
      "metadata": {}
    },
    {
      "cell_type": "code",
      "execution_count": null,
      "metadata": {},
      "outputs": [],
      "source": []
    },
    {
      "source": [
        "Write the same function but use recursion instead of a loop"
      ],
      "cell_type": "markdown",
      "metadata": {}
    },
    {
      "cell_type": "code",
      "execution_count": null,
      "metadata": {},
      "outputs": [],
      "source": []
    },
    {
      "source": [
        "Write a version of Euclidean GCD that uses recursion instead of a loop"
      ],
      "cell_type": "markdown",
      "metadata": {}
    },
    {
      "cell_type": "code",
      "execution_count": null,
      "metadata": {},
      "outputs": [],
      "source": []
    },
    {
      "source": [
        "# Search algorithms"
      ],
      "cell_type": "markdown",
      "metadata": {}
    },
    {
      "source": [
        "Search algorithms are a well studied class of algorithms as many problems can be expressed as search problems.\n",
        "\n",
        "As an example, consider this \"map\" of Romania\n",
        "\n",
        "<img src=\"https://d3i71xaburhd42.cloudfront.net/437af7588c6a36fd55c410b7f92b7f47ef57653b/5-Figure3.2-1.png\" alt=\"Romania\" />"
      ],
      "cell_type": "markdown",
      "metadata": {}
    },
    {
      "source": [
        "### Depth-first search\n",
        "\n",
        "In depth-first search, we explore as far as possible along each path before going back and finding another one.\n",
        "\n",
        "<img src=\"https://d18l82el6cdm1i.cloudfront.net/uploads/mf7THWHAbL-mazegif.gif\" />\n",
        "<small>Animation from here: https://brilliant.org/wiki/depth-first-search-dfs/</small>"
      ],
      "cell_type": "markdown",
      "metadata": {}
    },
    {
      "source": [
        "This is the map of Romania as a dictionary of dictionaries:"
      ],
      "cell_type": "markdown",
      "metadata": {}
    },
    {
      "cell_type": "code",
      "execution_count": null,
      "metadata": {},
      "outputs": [],
      "source": [
        "romania = {\n",
        "    'Arad': { 'Zerind': 75, 'Sibiu': 140, 'Timisoara': 118 },\n",
        "    'Zerind': { 'Arad': 75, 'Oradea': 71 },\n",
        "    'Sibiu': { 'Arad': 140, 'Oradea': 151, 'Fagaras': 99, 'Rimnicu Vilcea': 80 },\n",
        "    'Timisoara': { 'Arad': 118, 'Lugoj': 111 },\n",
        "    'Oradea': { 'Zerind': 71, 'Sibiu': 151 },\n",
        "    'Lugoj': { 'Timisoara': 111, 'Mehadia': 70 },\n",
        "    'Fagaras': { 'Sibiu': 99, 'Bucharest': 211 },\n",
        "    'Rimnicu Vilcea': { 'Sibiu': 80, 'Pitesti': 97, 'Craiova': 146 },\n",
        "    'Mehadia': { 'Lugoj': 70, 'Dobreta': 75 },\n",
        "    'Bucharest': { 'Fagaras': 211, 'Pitesti': 101, 'Urziceni': 85, 'Giurglu': 90 },\n",
        "    'Pitesti': { 'Rimnicu Vilcea': 97, 'Bucharest': 101, 'Craiova': 138 },\n",
        "    'Craiova': { 'Rimnicu Vilcea': 146, 'Pitesti': 138, 'Dobreta': 120 },\n",
        "    'Dobreta': { 'Mehadia': 75, 'Craiova': 120 },\n",
        "    'Urziceni': { 'Bucharest': 85, 'Hirsova': 98, 'Vaslui': 142 },\n",
        "    'Giurglu': { 'Bucharest': 90 },\n",
        "    'Hirsova': { 'Urziceni': 98, 'Eforie': 86 },\n",
        "    'Vaslui': { 'Urziceni': 142, 'Lasi': 92 },\n",
        "    'Eforie': { 'Hirsova': 86 },\n",
        "    'Lasi': { 'Vaslui': 92, 'Neamt': 87 },\n",
        "    'Neamt': { 'Lasi': 87 }\n",
        "}"
      ]
    },
    {
      "source": [
        "Find a path from Arad to Bucharest using depth first search"
      ],
      "cell_type": "markdown",
      "metadata": {}
    },
    {
      "cell_type": "code",
      "execution_count": null,
      "metadata": {},
      "outputs": [],
      "source": []
    },
    {
      "source": [
        "### Breadth-first search\n",
        "\n",
        "In breadth-first search, we explore by moving outward from the start along all possible paths."
      ],
      "cell_type": "markdown",
      "metadata": {}
    },
    {
      "source": [
        "Find a path from Arad to Bucharest using breadth-first search"
      ],
      "cell_type": "markdown",
      "metadata": {}
    },
    {
      "cell_type": "code",
      "execution_count": null,
      "metadata": {},
      "outputs": [],
      "source": []
    }
  ]
}
