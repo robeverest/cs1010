{
  "nbformat": 4,
  "nbformat_minor": 0,
  "metadata": {
    "colab": {
      "name": "week3A.ipynb",
      "provenance": [],
      "collapsed_sections": []
    },
    "kernelspec": {
      "name": "python3",
      "display_name": "Python",
      "language": "python"
    }
  },
  "cells": [
    {
      "cell_type": "markdown",
      "metadata": {
        "id": "66g8ozhFmJol"
      },
      "source": [
        "# Musk tweets\n",
        "\n",
        "This code cell creates a list from some of Elon Musk's tweets. \n",
        "\n",
        "*You're not expected to completely understand this code yet. It's only here to give us interesting data*."
      ]
    },
    {
      "cell_type": "code",
      "metadata": {
        "id": "sm93K6xzmJon"
      },
      "source": [
        "import pandas\n",
        "\n",
        "raw_tweets = pandas.read_csv('https://raw.githubusercontent.com/robeverest/cs1010/master/data/elonmusk-full.csv')\n",
        "elon_tweets = list(map(str, list(raw_tweets.tweet)))"
      ],
      "execution_count": null,
      "outputs": []
    },
    {
      "cell_type": "markdown",
      "metadata": {
        "id": "VGsrBTCTcH64"
      },
      "source": [
        "What words follow other words and how often?"
      ]
    },
    {
      "cell_type": "code",
      "metadata": {
        "id": "QGfL7FmlcH64"
      },
      "source": [
        "example_tweet = \"the cat sat on the mat. the cat slept\"\n",
        "\n",
        "# the 2-> cat, the -> mat., cat -> sat, sat -> on, on -> the, cat -> slept\n",
        "\n",
        "example_result = { None: { \"the\": 1 }, \"the\": { \"cat\": 2, \"mat.\": 1}, \n",
        "                  \"cat\": { \"sat\": 1, \"slept\": 1}, \"sat\": { \"on\": 1 }, \"on\": {\"the\": 1}}\n",
        "\n",
        "# word_pairs = []\n",
        "# for tweet in elon_tweets:\n",
        "#     previous_word = None\n",
        "#     for word in tweet.split():\n",
        "#         word_pairs.append((previous_word, word))\n",
        "#         previous_word = word\n",
        "# word_pairs\n",
        "\n",
        "word_probabilities = {}\n",
        "\n",
        "word_probabilities[None] = {}\n",
        "\n",
        "for tweet in elon_tweets:\n",
        "    previous_word = None\n",
        "    for word in tweet.split():\n",
        "        if word in word_probabilities[previous_word]:\n",
        "            word_probabilities[previous_word][word] += 1\n",
        "        else:\n",
        "            word_probabilities[previous_word][word] = 1\n",
        "        if not word in word_probabilities:\n",
        "            word_probabilities[word] = {} \n",
        "        previous_word = word\n",
        "word_probabilities"
      ],
      "execution_count": null,
      "outputs": []
    },
    {
      "cell_type": "markdown",
      "metadata": {
        "id": "NFnRKk3WcH6-"
      },
      "source": [
        "What words are only ever followed by one or zero other words?"
      ]
    },
    {
      "cell_type": "code",
      "metadata": {
        "id": "-n_qmH5YcH7A",
        "outputId": "6248c3c0-a1e2-414d-9d97-3cc8397a1fba",
        "colab": {
          "base_uri": "https://localhost:8080/",
          "height": 34
        }
      },
      "source": [
        "# for word in word_probabilities:\n",
        "#     if word_probabilities[word] == {}:\n",
        "#         print(word)\n",
        "\n",
        "for word in word_probabilities:\n",
        "    if len(word_probabilities[word]) == 1:\n",
        "        print(word)\n",
        "        print(word_probabilities[word].keys())"
      ],
      "execution_count": null,
      "outputs": []
    },
    {
      "cell_type": "markdown",
      "metadata": {
        "id": "E_zvZA0wcH7H"
      },
      "source": [
        "Can we use this to generate convincing sounding Elon tweets?"
      ]
    },
    {
      "cell_type": "code",
      "metadata": {
        "id": "Ely6x0VmcH7I",
        "outputId": "efb89cae-bef5-42c6-8c3f-0c24a3ea8f11",
        "colab": {
          "base_uri": "https://localhost:8080/",
          "height": 71
        }
      },
      "source": [],
      "execution_count": null,
      "outputs": []
    },
    {
      "cell_type": "markdown",
      "metadata": {
        "id": "Lmqj6m04cH7O"
      },
      "source": [
        "How often are generated tweets identical to real tweets? "
      ]
    },
    {
      "cell_type": "code",
      "metadata": {
        "id": "M0OcYQdMcH7Q",
        "outputId": "47310e6f-181c-44fa-c06e-9e50c9d67dfd",
        "colab": {
          "base_uri": "https://localhost:8080/",
          "height": 34
        }
      },
      "source": [],
      "execution_count": null,
      "outputs": []
    },
    {
      "cell_type": "markdown",
      "metadata": {
        "id": "zEfYVvP2cH7X"
      },
      "source": [
        "Can we generalise our work to look at what words follow N previous words?"
      ]
    },
    {
      "cell_type": "code",
      "metadata": {
        "id": "2i5eZdI8cH7a"
      },
      "source": [],
      "execution_count": null,
      "outputs": []
    },
    {
      "cell_type": "markdown",
      "metadata": {
        "id": "g-czvbS6cH7e"
      },
      "source": [
        "How does prefix length affect predictability?"
      ]
    },
    {
      "cell_type": "code",
      "metadata": {
        "id": "AvqC_46dcH7f"
      },
      "source": [],
      "execution_count": null,
      "outputs": []
    },
    {
      "cell_type": "markdown",
      "metadata": {
        "id": "F5ay8SUUcH7l"
      },
      "source": [
        "Can we generate a tweet from a word map of arbitrary prefix length?"
      ]
    },
    {
      "cell_type": "code",
      "metadata": {
        "id": "TxkEoUSvcH7m"
      },
      "source": [],
      "execution_count": null,
      "outputs": []
    },
    {
      "cell_type": "markdown",
      "metadata": {
        "id": "tr-Br7nccH7r"
      },
      "source": [
        "How often are we generating actual tweets with a prefix length of 2 (or 3, 4, 5, etc.)?"
      ]
    },
    {
      "cell_type": "code",
      "metadata": {
        "id": "htzIU6L9cH7v"
      },
      "source": [],
      "execution_count": null,
      "outputs": []
    },
    {
      "cell_type": "markdown",
      "metadata": {
        "id": "p6OfOfo7rZEX"
      },
      "source": [
        "# Images\n",
        "\n",
        "<img src=\"https://source.unsplash.com/deb2EnbWPr8\" width=500 />\n",
        "\n",
        "**Important info**:\n",
        "* An image is a $width \\times height$ grid of pixels\n",
        "* Each pixel has a Red, Green, and Blue component\n"
      ]
    },
    {
      "cell_type": "markdown",
      "metadata": {
        "id": "jNPI25OLrZEY"
      },
      "source": [
        "Using the [Pillow](https://python-pillow.org/) library in python allows us to create and manipulate images.\n",
        "\n",
        "**Note:** This is not something we will be covering in depth in this course, so don't feel you have to memorise how to manipulate images."
      ]
    },
    {
      "cell_type": "markdown",
      "metadata": {
        "id": "biK8bQdIrZEY"
      },
      "source": [
        "Can we create a blank canvas"
      ]
    },
    {
      "cell_type": "code",
      "metadata": {
        "id": "oFRsb9BprZEZ"
      },
      "source": [
        ""
      ],
      "execution_count": null,
      "outputs": []
    },
    {
      "cell_type": "markdown",
      "metadata": {
        "id": "aHpUqq85rZEb"
      },
      "source": [
        "Can we create some abstract art"
      ]
    },
    {
      "cell_type": "code",
      "metadata": {
        "id": "ArPV6hAqrZEd"
      },
      "source": [
        ""
      ],
      "execution_count": null,
      "outputs": []
    },
    {
      "cell_type": "markdown",
      "metadata": {
        "id": "lTRbF5F0rZEf"
      },
      "source": [
        "Can we blur our art?"
      ]
    },
    {
      "cell_type": "code",
      "metadata": {
        "id": "oAnszqfmrZEf"
      },
      "source": [
        ""
      ],
      "execution_count": null,
      "outputs": []
    },
    {
      "cell_type": "markdown",
      "metadata": {
        "id": "ji1luiCdcH7z"
      },
      "source": [
        "# Algorithms\n",
        "\n",
        "An algorithm is a sequence of well-defined steps to solve particular problem.\n",
        "\n",
        "In this course we have already *implemented* many algorithms."
      ]
    },
    {
      "cell_type": "markdown",
      "metadata": {
        "id": "mxGAyndKcH70"
      },
      "source": [
        "## Greatest Common Divisor\n",
        "\n",
        "The greatest common divisor of numbers $a$ and $b$ is the largest number that divides both of them without remainder.\n",
        "\n",
        "This is a problem for which we can come up with multiple different algorithms (and implementations).\n",
        "\n"
      ]
    },
    {
      "cell_type": "markdown",
      "metadata": {
        "id": "tSfAgwTCcH70"
      },
      "source": [
        "### Modulo operator\n",
        "\n",
        "The modulo operator (`%`) in Python lets us compute what the remainder of division operations."
      ]
    },
    {
      "cell_type": "markdown",
      "metadata": {
        "id": "Dl3RHPaBcH71"
      },
      "source": [
        "What is the remainder of dividing 25 by 7?"
      ]
    },
    {
      "cell_type": "code",
      "metadata": {
        "id": "66ozmVp5cH72"
      },
      "source": [],
      "execution_count": null,
      "outputs": []
    },
    {
      "cell_type": "markdown",
      "metadata": {
        "id": "TnWsEYyXcH75"
      },
      "source": [
        "Is 8298973 divisible by 2591"
      ]
    },
    {
      "cell_type": "code",
      "metadata": {
        "id": "nI0TuAEOcH76"
      },
      "source": [],
      "execution_count": null,
      "outputs": []
    },
    {
      "cell_type": "markdown",
      "metadata": {
        "id": "jQ9wNZZIcH7-"
      },
      "source": [
        "What's the simplest way to find the GCD of two numbers?"
      ]
    },
    {
      "cell_type": "code",
      "metadata": {
        "id": "JL8LBb76cH7_"
      },
      "source": [],
      "execution_count": null,
      "outputs": []
    },
    {
      "cell_type": "markdown",
      "metadata": {
        "id": "ZW8zd3xxcH8C"
      },
      "source": [
        "What's the GCD of 157680487 and 190876379?"
      ]
    },
    {
      "cell_type": "code",
      "metadata": {
        "id": "GodPkeSQcH8D"
      },
      "source": [],
      "execution_count": null,
      "outputs": []
    },
    {
      "cell_type": "markdown",
      "metadata": {
        "id": "vGF8FGpOcH8H"
      },
      "source": [
        "### Euclid's algorithm\n",
        "\n",
        "Euclid's algorithm is a fast way of calculating the GCD of two numbers."
      ]
    },
    {
      "cell_type": "markdown",
      "metadata": {
        "id": "gzwREzskcH8M"
      },
      "source": [
        "Implement Euclid's algorithm using subtraction"
      ]
    },
    {
      "cell_type": "code",
      "metadata": {
        "id": "an86Qi4ncH8J"
      },
      "source": [],
      "execution_count": null,
      "outputs": []
    },
    {
      "cell_type": "markdown",
      "metadata": {
        "id": "X9LsX89qcH8I"
      },
      "source": [
        "Implement Euclid's algorithm using the modulo operator"
      ]
    },
    {
      "cell_type": "code",
      "metadata": {
        "id": "ldRonF4GcH8N"
      },
      "source": [],
      "execution_count": null,
      "outputs": []
    },
    {
      "cell_type": "markdown",
      "metadata": {
        "id": "fkQJBppVcH8S"
      },
      "source": [
        "# Recursion\n",
        "\n",
        "In addition to loops, another way to achieve repeated computation is recursion.\n",
        "\n",
        "In programming, recursion is when functions *call* themselves, either directly or indirectly."
      ]
    },
    {
      "cell_type": "markdown",
      "metadata": {
        "id": "sn3IqLRdcH8S"
      },
      "source": [
        "Write a function that computes the factorial of a given number"
      ]
    },
    {
      "cell_type": "code",
      "metadata": {
        "id": "3OYOg6rXcH8T"
      },
      "source": [],
      "execution_count": null,
      "outputs": []
    },
    {
      "cell_type": "markdown",
      "metadata": {
        "id": "ONGi4LL7cH8V"
      },
      "source": [
        "Write the same function but use recursion instead of a loop"
      ]
    },
    {
      "cell_type": "code",
      "metadata": {
        "id": "FfvYNI7wcH8V"
      },
      "source": [],
      "execution_count": null,
      "outputs": []
    },
    {
      "cell_type": "markdown",
      "metadata": {
        "id": "ZS9HaxgacH8Y"
      },
      "source": [
        "Write a version of Euclidean GCD that uses recursion instead of a loop"
      ]
    },
    {
      "cell_type": "code",
      "metadata": {
        "id": "Ncg3mjvucH8Y"
      },
      "source": [],
      "execution_count": null,
      "outputs": []
    },
    {
      "cell_type": "markdown",
      "metadata": {
        "id": "2Kaag9CycH8b"
      },
      "source": [
        "# Search algorithms"
      ]
    },
    {
      "cell_type": "markdown",
      "metadata": {
        "id": "kb1EMLsycH8c"
      },
      "source": [
        "Search algorithms are a well studied class of algorithms as many problems can be expressed as search problems.\n",
        "\n",
        "As an example, consider this \"map\" of Romania\n",
        "\n",
        "<img src=\"https://d3i71xaburhd42.cloudfront.net/437af7588c6a36fd55c410b7f92b7f47ef57653b/5-Figure3.2-1.png\" alt=\"Romania\" />"
      ]
    },
    {
      "cell_type": "markdown",
      "metadata": {
        "id": "g8auus3QcH8c"
      },
      "source": [
        "### Depth-first search\n",
        "\n",
        "In depth-first search, we explore as far as possible along each path before going back and finding another one.\n",
        "\n",
        "<img src=\"https://d18l82el6cdm1i.cloudfront.net/uploads/mf7THWHAbL-mazegif.gif\" />\n",
        "<small>Animation from here: https://brilliant.org/wiki/depth-first-search-dfs/</small>"
      ]
    },
    {
      "cell_type": "markdown",
      "metadata": {
        "id": "eaWmzYrScH8d"
      },
      "source": [
        "This is the map of Romania as a dictionary of dictionaries:"
      ]
    },
    {
      "cell_type": "code",
      "metadata": {
        "id": "e2VzuYmfcH8d"
      },
      "source": [
        "romania = {\n",
        "    'Arad': { 'Zerind': 75, 'Sibiu': 140, 'Timisoara': 118 },\n",
        "    'Zerind': { 'Arad': 75, 'Oradea': 71 },\n",
        "    'Sibiu': { 'Arad': 140, 'Oradea': 151, 'Fagaras': 99, 'Rimnicu Vilcea': 80 },\n",
        "    'Timisoara': { 'Arad': 118, 'Lugoj': 111 },\n",
        "    'Oradea': { 'Zerind': 71, 'Sibiu': 151 },\n",
        "    'Lugoj': { 'Timisoara': 111, 'Mehadia': 70 },\n",
        "    'Fagaras': { 'Sibiu': 99, 'Bucharest': 211 },\n",
        "    'Rimnicu Vilcea': { 'Sibiu': 80, 'Pitesti': 97, 'Craiova': 146 },\n",
        "    'Mehadia': { 'Lugoj': 70, 'Dobreta': 75 },\n",
        "    'Bucharest': { 'Fagaras': 211, 'Pitesti': 101, 'Urziceni': 85, 'Giurglu': 90 },\n",
        "    'Pitesti': { 'Rimnicu Vilcea': 97, 'Bucharest': 101, 'Craiova': 138 },\n",
        "    'Craiova': { 'Rimnicu Vilcea': 146, 'Pitesti': 138, 'Dobreta': 120 },\n",
        "    'Dobreta': { 'Mehadia': 75, 'Craiova': 120 },\n",
        "    'Urziceni': { 'Bucharest': 85, 'Hirsova': 98, 'Vaslui': 142 },\n",
        "    'Giurglu': { 'Bucharest': 90 },\n",
        "    'Hirsova': { 'Urziceni': 98, 'Eforie': 86 },\n",
        "    'Vaslui': { 'Urziceni': 142, 'Lasi': 92 },\n",
        "    'Eforie': { 'Hirsova': 86 },\n",
        "    'Lasi': { 'Vaslui': 92, 'Neamt': 87 },\n",
        "    'Neamt': { 'Lasi': 87 }\n",
        "}"
      ],
      "execution_count": null,
      "outputs": []
    },
    {
      "cell_type": "markdown",
      "metadata": {
        "id": "X5O2eGLfcH8f"
      },
      "source": [
        "Find a path from Arad to Bucharest using depth first search"
      ]
    },
    {
      "cell_type": "code",
      "metadata": {
        "id": "jXPZEZ7CcH8g"
      },
      "source": [],
      "execution_count": null,
      "outputs": []
    },
    {
      "cell_type": "markdown",
      "metadata": {
        "id": "6scQ2e2TcH8j"
      },
      "source": [
        "### Breadth-first search\n",
        "\n",
        "In breadth-first search, we explore by moving outward from the start along all possible paths."
      ]
    },
    {
      "cell_type": "markdown",
      "metadata": {
        "id": "oS_q3rL_cH8j"
      },
      "source": [
        "Find a path from Arad to Bucharest using breadth-first search"
      ]
    },
    {
      "cell_type": "code",
      "metadata": {
        "id": "e_26bXkVcH8k"
      },
      "source": [],
      "execution_count": null,
      "outputs": []
    }
  ]
}
