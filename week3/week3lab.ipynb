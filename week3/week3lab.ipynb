{
 "metadata": {
  "language_info": {
   "codemirror_mode": {
    "name": "ipython",
    "version": 3
   },
   "file_extension": ".py",
   "mimetype": "text/x-python",
   "name": "python",
   "nbconvert_exporter": "python",
   "pygments_lexer": "ipython3",
   "version": "3.8.3-final"
  },
  "orig_nbformat": 2,
  "kernelspec": {
   "name": "python3",
   "display_name": "Python 3",
   "language": "python"
  }
 },
 "nbformat": 4,
 "nbformat_minor": 2,
 "cells": [
  {
   "cell_type": "markdown",
   "metadata": {},
   "source": [
    "# Week 3 Lab (3 marks)\n",
    "\n",
    "**IMPORTANT NOTE** If you're using Colaboratory, make sure you save a copy of these exercises to Google drive by clicking 'Copy to Drive' at the top of the page. Otherwise, your answers will not be saved.\n",
    "\n",
    "To get the marks for these tasks, you need to show your solutions to you lab demonstrater in either your week 3 or week 4 lab."
   ]
  },
  {
   "cell_type": "markdown",
   "metadata": {},
   "source": [
    "## Loops & Conditionals (1 mark)\n",
    "\n",
    "Write functions in the cells provided to answer the following questions."
   ]
  },
  {
   "source": [
    "### Vowel counting\n",
    "\n",
    "Write a function, `vowels(text)`, that counts the total number of vowels (a, e, i, o and u) in a given string."
   ],
   "cell_type": "markdown",
   "metadata": {}
  },
  {
   "cell_type": "code",
   "execution_count": 1,
   "metadata": {},
   "outputs": [],
   "source": [
    "def vowels(text):\n",
    "    total = 0\n",
    "    for character in text:\n",
    "        if character in 'aeiou':\n",
    "            total += 1\n",
    "    return total"
   ]
  },
  {
   "source": [
    "Use this cell to test if your function works."
   ],
   "cell_type": "markdown",
   "metadata": {}
  },
  {
   "source": [
    "assert vowels(\"When life gets you down, do you wanna know what you’ve gotta do? Just keep swimming\") == 25"
   ],
   "cell_type": "code",
   "metadata": {},
   "execution_count": 2,
   "outputs": []
  },
  {
   "source": [
    "### Card game\n",
    "\n",
    "Consider a game where Aces are worth 5 points, Kings 3 points, Queens 2 points, Jacks 1 point, and all other cards are not worth any points. Write a function, `score(cards)`, that takes in a list of strings and calculates the total score for that list. Any example of such a list is in the testing cell below."
   ],
   "cell_type": "markdown",
   "metadata": {}
  },
  {
   "cell_type": "code",
   "execution_count": 3,
   "metadata": {},
   "outputs": [],
   "source": [
    "def score(cards):\n",
    "    points = 0\n",
    "    for card in cards:\n",
    "        if card == 'Ace':\n",
    "            points += 5\n",
    "        elif card == 'King':\n",
    "            points += 3\n",
    "        elif card == 'Queen':\n",
    "            points += 2\n",
    "        elif card == 'Jack':\n",
    "            points += 1\n",
    "    return points"
   ]
  },
  {
   "source": [
    "Use the cell below to test if your function works."
   ],
   "cell_type": "markdown",
   "metadata": {}
  },
  {
   "cell_type": "code",
   "execution_count": 4,
   "metadata": {},
   "outputs": [],
   "source": [
    "assert score([\"10\", \"Jack\", \"Ace\", \"King\", \"Queen\", \"King\", \"3\"]) == 14"
   ]
  },
  {
   "source": [
    "## Dictionaries (1 mark)\n",
    "\n",
    "The following dictionary contains the number of enrolments in a variety of first-year courses."
   ],
   "cell_type": "markdown",
   "metadata": {}
  },
  {
   "cell_type": "code",
   "execution_count": 5,
   "metadata": {},
   "outputs": [],
   "source": [
    "first_year_courses = { \"COMP1010\": 45, \"COMP1511\": 560, \"COMP1911\": 100, \"MATH1131\": 1034, \"MATH1231\": 895, \"FINS1612\": 423, \"FINS1613\": 587, \"ACCT1501\": 327 }"
   ]
  },
  {
   "source": [
    "How many students are enrolled in COMP1010?"
   ],
   "cell_type": "markdown",
   "metadata": {}
  },
  {
   "cell_type": "code",
   "execution_count": 6,
   "metadata": {},
   "outputs": [
    {
     "output_type": "execute_result",
     "data": {
      "text/plain": [
       "45"
      ]
     },
     "metadata": {},
     "execution_count": 6
    }
   ],
   "source": [
    "first_year_courses['COMP1010']"
   ]
  },
  {
   "source": [
    "Construct a list containing all the courses with more than 500 students. You should get this as a result:\n",
    "```\n",
    "[\"COMP1511\", \"MATH1131\", \"MATH1231\", \"FINS1613\"]\n",
    "```"
   ],
   "cell_type": "markdown",
   "metadata": {}
  },
  {
   "cell_type": "code",
   "execution_count": 7,
   "metadata": {},
   "outputs": [
    {
     "output_type": "execute_result",
     "data": {
      "text/plain": [
       "['COMP1511', 'MATH1131', 'MATH1231', 'FINS1613']"
      ]
     },
     "metadata": {},
     "execution_count": 7
    }
   ],
   "source": [
    "big_courses = []\n",
    "for course in first_year_courses:\n",
    "    if first_year_courses[course] > 500:\n",
    "        big_courses.append(course)\n",
    "\n",
    "big_courses"
   ]
  },
  {
   "source": [
    "Find the total number of students enrolled in each subject area (the first 4 letters of the course code). Store these numbers in a dictionary. You should get this as a result:\n",
    "\n",
    "```\n",
    "{\"COMP\": 705, \"MATH\": 1929, \"FINS\": 1010, \"ACCT\": 327}\n",
    "```\n",
    "\n",
    "**NOTE**: Recall that dictionaries are unordered, so your result may not *appear* in exactly the same order as above, but as long as the numbers match, your result is correct."
   ],
   "cell_type": "markdown",
   "metadata": {}
  },
  {
   "cell_type": "code",
   "execution_count": 8,
   "metadata": {},
   "outputs": [
    {
     "output_type": "execute_result",
     "data": {
      "text/plain": [
       "{'COMP': 705, 'MATH': 1929, 'FINS': 1010, 'ACCT': 327}"
      ]
     },
     "metadata": {},
     "execution_count": 8
    }
   ],
   "source": [
    "subject_areas = {}\n",
    "for course in first_year_courses:\n",
    "    area = course[0:4]\n",
    "    if area in subject_areas:\n",
    "        subject_areas[area] += first_year_courses[course]\n",
    "    else:\n",
    "        subject_areas[area] = first_year_courses[course]\n",
    "subject_areas"
   ]
  },
  {
   "source": [
    "## Bringing it all together (1 mark)\n",
    "\n",
    "Write a function, `common(list1, list2)`, that returns a dictionary. Each key in the dictionary corresponds to an element in *both* of the lists. The value for each key is the number of times that element appears across both lists. See the testing cell below for an example.\n",
    "\n",
    "**HINT**: There are multiple ways to solve this, but you may find the simplest involves building at least two intermediate dictionaries and multiple loops."
   ],
   "cell_type": "markdown",
   "metadata": {}
  },
  {
   "cell_type": "code",
   "execution_count": 11,
   "metadata": {},
   "outputs": [
    {
     "output_type": "execute_result",
     "data": {
      "text/plain": [
       "{'a': 4, 'b': 2, 'd': 3}"
      ]
     },
     "metadata": {},
     "execution_count": 11
    }
   ],
   "source": [
    "def common(list1, list2):\n",
    "    shared = {}\n",
    "    for element in list1:\n",
    "        if element in list2:\n",
    "            shared[element] = 0\n",
    "    \n",
    "    for element in shared:\n",
    "        shared[element] = list1.count(element) + list2.count(element)\n",
    "\n",
    "    return shared\n",
    "common([\"a\", \"b\", \"a\", \"d\", \"f\", \"a\"], [\"a\", \"b\", \"d\", \"d\", \"e\"])"
   ]
  },
  {
   "source": [
    "Use this cell to test whether you have implemented the function correctly."
   ],
   "cell_type": "markdown",
   "metadata": {}
  },
  {
   "cell_type": "code",
   "execution_count": null,
   "metadata": {},
   "outputs": [],
   "source": [
    "assert common([\"a\", \"b\", \"a\", \"d\", \"f\", \"a\"], [\"a\", \"b\", \"d\", \"d\", \"e\"]) == { \"a\": 4, \"b\": 2, \"d\": 3 }"
   ]
  },
  {
   "source": [
    "## Challenge\n",
    "\n",
    "**NOTE:** This question is **NOT** worth any marks and is meant to present a significant challenge. It's here for those who wish to extend themselves. Even if you're not able to solve it, you may find giving it a try good practice and you can always come back to it in later weeks. "
   ],
   "cell_type": "markdown",
   "metadata": {}
  },
  {
   "source": [
    "Solve the problem described below:\n",
    "\n",
    "> Oh no, there era grimlens (or parheps just eno nysta grimlen) in my cumpetor, semithong wierd is heppinang to my vewols! Thye seem to be ratetod thruogh aech word, aech eno rapleces the vewol to its left and the first eno mevos oruand to the last pisitoon. That's a tirryble creul thing to do."
   ],
   "cell_type": "markdown",
   "metadata": {}
  },
  {
   "cell_type": "code",
   "execution_count": 18,
   "metadata": {},
   "outputs": [
    {
     "output_type": "execute_result",
     "data": {
      "text/plain": [
       "\"Oh no, there are gremlins (or perhaps just one nasty gremlin) in my computer, something weird is happening to my vowels! They seem to be rotated through each word, each one replaces the vowel to its left and the first one moves around to the last position. That's a terribly cruel thing to do.\""
      ]
     },
     "metadata": {},
     "execution_count": 18
    }
   ],
   "source": [
    "grimlens_text = \"Oh no, there era grimlens (or parheps just eno nysta grimlen) in my cumpetor, semithong wierd is heppinang to my vewols! Thye seem to be ratetod thruogh aech word, aech eno rapleces the vewol to its left and the first eno mevos oruand to the last pisitoon. That's a tirryble creul thing to do.\"\n",
    "\n",
    "result = \"\"\n",
    "for word in grimlens_text.split():\n",
    "    capitalised = word[0].isupper()\n",
    "    vowels = \"\"\n",
    "    for character in word:\n",
    "        if character in 'aeiouyAEIOUY':\n",
    "            vowels += character\n",
    "    vowels = vowels[-1] + vowels[0:-1]\n",
    "\n",
    "    fixed_word = \"\"\n",
    "    for character in word:\n",
    "        if character in 'aeiouyAEIOUY':\n",
    "            fixed_word += vowels[0]\n",
    "            vowels = vowels[1:]\n",
    "        else:\n",
    "            fixed_word += character\n",
    "    if capitalised:\n",
    "        fixed_word = fixed_word.capitalize()\n",
    "    result += ' ' + fixed_word\n",
    "\n",
    "result.strip()"
   ]
  }
 ]
}