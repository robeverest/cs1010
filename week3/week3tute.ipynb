{
 "metadata": {
  "language_info": {
   "codemirror_mode": {
    "name": "ipython",
    "version": 3
   },
   "file_extension": ".py",
   "mimetype": "text/x-python",
   "name": "python",
   "nbconvert_exporter": "python",
   "pygments_lexer": "ipython3",
   "version": "3.8.5-final"
  },
  "orig_nbformat": 2,
  "kernelspec": {
   "name": "python3",
   "display_name": "Python 3.8.5 64-bit",
   "language": "python"
  }
 },
 "nbformat": 4,
 "nbformat_minor": 2,
 "cells": [
  {
   "cell_type": "markdown",
   "metadata": {},
   "source": [
    "# Week 3 Tutorial"
   ]
  },
  {
   "cell_type": "markdown",
   "metadata": {},
   "source": [
    "## Kahoot\n",
    "\n",
    "Your tutor will run through a Kahoot with you to test how well you remember certain concepts from the past two weeks. After the tutes have occurred, the link will be posted here if you wish to go through it in your own time "
   ]
  },
  {
   "source": [
    "# Leap years\n",
    "\n",
    "Write a function that takes in a year (e.g. 2018) and returns `True` if it's a leap year or `False` if it's not a leap year."
   ],
   "cell_type": "markdown",
   "metadata": {}
  },
  {
   "cell_type": "code",
   "execution_count": null,
   "metadata": {},
   "outputs": [],
   "source": []
  },
  {
   "source": [
    "Write the same function as above, but do so without any use of `if` or `for`."
   ],
   "cell_type": "markdown",
   "metadata": {}
  },
  {
   "cell_type": "code",
   "execution_count": null,
   "metadata": {},
   "outputs": [],
   "source": []
  },
  {
   "source": [
    "Of these two versions of the same function, which one is \"better\"?"
   ],
   "cell_type": "markdown",
   "metadata": {}
  },
  {
   "source": [
    "# Dictionaries\n",
    "\n",
    "This dictionary contains a collection of students along with the number of courses they are doing next term. Some of the students are graduating, so aren't doing any subjects next term. The most subjects a student can do in a term is 4."
   ],
   "cell_type": "markdown",
   "metadata": {}
  },
  {
   "cell_type": "code",
   "execution_count": null,
   "metadata": {},
   "outputs": [],
   "source": [
    "student_subjects = {\"Sally Studies\": 3, \"Penelope Prepares\": 0, \"Francis Forgets\": 1, \"David Doesn't-Read-Spec\": 2, \"Oliver Overconfident\": 4, \"Larry Leaves-It-To-The-Last-Minute\": 3, \"Emily Eager\": 2, \"Aaron Asks-Questions\": 3]"
   ]
  },
  {
   "source": [
    "How would you add yourself to the dictionary? Your tutor will pick a few of you to add and put you in the code cell below."
   ],
   "cell_type": "markdown",
   "metadata": {}
  },
  {
   "cell_type": "code",
   "execution_count": null,
   "metadata": {},
   "outputs": [],
   "source": []
  },
  {
   "source": [
    "Write a for-loop that calculates how many students are doing each possible number of courses, storing the results in the variables provided."
   ],
   "cell_type": "markdown",
   "metadata": {}
  },
  {
   "cell_type": "code",
   "execution_count": null,
   "metadata": {},
   "outputs": [],
   "source": [
    "zero_subjects = 0\n",
    "one_subject = 0\n",
    "two_subjects = 0\n",
    "three_subjects = 0\n",
    "four_subjects = 0\n",
    "\n",
    "# Write for-loop here"
   ]
  },
  {
   "source": [
    "Repeat the exercise, but store the results in a 5-element list instead."
   ],
   "cell_type": "markdown",
   "metadata": {}
  },
  {
   "cell_type": "code",
   "execution_count": null,
   "metadata": {},
   "outputs": [],
   "source": [
    "subjects = [0] * 5\n",
    "\n",
    "# Write for-loop here"
   ]
  },
  {
   "source": [
    "Discuss the two approaches."
   ],
   "cell_type": "markdown",
   "metadata": {}
  },
  {
   "source": [
    "# Project\n",
    "\n",
    "Use the remaining time to ask any questions about the project. If you have an idea, or part of an idea, brainstorm it with the rest of the class."
   ],
   "cell_type": "markdown",
   "metadata": {}
  }
 ]
}