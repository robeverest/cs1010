{
  "nbformat": 4,
  "nbformat_minor": 0,
  "metadata": {
    "colab": {
      "name": "week3A.ipynb",
      "provenance": [],
      "collapsed_sections": []
    },
    "kernelspec": {
      "name": "Python 3.8.5 64-bit",
      "display_name": "Python 3.8.5 64-bit",
      "metadata": {
        "interpreter": {
          "hash": "1ee38ef4a5a9feb55287fd749643f13d043cb0a7addaab2a9c224cbe137c0062"
        }
      }
    }
  },
  "cells": [
    {
      "source": [
        "# What am I looking at?\n",
        "\n",
        "This is Visual Studio Code.\n",
        "\n",
        "We'll see how it works as we go."
      ],
      "cell_type": "markdown",
      "metadata": {}
    },
    {
      "cell_type": "code",
      "execution_count": null,
      "metadata": {},
      "outputs": [],
      "source": [
        "1 + 1"
      ]
    },
    {
      "source": [
        "# Lab & Dictionary Recap"
      ],
      "cell_type": "markdown",
      "metadata": {}
    },
    {
      "source": [
        "This list contains the email addresses of 4 different students"
      ],
      "cell_type": "markdown",
      "metadata": {}
    },
    {
      "cell_type": "code",
      "execution_count": null,
      "metadata": {},
      "outputs": [],
      "source": [
        "emails = [\"z1234567@student.unsw.edu.au\", \"z7654321@unsw.edu.au\", \"z7891234@ad.unsw.edu.au\", \"z1357924@student.unsw.edu.au\"]"
      ]
    },
    {
      "source": [
        "Can we build a dictionary containing the ZIDs as keys and email addresses as values?"
      ],
      "cell_type": "markdown",
      "metadata": {}
    },
    {
      "cell_type": "code",
      "execution_count": null,
      "metadata": {},
      "outputs": [],
      "source": []
    },
    {
      "source": [
        "How many students prefer each email domain?"
      ],
      "cell_type": "markdown",
      "metadata": {}
    },
    {
      "cell_type": "code",
      "execution_count": null,
      "metadata": {},
      "outputs": [],
      "source": []
    },
    {
      "source": [
        "Can we group students by their preferred email domain?"
      ],
      "cell_type": "markdown",
      "metadata": {}
    },
    {
      "cell_type": "code",
      "execution_count": null,
      "metadata": {},
      "outputs": [],
      "source": []
    },
    {
      "source": [],
      "cell_type": "markdown",
      "metadata": {}
    },
    {
      "cell_type": "markdown",
      "metadata": {
        "id": "2Kaag9CycH8b"
      },
      "source": [
        "# Search algorithms"
      ]
    },
    {
      "cell_type": "markdown",
      "metadata": {
        "id": "kb1EMLsycH8c"
      },
      "source": [
        "Search algorithms are a well studied class of algorithms as many problems can be expressed as search problems.\n",
        "\n",
        "As an example, consider this \"map\" of Romania\n",
        "\n",
        "<img src=\"https://d3i71xaburhd42.cloudfront.net/437af7588c6a36fd55c410b7f92b7f47ef57653b/5-Figure3.2-1.png\" alt=\"Romania\" />"
      ]
    },
    {
      "cell_type": "markdown",
      "metadata": {
        "id": "g8auus3QcH8c"
      },
      "source": [
        "### Depth-first search\n",
        "\n",
        "In depth-first search, we explore as far as possible along each path before going back and finding another one.\n",
        "\n",
        "See last week's lecture."
      ]
    },
    {
      "source": [
        "### Breadth-first search\n",
        "\n",
        "In breadth-first search, we explore by moving outward from the start along all possible paths.\n",
        "\n",
        "See last week's lecture"
      ],
      "cell_type": "markdown",
      "metadata": {}
    },
    {
      "cell_type": "markdown",
      "metadata": {
        "id": "eaWmzYrScH8d"
      },
      "source": [
        "This is the map of Romania as a dictionary of dictionaries:"
      ]
    },
    {
      "cell_type": "code",
      "metadata": {
        "id": "e2VzuYmfcH8d"
      },
      "source": [
        "romania = {\n",
        "    'Arad': { 'Zerind': 75, 'Sibiu': 140, 'Timisoara': 118 },\n",
        "    'Zerind': { 'Arad': 75, 'Oradea': 71 },\n",
        "    'Sibiu': { 'Arad': 140, 'Oradea': 151, 'Fagaras': 99, 'Rimnicu Vilcea': 80 },\n",
        "    'Timisoara': { 'Arad': 118, 'Lugoj': 111 },\n",
        "    'Oradea': { 'Zerind': 71, 'Sibiu': 151 },\n",
        "    'Lugoj': { 'Timisoara': 111, 'Mehadia': 70 },\n",
        "    'Fagaras': { 'Sibiu': 99, 'Bucharest': 211 },\n",
        "    'Rimnicu Vilcea': { 'Sibiu': 80, 'Pitesti': 97, 'Craiova': 146 },\n",
        "    'Mehadia': { 'Lugoj': 70, 'Dobreta': 75 },\n",
        "    'Bucharest': { 'Fagaras': 211, 'Pitesti': 101, 'Urziceni': 85, 'Giurglu': 90 },\n",
        "    'Pitesti': { 'Rimnicu Vilcea': 97, 'Bucharest': 101, 'Craiova': 138 },\n",
        "    'Craiova': { 'Rimnicu Vilcea': 146, 'Pitesti': 138, 'Dobreta': 120 },\n",
        "    'Dobreta': { 'Mehadia': 75, 'Craiova': 120 },\n",
        "    'Urziceni': { 'Bucharest': 85, 'Hirsova': 98, 'Vaslui': 142 },\n",
        "    'Giurglu': { 'Bucharest': 90 },\n",
        "    'Hirsova': { 'Urziceni': 98, 'Eforie': 86 },\n",
        "    'Vaslui': { 'Urziceni': 142, 'Lasi': 92 },\n",
        "    'Eforie': { 'Hirsova': 86 },\n",
        "    'Lasi': { 'Vaslui': 92, 'Neamt': 87 },\n",
        "    'Neamt': { 'Lasi': 87 }\n",
        "}"
      ],
      "execution_count": null,
      "outputs": []
    },
    {
      "source": [
        "## Uniform cost search\n",
        "\n",
        "In uniform-cost search, we explore by moving outward from the start, but exploring along the shortest path found so far first."
      ],
      "cell_type": "markdown",
      "metadata": {}
    },
    {
      "source": [
        "Find the shortest path from Arad to Bucharest using uniform-cost search."
      ],
      "cell_type": "markdown",
      "metadata": {}
    },
    {
      "cell_type": "code",
      "execution_count": null,
      "metadata": {},
      "outputs": [],
      "source": []
    },
    {
      "source": [
        "# Serialisation\n",
        "\n",
        "Serialisation is the process of translating data structures into a format such that they can be *stored* or *transmitted*."
      ],
      "cell_type": "markdown",
      "metadata": {}
    },
    {
      "source": [
        "Consider this list of strings"
      ],
      "cell_type": "markdown",
      "metadata": {}
    },
    {
      "source": [
        "example_strings = [\"hello\", \"how are you?\", \"that's good\", \"nice to meet you\"]"
      ],
      "cell_type": "code",
      "metadata": {},
      "execution_count": null,
      "outputs": []
    },
    {
      "source": [
        "Can we store them in a text file?"
      ],
      "cell_type": "markdown",
      "metadata": {}
    },
    {
      "cell_type": "code",
      "execution_count": null,
      "metadata": {},
      "outputs": [],
      "source": []
    },
    {
      "source": [
        "Can we read them back from the file we stored them in?"
      ],
      "cell_type": "markdown",
      "metadata": {}
    },
    {
      "cell_type": "code",
      "execution_count": null,
      "metadata": {
        "tags": []
      },
      "outputs": [],
      "source": []
    },
    {
      "source": [
        "What could go wrong with this appraoch?"
      ],
      "cell_type": "markdown",
      "metadata": {}
    },
    {
      "cell_type": "code",
      "execution_count": null,
      "metadata": {},
      "outputs": [],
      "source": []
    },
    {
      "source": [
        "## Comma Separated Values\n",
        "\n",
        "Tabular (table-like) data can be stored in Comma Separated Value (CSV) format."
      ],
      "cell_type": "markdown",
      "metadata": {}
    },
    {
      "source": [
        "Load in the tutorial data from `tutorials.csv`."
      ],
      "cell_type": "markdown",
      "metadata": {}
    },
    {
      "cell_type": "code",
      "execution_count": null,
      "metadata": {
        "tags": []
      },
      "outputs": [],
      "source": []
    },
    {
      "source": [
        "Add a new tutorial then write the data back again."
      ],
      "cell_type": "markdown",
      "metadata": {}
    },
    {
      "cell_type": "code",
      "execution_count": null,
      "metadata": {},
      "outputs": [],
      "source": []
    },
    {
      "source": [
        "Can we load in the tutorial data as a list of dictionaries?"
      ],
      "cell_type": "markdown",
      "metadata": {}
    },
    {
      "cell_type": "code",
      "execution_count": null,
      "metadata": {},
      "outputs": [],
      "source": []
    },
    {
      "source": [
        "Can we write it back from a list of dictionaries into CSV?"
      ],
      "cell_type": "markdown",
      "metadata": {}
    },
    {
      "cell_type": "code",
      "execution_count": null,
      "metadata": {},
      "outputs": [],
      "source": []
    }
  ]
}