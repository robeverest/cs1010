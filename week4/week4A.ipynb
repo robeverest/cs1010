{
  "nbformat": 4,
  "nbformat_minor": 0,
  "metadata": {
    "colab": {
      "name": "week3A.ipynb",
      "provenance": [],
      "collapsed_sections": []
    },
    "kernelspec": {
      "name": "Python 3.8.5 64-bit",
      "display_name": "Python 3.8.5 64-bit",
      "metadata": {
        "interpreter": {
          "hash": "1ee38ef4a5a9feb55287fd749643f13d043cb0a7addaab2a9c224cbe137c0062"
        }
      }
    }
  },
  "cells": [
    {
      "source": [
        "# What am I looking at?\n",
        "\n",
        "This is Visual Studio Code.\n",
        "\n",
        "We'll see how it works as we go."
      ],
      "cell_type": "markdown",
      "metadata": {}
    },
    {
      "cell_type": "code",
      "execution_count": null,
      "metadata": {},
      "outputs": [],
      "source": [
        "1 + 1"
      ]
    },
    {
      "source": [
        "# Lab & Dictionary Recap"
      ],
      "cell_type": "markdown",
      "metadata": {}
    },
    {
      "source": [
        "This list contains the email addresses of 4 different students"
      ],
      "cell_type": "markdown",
      "metadata": {}
    },
    {
      "cell_type": "code",
      "execution_count": null,
      "metadata": {},
      "outputs": [],
      "source": [
        "emails = [\"z1234567@student.unsw.edu.au\", \"z7654321@unsw.edu.au\", \"z7891234@ad.unsw.edu.au\", \"z1357924@student.unsw.edu.au\"]"
      ]
    },
    {
      "source": [
        "Can we build a dictionary containing the ZIDs as keys and email addresses as values?"
      ],
      "cell_type": "markdown",
      "metadata": {}
    },
    {
      "cell_type": "code",
      "execution_count": null,
      "metadata": {},
      "outputs": [],
      "source": []
    },
    {
      "source": [
        "How many students prefer each email domain?"
      ],
      "cell_type": "markdown",
      "metadata": {}
    },
    {
      "cell_type": "code",
      "execution_count": null,
      "metadata": {},
      "outputs": [],
      "source": []
    },
    {
      "source": [
        "Can we group students by their preferred email domain?"
      ],
      "cell_type": "markdown",
      "metadata": {}
    },
    {
      "cell_type": "code",
      "execution_count": null,
      "metadata": {},
      "outputs": [],
      "source": []
    },
    {
      "source": [],
      "cell_type": "markdown",
      "metadata": {}
    },
    {
      "cell_type": "markdown",
      "metadata": {
        "id": "2Kaag9CycH8b"
      },
      "source": [
        "# Search algorithms"
      ]
    },
    {
      "cell_type": "markdown",
      "metadata": {
        "id": "kb1EMLsycH8c"
      },
      "source": [
        "Search algorithms are a well studied class of algorithms as many problems can be expressed as search problems.\n",
        "\n",
        "As an example, consider this \"map\" of Romania\n",
        "\n",
        "<img src=\"https://d3i71xaburhd42.cloudfront.net/437af7588c6a36fd55c410b7f92b7f47ef57653b/5-Figure3.2-1.png\" alt=\"Romania\" />"
      ]
    },
    {
      "cell_type": "markdown",
      "metadata": {
        "id": "g8auus3QcH8c"
      },
      "source": [
        "### Depth-first search\n",
        "\n",
        "In depth-first search, we explore as far as possible along each path before going back and finding another one.\n",
        "\n",
        "See last week's lecture."
      ]
    },
    {
      "source": [
        "### Breadth-first search\n",
        "\n",
        "In breadth-first search, we explore by moving outward from the start along all possible paths.\n",
        "\n",
        "See last week's lecture"
      ],
      "cell_type": "markdown",
      "metadata": {}
    },
    {
      "cell_type": "markdown",
      "metadata": {
        "id": "eaWmzYrScH8d"
      },
      "source": [
        "This is the map of Romania as a dictionary of dictionaries:"
      ]
    },
    {
      "cell_type": "code",
      "metadata": {
        "id": "e2VzuYmfcH8d"
      },
      "source": [
        "romania = {\n",
        "    'Arad': { 'Zerind': 75, 'Sibiu': 140, 'Timisoara': 118 },\n",
        "    'Zerind': { 'Arad': 75, 'Oradea': 71 },\n",
        "    'Sibiu': { 'Arad': 140, 'Oradea': 151, 'Fagaras': 99, 'Rimnicu Vilcea': 80 },\n",
        "    'Timisoara': { 'Arad': 118, 'Lugoj': 111 },\n",
        "    'Oradea': { 'Zerind': 71, 'Sibiu': 151 },\n",
        "    'Lugoj': { 'Timisoara': 111, 'Mehadia': 70 },\n",
        "    'Fagaras': { 'Sibiu': 99, 'Bucharest': 211 },\n",
        "    'Rimnicu Vilcea': { 'Sibiu': 80, 'Pitesti': 97, 'Craiova': 146 },\n",
        "    'Mehadia': { 'Lugoj': 70, 'Dobreta': 75 },\n",
        "    'Bucharest': { 'Fagaras': 211, 'Pitesti': 101, 'Urziceni': 85, 'Giurglu': 90 },\n",
        "    'Pitesti': { 'Rimnicu Vilcea': 97, 'Bucharest': 101, 'Craiova': 138 },\n",
        "    'Craiova': { 'Rimnicu Vilcea': 146, 'Pitesti': 138, 'Dobreta': 120 },\n",
        "    'Dobreta': { 'Mehadia': 75, 'Craiova': 120 },\n",
        "    'Urziceni': { 'Bucharest': 85, 'Hirsova': 98, 'Vaslui': 142 },\n",
        "    'Giurglu': { 'Bucharest': 90 },\n",
        "    'Hirsova': { 'Urziceni': 98, 'Eforie': 86 },\n",
        "    'Vaslui': { 'Urziceni': 142, 'Lasi': 92 },\n",
        "    'Eforie': { 'Hirsova': 86 },\n",
        "    'Lasi': { 'Vaslui': 92, 'Neamt': 87 },\n",
        "    'Neamt': { 'Lasi': 87 }\n",
        "}"
      ],
      "execution_count": null,
      "outputs": []
    },
    {
      "source": [
        "## Uniform cost search\n",
        "\n",
        "In uniform-cost search, we explore by moving outward from the start, but exploring along the shortest path found so far first."
      ],
      "cell_type": "markdown",
      "metadata": {}
    },
    {
      "source": [
        "Find the shortest path from Arad to Bucharest using uniform-cost search."
      ],
      "cell_type": "markdown",
      "metadata": {}
    },
    {
      "cell_type": "code",
      "execution_count": null,
      "metadata": {},
      "outputs": [],
      "source": []
    },
    {
      "source": [
        "# Serialisation\n",
        "\n",
        "Serialisation is the process of translating data structures into a format such that they can be *stored* or *transmitted*."
      ],
      "cell_type": "markdown",
      "metadata": {}
    },
    {
      "source": [
        "Consider this list of strings"
      ],
      "cell_type": "markdown",
      "metadata": {}
    },
    {
      "source": [
        "example_strings = [\"hello\", \"how are you?\", \"that's good\", \"nice to meet you\"]"
      ],
      "cell_type": "code",
      "metadata": {},
      "execution_count": null,
      "outputs": []
    },
    {
      "source": [
        "Can we store them in a text file?"
      ],
      "cell_type": "markdown",
      "metadata": {}
    },
    {
      "cell_type": "code",
      "execution_count": null,
      "metadata": {},
      "outputs": [],
      "source": []
    },
    {
      "source": [
        "Can we read them back from the file we stored them in?"
      ],
      "cell_type": "markdown",
      "metadata": {}
    },
    {
      "cell_type": "code",
      "execution_count": null,
      "metadata": {
        "tags": []
      },
      "outputs": [],
      "source": []
    },
    {
      "source": [
        "What could go wrong with this appraoch?"
      ],
      "cell_type": "markdown",
      "metadata": {}
    },
    {
      "cell_type": "code",
      "execution_count": null,
      "metadata": {},
      "outputs": [],
      "source": []
    },
    {
      "source": [
        "## Comma Separated Values\n",
        "\n",
        "Tabular (table-like) data can be stored in Comma Separated Value (CSV) format."
      ],
      "cell_type": "markdown",
      "metadata": {}
    },
    {
      "source": [
        "Load in the tutorial data from `tutorials.csv`."
      ],
      "cell_type": "markdown",
      "metadata": {}
    },
    {
      "cell_type": "code",
      "execution_count": null,
      "metadata": {
        "tags": []
      },
      "outputs": [],
      "source": []
    },
    {
      "source": [
        "Add a new tutorial then write the data back again."
      ],
      "cell_type": "markdown",
      "metadata": {}
    },
    {
      "cell_type": "code",
      "execution_count": null,
      "metadata": {},
      "outputs": [],
      "source": []
    },
    {
      "source": [
        "Can we load in the tutorial data as a list of dictionaries?"
      ],
      "cell_type": "markdown",
      "metadata": {}
    },
    {
      "cell_type": "code",
      "execution_count": null,
      "metadata": {},
      "outputs": [],
      "source": []
    },
    {
      "source": [
        "Can we write it back from a list of dictionaries into CSV?"
      ],
      "cell_type": "markdown",
      "metadata": {}
    },
    {
      "cell_type": "code",
      "execution_count": null,
      "metadata": {},
      "outputs": [],
      "source": []
    },
    {
      "source": [
        "## JSON\n",
        "\n",
        "JavaScript Object Notation (JSON) is a serialisation format with its origins in the Javascript language. However, in recent times it has become a universal standard used by many languages and tools for storing data.\n",
        "\n",
        "**Important points:**\n",
        " * JSON looks very similar to how we write data structures in Python.\n",
        " * JSON supports two structures:\n",
        "   * Arrays, which are similar in to lists in Python\n",
        "   * Objects, which are similar to dictionaries (keys *must* be strings)\n",
        " * Single values can be strings or numbers."
      ],
      "cell_type": "markdown",
      "metadata": {}
    },
    {
      "cell_type": "markdown",
      "metadata": {
        "id": "66g8ozhFmJol"
      },
      "source": [
        "Can we read in the Trump tweets?"
      ]
    },
    {
      "cell_type": "code",
      "metadata": {
        "id": "sm93K6xzmJon",
        "outputId": "314e70c3-0ffe-46df-a52f-3b70f310b418",
        "colab": {
          "base_uri": "https://localhost:8080/",
          "height": 72
        }
      },
      "source": [],
      "execution_count": null,
      "outputs": []
    },
    {
      "source": [
        "Can we create data that can't be serialised into CSV but can be serialised into JSON?"
      ],
      "cell_type": "markdown",
      "metadata": {}
    },
    {
      "cell_type": "code",
      "execution_count": null,
      "metadata": {},
      "outputs": [],
      "source": []
    },
    {
      "source": [
        "# Web\n",
        "\n",
        "Some terminology:\n",
        "\n",
        "* Network: A series of computers connected together such that they can communicate is a network.\n",
        "* Internet: A network of computers spanning the globe.\n",
        "* World Wide Web: A system of documents and resources linked together via URLs\n",
        "* Uniform Resource Locator (URL): A reference to web resource and how to access it. For example, 'https://www.google.com' is a URL.\n",
        "* Protocol: The language used by two entities for the purposes of communication.\n",
        "* HyperText Terminal Protocol (HTTP): The protocol used by the World Wide Web.\n",
        "\n",
        "### World Wide Web\n",
        "\n",
        "<img src=\"https://ptgmedia.pearsoncmg.com/imprint_downloads/informit/learninglabs/9780133927603/graphics/01fig01.jpg\" />\n",
        "\n",
        "#### Web Browser\n",
        "\n",
        "Software that lets us browse the web by making requests to web servers. Examples include: Chrome, Firefox, Edge, Safari, etc.\n",
        "\n",
        "#### Web server\n",
        "\n",
        "Software running somewhere on the internet that responds to requests from web browsers.\n"
      ],
      "cell_type": "markdown",
      "metadata": {}
    },
    {
      "source": [
        "Can we build a web server?\n",
        "\n",
        "See `week4/simple_server.py`"
      ],
      "cell_type": "markdown",
      "metadata": {}
    },
    {
      "source": [
        "## HTTP\n",
        "\n",
        "HTTP requests from browsers tend to contain a lot of information. For the most part, this information can either be ignored or is handled for us by Flask. For reference, here are the important points:\n",
        "\n",
        "* HTTP methods:\n",
        "  * GET: Sent by the browser when requesting a resource.\n",
        "  * POST: Sent by the browser when submitting a form (see below).\n",
        "  * PUT: Typically sent by the browser when uploading a file.\n",
        "  * There are others but they are unlikely to come up in this course.\n",
        "* Path\n",
        "  * The path being requested, e.g. `/echo/hello` (corresponds to a route in Flask).\n",
        "* Cookies \n",
        "  * See below\n",
        "\n",
        "HTTP responses contain the response to the request, but can also contain some other information. The information we care about is:\n",
        "\n",
        "* The status code\n",
        "  * 200 means everything worked\n",
        "  * 404 means the request was for a resource that doesn't exist\n",
        "  * Numbers starting with a 5 mean the web server crashed while trying to handle the request.\n",
        "  * Numbers starting with a 4 mean the web server decided that the request was invalid and sent back an error in the response.\n",
        "  * [A full listing of all standard status codes](https://developer.mozilla.org/en-US/docs/Web/HTTP/Status)\n",
        "* Set-Cookie\n",
        "  * See below"
      ],
      "cell_type": "markdown",
      "metadata": {}
    },
    {
      "source": [
        "## HTML"
      ],
      "cell_type": "markdown",
      "metadata": {}
    },
    {
      "source": [
        "HyperText Markup Language (HTML) describes the structure of web pages.\n",
        "\n",
        "[A reference page for HTML tags](https://www.tutorialrepublic.com/html-reference/html5-tags.php)"
      ],
      "cell_type": "markdown",
      "metadata": {}
    },
    {
      "source": [
        "Can we display a heading followed by some text in this notebook?"
      ],
      "cell_type": "markdown",
      "metadata": {}
    },
    {
      "source": [],
      "cell_type": "code",
      "metadata": {},
      "execution_count": null,
      "outputs": []
    },
    {
      "source": [
        "Can we make our simple web server respond with HTML?\n",
        "\n",
        "See `simple_server.py`"
      ],
      "cell_type": "markdown",
      "metadata": {}
    },
    {
      "source": [
        "### PyHTML\n",
        "\n",
        "Writing HTML by hand can be somewhat tedious. We can use `pyhtml` to avoid repeating ourselves."
      ],
      "cell_type": "markdown",
      "metadata": {}
    },
    {
      "source": [
        "Use `pyhtml` to generate the same heading and text as above."
      ],
      "cell_type": "markdown",
      "metadata": {}
    },
    {
      "cell_type": "code",
      "execution_count": null,
      "metadata": {
        "tags": []
      },
      "outputs": [],
      "source": []
    },
    {
      "source": [
        "Can we use PyHTML in our simple server?\n",
        "\n",
        "See `simple_server.py`."
      ],
      "cell_type": "markdown",
      "metadata": {}
    },
    {
      "source": [
        "### Linking to and embedding other content\n",
        "\n",
        "The `<a>` HTML tag can be used to create a link. The `<img>` tag is used to embed images."
      ],
      "cell_type": "markdown",
      "metadata": {}
    },
    {
      "source": [
        "Can we make our simple server display an image and a link?\n",
        "\n",
        "See `simple_server.py`"
      ],
      "cell_type": "markdown",
      "metadata": {}
    },
    {
      "source": [
        "### Forms\n",
        "\n",
        "HTML forms allow information to be entered in by the user and transmitted to the web server."
      ],
      "cell_type": "markdown",
      "metadata": {}
    },
    {
      "source": [
        "Can we add a form to our simple web server?\n",
        "\n",
        "See `simple_server.py`"
      ],
      "cell_type": "markdown",
      "metadata": {}
    },
    {
      "source": [
        "# A bigger example\n",
        "\n",
        "**Can our generated Trump tweets be distinguished from real tweets?**\n",
        "\n",
        "<img src=\"https://cdn.ttgtmedia.com/rms/onlineImages/crm-turing_test.jpg\" width=600/>\n",
        "\n",
        "See `trump_or_bot.py`."
      ],
      "cell_type": "markdown",
      "metadata": {}
    },
    {
      "source": [
        "# Cookies\n",
        "\n",
        "Cookies are small pieces of information sent by the server to the web browser in HTTP responses. These pieces of information are then sent back to the server every time the browser makes a new request.\n",
        "\n",
        "In flask, the best way to create cookies is with `session`."
      ],
      "cell_type": "markdown",
      "metadata": {}
    },
    {
      "source": [
        "Can we use cookies in `trump_or_bot`?"
      ],
      "cell_type": "markdown",
      "metadata": {}
    }
  ]
}