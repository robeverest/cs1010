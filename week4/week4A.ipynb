{
  "nbformat": 4,
  "nbformat_minor": 0,
  "metadata": {
    "colab": {
      "name": "week3A.ipynb",
      "provenance": [],
      "collapsed_sections": []
    },
    "kernelspec": {
      "name": "Python 3.8.5 64-bit",
      "display_name": "Python 3.8.5 64-bit",
      "metadata": {
        "interpreter": {
          "hash": "1ee38ef4a5a9feb55287fd749643f13d043cb0a7addaab2a9c224cbe137c0062"
        }
      }
    }
  },
  "cells": [
    {
      "source": [
        "# Administrivia\n",
        "\n",
        "## Timetable\n",
        "\n",
        "* Week 4 - Week 4 lab released, week 3 lab due.\n",
        "* Week 5 - Week 5 lab released, week 4 lab due.\n",
        "* Week 6 - No lab released, no lab due\n",
        "* Week 7 - No lab released, project proposal due (Sunday at end of week)\n",
        "* Week 8 - Week 8 lab released (short), week 5 lab due.\n",
        "* Week 9 - Week 9 lab released (short), week 8 lab due.\n",
        "* Week 10 - No lab released, week 9 lab due, project final prototype due.\n",
        "\n",
        "## Week 6 Revision session\n",
        "* Who can attend in person?\n",
        "* Tuesday or Thursday lecture time?\n",
        "\n",
        "## Project\n",
        "* You're not expected to know how to build web apps yet!\n",
        "* Questions?"
      ],
      "cell_type": "markdown",
      "metadata": {}
    },
    {
      "source": [
        "# What am I looking at?\n",
        "\n",
        "This is Visual Studio Code.\n",
        "\n",
        "We'll see how it works as we go."
      ],
      "cell_type": "markdown",
      "metadata": {}
    },
    {
      "cell_type": "code",
      "execution_count": null,
      "metadata": {},
      "outputs": [],
      "source": [
        "1 + 1"
      ]
    },
    {
      "source": [
        "# Lab & Dictionary Recap"
      ],
      "cell_type": "markdown",
      "metadata": {}
    },
    {
      "source": [
        "This list contains the email addresses of 4 different students"
      ],
      "cell_type": "markdown",
      "metadata": {}
    },
    {
      "cell_type": "code",
      "execution_count": null,
      "metadata": {},
      "outputs": [],
      "source": [
        "emails = [\"z1234567@student.unsw.edu.au\", \"z7654321@unsw.edu.au\", \"z7891234@ad.unsw.edu.au\", \"z1357924@student.unsw.edu.au\"]"
      ]
    },
    {
      "source": [
        "Can we build a dictionary containing the ZIDs as keys and email addresses as values?"
      ],
      "cell_type": "markdown",
      "metadata": {}
    },
    {
      "cell_type": "code",
      "execution_count": null,
      "metadata": {},
      "outputs": [],
      "source": []
    },
    {
      "source": [
        "How many students prefer each email domain?"
      ],
      "cell_type": "markdown",
      "metadata": {}
    },
    {
      "cell_type": "code",
      "execution_count": null,
      "metadata": {},
      "outputs": [],
      "source": []
    },
    {
      "source": [
        "Can we group students by their preferred email domain?"
      ],
      "cell_type": "markdown",
      "metadata": {}
    },
    {
      "cell_type": "code",
      "execution_count": null,
      "metadata": {},
      "outputs": [],
      "source": []
    },
    {
      "source": [
        "# Musk tweets\n",
        "\n",
        "This code cell creates a list from some of Elon Musk's tweets. \n",
        "\n",
        "*You're not expected to completely understand this code yet. It's only here to give us interesting data*."
      ],
      "cell_type": "markdown",
      "metadata": {}
    },
    {
      "cell_type": "code",
      "execution_count": null,
      "metadata": {},
      "outputs": [],
      "source": [
        "import pandas\n",
        "\n",
        "raw_tweets = pandas.read_csv('https://raw.githubusercontent.com/robeverest/cs1010/master/data/elonmusk-full.csv')\n",
        "elon_tweets = list(map(str, list(raw_tweets.tweet)))"
      ]
    },
    {
      "source": [
        "## Tweet anaylsis"
      ],
      "cell_type": "markdown",
      "metadata": {}
    },
    {
      "cell_type": "code",
      "execution_count": null,
      "metadata": {},
      "outputs": [],
      "source": [
        "example_tweet = \"the cat sat on the mat. the cat slept\"\n",
        "\n",
        "# the cat -> sat, cat sat -> on, sat on -> the, on the -> mat., the mat. -> the, mat. the -> cat, the cat -> slept\n",
        "\n",
        "example_result = { None: { \"the\": 1 },\n",
        "                  \"the\": { \"cat\": 1},\n",
        "                  \"the cat\": { \"sat\": 1, \"slept\": 1 }, \n",
        "                  \"cat sat\": { \"on\": 1 }, \n",
        "                  \"sat on\": { \"the\": 1 },\n",
        "                  \"on the\": { \"mat.\": 1 },\n",
        "                  \"the mat.\": { \"the\": 1 },\n",
        "                  \"mat. the\": { \"cat\": 1 },\n",
        "                  \"the cat\": { \"slept\": 1 } }"
      ]
    },
    {
      "cell_type": "code",
      "execution_count": null,
      "metadata": {},
      "outputs": [],
      "source": [
        "elon_word_map = {}\n",
        "elon_word_map[tuple()] = {}\n",
        "\n",
        "for tweet in elon_tweets:\n",
        "    prefix = tuple()\n",
        "    for word in tweet.split():\n",
        "        # Have we seen this prefix before?\n",
        "        if not prefix in elon_word_map:\n",
        "            # If we haven't, add an entry to the word map\n",
        "            elon_word_map[prefix] = {}\n",
        "        # Have we seen this word follow the prefix?\n",
        "        if word in elon_word_map[prefix]:\n",
        "            # If it has, increase the count by 1\n",
        "            elon_word_map[prefix][word] += 1\n",
        "        else:\n",
        "            # If it hasn't, set the count to 1\n",
        "            elon_word_map[prefix][word] = 1\n",
        "\n",
        "        if len(prefix) == 0:\n",
        "            # If we don't have a prefix yet, the prefix is just one word\n",
        "            prefix = (word,)\n",
        "        elif len(prefix) == 1:\n",
        "            # If our prefix is already one word, we make it the two words\n",
        "            prefix = (prefix[0], word)\n",
        "        else:\n",
        "            # If our prefix is already 2 words, remove the first word and add the new word to the end\n",
        "            prefix = (prefix[1], word)\n",
        "\n",
        "elon_word_map"
      ]
    },
    {
      "source": [
        "Generating artificial tweets?"
      ],
      "cell_type": "markdown",
      "metadata": {}
    },
    {
      "cell_type": "code",
      "execution_count": null,
      "metadata": {},
      "outputs": [],
      "source": [
        "def random_word(words_weight):\n",
        "    if words_weight == {}:\n",
        "        return None\n",
        "    words = random.choices(list(words_weight.keys()), weights=list(words_weight.values()))\n",
        "    return words[0]\n",
        "\n",
        "def generate_tweet():\n",
        "    word = random_word(elon_word_map[tuple()])\n",
        "    tweet = \"\"\n",
        "    prefix = tuple()\n",
        "    while word != None and len(tweet + word) < 280:\n",
        "        tweet = tweet + word + \" \"\n",
        "        if len(prefix) == 0:\n",
        "            # If we don't have a prefix yet, the prefix is just one word\n",
        "            prefix = (word,)\n",
        "        elif len(prefix) == 1:\n",
        "            # If our prefix is already one word, we make it the two words\n",
        "            prefix = (prefix[0], word)\n",
        "        else:\n",
        "            # If our prefix is already 2 words, remove the first word and add the new word to the end\n",
        "            prefix = (prefix[1], word)\n",
        "\n",
        "        if prefix in elon_word_map:\n",
        "            # There is a word we can use\n",
        "            word = random_word(elon_word_map[prefix])\n",
        "        else:\n",
        "            # No words follow on from this prefix\n",
        "            word = None\n",
        "    if word != None:\n",
        "        tweet = tweet.strip() + '...'\n",
        "    return tweet.strip()\n",
        "\n",
        "generate_tweet()"
      ]
    },
    {
      "source": [
        "What happens if we try to generate tweets using a prefix length of 3 or higher?"
      ],
      "cell_type": "markdown",
      "metadata": {}
    },
    {
      "cell_type": "code",
      "execution_count": null,
      "metadata": {},
      "outputs": [],
      "source": []
    },
    {
      "cell_type": "markdown",
      "metadata": {
        "id": "ji1luiCdcH7z"
      },
      "source": [
        "# Algorithms\n",
        "\n",
        "An algorithm is a sequence of well-defined steps to solve particular problem.\n",
        "\n",
        "In this course we have already *implemented* many algorithms."
      ]
    },
    {
      "cell_type": "markdown",
      "metadata": {
        "id": "mxGAyndKcH70"
      },
      "source": [
        "## Greatest Common Divisor\n",
        "\n",
        "The greatest common divisor of numbers $a$ and $b$ is the largest number that divides both of them without remainder.\n",
        "\n",
        "This is a problem for which we can come up with multiple different algorithms (and implementations).\n",
        "\n"
      ]
    },
    {
      "cell_type": "markdown",
      "metadata": {
        "id": "tSfAgwTCcH70"
      },
      "source": [
        "### Modulo operator\n",
        "\n",
        "The modulo operator (`%`) in Python lets us compute what the remainder of division operations."
      ]
    },
    {
      "cell_type": "markdown",
      "metadata": {
        "id": "Dl3RHPaBcH71"
      },
      "source": [
        "What is the remainder of dividing 25 by 7?"
      ]
    },
    {
      "cell_type": "code",
      "metadata": {
        "id": "66ozmVp5cH72"
      },
      "source": [],
      "execution_count": null,
      "outputs": []
    },
    {
      "cell_type": "markdown",
      "metadata": {
        "id": "TnWsEYyXcH75"
      },
      "source": [
        "Is 8298973 divisible by 2591"
      ]
    },
    {
      "cell_type": "code",
      "metadata": {
        "id": "nI0TuAEOcH76"
      },
      "source": [],
      "execution_count": null,
      "outputs": []
    },
    {
      "cell_type": "markdown",
      "metadata": {
        "id": "jQ9wNZZIcH7-"
      },
      "source": [
        "What's the simplest way to find the GCD of two numbers?"
      ]
    },
    {
      "cell_type": "code",
      "metadata": {
        "id": "JL8LBb76cH7_"
      },
      "source": [],
      "execution_count": null,
      "outputs": []
    },
    {
      "cell_type": "markdown",
      "metadata": {
        "id": "ZW8zd3xxcH8C"
      },
      "source": [
        "What's the GCD of 157680487 and 190876379?"
      ]
    },
    {
      "cell_type": "code",
      "metadata": {
        "id": "GodPkeSQcH8D"
      },
      "source": [],
      "execution_count": null,
      "outputs": []
    },
    {
      "cell_type": "markdown",
      "metadata": {
        "id": "vGF8FGpOcH8H"
      },
      "source": [
        "### Euclid's algorithm\n",
        "\n",
        "Euclid's algorithm is a fast way of calculating the GCD of two numbers."
      ]
    },
    {
      "cell_type": "markdown",
      "metadata": {
        "id": "gzwREzskcH8M"
      },
      "source": [
        "Implement Euclid's algorithm using subtraction"
      ]
    },
    {
      "cell_type": "code",
      "metadata": {
        "id": "an86Qi4ncH8J"
      },
      "source": [],
      "execution_count": null,
      "outputs": []
    },
    {
      "cell_type": "markdown",
      "metadata": {
        "id": "X9LsX89qcH8I"
      },
      "source": [
        "Implement Euclid's algorithm using the modulo operator"
      ]
    },
    {
      "cell_type": "code",
      "metadata": {
        "id": "ldRonF4GcH8N"
      },
      "source": [],
      "execution_count": null,
      "outputs": []
    },
    {
      "cell_type": "markdown",
      "metadata": {
        "id": "fkQJBppVcH8S"
      },
      "source": [
        "# Recursion\n",
        "\n",
        "In addition to loops, another way to achieve repeated computation is recursion.\n",
        "\n",
        "In programming, recursion is when functions *call* themselves, either directly or indirectly."
      ]
    },
    {
      "cell_type": "markdown",
      "metadata": {
        "id": "sn3IqLRdcH8S"
      },
      "source": [
        "Write a function that computes the factorial of a given number"
      ]
    },
    {
      "cell_type": "code",
      "metadata": {
        "id": "3OYOg6rXcH8T"
      },
      "source": [],
      "execution_count": null,
      "outputs": []
    },
    {
      "cell_type": "markdown",
      "metadata": {
        "id": "ONGi4LL7cH8V"
      },
      "source": [
        "Write the same function but use recursion instead of a loop"
      ]
    },
    {
      "cell_type": "code",
      "metadata": {
        "id": "FfvYNI7wcH8V"
      },
      "source": [],
      "execution_count": null,
      "outputs": []
    },
    {
      "cell_type": "markdown",
      "metadata": {
        "id": "ZS9HaxgacH8Y"
      },
      "source": [
        "Write a version of Euclidean GCD that uses recursion instead of a loop"
      ]
    },
    {
      "cell_type": "code",
      "metadata": {
        "id": "Ncg3mjvucH8Y"
      },
      "source": [],
      "execution_count": null,
      "outputs": []
    },
    {
      "source": [
        "# Serialisation\n",
        "\n",
        "Serialisation is the process of translating data structures into a format such that they can be *stored* or *transmitted*."
      ],
      "cell_type": "markdown",
      "metadata": {}
    },
    {
      "source": [
        "Consider this list of strings"
      ],
      "cell_type": "markdown",
      "metadata": {}
    },
    {
      "source": [
        "example_strings = [\"hello\", \"how are you?\", \"that's good\", \"nice to meet you\"]"
      ],
      "cell_type": "code",
      "metadata": {},
      "execution_count": null,
      "outputs": []
    },
    {
      "source": [
        "Can we store them in a text file?"
      ],
      "cell_type": "markdown",
      "metadata": {}
    },
    {
      "cell_type": "code",
      "execution_count": null,
      "metadata": {},
      "outputs": [],
      "source": []
    },
    {
      "source": [
        "Can we read them back from the file we stored them in?"
      ],
      "cell_type": "markdown",
      "metadata": {}
    },
    {
      "cell_type": "code",
      "execution_count": null,
      "metadata": {
        "tags": []
      },
      "outputs": [],
      "source": []
    },
    {
      "source": [
        "What could go wrong with this appraoch?"
      ],
      "cell_type": "markdown",
      "metadata": {}
    },
    {
      "cell_type": "code",
      "execution_count": null,
      "metadata": {},
      "outputs": [],
      "source": []
    },
    {
      "source": [
        "## Comma Separated Values\n",
        "\n",
        "Tabular (table-like) data can be stored in Comma Separated Value (CSV) format."
      ],
      "cell_type": "markdown",
      "metadata": {}
    },
    {
      "source": [
        "Load in the tutorial data from `tutorials.csv`."
      ],
      "cell_type": "markdown",
      "metadata": {}
    },
    {
      "cell_type": "code",
      "execution_count": null,
      "metadata": {
        "tags": []
      },
      "outputs": [],
      "source": []
    },
    {
      "source": [
        "Add a new tutorial then write the data back again."
      ],
      "cell_type": "markdown",
      "metadata": {}
    },
    {
      "cell_type": "code",
      "execution_count": null,
      "metadata": {},
      "outputs": [],
      "source": []
    },
    {
      "source": [
        "Can we load in the tutorial data as a list of dictionaries?"
      ],
      "cell_type": "markdown",
      "metadata": {}
    },
    {
      "cell_type": "code",
      "execution_count": null,
      "metadata": {},
      "outputs": [],
      "source": []
    },
    {
      "source": [
        "Can we write it back from a list of dictionaries into CSV?"
      ],
      "cell_type": "markdown",
      "metadata": {}
    },
    {
      "cell_type": "code",
      "execution_count": null,
      "metadata": {},
      "outputs": [],
      "source": []
    }
  ]
}