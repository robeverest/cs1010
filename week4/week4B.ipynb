{
  "nbformat": 4,
  "nbformat_minor": 0,
  "metadata": {
    "colab": {
      "name": "week3A.ipynb",
      "provenance": [],
      "collapsed_sections": []
    },
    "kernelspec": {
      "name": "Python 3.8.5 64-bit",
      "display_name": "Python 3.8.5 64-bit",
      "metadata": {
        "interpreter": {
          "hash": "1ee38ef4a5a9feb55287fd749643f13d043cb0a7addaab2a9c224cbe137c0062"
        }
      }
    }
  },
  "cells": [
    {
      "source": [
        "## JSON\n",
        "\n",
        "JavaScript Object Notation (JSON) is a serialisation format with its origins in the Javascript language. However, in recent times it has become a universal standard used by many languages and tools for storing data.\n",
        "\n",
        "**Important points:**\n",
        " * JSON looks very similar to how we write data structures in Python.\n",
        " * JSON supports two structures:\n",
        "   * Arrays, which are similar in to lists in Python\n",
        "   * Objects, which are similar to dictionaries (keys *must* be strings)\n",
        " * Single values can be strings or numbers."
      ],
      "cell_type": "markdown",
      "metadata": {}
    },
    {
      "cell_type": "markdown",
      "metadata": {
        "id": "66g8ozhFmJol"
      },
      "source": [
        "Can we read in the Trump tweets?"
      ]
    },
    {
      "cell_type": "code",
      "metadata": {
        "id": "sm93K6xzmJon",
        "outputId": "314e70c3-0ffe-46df-a52f-3b70f310b418",
        "colab": {
          "base_uri": "https://localhost:8080/",
          "height": 72
        }
      },
      "source": [],
      "execution_count": null,
      "outputs": []
    },
    {
      "source": [
        "Can we create data that can't be serialised into CSV but can be serialised into JSON?"
      ],
      "cell_type": "markdown",
      "metadata": {}
    },
    {
      "cell_type": "code",
      "execution_count": null,
      "metadata": {},
      "outputs": [],
      "source": []
    },
    {
      "source": [
        "# Web\n",
        "\n",
        "Some terminology:\n",
        "\n",
        "* Network: A series of computers connected together such that they can communicate is a network.\n",
        "* Internet: A network of computers spanning the globe.\n",
        "* World Wide Web: A system of documents and resources linked together via URLs\n",
        "* Uniform Resource Locator (URL): A reference to web resource and how to access it. For example, 'https://www.google.com' is a URL.\n",
        "* Protocol: The language used by two entities for the purposes of communication.\n",
        "* HyperText Terminal Protocol (HTTP): The protocol used by the World Wide Web.\n",
        "\n",
        "### World Wide Web\n",
        "\n",
        "<img src=\"https://ptgmedia.pearsoncmg.com/imprint_downloads/informit/learninglabs/9780133927603/graphics/01fig01.jpg\" />\n",
        "\n",
        "#### Web Browser\n",
        "\n",
        "Software that lets us browse the web by making requests to web servers. Examples include: Chrome, Firefox, Edge, Safari, etc.\n",
        "\n",
        "#### Web server\n",
        "\n",
        "Software running somewhere on the internet that responds to requests from web browsers.\n"
      ],
      "cell_type": "markdown",
      "metadata": {}
    },
    {
      "source": [
        "Can we build a web server?\n",
        "\n",
        "See `week4/simple_server.py`"
      ],
      "cell_type": "markdown",
      "metadata": {}
    },
    {
      "source": [
        "## HTTP\n",
        "\n",
        "HTTP requests from browsers tend to contain a lot of information. For the most part, this information can either be ignored or is handled for us by Flask. For reference, here are the important points:\n",
        "\n",
        "* HTTP methods:\n",
        "  * GET: Sent by the browser when requesting a resource.\n",
        "  * POST: Sent by the browser when submitting a form (see below).\n",
        "  * PUT: Typically sent by the browser when uploading a file.\n",
        "  * There are others but they are unlikely to come up in this course.\n",
        "* Path\n",
        "  * The path being requested, e.g. `/echo/hello` (corresponds to a route in Flask).\n",
        "* Cookies \n",
        "  * See below\n",
        "\n",
        "HTTP responses contain the response to the request, but can also contain some other information. The information we care about is:\n",
        "\n",
        "* The status code\n",
        "  * 200 means everything worked\n",
        "  * 404 means the request was for a resource that doesn't exist\n",
        "  * Numbers starting with a 5 mean the web server crashed while trying to handle the request.\n",
        "  * Numbers starting with a 4 mean the web server decided that the request was invalid and sent back an error in the response.\n",
        "  * [A full listing of all standard status codes](https://developer.mozilla.org/en-US/docs/Web/HTTP/Status)\n",
        "* Set-Cookie\n",
        "  * See below"
      ],
      "cell_type": "markdown",
      "metadata": {}
    },
    {
      "source": [
        "## HTML"
      ],
      "cell_type": "markdown",
      "metadata": {}
    },
    {
      "source": [
        "HyperText Markup Language (HTML) describes the structure of web pages.\n",
        "\n",
        "[A reference page for HTML tags](https://www.tutorialrepublic.com/html-reference/html5-tags.php)"
      ],
      "cell_type": "markdown",
      "metadata": {}
    },
    {
      "source": [
        "Can we display a heading followed by some text in this notebook?"
      ],
      "cell_type": "markdown",
      "metadata": {}
    },
    {
      "source": [],
      "cell_type": "code",
      "metadata": {},
      "execution_count": null,
      "outputs": []
    },
    {
      "source": [
        "Can we make our simple web server respond with HTML?\n",
        "\n",
        "See `simple_server.py`"
      ],
      "cell_type": "markdown",
      "metadata": {}
    },
    {
      "source": [
        "### PyHTML\n",
        "\n",
        "Writing HTML by hand can be somewhat tedious. We can use `pyhtml` to avoid repeating ourselves."
      ],
      "cell_type": "markdown",
      "metadata": {}
    },
    {
      "source": [
        "Use `pyhtml` to generate the same heading and text as above."
      ],
      "cell_type": "markdown",
      "metadata": {}
    },
    {
      "cell_type": "code",
      "execution_count": null,
      "metadata": {
        "tags": []
      },
      "outputs": [],
      "source": []
    },
    {
      "source": [
        "Can we use PyHTML in our simple server?\n",
        "\n",
        "See `simple_server.py`."
      ],
      "cell_type": "markdown",
      "metadata": {}
    },
    {
      "source": [
        "### Linking to and embedding other content\n",
        "\n",
        "The `<a>` HTML tag can be used to create a link. The `<img>` tag is used to embed images."
      ],
      "cell_type": "markdown",
      "metadata": {}
    },
    {
      "source": [
        "Can we make our simple server display an image and a link?\n",
        "\n",
        "See `simple_server.py`"
      ],
      "cell_type": "markdown",
      "metadata": {}
    },
    {
      "source": [
        "### Forms\n",
        "\n",
        "HTML forms allow information to be entered in by the user and transmitted to the web server."
      ],
      "cell_type": "markdown",
      "metadata": {}
    },
    {
      "source": [
        "Can we add a form to our simple web server?\n",
        "\n",
        "See `simple_server.py`"
      ],
      "cell_type": "markdown",
      "metadata": {}
    },
    {
      "source": [
        "# A bigger example\n",
        "\n",
        "**Can our generated Trump tweets be distinguished from real tweets?**\n",
        "\n",
        "<img src=\"https://cdn.ttgtmedia.com/rms/onlineImages/crm-turing_test.jpg\" width=600/>\n",
        "\n",
        "See `trump_or_bot.py`."
      ],
      "cell_type": "markdown",
      "metadata": {}
    },
    {
      "source": [
        "# Cookies\n",
        "\n",
        "Cookies are small pieces of information sent by the server to the web browser in HTTP responses. These pieces of information are then sent back to the server every time the browser makes a new request.\n",
        "\n",
        "In flask, the best way to create cookies is with `session`."
      ],
      "cell_type": "markdown",
      "metadata": {}
    },
    {
      "source": [
        "Can we use cookies in `trump_or_bot`?"
      ],
      "cell_type": "markdown",
      "metadata": {}
    }
  ]
}