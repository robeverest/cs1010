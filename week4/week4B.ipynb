{
  "nbformat": 4,
  "nbformat_minor": 0,
  "metadata": {
    "colab": {
      "name": "week3A.ipynb",
      "provenance": [],
      "collapsed_sections": []
    },
    "kernelspec": {
      "name": "Python 3.8.5 64-bit",
      "display_name": "Python 3.8.5 64-bit",
      "metadata": {
        "interpreter": {
          "hash": "1ee38ef4a5a9feb55287fd749643f13d043cb0a7addaab2a9c224cbe137c0062"
        }
      }
    }
  },
  "cells": [
    {
      "cell_type": "markdown",
      "metadata": {
        "id": "mxGAyndKcH70"
      },
      "source": [
        "## Greatest Common Divisor\n",
        "\n",
        "The greatest common divisor of numbers $a$ and $b$ is the largest number that divides both of them without remainder.\n",
        "\n",
        "This is a problem for which we can come up with multiple different algorithms (and implementations).\n",
        "\n"
      ]
    },
    {
      "cell_type": "markdown",
      "metadata": {
        "id": "vGF8FGpOcH8H"
      },
      "source": [
        "### Euclid's algorithm\n",
        "\n",
        "Euclid's algorithm is a fast way of calculating the GCD of two numbers."
      ]
    },
    {
      "cell_type": "markdown",
      "metadata": {
        "id": "gzwREzskcH8M"
      },
      "source": [
        "Implement Euclid's algorithm using subtraction"
      ]
    },
    {
      "cell_type": "code",
      "metadata": {
        "id": "an86Qi4ncH8J"
      },
      "source": [
        "def gcd(a, b):\n",
        "    while a != b:\n",
        "        if a > b:\n",
        "            a = a - b\n",
        "        else:\n",
        "            b = b - a\n",
        "    return a\n",
        "gcd(157680487, 190876379)"
      ],
      "execution_count": 35,
      "outputs": [
        {
          "output_type": "execute_result",
          "data": {
            "text/plain": [
              "8298973"
            ]
          },
          "metadata": {},
          "execution_count": 35
        }
      ]
    },
    {
      "cell_type": "markdown",
      "metadata": {
        "id": "X9LsX89qcH8I"
      },
      "source": [
        "Implement Euclid's algorithm using the modulo operator"
      ]
    },
    {
      "cell_type": "code",
      "metadata": {
        "id": "ldRonF4GcH8N"
      },
      "source": [
        "def gcd(a, b):\n",
        "    while b > 0:\n",
        "        t = b\n",
        "        b = a % b\n",
        "        a = t\n",
        "    return a\n",
        "gcd(157680487, 190876379)"
      ],
      "execution_count": 36,
      "outputs": [
        {
          "output_type": "execute_result",
          "data": {
            "text/plain": [
              "8298973"
            ]
          },
          "metadata": {},
          "execution_count": 36
        }
      ]
    },
    {
      "cell_type": "markdown",
      "metadata": {
        "id": "fkQJBppVcH8S"
      },
      "source": [
        "# Recursion\n",
        "\n",
        "In addition to loops, another way to achieve repeated computation is recursion.\n",
        "\n",
        "In programming, recursion is when functions *call* themselves, either directly or indirectly."
      ]
    },
    {
      "cell_type": "markdown",
      "metadata": {
        "id": "sn3IqLRdcH8S"
      },
      "source": [
        "Write a function that computes the factorial of a given number"
      ]
    },
    {
      "cell_type": "code",
      "metadata": {
        "id": "3OYOg6rXcH8T"
      },
      "source": [],
      "execution_count": null,
      "outputs": []
    },
    {
      "cell_type": "markdown",
      "metadata": {
        "id": "ONGi4LL7cH8V"
      },
      "source": [
        "Write the same function but use recursion instead of a loop"
      ]
    },
    {
      "cell_type": "code",
      "metadata": {
        "id": "FfvYNI7wcH8V"
      },
      "source": [],
      "execution_count": null,
      "outputs": []
    },
    {
      "cell_type": "markdown",
      "metadata": {
        "id": "ZS9HaxgacH8Y"
      },
      "source": [
        "Write a version of Euclidean GCD that uses recursion instead of a loop"
      ]
    },
    {
      "cell_type": "code",
      "metadata": {
        "id": "Ncg3mjvucH8Y"
      },
      "source": [],
      "execution_count": null,
      "outputs": []
    },
    {
      "source": [
        "# Web\n",
        "\n",
        "Some terminology:\n",
        "\n",
        "* Network: A series of computers connected together such that they can communicate is a network.\n",
        "* Internet: A network of computers spanning the globe.\n",
        "* World Wide Web: A system of documents and resources linked together via URLs\n",
        "* Uniform Resource Locator (URL): A reference to web resource and how to access it. For example, 'https://www.google.com' is a URL.\n",
        "* Protocol: The language used by two entities for the purposes of communication.\n",
        "* HyperText Terminal Protocol (HTTP): The protocol used by the World Wide Web.\n",
        "\n",
        "### World Wide Web\n",
        "\n",
        "<img src=\"https://ptgmedia.pearsoncmg.com/imprint_downloads/informit/learninglabs/9780133927603/graphics/01fig01.jpg\" />\n",
        "\n",
        "#### Web Browser\n",
        "\n",
        "Software that lets us browse the web by making requests to web servers. Examples include: Chrome, Firefox, Edge, Safari, etc.\n",
        "\n",
        "#### Web server\n",
        "\n",
        "Software running somewhere on the internet that responds to requests from web browsers.\n"
      ],
      "cell_type": "markdown",
      "metadata": {}
    },
    {
      "source": [
        "Can we build a web server?\n",
        "\n",
        "See `week4/simple_server.py`"
      ],
      "cell_type": "markdown",
      "metadata": {}
    },
    {
      "source": [
        "## HTTP\n",
        "\n",
        "HTTP requests from browsers tend to contain a lot of information. For the most part, this information can either be ignored or is handled for us by Flask. For reference, here are the important points:\n",
        "\n",
        "* HTTP methods:\n",
        "  * GET: Sent by the browser when requesting a resource.\n",
        "  * POST: Sent by the browser when submitting a form (see below).\n",
        "  * PUT: Typically sent by the browser when uploading a file.\n",
        "  * There are others but they are unlikely to come up in this course.\n",
        "* Path\n",
        "  * The path being requested, e.g. `/echo/hello` (corresponds to a route in Flask).\n",
        "* Cookies \n",
        "  * See below\n",
        "\n",
        "HTTP responses contain the response to the request, but can also contain some other information. The information we care about is:\n",
        "\n",
        "* The status code\n",
        "  * 200 means everything worked\n",
        "  * 404 means the request was for a resource that doesn't exist\n",
        "  * Numbers starting with a 5 mean the web server crashed while trying to handle the request.\n",
        "  * Numbers starting with a 4 mean the web server decided that the request was invalid and sent back an error in the response.\n",
        "  * [A full listing of all standard status codes](https://developer.mozilla.org/en-US/docs/Web/HTTP/Status)\n",
        "* Set-Cookie\n",
        "  * See below"
      ],
      "cell_type": "markdown",
      "metadata": {}
    },
    {
      "source": [
        "## HTML"
      ],
      "cell_type": "markdown",
      "metadata": {}
    },
    {
      "source": [
        "HyperText Markup Language (HTML) describes the structure of web pages.\n",
        "\n",
        "[A reference page for HTML tags](https://www.tutorialrepublic.com/html-reference/html5-tags.php)"
      ],
      "cell_type": "markdown",
      "metadata": {}
    },
    {
      "source": [
        "Can we display a heading followed by some text in this notebook?"
      ],
      "cell_type": "markdown",
      "metadata": {}
    },
    {
      "source": [],
      "cell_type": "code",
      "metadata": {},
      "execution_count": null,
      "outputs": []
    },
    {
      "source": [
        "Can we make our simple web server respond with HTML?\n",
        "\n",
        "See `simple_server.py`"
      ],
      "cell_type": "markdown",
      "metadata": {}
    },
    {
      "source": [
        "### PyHTML\n",
        "\n",
        "Writing HTML by hand can be somewhat tedious. We can use `pyhtml` to avoid repeating ourselves."
      ],
      "cell_type": "markdown",
      "metadata": {}
    },
    {
      "source": [
        "Use `pyhtml` to generate the same heading and text as above."
      ],
      "cell_type": "markdown",
      "metadata": {}
    },
    {
      "cell_type": "code",
      "execution_count": null,
      "metadata": {
        "tags": []
      },
      "outputs": [],
      "source": []
    },
    {
      "source": [
        "Can we use PyHTML in our simple server?\n",
        "\n",
        "See `simple_server.py`."
      ],
      "cell_type": "markdown",
      "metadata": {}
    },
    {
      "source": [
        "### Linking to and embedding other content\n",
        "\n",
        "The `<a>` HTML tag can be used to create a link. The `<img>` tag is used to embed images."
      ],
      "cell_type": "markdown",
      "metadata": {}
    },
    {
      "source": [
        "Can we make our simple server display an image and a link?\n",
        "\n",
        "See `simple_server.py`"
      ],
      "cell_type": "markdown",
      "metadata": {}
    },
    {
      "source": [
        "### Forms\n",
        "\n",
        "HTML forms allow information to be entered in by the user and transmitted to the web server."
      ],
      "cell_type": "markdown",
      "metadata": {}
    },
    {
      "source": [
        "Can we add a form to our simple web server?\n",
        "\n",
        "See `simple_server.py`"
      ],
      "cell_type": "markdown",
      "metadata": {}
    },
    {
      "source": [
        "# Serialisation\n",
        "\n",
        "Serialisation is the process of translating data structures into a format such that they can be *stored* or *transmitted*."
      ],
      "cell_type": "markdown",
      "metadata": {}
    },
    {
      "source": [
        "Consider this list of strings"
      ],
      "cell_type": "markdown",
      "metadata": {}
    },
    {
      "source": [
        "example_strings = [\"hello\", \"how are you?\", \"that's good\", \"nice to meet you\"]"
      ],
      "cell_type": "code",
      "metadata": {},
      "execution_count": null,
      "outputs": []
    },
    {
      "source": [
        "Can we store them in a text file?"
      ],
      "cell_type": "markdown",
      "metadata": {}
    },
    {
      "cell_type": "code",
      "execution_count": null,
      "metadata": {},
      "outputs": [],
      "source": []
    },
    {
      "source": [
        "Can we read them back from the file we stored them in?"
      ],
      "cell_type": "markdown",
      "metadata": {}
    },
    {
      "cell_type": "code",
      "execution_count": null,
      "metadata": {
        "tags": []
      },
      "outputs": [],
      "source": []
    },
    {
      "source": [
        "What could go wrong with this appraoch?"
      ],
      "cell_type": "markdown",
      "metadata": {}
    },
    {
      "cell_type": "code",
      "execution_count": null,
      "metadata": {},
      "outputs": [],
      "source": []
    },
    {
      "source": [
        "## Comma Separated Values\n",
        "\n",
        "Tabular (table-like) data can be stored in Comma Separated Value (CSV) format."
      ],
      "cell_type": "markdown",
      "metadata": {}
    },
    {
      "source": [
        "Load in the tutorial data from `tutorials.csv`."
      ],
      "cell_type": "markdown",
      "metadata": {}
    },
    {
      "cell_type": "code",
      "execution_count": null,
      "metadata": {
        "tags": []
      },
      "outputs": [],
      "source": []
    },
    {
      "source": [
        "Add a new tutorial then write the data back again."
      ],
      "cell_type": "markdown",
      "metadata": {}
    },
    {
      "cell_type": "code",
      "execution_count": null,
      "metadata": {},
      "outputs": [],
      "source": []
    },
    {
      "source": [
        "Can we load in the tutorial data as a list of dictionaries?"
      ],
      "cell_type": "markdown",
      "metadata": {}
    },
    {
      "cell_type": "code",
      "execution_count": null,
      "metadata": {},
      "outputs": [],
      "source": []
    },
    {
      "source": [
        "Can we write it back from a list of dictionaries into CSV?"
      ],
      "cell_type": "markdown",
      "metadata": {}
    },
    {
      "cell_type": "code",
      "execution_count": null,
      "metadata": {},
      "outputs": [],
      "source": []
    },
    {
      "source": [
        "## JSON\n",
        "\n",
        "JavaScript Object Notation (JSON) is a serialisation format with its origins in the Javascript language. However, in recent times it has become a universal standard used by many languages and tools for storing data.\n",
        "\n",
        "**Important points:**\n",
        " * JSON looks very similar to how we write data structures in Python.\n",
        " * JSON supports two structures:\n",
        "   * Arrays, which are similar in to lists in Python\n",
        "   * Objects, which are similar to dictionaries (keys *must* be strings)\n",
        " * Single values can be strings or numbers."
      ],
      "cell_type": "markdown",
      "metadata": {}
    },
    {
      "cell_type": "markdown",
      "metadata": {
        "id": "66g8ozhFmJol"
      },
      "source": [
        "Can we read in the Elon Musk tweets?"
      ]
    },
    {
      "cell_type": "code",
      "execution_count": null,
      "metadata": {},
      "outputs": [],
      "source": []
    },
    {
      "source": [
        "Can we create data that can't be serialised into CSV but can be serialised into JSON?"
      ],
      "cell_type": "markdown",
      "metadata": {}
    },
    {
      "cell_type": "code",
      "execution_count": null,
      "metadata": {},
      "outputs": [],
      "source": []
    }
  ]
}