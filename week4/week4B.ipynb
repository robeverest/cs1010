{
  "nbformat": 4,
  "nbformat_minor": 0,
  "metadata": {
    "colab": {
      "name": "week3A.ipynb",
      "provenance": [],
      "collapsed_sections": []
    },
    "kernelspec": {
      "name": "python3",
      "display_name": "Python 3.9.0 64-bit",
      "metadata": {
        "interpreter": {
          "hash": "ac2eaa0ea0ebeafcc7822e65e46aa9d4f966f30b695406963e145ea4a91cd4fc"
        }
      }
    }
  },
  "cells": [
    {
      "cell_type": "markdown",
      "metadata": {
        "id": "mxGAyndKcH70"
      },
      "source": [
        "## Greatest Common Divisor\n",
        "\n",
        "The greatest common divisor of numbers $a$ and $b$ is the largest number that divides both of them without remainder.\n",
        "\n",
        "This is a problem for which we can come up with multiple different algorithms (and implementations).\n",
        "\n"
      ]
    },
    {
      "cell_type": "markdown",
      "metadata": {
        "id": "vGF8FGpOcH8H"
      },
      "source": [
        "### Euclid's algorithm\n",
        "\n",
        "Euclid's algorithm is a fast way of calculating the GCD of two numbers."
      ]
    },
    {
      "cell_type": "markdown",
      "metadata": {
        "id": "gzwREzskcH8M"
      },
      "source": [
        "Implement Euclid's algorithm using subtraction"
      ]
    },
    {
      "cell_type": "code",
      "metadata": {
        "id": "an86Qi4ncH8J"
      },
      "source": [
        "def gcd(a, b):\n",
        "    while a != b:\n",
        "        if a > b:\n",
        "            a = a - b\n",
        "        else:\n",
        "            b = b - a\n",
        "    return a\n",
        "gcd(157680487, 190876379)"
      ],
      "execution_count": 35,
      "outputs": [
        {
          "output_type": "execute_result",
          "data": {
            "text/plain": [
              "8298973"
            ]
          },
          "metadata": {},
          "execution_count": 35
        }
      ]
    },
    {
      "cell_type": "markdown",
      "metadata": {
        "id": "X9LsX89qcH8I"
      },
      "source": [
        "Implement Euclid's algorithm using the modulo operator"
      ]
    },
    {
      "cell_type": "code",
      "metadata": {
        "id": "ldRonF4GcH8N"
      },
      "source": [
        "def gcd(a, b):\n",
        "    while b > 0:\n",
        "        t = b\n",
        "        b = a % b\n",
        "        a = t\n",
        "    return a\n",
        "gcd(157680487, 190876379)"
      ],
      "execution_count": 36,
      "outputs": [
        {
          "output_type": "execute_result",
          "data": {
            "text/plain": [
              "8298973"
            ]
          },
          "metadata": {},
          "execution_count": 36
        }
      ]
    },
    {
      "cell_type": "markdown",
      "metadata": {
        "id": "fkQJBppVcH8S"
      },
      "source": [
        "# Recursion\n",
        "\n",
        "In addition to loops, another way to achieve repeated computation is recursion.\n",
        "\n",
        "In programming, recursion is when functions *call* themselves, either directly or indirectly."
      ]
    },
    {
      "cell_type": "markdown",
      "metadata": {
        "id": "sn3IqLRdcH8S"
      },
      "source": [
        "Write a function that computes the factorial of a given number"
      ]
    },
    {
      "cell_type": "code",
      "metadata": {
        "id": "3OYOg6rXcH8T"
      },
      "source": [
        "# factorial(5) = 5*4*3*2*1 = 5!\n",
        "\n",
        "def factorial(n):\n",
        "    result = 1\n",
        "    while n > 1:\n",
        "        result = result * n\n",
        "        n = n - 1\n",
        "    return result\n",
        "\n",
        "factorial(5)"
      ],
      "execution_count": 24,
      "outputs": [
        {
          "output_type": "execute_result",
          "data": {
            "text/plain": [
              "120"
            ]
          },
          "metadata": {},
          "execution_count": 24
        }
      ]
    },
    {
      "cell_type": "markdown",
      "metadata": {
        "id": "ONGi4LL7cH8V"
      },
      "source": [
        "Write the same function but use recursion instead of a loop"
      ]
    },
    {
      "cell_type": "code",
      "metadata": {
        "id": "FfvYNI7wcH8V"
      },
      "source": [
        "# factorial(5) = 5 * factorial(4)\n",
        "\n",
        "def factorial(n):\n",
        "    if n > 1:\n",
        "        return n * factorial(n - 1)\n",
        "    else:\n",
        "        return 1\n",
        "\n",
        "factorial(5)\n",
        "# factorial(5) = 5 * factorial(4) = 5 * 4 * factorial(3) = 5 * 4 * 3 * factorial(2) = 5 * 4 * 3 * 2 * factortial(1) = 5 * 4 * 3 * 2 * 1"
      ],
      "execution_count": 1,
      "outputs": [
        {
          "output_type": "execute_result",
          "data": {
            "text/plain": [
              "120"
            ]
          },
          "metadata": {},
          "execution_count": 1
        }
      ]
    },
    {
      "cell_type": "markdown",
      "metadata": {
        "id": "ZS9HaxgacH8Y"
      },
      "source": [
        "Write a version of Euclidean GCD that uses recursion instead of a loop"
      ]
    },
    {
      "cell_type": "code",
      "metadata": {
        "id": "Ncg3mjvucH8Y"
      },
      "source": [
        "# def gcd(a, b):\n",
        "#     while b > 0:\n",
        "#         t = b\n",
        "#         b = a % b\n",
        "#         a = t\n",
        "#     return a\n",
        "# gcd(157680487, 190876379)\n",
        "\n",
        "def gcd_recursive(a, b):\n",
        "    if b == 0:\n",
        "        return a\n",
        "    else:\n",
        "        return gcd_recursive(b, a % b)\n",
        "\n",
        "# n = gcd(a,b)\n",
        "# a % b / n\n",
        "\n",
        "gcd_recursive(157680487, 190876379)"
      ],
      "execution_count": 2,
      "outputs": [
        {
          "output_type": "execute_result",
          "data": {
            "text/plain": [
              "8298973"
            ]
          },
          "metadata": {},
          "execution_count": 2
        }
      ]
    },
    {
      "source": [
        "# Web\n",
        "\n",
        "Some terminology:\n",
        "\n",
        "* Network: A series of computers connected together such that they can communicate is a network.\n",
        "* Internet: A network of computers spanning the globe.\n",
        "* World Wide Web: A system of documents and resources linked together via URLs\n",
        "* Uniform Resource Locator (URL): A reference to web resource and how to access it. For example, 'https://www.google.com' is a URL.\n",
        "* Protocol: The language used by two entities for the purposes of communication.\n",
        "* HyperText Terminal Protocol (HTTP): The protocol used by the World Wide Web.\n",
        "\n",
        "### World Wide Web\n",
        "\n",
        "<img src=\"https://ptgmedia.pearsoncmg.com/imprint_downloads/informit/learninglabs/9780133927603/graphics/01fig01.jpg\" />\n",
        "\n",
        "#### Web Browser\n",
        "\n",
        "Software that lets us browse the web by making requests to web servers. Examples include: Chrome, Firefox, Edge, Safari, etc.\n",
        "\n",
        "#### Web server\n",
        "\n",
        "Software running somewhere on the internet that responds to requests from web browsers.\n"
      ],
      "cell_type": "markdown",
      "metadata": {}
    },
    {
      "source": [
        "Can we build a web server?\n",
        "\n",
        "See `week4/simple_server.py`"
      ],
      "cell_type": "markdown",
      "metadata": {}
    },
    {
      "source": [
        "## HTTP\n",
        "\n",
        "HTTP requests from browsers tend to contain a lot of information. For the most part, this information can either be ignored or is handled for us by Flask. For reference, here are the important points:\n",
        "\n",
        "* HTTP methods:\n",
        "  * GET: Sent by the browser when requesting a resource.\n",
        "  * POST: Sent by the browser when submitting a form (see below).\n",
        "  * PUT: Typically sent by the browser when uploading a file.\n",
        "  * There are others but they are unlikely to come up in this course.\n",
        "* Path\n",
        "  * The path being requested, e.g. `/echo/hello` (corresponds to a route in Flask).\n",
        "* Cookies \n",
        "  * See below\n",
        "\n",
        "HTTP responses contain the response to the request, but can also contain some other information. The information we care about is:\n",
        "\n",
        "* The status code\n",
        "  * 200 means everything worked\n",
        "  * 404 means the request was for a resource that doesn't exist\n",
        "  * Numbers starting with a 5 mean the web server crashed while trying to handle the request.\n",
        "  * Numbers starting with a 4 mean the web server decided that the request was invalid and sent back an error in the response.\n",
        "  * [A full listing of all standard status codes](https://developer.mozilla.org/en-US/docs/Web/HTTP/Status)\n",
        "* Set-Cookie\n",
        "  * See below"
      ],
      "cell_type": "markdown",
      "metadata": {}
    },
    {
      "source": [
        "## HTML"
      ],
      "cell_type": "markdown",
      "metadata": {}
    },
    {
      "source": [
        "HyperText Markup Language (HTML) describes the structure of web pages.\n",
        "\n",
        "[A reference page for HTML tags](https://www.tutorialrepublic.com/html-reference/html5-tags.php)"
      ],
      "cell_type": "markdown",
      "metadata": {}
    },
    {
      "source": [
        "Can we display a heading followed by some text in this notebook?"
      ],
      "cell_type": "markdown",
      "metadata": {}
    },
    {
      "source": [
        "example_html = \"<h1>Welcome</h1><p>Hello, how are you?</p>\"\n",
        "\n",
        "from IPython.core.display import HTML\n",
        "\n",
        "HTML(example_html)"
      ],
      "cell_type": "code",
      "metadata": {},
      "execution_count": 3,
      "outputs": [
        {
          "output_type": "execute_result",
          "data": {
            "text/plain": [
              "<IPython.core.display.HTML object>"
            ],
            "text/html": "<h1>Welcome</h1><p>Hello, how are you?</p>"
          },
          "metadata": {},
          "execution_count": 3
        }
      ]
    },
    {
      "source": [
        "Can we make our simple web server respond with HTML?\n",
        "\n",
        "See `simple_server.py`"
      ],
      "cell_type": "markdown",
      "metadata": {}
    },
    {
      "source": [
        "### PyHTML\n",
        "\n",
        "Writing HTML by hand can be somewhat tedious. We can use `pyhtml` to avoid repeating ourselves."
      ],
      "cell_type": "markdown",
      "metadata": {}
    },
    {
      "source": [
        "Use `pyhtml` to generate the same heading and text as above."
      ],
      "cell_type": "markdown",
      "metadata": {}
    },
    {
      "cell_type": "code",
      "execution_count": 7,
      "metadata": {
        "tags": []
      },
      "outputs": [
        {
          "output_type": "execute_result",
          "data": {
            "text/plain": [
              "<IPython.core.display.HTML object>"
            ],
            "text/html": "<!DOCTYPE html>\n<html>\n  <body>\n    <h1>\n      Welcome\n    </h1>\n    <p>\n      Hello, how are you?\n    </p>\n  </body>\n</html>"
          },
          "metadata": {},
          "execution_count": 7
        }
      ],
      "source": [
        "from pyhtml import h1, html, body, p\n",
        "\n",
        "example_pyhtml = \n",
        "  html(\n",
        "      body(\n",
        "          h1(\"Welcome\"), \n",
        "          p(\"Hello, how are you?\")\n",
        "      )\n",
        "  )\n",
        "\n",
        "HTML(str(example_pyhtml))"
      ]
    },
    {
      "source": [
        "Can we use PyHTML in our simple server?\n",
        "\n",
        "See `simple_server.py`."
      ],
      "cell_type": "markdown",
      "metadata": {}
    },
    {
      "source": [
        "### Linking to and embedding other content\n",
        "\n",
        "The `<a>` HTML tag can be used to create a link. The `<img>` tag is used to embed images."
      ],
      "cell_type": "markdown",
      "metadata": {}
    },
    {
      "source": [
        "Can we make our simple server display an image and a link?\n",
        "\n",
        "See `simple_server.py`"
      ],
      "cell_type": "markdown",
      "metadata": {}
    },
    {
      "source": [
        "### Forms\n",
        "\n",
        "HTML forms allow information to be entered in by the user and transmitted to the web server."
      ],
      "cell_type": "markdown",
      "metadata": {}
    },
    {
      "source": [
        "Can we add a form to our simple web server?\n",
        "\n",
        "See `simple_server.py`"
      ],
      "cell_type": "markdown",
      "metadata": {}
    }
  ]
}