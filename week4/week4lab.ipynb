{
 "metadata": {
  "language_info": {
   "codemirror_mode": {
    "name": "ipython",
    "version": 3
   },
   "file_extension": ".py",
   "mimetype": "text/x-python",
   "name": "python",
   "nbconvert_exporter": "python",
   "pygments_lexer": "ipython3",
   "version": "3.8.3-final"
  },
  "orig_nbformat": 2,
  "kernelspec": {
   "name": "python3",
   "display_name": "Python 3",
   "language": "python"
  }
 },
 "nbformat": 4,
 "nbformat_minor": 2,
 "cells": [
  {
   "cell_type": "markdown",
   "metadata": {},
   "source": [
    "# Week 4 Lab (3 marks)\n",
    "\n",
    "**IMPORTANT NOTE** If you're using Colaboratory, make sure you save a copy of these exercises to Google drive by clicking 'Copy to Drive' at the top of the page. Otherwise, your answers will not be saved.\n",
    "\n",
    "To get the marks for these tasks, you need to show your solutions to you lab demonstrater in either your week 4 or week 5 lab."
   ]
  },
  {
   "cell_type": "markdown",
   "metadata": {},
   "source": [
    "## Dictionaries (1 mark)\n",
    "\n",
    "Write functions in the cells provided to answer the following questions."
   ]
  },
  {
   "source": [
    "### Dictionary Access\n",
    "\n",
    "Write a function, `young_john(people)`, that returns `True` if the dictionary `people` contains the key `\"John\"` with a value of `19`. It should return `False` otherwise."
   ],
   "cell_type": "markdown",
   "metadata": {}
  },
  {
   "cell_type": "code",
   "execution_count": 1,
   "metadata": {},
   "outputs": [],
   "source": [
    "def young_john(people):\n",
    "    return \"John\" in people and people[\"John\"] == 19"
   ]
  },
  {
   "source": [
    "Use this cell to test if your function works."
   ],
   "cell_type": "markdown",
   "metadata": {}
  },
  {
   "source": [
    "assert young_john({ \"Rob\": 31, \"Sarah\": 24, \"Chen\": 20, \"John\": 19})\n",
    "assert not young_john({ \"Rob\": 31, \"Sarah\": 19, \"Chen\": 20, \"James\": 22})\n",
    "assert not young_john({ \"Rob\": 31, \"Sarah\": 24, \"Chen\": 20, \"John\": 23})"
   ],
   "cell_type": "code",
   "metadata": {},
   "execution_count": 2,
   "outputs": []
  },
  {
   "source": [
    "### Generalised card game\n",
    "\n",
    "Consider a game where certain cards are worth a certain number of points. Write a function, `score(card_points, cards)`, that takes in a dictionary representing the points for each card and a list of strings and calculates the total score for that list. You can assume that if a card is not in `card_points`, it is not worth any points. Examples of how the function is used are in the testing cell below."
   ],
   "cell_type": "markdown",
   "metadata": {}
  },
  {
   "cell_type": "code",
   "execution_count": 6,
   "metadata": {},
   "outputs": [],
   "source": [
    "def score(card_points, cards):\n",
    "    total_score = 0\n",
    "    for card in cards:\n",
    "        if card in card_points:\n",
    "            total_score += card_points[card]\n",
    "    return total_score"
   ]
  },
  {
   "source": [
    "Use the cell below to test if your function works."
   ],
   "cell_type": "markdown",
   "metadata": {}
  },
  {
   "cell_type": "code",
   "execution_count": 7,
   "metadata": {},
   "outputs": [],
   "source": [
    "assert score({\"Ace\": 5, \"King\": 3, \"Queen\": 2, \"Jack\": 1 },\n",
    "             [\"10\", \"Jack\", \"Ace\", \"King\", \"Queen\", \"King\", \"3\"]) == 14\n",
    "assert score({\"Fire\": 2, \"Wind\": 1, \"Water\": 1, \"Earth\": 3 },\n",
    "             [\"Fire\", \"Fire\", \"Wind\", \"Water\", \"Earth\"]) == 9"
   ]
  },
  {
   "source": [
    "## Nested Structures (1 mark)\n",
    "\n",
    "The following dictionary contains some courses and the list of tutorials for each of them."
   ],
   "cell_type": "markdown",
   "metadata": {}
  },
  {
   "cell_type": "code",
   "execution_count": 8,
   "metadata": {},
   "outputs": [],
   "source": [
    "first_year_courses = { \"COMP1010\": [\"T15A\", \"T17A\", \"T18A\"], \"FINS1612\": [\"M11A\", \"W12A\"], \"FINS1613\": [\"T12A\", \"T12B\", \"F09A\"], \"ACCT1501\": [\"T10A\", \"F15A\"] }"
   ]
  },
  {
   "source": [
    "What is the first tutorial for COMP1010?"
   ],
   "cell_type": "markdown",
   "metadata": {}
  },
  {
   "cell_type": "code",
   "execution_count": 9,
   "metadata": {},
   "outputs": [
    {
     "output_type": "execute_result",
     "data": {
      "text/plain": [
       "'T15A'"
      ]
     },
     "metadata": {},
     "execution_count": 9
    }
   ],
   "source": [
    "first_year_courses[\"COMP1010\"][0]"
   ]
  },
  {
   "source": [
    "Construct a list containing all the courses that have exactly 3 tutorials. You should get this as a result:\n",
    "```\n",
    "[\"COMP1010\", \"FINS1613\"]"
   ],
   "cell_type": "markdown",
   "metadata": {}
  },
  {
   "cell_type": "code",
   "execution_count": 10,
   "metadata": {},
   "outputs": [
    {
     "output_type": "execute_result",
     "data": {
      "text/plain": [
       "['COMP1010', 'FINS1613']"
      ]
     },
     "metadata": {},
     "execution_count": 10
    }
   ],
   "source": [
    "three_tutorial_courses = []\n",
    "\n",
    "for course in first_year_courses:\n",
    "    if len(first_year_courses[course]) == 3:\n",
    "        three_tutorial_courses.append(course)\n",
    "\n",
    "three_tutorial_courses"
   ]
  },
  {
   "source": [
    "Construct a list containing all the courses with a tutorial on a Tuesday (i.e. the tutorial code starts with a 'T'). You should get this as a result:\n",
    "```\n",
    "[\"COMP1010\", \"FINS1613\", \"ACCT1501\"]\n",
    "```\n",
    "\n",
    "**Hint**: Depending on how you approach this, you may need a nested loop."
   ],
   "cell_type": "markdown",
   "metadata": {}
  },
  {
   "cell_type": "code",
   "execution_count": 11,
   "metadata": {},
   "outputs": [
    {
     "output_type": "execute_result",
     "data": {
      "text/plain": [
       "['COMP1010', 'FINS1613', 'ACCT1501']"
      ]
     },
     "metadata": {},
     "execution_count": 11
    }
   ],
   "source": [
    "tuesday_courses = []\n",
    "\n",
    "for course in first_year_courses:\n",
    "    tuesday_tute = False\n",
    "    for tute in first_year_courses[course]:\n",
    "        if tute[0] == 'T':\n",
    "            tuesday_tute = True\n",
    "    if tuesday_tute:\n",
    "        tuesday_courses.append(course)\n",
    "\n",
    "tuesday_courses"
   ]
  },
  {
   "source": [
    "## While loops (1 mark)\n",
    "\n",
    "Write a function, `odd_sum_while(n)` that computes all the positive *odd* numbers less than `n` with a `while` loop.\n",
    "\n",
    "*Note*: You could do this with a `for` loop, but you should do it with a `while` loop for practice. "
   ],
   "cell_type": "markdown",
   "metadata": {}
  },
  {
   "cell_type": "code",
   "execution_count": 17,
   "metadata": {},
   "outputs": [
    {
     "output_type": "execute_result",
     "data": {
      "text/plain": [
       "25"
      ]
     },
     "metadata": {},
     "execution_count": 17
    }
   ],
   "source": [
    "def odd_sum_while(n):\n",
    "    i = 1\n",
    "    result = 0\n",
    "    while i < n:\n",
    "        result += i\n",
    "        i += 2\n",
    "    return result\n",
    "\n",
    "def odd_sum_while_down(n):\n",
    "    result = 0\n",
    "    if n % 2 == 0:\n",
    "        n = n - 1\n",
    "    else:\n",
    "        n = n - 2\n",
    "    while n >= 1:\n",
    "        result += n\n",
    "        n -= 2\n",
    "    return result"
   ]
  },
  {
   "cell_type": "code",
   "execution_count": null,
   "metadata": {},
   "outputs": [],
   "source": [
    "def odd_sum_rec(n):\n",
    "    if n == 1:\n",
    "        return 1\n",
    "    elif n % 2 == 0:\n",
    "        return (n-1) + odd_sum_rec(n - 2)\n",
    "    else:\n",
    "        return odd_sum_rec(n - 1)"
   ]
  },
  {
   "source": [
    "Use this cell to test whether you have implemented the function correctly."
   ],
   "cell_type": "markdown",
   "metadata": {}
  },
  {
   "cell_type": "code",
   "execution_count": 18,
   "metadata": {},
   "outputs": [],
   "source": [
    "assert odd_sum_while(10) == 25"
   ]
  },
  {
   "source": [
    "## Challenge\n",
    "\n",
    "**NOTE:** This question is **NOT** worth any marks and is meant to present a significant challenge. It's here for those who wish to extend themselves. Even if you're not able to solve it, you may find giving it a try good practice and you can always come back to it in later weeks. "
   ],
   "cell_type": "markdown",
   "metadata": {}
  },
  {
   "source": [
    "The following cell constructs the map of \"Romania\" as a dictionary of dictioanries."
   ],
   "cell_type": "markdown",
   "metadata": {}
  },
  {
   "cell_type": "code",
   "execution_count": null,
   "metadata": {},
   "outputs": [],
   "source": [
    "romania = {\n",
    "    'Arad': { 'Zerind': 75, 'Sibiu': 140, 'Timisoara': 118 },\n",
    "    'Zerind': { 'Arad': 75, 'Oradea': 71 },\n",
    "    'Sibiu': { 'Arad': 140, 'Oradea': 151, 'Fagaras': 99, 'Rimnicu Vilcea': 80 },\n",
    "    'Timisoara': { 'Arad': 118, 'Lugoj': 111 },\n",
    "    'Oradea': { 'Zerind': 71, 'Sibiu': 151 },\n",
    "    'Lugoj': { 'Timisoara': 111, 'Mehadia': 70 },\n",
    "    'Fagaras': { 'Sibiu': 99, 'Bucharest': 211 },\n",
    "    'Rimnicu Vilcea': { 'Sibiu': 80, 'Pitesti': 97, 'Craiova': 146 },\n",
    "    'Mehadia': { 'Lugoj': 70, 'Dobreta': 75 },\n",
    "    'Bucharest': { 'Fagaras': 211, 'Pitesti': 101, 'Urziceni': 85, 'Giurglu': 90 },\n",
    "    'Pitesti': { 'Rimnicu Vilcea': 97, 'Bucharest': 101, 'Craiova': 138 },\n",
    "    'Craiova': { 'Rimnicu Vilcea': 146, 'Pitesti': 138, 'Dobreta': 120 },\n",
    "    'Dobreta': { 'Mehadia': 75, 'Craiova': 120 },\n",
    "    'Urziceni': { 'Bucharest': 85, 'Hirsova': 98, 'Vaslui': 142 },\n",
    "    'Giurglu': { 'Bucharest': 90 },\n",
    "    'Hirsova': { 'Urziceni': 98, 'Eforie': 86 },\n",
    "    'Vaslui': { 'Urziceni': 142, 'Lasi': 92 },\n",
    "    'Eforie': { 'Hirsova': 86 },\n",
    "    'Lasi': { 'Vaslui': 92, 'Neamt': 87 },\n",
    "    'Neamt': { 'Lasi': 87 }\n",
    "}"
   ]
  },
  {
   "source": [
    "Write a function, `nearby(city)`, that returns a list containing all the cities within a 300 mile trip of the the given city, assuming you can only travel along the roads given. "
   ],
   "cell_type": "markdown",
   "metadata": {}
  },
  {
   "cell_type": "code",
   "execution_count": null,
   "metadata": {},
   "outputs": [],
   "source": []
  }
 ]
}