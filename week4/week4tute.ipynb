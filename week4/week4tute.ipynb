{
 "metadata": {
  "language_info": {
   "codemirror_mode": {
    "name": "ipython",
    "version": 3
   },
   "file_extension": ".py",
   "mimetype": "text/x-python",
   "name": "python",
   "nbconvert_exporter": "python",
   "pygments_lexer": "ipython3",
   "version": "3.8.5-final"
  },
  "orig_nbformat": 2,
  "kernelspec": {
   "name": "Python 3.8.5 64-bit",
   "display_name": "Python 3.8.5 64-bit",
   "metadata": {
    "interpreter": {
     "hash": "1ee38ef4a5a9feb55287fd749643f13d043cb0a7addaab2a9c224cbe137c0062"
    }
   }
  }
 },
 "nbformat": 4,
 "nbformat_minor": 2,
 "cells": [
  {
   "cell_type": "markdown",
   "metadata": {},
   "source": [
    "# Week 4 Tutorial"
   ]
  },
  {
   "cell_type": "markdown",
   "metadata": {},
   "source": [
    "## Kahoot\n",
    "\n",
    "Your tutor will run through a Kahoot with you to test how well you remember certain concepts from the past two weeks. After the tutes have occurred, the link will be posted here if you wish to go through it in your own time "
   ]
  },
  {
   "source": [
    "## Dictionary Revision\n",
    "\n"
   ],
   "cell_type": "markdown",
   "metadata": {}
  },
  {
   "source": [
    "This dictionary maps from the names of some chemical elements to their chemical symbol."
   ],
   "cell_type": "markdown",
   "metadata": {}
  },
  {
   "cell_type": "code",
   "execution_count": null,
   "metadata": {},
   "outputs": [],
   "source": [
    "element_to_symbol = { \"Hydrogen\": \"H\", \"Helium\": \"He\", \"Carbon\": \"C\", \"Silicon\": \"Si\", \"Potassium\": \"K\" }"
   ]
  },
  {
   "source": [
    "Can we create a dictionary that *inverts* the structure of the one above-- i.e. mapping from chemical symbol to name?"
   ],
   "cell_type": "markdown",
   "metadata": {}
  },
  {
   "cell_type": "code",
   "execution_count": null,
   "metadata": {},
   "outputs": [],
   "source": []
  },
  {
   "source": [
    "Questions to consider:\n",
    "\n",
    "1. What do the different variables in the code above represent? How do they change as the code executes\n",
    "2. When building the dictionary with a `for` loop, do we need to use an `if` anywhere?\n",
    "3. Would the code above work for *any* dictionary? If not, what is it about this dictionary that makes it work?"
   ],
   "cell_type": "markdown",
   "metadata": {}
  },
  {
   "source": [
    "## Nested data structures\n",
    "\n",
    "How could you represent a restaurant menu in Python. The menu would need to include the dishes, what sort of dish they were (appetiser, main, desert, etc.), their price and their ingredients.\n",
    "\n",
    "Try to come up with different possible representations using combinations of dictionaries and lists."
   ],
   "cell_type": "markdown",
   "metadata": {}
  },
  {
   "source": [
    "## Project Ideas\n",
    "\n",
    "Consider this project idea:\n",
    "\n",
    "> The sale of face masks has increased many fold in the past months (for obvious reasons). However, with the wide variety of face shapes and the desire of many to look fashionable, not everyone wants to wear the same face mask. A website where people could upload a picture of themselves and virtually try on different face masks could be helpful to many potential mask shoppers.\n",
    "\n",
    "Supposing someone were to do this for the project:\n",
    "\n",
    "1. What would be a good demonstration of feasibility for the proposal?\n",
    "2. What would the MVP of such a website be?\n",
    "3. What would some \"nice to have\" features be?\n",
    "4. What about stretch goals?"
   ],
   "cell_type": "markdown",
   "metadata": {}
  }
 ]
}