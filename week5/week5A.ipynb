{
  "nbformat": 4,
  "nbformat_minor": 0,
  "metadata": {
    "colab": {
      "name": "week3A.ipynb",
      "provenance": [],
      "collapsed_sections": []
    },
    "kernelspec": {
      "name": "python38564bit16056ce0e98a49208e5744e26803b7c0",
      "display_name": "Python 3.8.5 64-bit",
      "metadata": {
        "interpreter": {
          "hash": "1ee38ef4a5a9feb55287fd749643f13d043cb0a7addaab2a9c224cbe137c0062"
        }
      }
    }
  },
  "cells": [
    {
      "source": [
        "# Lab revision"
      ],
      "cell_type": "markdown",
      "metadata": {}
    },
    {
      "source": [
        "## Dictionaries and lists"
      ],
      "cell_type": "markdown",
      "metadata": {}
    },
    {
      "source": [
        "This dictionary contains all the major parts for various household appliances."
      ],
      "cell_type": "markdown",
      "metadata": {}
    },
    {
      "cell_type": "code",
      "execution_count": 1,
      "metadata": {},
      "outputs": [],
      "source": [
        "major_parts = { \"fridge\": [\"chiller\", \"door\", \"shelves\"], \"diswasher\": [\"motor\", \"rack\", \"tube\"], \"vacuum\": [\"hose\", \"motor\", \"bag\"] }"
      ]
    },
    {
      "source": [
        "Write a function, `parts_needed(appliances)` that takes in a list of appliances and returns a list of all the parts needed to build them."
      ],
      "cell_type": "markdown",
      "metadata": {}
    },
    {
      "cell_type": "code",
      "execution_count": null,
      "metadata": {},
      "outputs": [],
      "source": []
    },
    {
      "source": [
        "## Recursion"
      ],
      "cell_type": "markdown",
      "metadata": {}
    },
    {
      "source": [
        "Write a function that, when given a list, returns a new list that is the reverse of it."
      ],
      "cell_type": "markdown",
      "metadata": {}
    },
    {
      "source": [],
      "cell_type": "code",
      "metadata": {},
      "execution_count": null,
      "outputs": []
    },
    {
      "source": [
        "Write the same function but use recursion instead."
      ],
      "cell_type": "markdown",
      "metadata": {}
    },
    {
      "cell_type": "code",
      "execution_count": null,
      "metadata": {},
      "outputs": [],
      "source": []
    },
    {
      "source": [
        "# A bigger example\n",
        "\n",
        "**Can our generated Trump tweets be distinguished from real tweets?**\n",
        "\n",
        "<img src=\"https://cdn.ttgtmedia.com/rms/onlineImages/crm-turing_test.jpg\" width=600/>\n",
        "\n",
        "See `trump_or_bot.py`."
      ],
      "cell_type": "markdown",
      "metadata": {}
    },
    {
      "source": [
        "# Cookies\n",
        "\n",
        "Cookies are small pieces of information sent by the server to the web browser in HTTP responses. These pieces of information are then sent back to the server every time the browser makes a new request.\n",
        "\n",
        "In flask, the best way to create cookies is with `session`."
      ],
      "cell_type": "markdown",
      "metadata": {}
    },
    {
      "source": [
        "Can we use cookies in `trump_or_bot`?"
      ],
      "cell_type": "markdown",
      "metadata": {}
    }
  ]
}