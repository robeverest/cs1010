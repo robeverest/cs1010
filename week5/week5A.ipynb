{
  "nbformat": 4,
  "nbformat_minor": 0,
  "metadata": {
    "colab": {
      "name": "week3A.ipynb",
      "provenance": [],
      "collapsed_sections": []
    },
    "kernelspec": {
      "name": "python3",
      "display_name": "Python 3.9.0 64-bit",
      "metadata": {
        "interpreter": {
          "hash": "ac2eaa0ea0ebeafcc7822e65e46aa9d4f966f30b695406963e145ea4a91cd4fc"
        }
      }
    }
  },
  "cells": [
    {
      "source": [
        "# Lab revision"
      ],
      "cell_type": "markdown",
      "metadata": {}
    },
    {
      "source": [
        "## Dictionaries and lists"
      ],
      "cell_type": "markdown",
      "metadata": {}
    },
    {
      "source": [
        "This dictionary contains all the major parts for various household appliances."
      ],
      "cell_type": "markdown",
      "metadata": {}
    },
    {
      "cell_type": "code",
      "execution_count": 5,
      "metadata": {},
      "outputs": [],
      "source": [
        "major_parts = { \"fridge\": [\"chiller\", \"door\", \"shelves\"], \"dishwasher\": [\"motor\", \"rack\", \"tube\"], \"vacuum\": [\"hose\", \"motor\", \"bag\"] }"
      ]
    },
    {
      "source": [
        "Write a function, `parts_needed(appliances)` that takes in a list of appliances and returns a list of all the parts needed to build them."
      ],
      "cell_type": "markdown",
      "metadata": {}
    },
    {
      "cell_type": "code",
      "execution_count": 9,
      "metadata": {},
      "outputs": [
        {
          "output_type": "execute_result",
          "data": {
            "text/plain": [
              "{'bag', 'hose', 'motor', 'rack', 'tube'}"
            ]
          },
          "metadata": {},
          "execution_count": 9
        }
      ],
      "source": [
        "def parts_needed(appliances):\n",
        "    result = set()\n",
        "    for appliance in appliances:\n",
        "        parts = set(major_parts[appliance])\n",
        "        result = result.union(parts)\n",
        "    return result\n",
        "\n",
        "parts_needed([\"vacuum\", \"dishwasher\"])"
      ]
    },
    {
      "source": [
        "## Recursion"
      ],
      "cell_type": "markdown",
      "metadata": {}
    },
    {
      "source": [
        "Write a function that, when given a list, returns a new list that is the reverse of it."
      ],
      "cell_type": "markdown",
      "metadata": {}
    },
    {
      "source": [
        "def reverse(items):\n",
        "    result = []\n",
        "    for item in items:\n",
        "        result = [ item ] + result\n",
        "    return result\n",
        "\n",
        "reverse([1,2,3])"
      ],
      "cell_type": "code",
      "metadata": {},
      "execution_count": 11,
      "outputs": [
        {
          "output_type": "execute_result",
          "data": {
            "text/plain": [
              "[3, 2, 1]"
            ]
          },
          "metadata": {},
          "execution_count": 11
        }
      ]
    },
    {
      "source": [
        "Write the same function but use recursion instead."
      ],
      "cell_type": "markdown",
      "metadata": {}
    },
    {
      "cell_type": "code",
      "execution_count": null,
      "metadata": {},
      "outputs": [],
      "source": [
        "def reverse(items):\n",
        "    if items == []:\n",
        "        return []\n",
        "    else:\n",
        "        return reverse(items[1:]) + [ items[0] ]\n",
        "\n",
        "reverse([1,2,3])"
      ]
    },
    {
      "cell_type": "code",
      "execution_count": 12,
      "metadata": {},
      "outputs": [
        {
          "output_type": "execute_result",
          "data": {
            "text/plain": [
              "[3, 2, 1]"
            ]
          },
          "metadata": {},
          "execution_count": 12
        }
      ],
      "source": [
        "example_list = [1,2,3]\n",
        "\n",
        "example_list[::-1]"
      ]
    },
    {
      "source": [
        "# A bigger example\n",
        "\n",
        "**Can our generated Elon Musk tweets be distinguished from real tweets?**\n",
        "\n",
        "<img src=\"https://cdn.ttgtmedia.com/rms/onlineImages/crm-turing_test.jpg\" width=600/>\n",
        "\n",
        "See `musk_or_bot.py`."
      ],
      "cell_type": "markdown",
      "metadata": {}
    },
    {
      "source": [
        "# Cookies\n",
        "\n",
        "Cookies are small pieces of information sent by the server to the web browser in HTTP responses. These pieces of information are then sent back to the server every time the browser makes a new request.\n",
        "\n",
        "In flask, the best way to create cookies is with `session`."
      ],
      "cell_type": "markdown",
      "metadata": {}
    },
    {
      "source": [
        "Can we use cookies in `trump_or_bot`?"
      ],
      "cell_type": "markdown",
      "metadata": {}
    },
    {
      "source": [
        "# Serialisation\n",
        "\n",
        "Serialisation is the process of translating data structures into a format such that they can be *stored* or *transmitted*."
      ],
      "cell_type": "markdown",
      "metadata": {}
    },
    {
      "source": [
        "Consider this list of strings"
      ],
      "cell_type": "markdown",
      "metadata": {}
    },
    {
      "source": [
        "example_strings = [\"hello\", \"how are you?\", \"that's good\", \"nice to meet you\", \"goodbye\\nI'll see you again\"]"
      ],
      "cell_type": "code",
      "metadata": {},
      "execution_count": 22,
      "outputs": []
    },
    {
      "source": [
        "Can we store them in a text file?"
      ],
      "cell_type": "markdown",
      "metadata": {}
    },
    {
      "cell_type": "code",
      "execution_count": 23,
      "metadata": {},
      "outputs": [],
      "source": [
        "f = open('example.txt', 'w')\n",
        "\n",
        "for string in example_strings:\n",
        "    f.write(string + \"\\n\")\n",
        "\n",
        "f.close()"
      ]
    },
    {
      "source": [
        "Can we read them back from the file we stored them in?"
      ],
      "cell_type": "markdown",
      "metadata": {}
    },
    {
      "cell_type": "code",
      "execution_count": 24,
      "metadata": {
        "tags": []
      },
      "outputs": [
        {
          "output_type": "execute_result",
          "data": {
            "text/plain": [
              "['hello',\n",
              " 'how are you?',\n",
              " \"that's good\",\n",
              " 'nice to meet you',\n",
              " 'goodbye',\n",
              " \"I'll see you again\"]"
            ]
          },
          "metadata": {},
          "execution_count": 24
        }
      ],
      "source": [
        "f = open('example.txt', 'r')\n",
        "\n",
        "example_strings = []\n",
        "for line in f.readlines():\n",
        "    example_strings.append(line.strip())\n",
        "\n",
        "example_strings"
      ]
    },
    {
      "source": [
        "What could go wrong with this appraoch?"
      ],
      "cell_type": "markdown",
      "metadata": {}
    },
    {
      "cell_type": "code",
      "execution_count": null,
      "metadata": {},
      "outputs": [],
      "source": []
    },
    {
      "source": [
        "## Comma Separated Values\n",
        "\n",
        "Tabular (table-like) data can be stored in Comma Separated Value (CSV) format."
      ],
      "cell_type": "markdown",
      "metadata": {}
    },
    {
      "source": [
        "Load in the tutorial data from `tutorials.csv`."
      ],
      "cell_type": "markdown",
      "metadata": {}
    },
    {
      "cell_type": "code",
      "execution_count": 28,
      "metadata": {
        "tags": []
      },
      "outputs": [
        {
          "output_type": "execute_result",
          "data": {
            "text/plain": [
              "[['tutorial', 'tutor', 'enrollments'],\n",
              " ['T15A', 'Sim', '20'],\n",
              " ['T17A', 'Kai', '23']]"
            ]
          },
          "metadata": {},
          "execution_count": 28
        }
      ],
      "source": [
        "import csv\n",
        "tutorials = []\n",
        "\n",
        "f = open('tutorials.csv', 'r')\n",
        "csv_reader = csv.reader(f)\n",
        "for row in csv_reader:\n",
        "    tutorials.append(row)\n",
        "f.close()\n",
        "\n",
        "tutorials"
      ]
    },
    {
      "source": [
        "Add a new tutorial then write the data back again."
      ],
      "cell_type": "markdown",
      "metadata": {}
    },
    {
      "cell_type": "code",
      "execution_count": 29,
      "metadata": {},
      "outputs": [],
      "source": [
        "tutorials.append(['F15A', 'Some Random Person', '10'])\n",
        "f = open('tutorials.csv', 'w')\n",
        "\n",
        "csv_writer = csv.writer(f)\n",
        "for tutorial in tutorials:\n",
        "    csv_writer.writerow(tutorial)\n",
        "\n",
        "f.close()"
      ]
    },
    {
      "source": [
        "Can we load in the tutorial data as a list of dictionaries?"
      ],
      "cell_type": "markdown",
      "metadata": {}
    },
    {
      "cell_type": "code",
      "execution_count": 33,
      "metadata": {},
      "outputs": [
        {
          "output_type": "execute_result",
          "data": {
            "text/plain": [
              "[{'tutorial': 'T15A', 'tutor': 'Sim', 'enrollments': '20'},\n",
              " {'tutorial': 'T17A', 'tutor': 'Kai', 'enrollments': '23'},\n",
              " {'tutorial': 'F15A', 'tutor': 'Some Random Person', 'enrollments': '10'},\n",
              " {'tutorial': 'M09A', 'tutor': 'Some poor sucker', 'enrollments': '2'}]"
            ]
          },
          "metadata": {},
          "execution_count": 33
        }
      ],
      "source": [
        "tutorials = []\n",
        "\n",
        "f = open('tutorials.csv', 'r')\n",
        "csv_reader = csv.DictReader(f)\n",
        "for row in csv_reader:\n",
        "    tutorials.append(row)\n",
        "f.close()\n",
        "\n",
        "tutorials"
      ]
    },
    {
      "source": [
        "Can we write it back from a list of dictionaries into CSV?"
      ],
      "cell_type": "markdown",
      "metadata": {}
    },
    {
      "cell_type": "code",
      "execution_count": 35,
      "metadata": {},
      "outputs": [],
      "source": [
        "tutorials.append({'tutorial': 'M09A', 'tutor': 'Some poor sucker', 'enrollments': 2})\n",
        "f = open('tutorials.csv', 'w', newline='')\n",
        "csv_writer = csv.DictWriter(f, fieldnames=['tutorial', 'tutor', 'enrollments'])\n",
        "csv_writer.writeheader()\n",
        "for tutorial in tutorials:\n",
        "    csv_writer.writerow(tutorial)\n",
        "f.close()"
      ]
    }
  ]
}