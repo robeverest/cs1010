{
  "nbformat": 4,
  "nbformat_minor": 0,
  "metadata": {
    "colab": {
      "name": "week3A.ipynb",
      "provenance": [],
      "collapsed_sections": []
    },
    "kernelspec": {
      "name": "python38564bit16056ce0e98a49208e5744e26803b7c0",
      "display_name": "Python 3.8.5 64-bit",
      "metadata": {
        "interpreter": {
          "hash": "1ee38ef4a5a9feb55287fd749643f13d043cb0a7addaab2a9c224cbe137c0062"
        }
      }
    }
  },
  "cells": [
    {
      "source": [
        "# Lab revision"
      ],
      "cell_type": "markdown",
      "metadata": {}
    },
    {
      "source": [
        "## Dictionaries and lists"
      ],
      "cell_type": "markdown",
      "metadata": {}
    },
    {
      "source": [
        "This dictionary contains all the major parts for various household appliances."
      ],
      "cell_type": "markdown",
      "metadata": {}
    },
    {
      "cell_type": "code",
      "execution_count": 1,
      "metadata": {},
      "outputs": [],
      "source": [
        "major_parts = { \"fridge\": [\"chiller\", \"door\", \"shelves\"], \"diswasher\": [\"motor\", \"rack\", \"tube\"], \"vacuum\": [\"hose\", \"motor\", \"bag\"] }"
      ]
    },
    {
      "source": [
        "Write a function, `parts_needed(appliances)` that takes in a list of appliances and returns a list of all the parts needed to build them."
      ],
      "cell_type": "markdown",
      "metadata": {}
    },
    {
      "cell_type": "code",
      "execution_count": null,
      "metadata": {},
      "outputs": [],
      "source": []
    },
    {
      "source": [
        "## Recursion"
      ],
      "cell_type": "markdown",
      "metadata": {}
    },
    {
      "source": [
        "Write a function that, when given a list, returns a new list that is the reverse of it."
      ],
      "cell_type": "markdown",
      "metadata": {}
    },
    {
      "source": [],
      "cell_type": "code",
      "metadata": {},
      "execution_count": null,
      "outputs": []
    },
    {
      "source": [
        "Write the same function but use recursion instead."
      ],
      "cell_type": "markdown",
      "metadata": {}
    },
    {
      "cell_type": "code",
      "execution_count": null,
      "metadata": {},
      "outputs": [],
      "source": []
    },
    {
      "source": [
        "# A bigger example\n",
        "\n",
        "**Can our generated Elon Musk tweets be distinguished from real tweets?**\n",
        "\n",
        "<img src=\"https://cdn.ttgtmedia.com/rms/onlineImages/crm-turing_test.jpg\" width=600/>\n",
        "\n",
        "See `musk_or_bot.py`."
      ],
      "cell_type": "markdown",
      "metadata": {}
    },
    {
      "source": [
        "# Cookies\n",
        "\n",
        "Cookies are small pieces of information sent by the server to the web browser in HTTP responses. These pieces of information are then sent back to the server every time the browser makes a new request.\n",
        "\n",
        "In flask, the best way to create cookies is with `session`."
      ],
      "cell_type": "markdown",
      "metadata": {}
    },
    {
      "source": [
        "Can we use cookies in `trump_or_bot`?"
      ],
      "cell_type": "markdown",
      "metadata": {}
    },
    {
      "source": [
        "# Serialisation\n",
        "\n",
        "Serialisation is the process of translating data structures into a format such that they can be *stored* or *transmitted*."
      ],
      "cell_type": "markdown",
      "metadata": {}
    },
    {
      "source": [
        "Consider this list of strings"
      ],
      "cell_type": "markdown",
      "metadata": {}
    },
    {
      "source": [
        "example_strings = [\"hello\", \"how are you?\", \"that's good\", \"nice to meet you\"]"
      ],
      "cell_type": "code",
      "metadata": {},
      "execution_count": null,
      "outputs": []
    },
    {
      "source": [
        "Can we store them in a text file?"
      ],
      "cell_type": "markdown",
      "metadata": {}
    },
    {
      "cell_type": "code",
      "execution_count": null,
      "metadata": {},
      "outputs": [],
      "source": []
    },
    {
      "source": [
        "Can we read them back from the file we stored them in?"
      ],
      "cell_type": "markdown",
      "metadata": {}
    },
    {
      "cell_type": "code",
      "execution_count": null,
      "metadata": {
        "tags": []
      },
      "outputs": [],
      "source": []
    },
    {
      "source": [
        "What could go wrong with this appraoch?"
      ],
      "cell_type": "markdown",
      "metadata": {}
    },
    {
      "cell_type": "code",
      "execution_count": null,
      "metadata": {},
      "outputs": [],
      "source": []
    },
    {
      "source": [
        "## Comma Separated Values\n",
        "\n",
        "Tabular (table-like) data can be stored in Comma Separated Value (CSV) format."
      ],
      "cell_type": "markdown",
      "metadata": {}
    },
    {
      "source": [
        "Load in the tutorial data from `tutorials.csv`."
      ],
      "cell_type": "markdown",
      "metadata": {}
    },
    {
      "cell_type": "code",
      "execution_count": null,
      "metadata": {
        "tags": []
      },
      "outputs": [],
      "source": []
    },
    {
      "source": [
        "Add a new tutorial then write the data back again."
      ],
      "cell_type": "markdown",
      "metadata": {}
    },
    {
      "cell_type": "code",
      "execution_count": null,
      "metadata": {},
      "outputs": [],
      "source": []
    },
    {
      "source": [
        "Can we load in the tutorial data as a list of dictionaries?"
      ],
      "cell_type": "markdown",
      "metadata": {}
    },
    {
      "cell_type": "code",
      "execution_count": null,
      "metadata": {},
      "outputs": [],
      "source": []
    },
    {
      "source": [
        "Can we write it back from a list of dictionaries into CSV?"
      ],
      "cell_type": "markdown",
      "metadata": {}
    },
    {
      "cell_type": "code",
      "execution_count": null,
      "metadata": {},
      "outputs": [],
      "source": []
    },
    {
      "source": [
        "## JSON\n",
        "\n",
        "JavaScript Object Notation (JSON) is a serialisation format with its origins in the Javascript language. However, in recent times it has become a universal standard used by many languages and tools for storing data.\n",
        "\n",
        "**Important points:**\n",
        " * JSON looks very similar to how we write data structures in Python.\n",
        " * JSON supports two structures:\n",
        "   * Arrays, which are similar in to lists in Python\n",
        "   * Objects, which are similar to dictionaries (keys *must* be strings)\n",
        " * Single values can be strings or numbers."
      ],
      "cell_type": "markdown",
      "metadata": {}
    },
    {
      "cell_type": "markdown",
      "metadata": {
        "id": "66g8ozhFmJol"
      },
      "source": [
        "Can we read in the Elon Musk tweets?"
      ]
    },
    {
      "cell_type": "code",
      "execution_count": null,
      "metadata": {},
      "outputs": [],
      "source": []
    },
    {
      "source": [
        "Can we create data that can't be serialised into CSV but can be serialised into JSON?"
      ],
      "cell_type": "markdown",
      "metadata": {}
    },
    {
      "cell_type": "code",
      "execution_count": null,
      "metadata": {},
      "outputs": [],
      "source": []
    }
  ]
}
