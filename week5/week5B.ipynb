{
  "nbformat": 4,
  "nbformat_minor": 0,
  "metadata": {
    "colab": {
      "name": "week3A.ipynb",
      "provenance": [],
      "collapsed_sections": []
    },
    "kernelspec": {
      "name": "python38564bit16056ce0e98a49208e5744e26803b7c0",
      "display_name": "Python 3.8.5 64-bit",
      "metadata": {
        "interpreter": {
          "hash": "1ee38ef4a5a9feb55287fd749643f13d043cb0a7addaab2a9c224cbe137c0062"
        }
      }
    }
  },
  "cells": [
    {
      "source": [
        "# A bigger example\n",
        "\n",
        "**Can our generated Elon Musk tweets be distinguished from real tweets?**\n",
        "\n",
        "<img src=\"https://cdn.ttgtmedia.com/rms/onlineImages/crm-turing_test.jpg\" width=600/>\n",
        "\n",
        "See `musk_or_bot.py`."
      ],
      "cell_type": "markdown",
      "metadata": {}
    },
    {
      "source": [
        "# CSS\n",
        "\n",
        "Cascading Style Sheets (CSS) describe the visual appearance of HTML pages. \n",
        "\n",
        "**Important points**:\n",
        "* CSS is a relatively simple language, but we won't be covering it in depth.\n",
        "* You can use external CSS libraries (e.g. [Pure.css](https://purecss.io/) or [Bootstrap](https://getbootstrap.com/)) to have pages that look *okay*.\n",
        "* A general reference for CSS is available [here](https://developer.mozilla.org/en-US/docs/Web/CSS/Reference)."
      ],
      "cell_type": "markdown",
      "metadata": {}
    },
    {
      "source": [
        "Can we make our \"Musk or Bot\" application look a bit better with CSS?\n",
        "\n",
        "See `musk_or_bot.py` and `static/style.css`."
      ],
      "cell_type": "markdown",
      "metadata": {}
    },
    {
      "source": [
        "# Javascript\n",
        "\n",
        "Javascript is a language that runs inside web browsers. It allows web applications to have more \"dynamic\" behaviour.\n",
        "\n",
        "**Important points**:\n",
        "* Javascript is a large and complex language. We won't be covering it in depth, but you can do simple things fairly easily.\n",
        "* To create complicated dynamic UIs in Javascript you typically need a Javascript framework (e.g. [React](https://reactjs.org/), [Vue.js](https://vuejs.org/), or [Angular](https://angular.io/))"
      ],
      "cell_type": "markdown",
      "metadata": {}
    },
    {
      "source": [
        "## Answering an important question\n",
        "\n",
        "How many students in this course take illegal drugs?"
      ],
      "cell_type": "markdown",
      "metadata": {}
    },
    {
      "source": [
        "Create a web form for collecting answers to this question\n",
        "\n",
        "See `illegal_drugs.py`"
      ],
      "cell_type": "markdown",
      "metadata": {}
    },
    {
      "source": [
        "Can we use Javascript to make students more likely to want to fill in the form?\n",
        "\n",
        "See `illegal_drugs.py` and `illegal_drugs.js`."
      ],
      "cell_type": "markdown",
      "metadata": {}
    },
    {
      "source": [
        "Assuming we had the results from this survey, how would we get the *real* percentage of students taking illegal drugs?"
      ],
      "cell_type": "markdown",
      "metadata": {}
    },
    {
      "cell_type": "code",
      "execution_count": null,
      "metadata": {},
      "outputs": [],
      "source": []
    },
    {
      "source": [
        "# Aside: Differential Privacy\n",
        "\n",
        "What was described above is an example of *differential* privacy. More generally, it is a technique for collecting information from people for large-scale analysis without violating their individual privacy.\n",
        "\n",
        "More information is available [here](https://towardsdatascience.com/understanding-differential-privacy-85ce191e198a).\n"
      ],
      "cell_type": "markdown",
      "metadata": {}
    }
  ]
}