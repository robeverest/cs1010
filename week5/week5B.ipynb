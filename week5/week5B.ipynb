{
  "nbformat": 4,
  "nbformat_minor": 0,
  "metadata": {
    "colab": {
      "name": "week3A.ipynb",
      "provenance": [],
      "collapsed_sections": []
    },
    "kernelspec": {
      "name": "python3",
      "display_name": "Python 3.9.0 64-bit",
      "metadata": {
        "interpreter": {
          "hash": "ac2eaa0ea0ebeafcc7822e65e46aa9d4f966f30b695406963e145ea4a91cd4fc"
        }
      }
    }
  },
  "cells": [
    {
      "source": [
        "## Comma Separated Values\n",
        "\n",
        "Tabular (table-like) data can be stored in Comma Separated Value (CSV) format."
      ],
      "cell_type": "markdown",
      "metadata": {}
    },
    {
      "source": [
        "Can we read in the Elon Musk tweets?"
      ],
      "cell_type": "markdown",
      "metadata": {}
    },
    {
      "cell_type": "code",
      "execution_count": null,
      "metadata": {},
      "outputs": [],
      "source": [
        "import csv\n",
        "\n",
        "f = open('../data/elonmusk.csv', 'r')\n",
        "\n",
        "csv_reader = csv.DictReader(f)\n",
        "\n",
        "elon_tweets = []\n",
        "\n",
        "for tweet in csv_reader:\n",
        "    elon_tweets.append(tweet)\n",
        "\n",
        "elon_tweets"
      ]
    },
    {
      "source": [
        "## JSON\n",
        "\n",
        "JavaScript Object Notation (JSON) is a serialisation format with its origins in the Javascript language. However, in recent times it has become a universal standard used by many languages and tools for storing data.\n",
        "\n",
        "**Important points:**\n",
        " * JSON looks very similar to how we write data structures in Python.\n",
        " * JSON supports two structures:\n",
        "   * Arrays, which are similar in to lists in Python\n",
        "   * Objects, which are similar to dictionaries (keys *must* be strings)\n",
        " * Single values can be strings or numbers."
      ],
      "cell_type": "markdown",
      "metadata": {}
    },
    {
      "source": [
        "Can we serialise the tutorials into JSON?"
      ],
      "cell_type": "markdown",
      "metadata": {}
    },
    {
      "cell_type": "code",
      "execution_count": 8,
      "metadata": {},
      "outputs": [
        {
          "output_type": "execute_result",
          "data": {
            "text/plain": [
              "114"
            ]
          },
          "metadata": {},
          "execution_count": 8
        }
      ],
      "source": [
        "tutorials = [ \n",
        "    {'tutorial': 'T15A', 'tutor': 'Sim', 'enrollments': 20},\n",
        "    {'tutorial': 'T17A', 'tutor': 'Kai', 'enrollments': 23}\n",
        "    ]\n",
        "\n",
        "import json\n",
        "\n",
        "json.dumps(tutorials)\n",
        "\n",
        "f = open('tutorials.json', 'w')\n",
        "\n",
        "f.write(json.dumps(tutorials))"
      ]
    },
    {
      "cell_type": "code",
      "execution_count": 9,
      "metadata": {},
      "outputs": [
        {
          "output_type": "execute_result",
          "data": {
            "text/plain": [
              "[{'tutorial': 'T15A', 'tutor': 'Sim', 'enrollments': 20},\n",
              " {'tutorial': 'T17A', 'tutor': 'Kai', 'enrollments': 23}]"
            ]
          },
          "metadata": {},
          "execution_count": 9
        }
      ],
      "source": [
        "f = open('tutorials.json', 'r')\n",
        "tutorials = json.loads(f.read())\n",
        "\n",
        "tutorials"
      ]
    },
    {
      "source": [
        "Can we create data that can't be serialised into CSV but can be serialised into JSON?"
      ],
      "cell_type": "markdown",
      "metadata": {}
    },
    {
      "cell_type": "code",
      "execution_count": null,
      "metadata": {},
      "outputs": [],
      "source": [
        "major_parts = { \"fridge\": [\"chiller\", \"door\", \"shelves\"], \"dishwasher\": [\"motor\", \"rack\", \"tube\"], \"vacuum\": [\"hose\", \"motor\", \"bag\"] }"
      ]
    },
    {
      "source": [
        "# A bigger example\n",
        "\n",
        "**Can our generated Elon Musk tweets be distinguished from real tweets?**\n",
        "\n",
        "<img src=\"https://cdn.ttgtmedia.com/rms/onlineImages/crm-turing_test.jpg\" width=600/>\n",
        "\n",
        "See `musk_or_bot.py`."
      ],
      "cell_type": "markdown",
      "metadata": {}
    },
    {
      "source": [
        "# CSS\n",
        "\n",
        "Cascading Style Sheets (CSS) describe the visual appearance of HTML pages. \n",
        "\n",
        "**Important points**:\n",
        "* CSS is a relatively simple language, but we won't be covering it in depth.\n",
        "* You can use external CSS libraries (e.g. [Pure.css](https://purecss.io/) or [Bootstrap](https://getbootstrap.com/)) to have pages that look *okay*.\n",
        "* A general reference for CSS is available [here](https://developer.mozilla.org/en-US/docs/Web/CSS/Reference)."
      ],
      "cell_type": "markdown",
      "metadata": {}
    },
    {
      "source": [
        "Can we make our \"Musk or Bot\" application look a bit better with CSS?\n",
        "\n",
        "See `musk_or_bot.py` and `static/style.css`."
      ],
      "cell_type": "markdown",
      "metadata": {}
    },
    {
      "source": [
        "# Javascript\n",
        "\n",
        "Javascript is a language that runs inside web browsers. It allows web applications to have more \"dynamic\" behaviour.\n",
        "\n",
        "**Important points**:\n",
        "* Javascript is a large and complex language. We won't be covering it in depth, but you can do simple things fairly easily.\n",
        "* To create complicated dynamic UIs in Javascript you typically need a Javascript framework (e.g. [React](https://reactjs.org/), [Vue.js](https://vuejs.org/), or [Angular](https://angular.io/))"
      ],
      "cell_type": "markdown",
      "metadata": {}
    },
    {
      "source": [
        "## Answering an important question\n",
        "\n",
        "How many students in this course take illegal drugs?"
      ],
      "cell_type": "markdown",
      "metadata": {}
    },
    {
      "source": [
        "Create a web form for collecting answers to this question\n",
        "\n",
        "See `illegal_drugs.py`"
      ],
      "cell_type": "markdown",
      "metadata": {}
    },
    {
      "source": [
        "Can we use Javascript to make students more likely to want to fill in the form?\n",
        "\n",
        "See `illegal_drugs.py` and `illegal_drugs.js`."
      ],
      "cell_type": "markdown",
      "metadata": {}
    },
    {
      "source": [
        "Assuming we had the results from this survey, how would we get the *real* percentage of students taking illegal drugs?"
      ],
      "cell_type": "markdown",
      "metadata": {}
    },
    {
      "cell_type": "code",
      "execution_count": null,
      "metadata": {},
      "outputs": [],
      "source": []
    },
    {
      "source": [
        "# Aside: Differential Privacy\n",
        "\n",
        "What was described above is an example of *differential* privacy. More generally, it is a technique for collecting information from people for large-scale analysis without violating their individual privacy.\n",
        "\n",
        "More information is available [here](https://towardsdatascience.com/understanding-differential-privacy-85ce191e198a).\n"
      ],
      "cell_type": "markdown",
      "metadata": {}
    }
  ]
}