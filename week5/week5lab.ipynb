{
 "metadata": {
  "language_info": {
   "codemirror_mode": {
    "name": "ipython",
    "version": 3
   },
   "file_extension": ".py",
   "mimetype": "text/x-python",
   "name": "python",
   "nbconvert_exporter": "python",
   "pygments_lexer": "ipython3",
   "version": "3.9.0"
  },
  "orig_nbformat": 2,
  "kernelspec": {
   "name": "python3",
   "display_name": "Python 3.9.0 64-bit",
   "metadata": {
    "interpreter": {
     "hash": "ac2eaa0ea0ebeafcc7822e65e46aa9d4f966f30b695406963e145ea4a91cd4fc"
    }
   }
  }
 },
 "nbformat": 4,
 "nbformat_minor": 2,
 "cells": [
  {
   "cell_type": "markdown",
   "metadata": {},
   "source": [
    "# Week 5 Lab (4 marks)\n",
    "\n",
    "**IMPORTANT NOTE** The first 3 sets of exercises for this lab *can* be done in Colaboratory, but the last exercise requires you to implement a web server, so you will need to have Python running on your own computer for at least that exercise.\n",
    "\n",
    "To get the marks for these tasks, you need to show your solutions to you lab demonstrater in either your week 5, 7, or 8 lab."
   ]
  },
  {
   "cell_type": "markdown",
   "metadata": {},
   "source": [
    "## Complex Data Structures (1 mark)\n",
    "\n",
    "This data structure contains a series of courses. For each course, there are a list of its tutorials and its enrolments. "
   ]
  },
  {
   "cell_type": "code",
   "execution_count": 1,
   "metadata": {},
   "outputs": [],
   "source": [
    "unsw_courses = { \n",
    "    \"COMP1010\": { \n",
    "        \"name\": \"Art of Computing\", \n",
    "        \"tutorials\": [ \n",
    "            { \"code\": \"T15A\", \"room\": \"Quad 1041\" },\n",
    "            { \"code\": \"T17A\", \"room\": \"ASB 111\" },\n",
    "            { \"code\": \"T18A\", \"room\": \"Goldstein G03\" }\n",
    "        ],\n",
    "        \"enrollments\": [\n",
    "            { \"zid\": \"z1234567\", \"tutorial\": \"T15A\" },\n",
    "            { \"zid\": \"z7654321\", \"tutorial\": \"T17A\" },\n",
    "            { \"zid\": \"z1357246\", \"tutorial\": \"T15A\" },\n",
    "            { \"zid\": \"z2461357\", \"tutorial\": \"T18A\" }\n",
    "        ]\n",
    "    },\n",
    "    \"FINS1613\": { \n",
    "        \"name\": \"Business Finance\", \n",
    "        \"tutorials\": [ \n",
    "            { \"code\": \"M12A\", \"room\": \"ASB 302\" },\n",
    "            { \"code\": \"H16B\", \"room\": \"J17 G12\" }\n",
    "        ],\n",
    "        \"enrollments\": [\n",
    "            { \"zid\": \"z7654321\", \"tutorial\": \"M12A\" },\n",
    "            { \"zid\": \"z1234567\", \"tutorial\": \"M12A\" },\n",
    "            { \"zid\": \"z1357246\", \"tutorial\": \"H16B\" }\n",
    "        ]\n",
    "    },\n",
    "    \"FINS1612\": { \n",
    "        \"name\": \"Capital Markets & Institution\", \n",
    "        \"tutorials\": [ \n",
    "            { \"code\": \"T11A\", \"room\": \"ASB 111\" },\n",
    "            { \"code\": \"F11A\", \"room\": \"J17 G12\" },\n",
    "            { \"code\": \"M09A\", \"room\": \"Goldstein G03\" }\n",
    "        ],\n",
    "        \"enrollments\": [\n",
    "            { \"zid\": \"z1357246\", \"tutorial\": \"M09A\" },\n",
    "            { \"zid\": \"z7654321\", \"tutorial\": \"T11A\" },\n",
    "            { \"zid\": \"z1234567\", \"tutorial\": \"F11A\" },\n",
    "            { \"zid\": \"z2461357\", \"tutorial\": \"F11A\" }\n",
    "        ]\n",
    "    }\n",
    "}\n"
   ]
  },
  {
   "source": [
    "Write a function `timetable(zid)` that, given a student number returns the timetable of the student in the format shown in the test cell below.\n",
    "\n",
    "**NOTE**: Your function should still work if new courses, tutorials or enrolments were added to the above data structure-- i.e. you shouldn't have any specific course or tutorial codes hardcoded in your solution."
   ],
   "cell_type": "markdown",
   "metadata": {}
  },
  {
   "cell_type": "code",
   "execution_count": 2,
   "metadata": {},
   "outputs": [],
   "source": [
    "def timetable(zid):\n",
    "    result = {}\n",
    "    for course in unsw_courses:\n",
    "        code = None\n",
    "        for student in unsw_courses[course]['enrollments']:\n",
    "            if zid == student['zid']:\n",
    "                code = student['tutorial']\n",
    "        if code != None:\n",
    "            room = None\n",
    "            for tutorial in unsw_courses[course]['tutorials']:\n",
    "                if code == tutorial['code']:\n",
    "                    room = tutorial['room']\n",
    "            result[course] = { \"time\": code, \"room\": room}\n",
    "    return result"
   ]
  },
  {
   "source": [
    "Use this cell to test if your function is correct."
   ],
   "cell_type": "markdown",
   "metadata": {}
  },
  {
   "cell_type": "code",
   "execution_count": 3,
   "metadata": {},
   "outputs": [],
   "source": [
    "assert timetable('z1234567') == { \n",
    "    \"COMP1010\": { \"time\": \"T15A\", \"room\": \"Quad 1041\" },\n",
    "    \"FINS1613\": { \"time\": \"M12A\", \"room\": \"ASB 302\" },\n",
    "    \"FINS1612\": { \"time\": \"F11A\", \"room\": \"J17 G12\" }\n",
    "}\n",
    "assert timetable('z2461357') == { \n",
    "    \"COMP1010\": { \"time\": \"T18A\", \"room\": \"Goldstein G03\" },\n",
    "    \"FINS1612\": { \"time\": \"F11A\", \"room\": \"J17 G12\" }\n",
    "}"
   ]
  },
  {
   "source": [
    "## More loops  (1 mark)\n",
    "\n",
    "Given a list of numbers, you can compute a new list containing the *difference* between each element and its subsequent element. For example, given `[1, 2, 5, 3]`, the *difference* list would be `[1, 3, -2]`. Naturally, the new list has one less element than the original list.\n",
    "\n",
    "Write a function `difference(numbers)` that computes the difference list for the argument `numbers`."
   ],
   "cell_type": "markdown",
   "metadata": {}
  },
  {
   "cell_type": "code",
   "execution_count": 4,
   "metadata": {},
   "outputs": [],
   "source": [
    "def difference(numbers):\n",
    "    result = []\n",
    "    for i in range(len(numbers) - 1):\n",
    "        result.append(numbers[i+1] - numbers[i])\n",
    "    return result"
   ]
  },
  {
   "source": [
    "Use this cell to test your function."
   ],
   "cell_type": "markdown",
   "metadata": {}
  },
  {
   "cell_type": "code",
   "execution_count": 5,
   "metadata": {},
   "outputs": [],
   "source": [
    "assert difference([1, 2, 5, 3]) == [1, 3, -2]\n",
    "assert difference([3, 2, 567, 2, 45, 3, 7, 5]) == [-1, 565, -565, 43, -42, 4, -2]"
   ]
  },
  {
   "source": [
    "Write another function, `final_difference(numbers)` that repeatedly applies `difference(numbers)` until only 1 number remains. That number is then returned."
   ],
   "cell_type": "markdown",
   "metadata": {}
  },
  {
   "cell_type": "code",
   "execution_count": 9,
   "metadata": {},
   "outputs": [],
   "source": [
    "def final_difference(numbers):\n",
    "    while len(numbers) > 1:\n",
    "        numbers = difference(numbers)\n",
    "    return numbers[0]\n"
   ]
  },
  {
   "source": [
    "Use this cell to test your function."
   ],
   "cell_type": "markdown",
   "metadata": {}
  },
  {
   "cell_type": "code",
   "execution_count": 10,
   "metadata": {},
   "outputs": [],
   "source": [
    "assert final_difference([1, 2, 5, 3]) == -7\n",
    "assert final_difference([3, 2, 567, 2, 45, 3, 7, 5]) == -13382"
   ]
  },
  {
   "source": [
    "## Program Composition (1 mark)\n",
    "\n",
    "### Majority Vote\n",
    "Create a function, `majority(votes)`, that returns the majority vote in a list. A majority vote is an element that occurs $> \\frac{n}{2}$ times in a list (where $n$ is the length of the list). If there is no majority vote, the function should return `None`. "
   ],
   "cell_type": "markdown",
   "metadata": {}
  },
  {
   "cell_type": "code",
   "execution_count": 13,
   "metadata": {},
   "outputs": [],
   "source": [
    "def majority(votes):\n",
    "    vote_tally = {}\n",
    "    for vote in votes:\n",
    "        if vote in vote_tally:\n",
    "            vote_tally[vote] += 1\n",
    "        else:\n",
    "            vote_tally[vote] = 1\n",
    "    for vote in vote_tally:\n",
    "        if vote_tally[vote] > len(votes) / 2:\n",
    "            return vote\n",
    "    return None\n",
    "\n",
    "\n",
    "def majority(votes):\n",
    "    for vote in votes:\n",
    "        if votes.count(vote) > len(votes) / 2:\n",
    "            return vote"
   ]
  },
  {
   "source": [
    "Use this cell to test your function."
   ],
   "cell_type": "markdown",
   "metadata": {}
  },
  {
   "cell_type": "code",
   "execution_count": 14,
   "metadata": {},
   "outputs": [],
   "source": [
    "assert majority([\"A\", \"A\", \"B\"]) == \"A\"\n",
    "assert majority([\"pizza\", \"pizza\", \"pizza\", \"burger\", \"burrito\", \"pizza\"]) == \"pizza\"\n",
    "assert majority([\"koala\", \"kangaroo\", \"kangaroo\", \"koala\", \"wombat\", \"wombat\"]) == None\n",
    "assert majority([\"dogs\", \"cats\", \"dogs\", \"snakes\"]) == None"
   ]
  },
  {
   "source": [
    "### Grouping\n",
    "\n",
    "Create a function, `group(strings)`, that groups strings by their first character. The argument `strings` is a list of strings and the returned grouping should be a list of lists. The function should preserve ordering as much as possible-- i.e. the first strings in all the sublists should be in the order they appear in the original list, as should the strings inside each sublist. See the test cell below for some examples."
   ],
   "cell_type": "markdown",
   "metadata": {}
  },
  {
   "cell_type": "code",
   "execution_count": 19,
   "metadata": {},
   "outputs": [],
   "source": [
    "def group(strings):\n",
    "    first_letter_groups = {}\n",
    "    for string in strings:\n",
    "        first_letter = string[0]\n",
    "        if first_letter in first_letter_groups:\n",
    "            first_letter_groups[first_letter].append(string)\n",
    "        else:\n",
    "            first_letter_groups[first_letter] = [string]\n",
    "    # print(first_letter_groups)\n",
    "    result = []\n",
    "    for first_letter in first_letter_groups:\n",
    "        result.append(first_letter_groups[first_letter])\n",
    "    return result"
   ]
  },
  {
   "source": [
    "Use this cell to test if your function is correct"
   ],
   "cell_type": "markdown",
   "metadata": {}
  },
  {
   "cell_type": "code",
   "execution_count": 20,
   "metadata": {},
   "outputs": [],
   "source": [
    "assert group([\"hello\", \"goodbye\", \"hi\", \"goodness\"]) == [[\"hello\", \"hi\"], [\"goodbye\", \"goodness\"]]\n",
    "assert group([\"python\", \"java\", \"prolog\", \"purescript\", \"javascript\", \"haskell\"]) == [[\"python\", \"prolog\", \"purescript\"], [\"java\", \"javascript\"], [\"haskell\"]]"
   ]
  },
  {
   "source": [
    "## Web Server (1 mark)"
   ],
   "cell_type": "markdown",
   "metadata": {}
  },
  {
   "source": [
    "In a separate file, `text_server.py`, write a Flask web server that analyses text. On the main page have a textbox and a submit button. If the submit button is pressed, on the next page show an analysis of whatever was in the text box. This analysis should include: the number of characters (including spaces and punctuation), the number of characters (excluding punctuation), and the number of words. \n",
    "\n",
    "**Note**:\n",
    "* All responses the server gives should be in HTML. You may wish to use this as an opportunity to familiarise yourself with HTML and PyHTML.\n",
    "* You can use the web servers implemented in lectures as a guide to structuring your code.\n"
   ],
   "cell_type": "markdown",
   "metadata": {}
  },
  {
   "source": [
    "## Challenge\n",
    "\n",
    "**NOTE:** This question is **NOT** worth any marks and is meant to present a significant challenge. It's here for those who wish to extend themselves. Even if you're not able to solve it, you may find giving it a try good practice and you can always come back to it in later weeks.\n",
    "\n",
    "Write a function, `solve(sudoku)`, that, given a sudoku represented as a list of lists, returns that solved version of that sudoku.\n",
    "\n",
    "Here is a sudoku you can use for testing. Note that empty cells are represented with `None`."
   ],
   "cell_type": "markdown",
   "metadata": {}
  },
  {
   "cell_type": "code",
   "execution_count": 25,
   "metadata": {},
   "outputs": [
    {
     "output_type": "execute_result",
     "data": {
      "text/plain": [
       "[[2, 4, 5, 9, 7, 8, 1, 3, 6],\n",
       " [3, 1, 8, 6, 4, 2, 9, 5, 7],\n",
       " [7, 6, 9, 1, 3, 5, 4, 8, 2],\n",
       " [4, 9, 2, 7, 5, 6, 3, 1, 8],\n",
       " [6, 5, 3, 8, 9, 1, 7, 2, 4],\n",
       " [8, 7, 1, 3, 2, 4, 5, 6, 9],\n",
       " [1, 2, 7, 5, 8, 9, 6, 4, 3],\n",
       " [9, 8, 6, 4, 1, 3, 2, 7, 5],\n",
       " [5, 3, 4, 2, 6, 7, 8, 9, 1]]"
      ]
     },
     "metadata": {},
     "execution_count": 25
    }
   ],
   "source": [
    "x = None\n",
    "example_sudoku = [\n",
    "    [ 2, x, 5, x, x, x, x, x, x],\n",
    "    [ 3, x, 8, 6, x, x, 9, x, x],\n",
    "    [ x, x, x, 1, x, x, 4, x, x],\n",
    "    [ x, x, x, x, 5, x, x, 1, x],\n",
    "    [ x, x, x, x, 9, x, x, 2, x],\n",
    "    [ 8, 7, x, x, 2, x, x, x, x],\n",
    "    [ x, x, x, x, 8, 9, x, x, 3],\n",
    "    [ x, x, 6, x, x, 3, x, x, 5],\n",
    "    [ 5, x, 4, x, x, x, x, x, 1],\n",
    "]\n",
    "\n",
    "def get_column(sudoku, x):\n",
    "    return [row[x] for row in sudoku]\n",
    "\n",
    "def get_square(sudoku, x, y):\n",
    "    square_x = (x // 3) * 3\n",
    "    square_y = (y // 3) * 3\n",
    "    return [sudoku[y][x] for x in range(square_x, square_x+3) for y in range(square_y, square_y + 3)]\n",
    "\n",
    "def solve(sudoku):\n",
    "    return solve_cell(sudoku, 0, 0)\n",
    "\n",
    "def solve_cell(sudoku, x, y):\n",
    "    if x < 8:\n",
    "        next_x = x + 1\n",
    "        next_y = y\n",
    "    else:\n",
    "        next_x = 0\n",
    "        next_y = y + 1\n",
    "    if sudoku[y][x] == None:\n",
    "        for number in range(1,10):\n",
    "            row = sudoku[y]\n",
    "            column = get_column(sudoku, x)\n",
    "            square = get_square(sudoku, x, y)\n",
    "            if number not in row and number not in column and number not in square:\n",
    "                sudoku[y][x] = number\n",
    "                if next_y == 9 or solve_cell(sudoku, next_x, next_y):\n",
    "                    return True\n",
    "        sudoku[y][x] = None\n",
    "        return False\n",
    "    elif next_y < 9:\n",
    "        return solve_cell(sudoku, next_x, next_y)\n",
    "    else:\n",
    "        return True\n",
    "\n",
    "solve(example_sudoku)\n",
    "example_sudoku"
   ]
  }
 ]
}