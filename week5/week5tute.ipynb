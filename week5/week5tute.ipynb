{
 "metadata": {
  "language_info": {
   "codemirror_mode": {
    "name": "ipython",
    "version": 3
   },
   "file_extension": ".py",
   "mimetype": "text/x-python",
   "name": "python",
   "nbconvert_exporter": "python",
   "pygments_lexer": "ipython3",
   "version": "3.8.5-final"
  },
  "orig_nbformat": 2,
  "kernelspec": {
   "name": "python38564bit16056ce0e98a49208e5744e26803b7c0",
   "display_name": "Python 3.8.5 64-bit",
   "metadata": {
    "interpreter": {
     "hash": "1ee38ef4a5a9feb55287fd749643f13d043cb0a7addaab2a9c224cbe137c0062"
    }
   }
  }
 },
 "nbformat": 4,
 "nbformat_minor": 2,
 "cells": [
  {
   "cell_type": "markdown",
   "metadata": {},
   "source": [
    "# Week 5 Tutorial"
   ]
  },
  {
   "cell_type": "markdown",
   "metadata": {},
   "source": [
    "## Kahoot\n",
    "\n",
    "Your tutor will run through a Kahoot with you to test how well you remember certain concepts from the past two weeks. After the tutes have occurred, the link will be posted here if you wish to go through it in your own time "
   ]
  },
  {
   "source": [
    "## Composing a solution\n",
    "\n",
    "Consider being placed at position (0,0) on a grid and given a list of directions (of the form north, south, east, and west). You would then follow those directions by moving into the adjacent grid position. For example, if you got the directions north, east, north, west, you would move from (0,0) to (0,1), (1,1), (1,2), and finally to (0,2).\n",
    "\n",
    "Write a function `follow_directions(directions)` that returns your final position after following the given directions."
   ],
   "cell_type": "markdown",
   "metadata": {}
  },
  {
   "cell_type": "code",
   "execution_count": null,
   "metadata": {},
   "outputs": [],
   "source": []
  },
  {
   "source": [
    "Using the function from above, can you determine if the directions given to you are the smallest number of possible directions to get to the final position?\n",
    "\n",
    "Write this as a function `minimal_directions(directions)` that returns `True` if the number of directions is as low as possible, and `False` otherwise."
   ],
   "cell_type": "markdown",
   "metadata": {}
  },
  {
   "cell_type": "code",
   "execution_count": null,
   "metadata": {},
   "outputs": [],
   "source": []
  },
  {
   "source": [
    "## Web server\n",
    "\n",
    "Look at `simple_server.py` from the lectures.\n",
    "\n",
    "Can you change the response to the `/` route such that it includes a table of COMP1010 tutorials at the end? The table should include the tutorial code, tutor and number of students.\n",
    "\n",
    "Can you change the code so that the table is generated from a list of tutorials rather than being hardcoded? This should both avoid repetition and make it easier to add other tutorials later on."
   ],
   "cell_type": "markdown",
   "metadata": {}
  },
  {
   "source": [
    "## Project\n",
    "\n",
    "With any remaining time, ask any final questions about the project proposal or get feedback on your project idea."
   ],
   "cell_type": "markdown",
   "metadata": {}
  }
 ]
}