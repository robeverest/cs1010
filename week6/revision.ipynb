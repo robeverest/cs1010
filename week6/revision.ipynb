{
 "metadata": {
  "language_info": {
   "codemirror_mode": {
    "name": "ipython",
    "version": 3
   },
   "file_extension": ".py",
   "mimetype": "text/x-python",
   "name": "python",
   "nbconvert_exporter": "python",
   "pygments_lexer": "ipython3",
   "version": 3
  },
  "orig_nbformat": 2
 },
 "nbformat": 4,
 "nbformat_minor": 2,
 "cells": [
  {
   "source": [
    "# Week 6 Revision\n",
    "\n",
    "## Lab exercises\n",
    "\n",
    "#### Week 3\n",
    "\n",
    "* Dictionaries\n",
    "\n",
    "#### Week 4\n",
    "\n",
    "* Nested Structures\n",
    "* While loops and recursion\n"
   ],
   "cell_type": "markdown",
   "metadata": {}
  },
  {
   "source": [
    "## Other exercises\n",
    "\n",
    "### Recursion\n",
    "\n",
    "Create a list of all the numbers less than or equal to $n$ that are powers of 2."
   ],
   "cell_type": "markdown",
   "metadata": {}
  },
  {
   "cell_type": "code",
   "execution_count": null,
   "metadata": {},
   "outputs": [],
   "source": []
  },
  {
   "source": [
    "### Web server\n",
    "\n",
    "Implement a web server with a single page containing a counter.\n",
    "\n",
    "See `counter_server.py`."
   ],
   "cell_type": "markdown",
   "metadata": {}
  }
 ]
}