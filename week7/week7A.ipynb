{
  "nbformat": 4,
  "nbformat_minor": 0,
  "metadata": {
    "colab": {
      "name": "week3A.ipynb",
      "provenance": [],
      "collapsed_sections": []
    },
    "kernelspec": {
      "name": "python3",
      "display_name": "Python 3.9.0 64-bit",
      "metadata": {
        "interpreter": {
          "hash": "ac2eaa0ea0ebeafcc7822e65e46aa9d4f966f30b695406963e145ea4a91cd4fc"
        }
      }
    }
  },
  "cells": [
    {
      "source": [
        "# Rough plan for the next few weeks\n",
        "\n",
        "* This week: More web, usability, databases, data analysis\n",
        "* Week 8: Game programming, cyber security?\n",
        "* Week 9: Object and classes, searching and sorting, minor topics\n",
        "* Week 10: Revision"
      ],
      "cell_type": "markdown",
      "metadata": {}
    },
    {
      "source": [
        "# Retrieving data from external sources"
      ],
      "cell_type": "markdown",
      "metadata": {}
    },
    {
      "source": [
        "## Client libraries\n",
        "\n",
        "A client library is a library designed to let you communicate with an external service.\n",
        "\n",
        "**Important Points:**\n",
        "* Once installed, you can use them anywhere in your Python code.\n",
        "* They are typically the easiest way to get data from an online service.\n",
        "* Python has many client libraries, so it's always worth checking if one exists before going to the effort of doing it yourself.\n"
      ],
      "cell_type": "markdown",
      "metadata": {}
    },
    {
      "source": [
        "Can we install the wikiquote library?"
      ],
      "cell_type": "markdown",
      "metadata": {}
    },
    {
      "cell_type": "code",
      "execution_count": null,
      "metadata": {},
      "outputs": [],
      "source": [
        "!pip3 install wikiquote"
      ]
    },
    {
      "source": [
        "Can we get the current \"Quote of the Day\"?"
      ],
      "cell_type": "markdown",
      "metadata": {}
    },
    {
      "cell_type": "code",
      "execution_count": null,
      "metadata": {},
      "outputs": [],
      "source": [
        "import wikiquote\n",
        "\n",
        "wikiquote.quote_of_the_day()"
      ]
    },
    {
      "cell_type": "code",
      "execution_count": null,
      "metadata": {},
      "outputs": [],
      "source": [
        "wikiquote.search('Toy Story')"
      ]
    },
    {
      "cell_type": "code",
      "execution_count": null,
      "metadata": {},
      "outputs": [],
      "source": [
        "wikiquote.quotes('Toy Story')"
      ]
    },
    {
      "source": [
        "## Requests library\n",
        "\n",
        "The Python `requests` library allows us to make HTTP requests in much the same way our web browsers do.\n",
        "\n",
        "**Important points**:\n",
        "* If you need to communicate with an external service, and there isn't a client library for it, `requests` is the next best solution.\n",
        "* We typically use the `get()` function, but there exists a `post()` function as well.\n",
        "* The result of the `get()` function is a `response`. The `contents` of a response are `bytes` representing the response data."
      ],
      "cell_type": "markdown",
      "metadata": {}
    },
    {
      "source": [
        "Can we retrieve the raw CSV file from Musk or Bot?"
      ],
      "cell_type": "markdown",
      "metadata": {}
    },
    {
      "source": [
        "import requests\n",
        "\n",
        "# GET, POST, PUT, etc.\n",
        "\n",
        "resp = requests.get('https://cs1010-musk-or-bot.azurewebsites.net/results')\n",
        "\n",
        "print(resp.content)"
      ],
      "cell_type": "code",
      "metadata": {
        "tags": [
          "outputPrepend"
        ]
      },
      "execution_count": null,
      "outputs": []
    },
    {
      "source": [
        "Can we retrieve a random image from [Unsplash](https://unsplash.com)?"
      ],
      "cell_type": "markdown",
      "metadata": {}
    },
    {
      "cell_type": "code",
      "execution_count": null,
      "metadata": {},
      "outputs": [],
      "source": [
        "resp = requests.get('https://source.unsplash.com/random')\n",
        "\n",
        "from PIL import Image\n",
        "import io\n",
        "\n",
        "Image.open(io.BytesIO(resp.content))"
      ]
    },
    {
      "source": [
        "Can we retrieve a random image of a python?"
      ],
      "cell_type": "markdown",
      "metadata": {}
    },
    {
      "cell_type": "code",
      "execution_count": null,
      "metadata": {},
      "outputs": [],
      "source": [
        "resp = requests.get('https://source.unsplash.com/random?python')\n",
        "\n",
        "from PIL import Image\n",
        "import io\n",
        "\n",
        "Image.open(io.BytesIO(resp.content))"
      ]
    },
    {
      "source": [
        "## APIs\n",
        "\n",
        "Application Programming Interfaces (APIs) define how different software components communicate.\n",
        "\n",
        "Web APIs are typically web servers that are designed to receive requests from programs rather than a user navigating with their browser."
      ],
      "cell_type": "markdown",
      "metadata": {}
    },
    {
      "source": [
        "Can we access information about a random image using the [Unsplash API](https://unsplash.com/developers)?"
      ],
      "cell_type": "markdown",
      "metadata": {}
    },
    {
      "cell_type": "code",
      "execution_count": null,
      "metadata": {},
      "outputs": [],
      "source": [
        "headers = { 'Authorization': 'Client-ID ZtqSai4gI8_R-vm0fmAuIwyWHH6XR8GTB-DeankWE_M'}\n",
        "resp = requests.get('https://api.unsplash.com/photos/random', headers=headers)\n",
        "\n",
        "import json\n",
        "image_information = json.loads(resp.content)\n",
        "\n",
        "resp = requests.get(image_information['urls']['full'])\n",
        "\n",
        "Image.open(io.BytesIO(resp.content))"
      ]
    },
    {
      "source": [
        "Can we get information about a random \"python\" image?"
      ],
      "cell_type": "markdown",
      "metadata": {}
    },
    {
      "cell_type": "code",
      "execution_count": null,
      "metadata": {},
      "outputs": [],
      "source": [
        "headers = { 'Authorization': 'Client-ID ZtqSai4gI8_R-vm0fmAuIwyWHH6XR8GTB-DeankWE_M'}\n",
        "resp = requests.get('https://api.unsplash.com/photos/random?query=python', headers=headers)\n",
        "\n",
        "import json\n",
        "image_information = json.loads(resp.content)\n",
        "\n",
        "resp = requests.get(image_information['urls']['full'])\n",
        "\n",
        "Image.open(io.BytesIO(resp.content))"
      ]
    },
    {
      "source": [
        "# Usability\n",
        "\n",
        "Usability is qualititive attribute of user interfaces.\n",
        "\n",
        "Typically broken down into these 5 components:\n",
        "* Learnability\n",
        "* Efficiency\n",
        "* Memorability\n",
        "* Errors\n",
        "* Satisfaction\n",
        "\n",
        "More details are available [here](https://www.nngroup.com/articles/usability-101-introduction-to-usability/)."
      ],
      "cell_type": "markdown",
      "metadata": {}
    },
    {
      "source": [
        "Try to fill in this form:\n",
        "\n",
        "https://userinyerface.com"
      ],
      "cell_type": "markdown",
      "metadata": {}
    },
    {
      "source": [
        "## Usability Heuristics\n",
        "\n",
        "[These 10 heuristics](https://www.nngroup.com/articles/ten-usability-heuristics/) are a good guide for non-designers to find problems in their user interfaces.\n",
        "\n",
        "**Important points**:\n",
        "* Not all heuristics may be relevant for a particular application\n",
        "* Web applications satisfy some heuristics for \"free\" (e.g. #3 is mostly satisfied by the \"back\" button)"
      ],
      "cell_type": "markdown",
      "metadata": {}
    },
    {
      "source": [
        "# Databases\n",
        "\n",
        "Databases are organised collections of *structured* information. A Database Management System (DBMS) acts as an interface between clients and the stored data, facilitating efficient querying of the data."
      ],
      "cell_type": "markdown",
      "metadata": {}
    },
    {
      "source": [
        "## Simple Query Language (SQL)\n",
        "\n",
        "SQL is the most widely used language for performing database queries. Many different DBMS's support SQL, including PostgreSQL, SQL Server, MySQL and SQLite.\n",
        "\n",
        "Because it comes bundled with Python, we will be using SQLite.\n",
        "\n",
        "[A convenient SQL reference](https://www.w3schools.com/sql/sql_quickref.asp)."
      ],
      "cell_type": "markdown",
      "metadata": {}
    },
    {
      "source": [
        "### SQLite"
      ],
      "cell_type": "markdown",
      "metadata": {}
    },
    {
      "source": [
        "Can we create a table in a SQLlite database to store the course tutorials?"
      ],
      "cell_type": "markdown",
      "metadata": {}
    },
    {
      "cell_type": "code",
      "execution_count": null,
      "metadata": {},
      "outputs": [],
      "source": [
        "import sqlite3\n",
        "\n",
        "db = sqlite3.connect('tutorials.db')"
      ]
    },
    {
      "cell_type": "code",
      "execution_count": null,
      "metadata": {},
      "outputs": [],
      "source": [
        "c = db.cursor()\n",
        "\n",
        "c.execute(\"CREATE TABLE tutorials (code CHAR(4), tutor TEXT, enrolments INTEGER)\")\n",
        "\n",
        "db.commit()"
      ]
    },
    {
      "cell_type": "code",
      "execution_count": null,
      "metadata": {},
      "outputs": [],
      "source": [
        "c.execute(\"INSERT INTO tutorials VALUES ('T16A', 'Sim', 23)\")"
      ]
    },
    {
      "cell_type": "code",
      "execution_count": null,
      "metadata": {},
      "outputs": [],
      "source": [
        "db.commit()"
      ]
    },
    {
      "cell_type": "code",
      "execution_count": null,
      "metadata": {},
      "outputs": [],
      "source": [
        "c.execute(\"INSERT INTO tutorials VALUES ('T18A', 'Kai', 20)\")\n",
        "db.commit()"
      ]
    },
    {
      "source": [
        "Can we retrieve all the tutorials from the database?"
      ],
      "cell_type": "markdown",
      "metadata": {}
    },
    {
      "source": [
        "c.execute(\"SELECT * from tutorials\")\n",
        "\n",
        "c.fetchall()"
      ],
      "cell_type": "code",
      "metadata": {},
      "execution_count": null,
      "outputs": []
    },
    {
      "source": [
        "Can we retrieve a specific tutorial?"
      ],
      "cell_type": "markdown",
      "metadata": {}
    },
    {
      "cell_type": "code",
      "execution_count": null,
      "metadata": {},
      "outputs": [],
      "source": [
        "c.execute(\"SELECT * FROM tutorials WHERE enrolments > 20\")\n",
        "c.fetchall()"
      ]
    },
    {
      "source": [
        "Can we add some sample students to the database?"
      ],
      "cell_type": "markdown",
      "metadata": {}
    },
    {
      "cell_type": "code",
      "execution_count": null,
      "metadata": {},
      "outputs": [],
      "source": [
        "c = db.cursor()\n",
        "c.execute('DROP TABLE tutorials')\n",
        "\n",
        "c.execute(\"CREATE TABLE tutorials (code CHAR(4) PRIMARY KEY, tutor TEXT)\")"
      ]
    },
    {
      "cell_type": "code",
      "execution_count": null,
      "metadata": {},
      "outputs": [],
      "source": [
        "c.execute(\"PRAGMA foreign_keys = ON\")\n",
        "c.execute(\"CREATE TABLE students (zid CHAR(8) PRIMARY KEY, name text, class CHAR(4), FOREIGN KEY(class) REFERENCES tutorials(code))\")"
      ]
    },
    {
      "cell_type": "code",
      "execution_count": null,
      "metadata": {},
      "outputs": [],
      "source": [
        "db.commit()"
      ]
    },
    {
      "cell_type": "code",
      "execution_count": null,
      "metadata": {},
      "outputs": [],
      "source": [
        "c.execute(\"INSERT INTO tutorials VALUES ('T16A', 'Sim')\")"
      ]
    },
    {
      "cell_type": "code",
      "execution_count": null,
      "metadata": {},
      "outputs": [],
      "source": [
        "c.execute(\"INSERT INTO tutorials VALUES ('T18A', 'Kai')\")\n",
        "db.commit()"
      ]
    },
    {
      "cell_type": "code",
      "execution_count": null,
      "metadata": {},
      "outputs": [],
      "source": [
        "c.execute(\"INSERT INTO students VALUES ('z1234567', 'Justin', 'T16A')\")"
      ]
    },
    {
      "cell_type": "code",
      "execution_count": null,
      "metadata": {},
      "outputs": [],
      "source": [
        "db.commit()"
      ]
    },
    {
      "cell_type": "code",
      "execution_count": null,
      "metadata": {},
      "outputs": [],
      "source": [
        "c.execute(\"INSERT INTO students VALUES ('z7654321', 'Bill', 'M11A')\")"
      ]
    }
  ]
}