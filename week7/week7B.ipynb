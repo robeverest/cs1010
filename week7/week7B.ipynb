{
  "nbformat": 4,
  "nbformat_minor": 0,
  "metadata": {
    "colab": {
      "name": "week3A.ipynb",
      "provenance": [],
      "collapsed_sections": []
    },
    "kernelspec": {
      "name": "python3",
      "display_name": "Python 3.9.0 64-bit",
      "metadata": {
        "interpreter": {
          "hash": "ac2eaa0ea0ebeafcc7822e65e46aa9d4f966f30b695406963e145ea4a91cd4fc"
        }
      }
    }
  },
  "cells": [
    {
      "source": [
        "# Data Management & Analysis\n",
        "\n",
        "## How convincing was our Musk tweet generator?"
      ],
      "cell_type": "markdown",
      "metadata": {}
    },
    {
      "source": [
        "### Spreadsheet analysis\n",
        "\n",
        "First analysis: Google Sheets (link available after the lecture)"
      ],
      "cell_type": "markdown",
      "metadata": {}
    },
    {
      "source": [
        "### Pandas analysis\n",
        "\n",
        "Can we get the data with Pandas?"
      ],
      "cell_type": "markdown",
      "metadata": {}
    },
    {
      "cell_type": "code",
      "execution_count": 5,
      "metadata": {},
      "outputs": [],
      "source": [
        "import pandas as pd\n",
        "\n",
        "experiment = pd.read_csv('experiment_results.csv')"
      ]
    },
    {
      "cell_type": "code",
      "execution_count": 10,
      "metadata": {},
      "outputs": [
        {
          "output_type": "execute_result",
          "data": {
            "text/plain": [
              "1610"
            ]
          },
          "metadata": {},
          "execution_count": 10
        }
      ],
      "source": [
        "(experiment.result == 'Correct').sum()"
      ]
    },
    {
      "source": [
        "Can we figure out the percentage of correct responses?"
      ],
      "cell_type": "markdown",
      "metadata": {}
    },
    {
      "source": [
        "(experiment.result == 'Correct').sum() / experiment.result.count()"
      ],
      "cell_type": "code",
      "metadata": {},
      "execution_count": 12,
      "outputs": [
        {
          "output_type": "execute_result",
          "data": {
            "text/plain": [
              "0.6353591160220995"
            ]
          },
          "metadata": {},
          "execution_count": 12
        }
      ]
    },
    {
      "source": [
        "Can we group the results by user?"
      ],
      "cell_type": "markdown",
      "metadata": {}
    },
    {
      "cell_type": "code",
      "execution_count": 28,
      "metadata": {},
      "outputs": [
        {
          "output_type": "stream",
          "name": "stderr",
          "text": [
            "<ipython-input-28-a74ad32a8b3d>:2: SettingWithCopyWarning: \nA value is trying to be set on a copy of a slice from a DataFrame.\nTry using .loc[row_indexer,col_indexer] = value instead\n\nSee the caveats in the documentation: https://pandas.pydata.org/pandas-docs/stable/user_guide/indexing.html#returning-a-view-versus-a-copy\n  experiment_clean['result'] = experiment.result == 'Correct'\n"
          ]
        }
      ],
      "source": [
        "experiment_clean = experiment[['user']]\n",
        "experiment_clean['result'] = experiment.result == 'Correct'\n",
        "grouped = experiment_clean.groupby('user').aggregate(['sum', 'count'])"
      ]
    },
    {
      "source": [
        "How good are each of the users at distinguishing real tweets from fake tweets?"
      ],
      "cell_type": "markdown",
      "metadata": {}
    },
    {
      "cell_type": "code",
      "execution_count": 33,
      "metadata": {},
      "outputs": [
        {
          "output_type": "execute_result",
          "data": {
            "text/plain": [
              "user\n",
              "520921286       0.818182\n",
              "29032779070     0.619048\n",
              "33916707360     0.727273\n",
              "35364959503     0.739130\n",
              "56653323782     0.750000\n",
              "                  ...   \n",
              "973368900668    0.625000\n",
              "984564674504    0.521739\n",
              "986667915486    0.666667\n",
              "992543712488    0.375000\n",
              "996835320480    0.786885\n",
              "Length: 152, dtype: float64"
            ]
          },
          "metadata": {},
          "execution_count": 33
        }
      ],
      "source": [
        "grouped.result['sum'] / grouped.result['count']"
      ]
    },
    {
      "source": [
        "What percentage of users did better than a coin flip?"
      ],
      "cell_type": "markdown",
      "metadata": {}
    },
    {
      "cell_type": "code",
      "execution_count": 35,
      "metadata": {},
      "outputs": [
        {
          "output_type": "stream",
          "name": "stdout",
          "text": [
            "Defaulting to user installation because normal site-packages is not writeable\n",
            "Collecting scipy\n",
            "  Downloading scipy-1.6.2-cp39-cp39-macosx_10_9_x86_64.whl (30.9 MB)\n",
            "\u001b[K     |████████████████████████████████| 30.9 MB 9.9 MB/s \n",
            "\u001b[?25hRequirement already satisfied: numpy<1.23.0,>=1.16.5 in /Users/cs1010/Library/Python/3.9/lib/python/site-packages (from scipy) (1.20.1)\n",
            "Installing collected packages: scipy\n",
            "Successfully installed scipy-1.6.2\n"
          ]
        }
      ],
      "source": [
        "!pip3 install scipy"
      ]
    },
    {
      "cell_type": "code",
      "execution_count": 38,
      "metadata": {},
      "outputs": [
        {
          "output_type": "execute_result",
          "data": {
            "text/plain": [
              "             result       proficiency\n",
              "                sum count            \n",
              "user                                 \n",
              "520921286        27    33    0.000129\n",
              "29032779070      13    21    0.097032\n",
              "33916707360       8    11    0.080566\n",
              "35364959503      17    23    0.012034\n",
              "56653323782       9    12    0.053711\n",
              "...             ...   ...         ...\n",
              "973368900668     10    16    0.122192\n",
              "984564674504     12    23    0.161180\n",
              "986667915486      4     6    0.234375\n",
              "992543712488      3     8    0.218750\n",
              "996835320480     48    61    0.000003\n",
              "\n",
              "[152 rows x 3 columns]"
            ],
            "text/html": "<div>\n<style scoped>\n    .dataframe tbody tr th:only-of-type {\n        vertical-align: middle;\n    }\n\n    .dataframe tbody tr th {\n        vertical-align: top;\n    }\n\n    .dataframe thead tr th {\n        text-align: left;\n    }\n\n    .dataframe thead tr:last-of-type th {\n        text-align: right;\n    }\n</style>\n<table border=\"1\" class=\"dataframe\">\n  <thead>\n    <tr>\n      <th></th>\n      <th colspan=\"2\" halign=\"left\">result</th>\n      <th>proficiency</th>\n    </tr>\n    <tr>\n      <th></th>\n      <th>sum</th>\n      <th>count</th>\n      <th></th>\n    </tr>\n    <tr>\n      <th>user</th>\n      <th></th>\n      <th></th>\n      <th></th>\n    </tr>\n  </thead>\n  <tbody>\n    <tr>\n      <th>520921286</th>\n      <td>27</td>\n      <td>33</td>\n      <td>0.000129</td>\n    </tr>\n    <tr>\n      <th>29032779070</th>\n      <td>13</td>\n      <td>21</td>\n      <td>0.097032</td>\n    </tr>\n    <tr>\n      <th>33916707360</th>\n      <td>8</td>\n      <td>11</td>\n      <td>0.080566</td>\n    </tr>\n    <tr>\n      <th>35364959503</th>\n      <td>17</td>\n      <td>23</td>\n      <td>0.012034</td>\n    </tr>\n    <tr>\n      <th>56653323782</th>\n      <td>9</td>\n      <td>12</td>\n      <td>0.053711</td>\n    </tr>\n    <tr>\n      <th>...</th>\n      <td>...</td>\n      <td>...</td>\n      <td>...</td>\n    </tr>\n    <tr>\n      <th>973368900668</th>\n      <td>10</td>\n      <td>16</td>\n      <td>0.122192</td>\n    </tr>\n    <tr>\n      <th>984564674504</th>\n      <td>12</td>\n      <td>23</td>\n      <td>0.161180</td>\n    </tr>\n    <tr>\n      <th>986667915486</th>\n      <td>4</td>\n      <td>6</td>\n      <td>0.234375</td>\n    </tr>\n    <tr>\n      <th>992543712488</th>\n      <td>3</td>\n      <td>8</td>\n      <td>0.218750</td>\n    </tr>\n    <tr>\n      <th>996835320480</th>\n      <td>48</td>\n      <td>61</td>\n      <td>0.000003</td>\n    </tr>\n  </tbody>\n</table>\n<p>152 rows × 3 columns</p>\n</div>"
          },
          "metadata": {},
          "execution_count": 38
        }
      ],
      "source": [
        "from scipy.stats import binom\n",
        "\n",
        "grouped['proficiency'] = binom.pmf(grouped.result['sum'], grouped.result['count'], 0.5)\n",
        "\n",
        "grouped"
      ]
    }
  ]
}