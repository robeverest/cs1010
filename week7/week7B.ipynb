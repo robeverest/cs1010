{
  "nbformat": 4,
  "nbformat_minor": 0,
  "metadata": {
    "colab": {
      "name": "week3A.ipynb",
      "provenance": [],
      "collapsed_sections": []
    },
    "kernelspec": {
      "name": "python38564bit16056ce0e98a49208e5744e26803b7c0",
      "display_name": "Python 3.8.5 64-bit"
    }
  },
  "cells": [
    {
      "source": [
        "# Retrieving data from external sources"
      ],
      "cell_type": "markdown",
      "metadata": {}
    },
    {
      "source": [
        "## Client libraries\n",
        "\n",
        "A client library is a library designed to let you communicate with an external service.\n",
        "\n",
        "**Important Points:**\n",
        "* Once installed, you can use them anywhere in your Python code.\n",
        "* They are typically the easiest way to get data from an online service.\n",
        "* Python has many client libraries, so it's always worth checking if one exists before going to the effort of doing it yourself.\n"
      ],
      "cell_type": "markdown",
      "metadata": {}
    },
    {
      "source": [
        "Can we install the wikiquote library?"
      ],
      "cell_type": "markdown",
      "metadata": {}
    },
    {
      "cell_type": "code",
      "execution_count": null,
      "metadata": {},
      "outputs": [],
      "source": []
    },
    {
      "source": [
        "Can we get the current \"Quote of the Day\"?"
      ],
      "cell_type": "markdown",
      "metadata": {}
    },
    {
      "cell_type": "code",
      "execution_count": null,
      "metadata": {},
      "outputs": [],
      "source": []
    },
    {
      "source": [
        "## Requests library\n",
        "\n",
        "The Python `requests` library allows us to make HTTP requests in much the same way our web browsers do.\n",
        "\n",
        "**Important points**:\n",
        "* If you need to communicate with an external service, and there isn't a client library for it, `requests` is the next best solution.\n",
        "* We typically use the `get()` function, but there exists a `post()` function as well.\n",
        "* The result of the `get()` function is a `response`. The `contents` of a response are `bytes` representing the response data."
      ],
      "cell_type": "markdown",
      "metadata": {}
    },
    {
      "source": [
        "Can we retrieve the raw CSV file from Trump or Bot?"
      ],
      "cell_type": "markdown",
      "metadata": {}
    },
    {
      "source": [],
      "cell_type": "code",
      "metadata": {},
      "execution_count": null,
      "outputs": []
    },
    {
      "source": [
        "Can we retrieve a random image from [Unsplash](https://unsplash.com)?"
      ],
      "cell_type": "markdown",
      "metadata": {}
    },
    {
      "cell_type": "code",
      "execution_count": null,
      "metadata": {},
      "outputs": [],
      "source": []
    },
    {
      "source": [
        "Can we retrieve a random image of a python?"
      ],
      "cell_type": "markdown",
      "metadata": {}
    },
    {
      "cell_type": "code",
      "execution_count": null,
      "metadata": {},
      "outputs": [],
      "source": []
    },
    {
      "source": [
        "## APIs\n",
        "\n",
        "Application Programming Interfaces (APIs) define how different software components communicate.\n",
        "\n",
        "Web APIs are typically web servers that are designed to receive requests from programs rather than a user navigating with their browser."
      ],
      "cell_type": "markdown",
      "metadata": {}
    },
    {
      "source": [
        "Can we access information about a random image using the [Unsplash API](https://unsplash.com/developers)?"
      ],
      "cell_type": "markdown",
      "metadata": {}
    },
    {
      "cell_type": "code",
      "execution_count": null,
      "metadata": {},
      "outputs": [],
      "source": []
    },
    {
      "source": [
        "Can we get information about a random \"python\" image?"
      ],
      "cell_type": "markdown",
      "metadata": {}
    },
    {
      "cell_type": "code",
      "execution_count": null,
      "metadata": {},
      "outputs": [],
      "source": []
    },
    {
      "source": [
        "# Usability\n",
        "\n",
        "Usability is qualititive attribute of user interfaces.\n",
        "\n",
        "Typically broken down into these 5 components:\n",
        "* Learnability\n",
        "* Efficiency\n",
        "* Memorability\n",
        "* Errors\n",
        "* Satisfaction\n",
        "\n",
        "More details are available [here](https://www.nngroup.com/articles/usability-101-introduction-to-usability/)."
      ],
      "cell_type": "markdown",
      "metadata": {}
    },
    {
      "source": [
        "Try to fill in this form:\n",
        "\n",
        "https://userinyerface.com"
      ],
      "cell_type": "markdown",
      "metadata": {}
    },
    {
      "source": [
        "## Usability Heuristics\n",
        "\n",
        "[These 10 heuristics](https://www.nngroup.com/articles/ten-usability-heuristics/) are a good guide for non-designers to find problems in their user interfaces.\n",
        "\n",
        "**Important points**:\n",
        "* Not all heuristics may be relevant for a particular application\n",
        "* Web applications satisfy some heuristics for \"free\" (e.g. #3 is mostly satisfied by the \"back\" button)"
      ],
      "cell_type": "markdown",
      "metadata": {}
    },
    {
      "source": [
        "# Databases\n",
        "\n",
        "Databases are organised collections of *structured* information. A Database Management System (DBMS) acts as an interface between clients and the stored data, facilitating efficient querying of the data."
      ],
      "cell_type": "markdown",
      "metadata": {}
    },
    {
      "source": [
        "## Simple Query Language (SQL)\n",
        "\n",
        "SQL is the most widely used language for performing database queries. Many different DBMS's support SQL, including PostgreSQL, SQL Server, MySQL and SQLite.\n",
        "\n",
        "Because it comes bundled with Python, we will be using SQLite.\n",
        "\n",
        "[A convenient SQL reference](https://www.w3schools.com/sql/sql_quickref.asp)."
      ],
      "cell_type": "markdown",
      "metadata": {}
    },
    {
      "source": [
        "### SQLite"
      ],
      "cell_type": "markdown",
      "metadata": {}
    },
    {
      "source": [
        "Can we create a table in a SQLlite database to store the course tutorials?"
      ],
      "cell_type": "markdown",
      "metadata": {}
    },
    {
      "cell_type": "code",
      "execution_count": null,
      "metadata": {},
      "outputs": [],
      "source": []
    },
    {
      "source": [
        "Can we retrieve all the tutorials from the database?"
      ],
      "cell_type": "markdown",
      "metadata": {}
    },
    {
      "source": [],
      "cell_type": "code",
      "metadata": {},
      "execution_count": null,
      "outputs": []
    },
    {
      "source": [
        "Can we retrieve a specific tutorial?"
      ],
      "cell_type": "markdown",
      "metadata": {}
    },
    {
      "cell_type": "code",
      "execution_count": null,
      "metadata": {},
      "outputs": [],
      "source": []
    },
    {
      "source": [
        "Can we add some sample students to the database?"
      ],
      "cell_type": "markdown",
      "metadata": {}
    },
    {
      "cell_type": "code",
      "execution_count": null,
      "metadata": {},
      "outputs": [],
      "source": []
    }
  ]
}