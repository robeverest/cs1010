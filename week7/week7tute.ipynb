{
 "metadata": {
  "language_info": {
   "codemirror_mode": {
    "name": "ipython",
    "version": 3
   },
   "file_extension": ".py",
   "mimetype": "text/x-python",
   "name": "python",
   "nbconvert_exporter": "python",
   "pygments_lexer": "ipython3",
   "version": "3.8.5-final"
  },
  "orig_nbformat": 2,
  "kernelspec": {
   "name": "python38564bit16056ce0e98a49208e5744e26803b7c0",
   "display_name": "Python 3.8.5 64-bit",
   "metadata": {
    "interpreter": {
     "hash": "1ee38ef4a5a9feb55287fd749643f13d043cb0a7addaab2a9c224cbe137c0062"
    }
   }
  }
 },
 "nbformat": 4,
 "nbformat_minor": 2,
 "cells": [
  {
   "cell_type": "markdown",
   "metadata": {},
   "source": [
    "# Week 7 Tutorial"
   ]
  },
  {
   "cell_type": "markdown",
   "metadata": {},
   "source": [
    "## Kahoot\n",
    "\n",
    "Your tutor will run through a Kahoot with you to test how well you remember certain concepts from weeks 4 and 5.\n",
    "\n",
    "The Kahoot will be posted here after week 7."
   ]
  },
  {
   "source": [
    "## Recursion\n",
    "\n",
    "Create a list of all the numbers less than or equal to $n$ that are powers of 2."
   ],
   "cell_type": "markdown",
   "metadata": {}
  },
  {
   "cell_type": "code",
   "execution_count": null,
   "metadata": {},
   "outputs": [],
   "source": []
  },
  {
   "source": [
    "# Project MVP\n",
    "\n",
    "In groups of 3 or 4, discuss what you're doing for your project and what you're proposing as an Minimal Viable Product (MVP).\n",
    "\n",
    "As a group, focus on the \"minimal\" aspect. Can you suggest ways other group members could minimise and/or simplify their MVPs? Your tutor will go around each group and give their feedback."
   ],
   "cell_type": "markdown",
   "metadata": {}
  }
 ]
}