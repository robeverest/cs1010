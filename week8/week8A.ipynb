{
  "nbformat": 4,
  "nbformat_minor": 0,
  "metadata": {
    "colab": {
      "name": "week3A.ipynb",
      "provenance": [],
      "collapsed_sections": []
    },
    "kernelspec": {
      "name": "Python 3.8.5 64-bit",
      "display_name": "Python 3.8.5 64-bit",
      "metadata": {
        "interpreter": {
          "hash": "1ee38ef4a5a9feb55287fd749643f13d043cb0a7addaab2a9c224cbe137c0062"
        }
      }
    }
  },
  "cells": [
    {
      "source": [
        "# Databases\n",
        "\n",
        "Databases are organised collections of *structured* information. A Database Management System (DBMS) acts as an interface between clients and the stored data, facilitating efficient querying of the data."
      ],
      "cell_type": "markdown",
      "metadata": {}
    },
    {
      "source": [
        "## Simple Query Language (SQL)\n",
        "\n",
        "SQL is the most widely used language for performing database queries. Many different DBMS's support SQL, including PostgreSQL, SQL Server, MySQL and SQLite.\n",
        "\n",
        "Because it comes bundled with Python, we will be using SQLite.\n",
        "\n",
        "[A convenient SQL reference](https://www.w3schools.com/sql/sql_quickref.asp)."
      ],
      "cell_type": "markdown",
      "metadata": {}
    },
    {
      "source": [
        "### SQLite"
      ],
      "cell_type": "markdown",
      "metadata": {}
    },
    {
      "source": [
        "Can we create a table in a SQLlite database to store the course tutorials?"
      ],
      "cell_type": "markdown",
      "metadata": {}
    },
    {
      "cell_type": "code",
      "execution_count": null,
      "metadata": {},
      "outputs": [],
      "source": [
        "import sqlite3\n",
        "\n",
        "db = sqlite3.connect('tutorials.db')"
      ]
    },
    {
      "cell_type": "code",
      "execution_count": null,
      "metadata": {},
      "outputs": [],
      "source": [
        "cursor = db.cursor()\n",
        "\n",
        "cursor.execute(\"CREATE TABLE tutorials (code CHAR(4) PRIMARY KEY, tutor TEXT, enrollments INTEGER)\")"
      ]
    },
    {
      "cell_type": "code",
      "execution_count": null,
      "metadata": {},
      "outputs": [],
      "source": [
        "cursor.execute(\"INSERT INTO tutorials VALUES ('T15A', 'Amy', 20)\")"
      ]
    },
    {
      "cell_type": "code",
      "execution_count": null,
      "metadata": {},
      "outputs": [],
      "source": [
        "db.commit()"
      ]
    },
    {
      "cell_type": "code",
      "execution_count": null,
      "metadata": {},
      "outputs": [],
      "source": [
        "cursor.execute(\"INSERT INTO tutorials VALUES ('T17A', 'Michelle', 13)\")\n",
        "cursor.execute(\"INSERT INTO tutorials VALUES ('T18A', 'Rob', 10)\")"
      ]
    },
    {
      "cell_type": "code",
      "execution_count": null,
      "metadata": {},
      "outputs": [],
      "source": [
        "cursor.execute(\"DROP TABLE tutorials\")"
      ]
    },
    {
      "source": [
        "Can we retrieve all the tutorials from the database?"
      ],
      "cell_type": "markdown",
      "metadata": {}
    },
    {
      "source": [],
      "cell_type": "code",
      "metadata": {},
      "execution_count": null,
      "outputs": []
    },
    {
      "source": [
        "Can we retrieve a specific tutorial?"
      ],
      "cell_type": "markdown",
      "metadata": {}
    },
    {
      "cell_type": "code",
      "execution_count": null,
      "metadata": {},
      "outputs": [],
      "source": []
    },
    {
      "source": [
        "Can we add some sample students to the database?"
      ],
      "cell_type": "markdown",
      "metadata": {}
    },
    {
      "cell_type": "code",
      "execution_count": null,
      "metadata": {},
      "outputs": [],
      "source": []
    }
  ]
}