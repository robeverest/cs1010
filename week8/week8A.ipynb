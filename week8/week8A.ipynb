{
  "nbformat": 4,
  "nbformat_minor": 0,
  "metadata": {
    "colab": {
      "name": "week3A.ipynb",
      "provenance": [],
      "collapsed_sections": []
    },
    "kernelspec": {
      "name": "python38564bit16056ce0e98a49208e5744e26803b7c0",
      "display_name": "Python 3.8.5 64-bit"
    }
  },
  "cells": [
    {
      "source": [
        "# Objects and Classes\n",
        "\n",
        "Objects and Classes come from a programming paradigm known as Object-Oriented Programming.\n",
        "\n",
        "In this course, we do not cover this in depth, but a knowledge of the basics is useful as many languages (including Python) have them."
      ],
      "cell_type": "markdown",
      "metadata": {}
    },
    {
      "source": [
        "## Objects\n",
        "\n",
        "In Python, objects contain *attributes* and *methods*."
      ],
      "cell_type": "markdown",
      "metadata": {}
    },
    {
      "source": [
        "Can we create a `date` object representing today?"
      ],
      "cell_type": "markdown",
      "metadata": {}
    },
    {
      "cell_type": "code",
      "execution_count": null,
      "metadata": {},
      "outputs": [],
      "source": []
    },
    {
      "source": [
        "Can we use a *method* inside the object to find out what day of the week it is?"
      ],
      "cell_type": "markdown",
      "metadata": {}
    },
    {
      "cell_type": "code",
      "execution_count": null,
      "metadata": {},
      "outputs": [],
      "source": []
    },
    {
      "source": [
        "## Classes\n",
        "\n",
        "A *class* is like a blueprint for objects. It describes how to construct objects of a particular type."
      ],
      "cell_type": "markdown",
      "metadata": {}
    },
    {
      "source": [
        "Can we write a class to represent a tutorial class?"
      ],
      "cell_type": "markdown",
      "metadata": {}
    },
    {
      "cell_type": "code",
      "execution_count": 22,
      "metadata": {},
      "outputs": [],
      "source": []
    },
    {
      "source": [
        "What about a class to represent a student in a tutorial class?"
      ],
      "cell_type": "markdown",
      "metadata": {}
    },
    {
      "cell_type": "code",
      "execution_count": null,
      "metadata": {},
      "outputs": [],
      "source": []
    },
    {
      "source": [
        "# PyGame\n",
        "\n",
        "[PyGame](https://www.pygame.org/) is a Python library for making games.\n",
        "\n",
        "Recall the following:\n",
        "* Images consist of a grid of pixels.\n",
        "* Each pixel has a red, green and blue component."
      ],
      "cell_type": "markdown",
      "metadata": {}
    },
    {
      "source": [
        "Can we make \"Frankie the Fox\" bounce around a window?\n",
        "\n",
        "See `bouncing_frankie.py`."
      ],
      "cell_type": "markdown",
      "metadata": {}
    },
    {
      "source": [
        "Can we create \"Flappy Frankie\", a UNSW themed version of Flappy Bird?\n",
        "\n",
        "See `flappy_frankie.py`."
      ],
      "cell_type": "markdown",
      "metadata": {}
    }
  ]
}