{
  "nbformat": 4,
  "nbformat_minor": 0,
  "metadata": {
    "colab": {
      "name": "week3A.ipynb",
      "provenance": [],
      "collapsed_sections": []
    },
    "kernelspec": {
      "name": "python38564bit16056ce0e98a49208e5744e26803b7c0",
      "display_name": "Python 3.8.5 64-bit"
    }
  },
  "cells": [
    {
      "source": [
        "# Databases (continued)\n",
        "\n",
        "Databases are organised collections of *structured* information. A Database Management System (DBMS) acts as an interface between clients and the stored data, facilitating efficient querying of the data."
      ],
      "cell_type": "markdown",
      "metadata": {}
    },
    {
      "source": [
        "## Simple Query Language (SQL)\n",
        "\n",
        "SQL is the most widely used language for performing database queries. Many different DBMS's support SQL, including PostgreSQL, SQL Server, MySQL and SQLite.\n",
        "\n",
        "Because it comes bundled with Python, we will be using SQLite.\n",
        "\n",
        "[A convenient SQL reference](https://www.w3schools.com/sql/sql_quickref.asp)."
      ],
      "cell_type": "markdown",
      "metadata": {}
    },
    {
      "source": [
        "### SQLite"
      ],
      "cell_type": "markdown",
      "metadata": {}
    },
    {
      "source": [
        "Can we create a table in a SQLlite database to store the course tutorials?"
      ],
      "cell_type": "markdown",
      "metadata": {}
    },
    {
      "cell_type": "code",
      "execution_count": null,
      "metadata": {},
      "outputs": [],
      "source": [
        "import sqlite3\n",
        "\n",
        "db = sqlite3.connect('tutorials.db')"
      ]
    },
    {
      "cell_type": "code",
      "execution_count": null,
      "metadata": {},
      "outputs": [],
      "source": [
        "cursor = db.cursor()\n",
        "\n",
        "cursor.execute(\"CREATE TABLE tutorials (code CHAR(4) PRIMARY KEY, tutor TEXT, enrollments INTEGER)\")"
      ]
    },
    {
      "cell_type": "code",
      "execution_count": null,
      "metadata": {},
      "outputs": [],
      "source": [
        "cursor.execute(\"INSERT INTO tutorials VALUES ('T15A', 'Amy', 20)\")"
      ]
    },
    {
      "cell_type": "code",
      "execution_count": null,
      "metadata": {},
      "outputs": [],
      "source": [
        "db.commit()"
      ]
    },
    {
      "cell_type": "code",
      "execution_count": null,
      "metadata": {},
      "outputs": [],
      "source": [
        "cursor.execute(\"INSERT INTO tutorials VALUES ('T17A', 'Michelle', 13)\")\n",
        "cursor.execute(\"INSERT INTO tutorials VALUES ('T18A', 'Rob', 10)\")"
      ]
    },
    {
      "cell_type": "code",
      "execution_count": null,
      "metadata": {},
      "outputs": [],
      "source": [
        "cursor.execute(\"DROP TABLE tutorials\")"
      ]
    },
    {
      "source": [
        "Can we retrieve all the tutorials from the database?"
      ],
      "cell_type": "markdown",
      "metadata": {}
    },
    {
      "source": [],
      "cell_type": "code",
      "metadata": {},
      "execution_count": null,
      "outputs": []
    },
    {
      "source": [
        "Can we retrieve a specific tutorial?"
      ],
      "cell_type": "markdown",
      "metadata": {}
    },
    {
      "cell_type": "code",
      "execution_count": null,
      "metadata": {},
      "outputs": [],
      "source": []
    },
    {
      "source": [
        "Can we add some sample students to the database?"
      ],
      "cell_type": "markdown",
      "metadata": {}
    },
    {
      "cell_type": "code",
      "execution_count": null,
      "metadata": {},
      "outputs": [],
      "source": []
    },
    {
      "source": [
        "# Objects and Classes\n",
        "\n",
        "Objects and Classes come from a programming paradigm known as Object-Oriented Programming.\n",
        "\n",
        "In this course, we do not cover this in depth, but a knowledge of the basics is useful as many languages (including Python) have them."
      ],
      "cell_type": "markdown",
      "metadata": {}
    },
    {
      "source": [
        "## Objects\n",
        "\n",
        "In Python, objects contain *attributes* and *methods*."
      ],
      "cell_type": "markdown",
      "metadata": {}
    },
    {
      "source": [
        "Can we create a `date` object representing today?"
      ],
      "cell_type": "markdown",
      "metadata": {}
    },
    {
      "cell_type": "code",
      "execution_count": null,
      "metadata": {},
      "outputs": [],
      "source": []
    },
    {
      "source": [
        "Can we use a *method* inside the object to find out what day of the week it is?"
      ],
      "cell_type": "markdown",
      "metadata": {}
    },
    {
      "cell_type": "code",
      "execution_count": null,
      "metadata": {},
      "outputs": [],
      "source": []
    },
    {
      "source": [
        "## Classes\n",
        "\n",
        "A *class* is like a blueprint for objects. It describes how to construct objects of a particular type."
      ],
      "cell_type": "markdown",
      "metadata": {}
    },
    {
      "source": [
        "Can we write a class to represent a tutorial class?"
      ],
      "cell_type": "markdown",
      "metadata": {}
    },
    {
      "cell_type": "code",
      "execution_count": 22,
      "metadata": {},
      "outputs": [],
      "source": []
    },
    {
      "source": [
        "What about a class to represent a student in a tutorial class?"
      ],
      "cell_type": "markdown",
      "metadata": {}
    },
    {
      "cell_type": "code",
      "execution_count": null,
      "metadata": {},
      "outputs": [],
      "source": []
    },
    {
      "source": [
        "# PyGame\n",
        "\n",
        "PyGame is a Python library for making games.\n",
        "\n",
        "Recall the following:\n",
        "* Images consist of a grid of pixels.\n",
        "* Each pixel has a red, green and blue component."
      ],
      "cell_type": "markdown",
      "metadata": {}
    },
    {
      "source": [
        "Can we make \"Frankie the Fox\" bounce around a window?\n",
        "\n",
        "See `bouncing_frankie.py`."
      ],
      "cell_type": "markdown",
      "metadata": {}
    },
    {
      "source": [
        "Can we create \"Flappy Frankie\", a UNSW themed version of Flappy Bird?\n",
        "\n",
        "See `flappy_frankie.py`."
      ],
      "cell_type": "markdown",
      "metadata": {}
    }
  ]
}