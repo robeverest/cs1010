{
  "nbformat": 4,
  "nbformat_minor": 0,
  "metadata": {
    "colab": {
      "name": "week3A.ipynb",
      "provenance": [],
      "collapsed_sections": []
    },
    "kernelspec": {
      "name": "python3",
      "display_name": "Python 3.9.0 64-bit",
      "metadata": {
        "interpreter": {
          "hash": "ac2eaa0ea0ebeafcc7822e65e46aa9d4f966f30b695406963e145ea4a91cd4fc"
        }
      }
    }
  },
  "cells": [
    {
      "source": [
        "# Objects and Classes\n",
        "\n",
        "Objects and Classes come from a programming paradigm known as Object-Oriented Programming.\n",
        "\n",
        "In this course, we do not cover this in depth, but a knowledge of the basics is useful as many languages (including Python) have them."
      ],
      "cell_type": "markdown",
      "metadata": {}
    },
    {
      "source": [
        "## Objects\n",
        "\n",
        "In Python, objects contain *attributes* and *methods*."
      ],
      "cell_type": "markdown",
      "metadata": {}
    },
    {
      "cell_type": "code",
      "execution_count": 4,
      "metadata": {},
      "outputs": [
        {
          "output_type": "execute_result",
          "data": {
            "text/plain": [
              "'FISH'"
            ]
          },
          "metadata": {},
          "execution_count": 4
        }
      ],
      "source": [
        "example_list = [1,2,3]\n",
        "example_list.count(1)\n",
        "\n",
        "example_string = \"fish\"\n",
        "example_string.upper()"
      ]
    },
    {
      "source": [
        "Can we create a `date` object representing today?"
      ],
      "cell_type": "markdown",
      "metadata": {}
    },
    {
      "cell_type": "code",
      "execution_count": 17,
      "metadata": {},
      "outputs": [
        {
          "output_type": "execute_result",
          "data": {
            "text/plain": [
              "datetime.timedelta(days=-402)"
            ]
          },
          "metadata": {},
          "execution_count": 17
        }
      ],
      "source": [
        "from datetime import date\n",
        "\n",
        "todays_date.year\n",
        "\n",
        "todays_date = date.today()\n",
        "\n",
        "tomorrow = date(2021, 4, 7)\n",
        "\n",
        "weird_date = date(2020, 2, 29)\n",
        "\n",
        "weird_date - todays_date"
      ]
    },
    {
      "source": [
        "Can we use a *method* inside the object to find out what day of the week it is?"
      ],
      "cell_type": "markdown",
      "metadata": {}
    },
    {
      "cell_type": "code",
      "execution_count": 21,
      "metadata": {},
      "outputs": [
        {
          "output_type": "execute_result",
          "data": {
            "text/plain": [
              "1"
            ]
          },
          "metadata": {},
          "execution_count": 21
        }
      ],
      "source": [
        "todays_date.weekday()"
      ]
    },
    {
      "source": [
        "## Classes\n",
        "\n",
        "A *class* is like a blueprint for objects. It describes how to construct objects of a particular type."
      ],
      "cell_type": "markdown",
      "metadata": {}
    },
    {
      "source": [
        "Can we write a class to represent a tutorial class?"
      ],
      "cell_type": "markdown",
      "metadata": {}
    },
    {
      "cell_type": "code",
      "execution_count": 34,
      "metadata": {},
      "outputs": [
        {
          "output_type": "execute_result",
          "data": {
            "text/plain": [
              "'T17A'"
            ]
          },
          "metadata": {},
          "execution_count": 34
        }
      ],
      "source": [
        "class Tutorial:\n",
        "    def __init__(self, code, tutor):\n",
        "        self.code = code\n",
        "        self.tutor = tutor\n",
        "        self.students = []\n",
        "    \n",
        "    def enrol_student(self, student):\n",
        "        self.students.append(student)\n",
        "        student.tutorial = self\n",
        "\n",
        "\n",
        "example_tutorial = Tutorial('T17A', 'Simm')\n",
        "\n",
        "example_student = Student('z1234567', 'Justin')\n",
        "\n",
        "example_tutorial.enrol_student(example_student)\n",
        "\n",
        "example_tutorial.students[0].name\n",
        "\n",
        "example_student.tutorial.code"
      ]
    },
    {
      "source": [
        "What about a class to represent a student in a tutorial class?"
      ],
      "cell_type": "markdown",
      "metadata": {}
    },
    {
      "cell_type": "code",
      "execution_count": 32,
      "metadata": {},
      "outputs": [],
      "source": [
        "class Student:\n",
        "    def __init__(self, zid, name):\n",
        "        self.zid = zid\n",
        "        self.name = name\n",
        "        self.tutorial = None"
      ]
    },
    {
      "source": [
        "# PyGame\n",
        "\n",
        "[PyGame](https://www.pygame.org/) is a Python library for making games.\n",
        "\n",
        "Recall the following:\n",
        "* Images consist of a grid of pixels.\n",
        "* Each pixel has a red, green and blue component."
      ],
      "cell_type": "markdown",
      "metadata": {}
    },
    {
      "cell_type": "code",
      "execution_count": 35,
      "metadata": {},
      "outputs": [
        {
          "output_type": "stream",
          "name": "stdout",
          "text": [
            "Defaulting to user installation because normal site-packages is not writeable\n",
            "Requirement already satisfied: pygame in /Users/cs1010/Library/Python/3.9/lib/python/site-packages (2.0.1)\n"
          ]
        }
      ],
      "source": [
        "!pip3 install pygame"
      ]
    },
    {
      "cell_type": "code",
      "execution_count": 37,
      "metadata": {},
      "outputs": [
        {
          "output_type": "stream",
          "name": "stdout",
          "text": [
            "pygame 2.0.1 (SDL 2.0.14, Python 3.9.0)\nHello from the pygame community. https://www.pygame.org/contribute.html\n"
          ]
        }
      ],
      "source": [
        "!python3 -m pygame.examples.aliens"
      ]
    },
    {
      "source": [
        "Can we make \"Frankie the Fox\" bounce around a window?\n",
        "\n",
        "See `bouncing_frankie.py`."
      ],
      "cell_type": "markdown",
      "metadata": {}
    },
    {
      "cell_type": "code",
      "execution_count": 41,
      "metadata": {},
      "outputs": [
        {
          "output_type": "execute_result",
          "data": {
            "text/plain": [
              "100"
            ]
          },
          "metadata": {},
          "execution_count": 41
        }
      ],
      "source": [
        "import pygame\n",
        "\n",
        "rectangle = pygame.Rect(0, 0, 300, 200)\n",
        "\n",
        "rectangle."
      ]
    },
    {
      "source": [
        "Can we create \"Flappy Frankie\", a UNSW themed version of Flappy Bird?\n",
        "\n",
        "See `flappy_frankie.py`."
      ],
      "cell_type": "markdown",
      "metadata": {}
    }
  ]
}