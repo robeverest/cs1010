{
  "nbformat": 4,
  "nbformat_minor": 0,
  "metadata": {
    "colab": {
      "name": "week3A.ipynb",
      "provenance": [],
      "collapsed_sections": []
    },
    "kernelspec": {
      "name": "python3",
      "display_name": "Python 3.9.0 64-bit",
      "metadata": {
        "interpreter": {
          "hash": "ac2eaa0ea0ebeafcc7822e65e46aa9d4f966f30b695406963e145ea4a91cd4fc"
        }
      }
    }
  },
  "cells": [
    {
      "source": [
        "# PyGame\n",
        "\n",
        "[PyGame](https://www.pygame.org/) is a Python library for making games.\n",
        "\n",
        "Recall the following:\n",
        "* Images consist of a grid of pixels.\n",
        "* Each pixel has a red, green and blue component."
      ],
      "cell_type": "markdown",
      "metadata": {}
    },
    {
      "cell_type": "code",
      "execution_count": null,
      "metadata": {},
      "outputs": [],
      "source": [
        "!pip3 install pygame"
      ]
    },
    {
      "cell_type": "code",
      "execution_count": null,
      "metadata": {},
      "outputs": [],
      "source": [
        "import math\n",
        "\n",
        "math.sin(600)"
      ]
    },
    {
      "source": [
        "Can we create \"Flappy Frankie\", a UNSW themed version of Flappy Bird?\n",
        "\n",
        "See `flappy_frankie.py`."
      ],
      "cell_type": "markdown",
      "metadata": {}
    },
    {
      "source": [
        "# Cybersecurity\n",
        "\n",
        "What actually is cybersecurity?\n",
        "\n",
        "> Hacking, Viruses, Spyware, Cyberterrorism, Phishing, Information Security, Operational Security, Penetration Testing, Malware, Botnets..."
      ],
      "cell_type": "markdown",
      "metadata": {}
    },
    {
      "source": [
        "## Encryption and Decryption\n",
        "\n",
        "Key terms:\n",
        "* Encryption: Encoding information to hide its true meaning.\n",
        "* Decryption: Converting information from an encoded representation back to its original.\n",
        "* Plaintext: The original representation of information.\n",
        "* Ciphertext: The encrypted representation of information."
      ],
      "cell_type": "markdown",
      "metadata": {}
    },
    {
      "source": [
        "### ROT13\n",
        "\n",
        "The simplest form of encryption: rotate each letter 13 positions in the alphabet. CAR becomes PNE."
      ],
      "cell_type": "markdown",
      "metadata": {}
    },
    {
      "source": [
        "Can we write a function to ROT13 strings?"
      ],
      "cell_type": "markdown",
      "metadata": {}
    },
    {
      "cell_type": "code",
      "execution_count": null,
      "metadata": {},
      "outputs": [],
      "source": [
        "ord('C')\n",
        "chr(67)"
      ]
    },
    {
      "cell_type": "code",
      "execution_count": null,
      "metadata": {},
      "outputs": [],
      "source": [
        "def rot13(text):\n",
        "    result = \"\"\n",
        "    for c in text:\n",
        "        if c.isalpha():\n",
        "            if ord('a') <= ord(c.lower()) <= ord('m'):\n",
        "                result += chr(ord(c) + 13)\n",
        "            else:\n",
        "                result += chr(ord(c) - 13)\n",
        "        else:\n",
        "            result += c\n",
        "    return result\n",
        "\n",
        "rot13('CAP')\n",
        "rot13('Top secret message')"
      ]
    },
    {
      "source": [
        "Can we \"crack\" ROT13 encryption?"
      ],
      "cell_type": "markdown",
      "metadata": {}
    },
    {
      "cell_type": "code",
      "execution_count": null,
      "metadata": {},
      "outputs": [],
      "source": [
        "rot13('Gbc frperg zrffntr')"
      ]
    },
    {
      "source": [
        "### Caeser cipher\n",
        "\n",
        "Rotate each letter N alphabet positions"
      ],
      "cell_type": "markdown",
      "metadata": {}
    },
    {
      "source": [
        "Can we implement a Caeser cipher function?"
      ],
      "cell_type": "markdown",
      "metadata": {}
    },
    {
      "cell_type": "code",
      "execution_count": null,
      "metadata": {},
      "outputs": [],
      "source": [
        "def rotN(text, n):\n",
        "    result = \"\"\n",
        "    for c in text:\n",
        "        if c.isalpha():\n",
        "            if ord('a') <= ord(c.lower()) <= ord('z') - n:\n",
        "                result += chr(ord(c) + n)\n",
        "            else:\n",
        "                result += chr(ord(c) - 26 + n)\n",
        "        else:\n",
        "            result += c\n",
        "    return result\n",
        "\n",
        "rotN(\"A second top secret message. A nice long message so we can see how well it works for long messages.\", 7)"
      ]
    },
    {
      "cell_type": "code",
      "execution_count": null,
      "metadata": {},
      "outputs": [],
      "source": [
        "rotN('H zljvuk avw zljyla tlzzhnl. H upjl svun tlzzhnl zv dl jhu zll ovd dlss pa dvyrz mvy svun tlzzhnlz.', 26 - 7)"
      ]
    },
    {
      "source": [
        "Can we \"crack\" a Caeser cipher?"
      ],
      "cell_type": "markdown",
      "metadata": {}
    },
    {
      "cell_type": "code",
      "execution_count": null,
      "metadata": {},
      "outputs": [],
      "source": [
        "encrypted_message = 'H zljvuk avw zljyla tlzzhnl. H upjl svun tlzzhnl zv dl jhu zll ovd dlss pa dvyrz mvy svun tlzzhnlz.'\n",
        "\n",
        "for i in range(0, 26):\n",
        "    print(i)\n",
        "    print(rotN(encrypted_message, i))"
      ]
    },
    {
      "cell_type": "code",
      "execution_count": 43,
      "metadata": {},
      "outputs": [
        {
          "output_type": "stream",
          "name": "stdout",
          "text": [
            "3\nW oaykjz pkl oaynap iaoowca. W jeya hkjc iaoowca ok sa ywj oaa dks sahh ep skngo bkn hkjc iaoowcao.\n7\nA second top secret message. A nice long message so we can see how well it works for long messages.\n15\nI amkwvl bwx amkzmb umaaiom. I vqkm twvo umaaiom aw em kiv amm pwe emtt qb ewzsa nwz twvo umaaioma.\n19\nM eqoazp fab eqodqf yqeemsq. M zuoq xazs yqeemsq ea iq omz eqq tai iqxx uf iadwe rad xazs yqeemsqe.\n"
          ]
        }
      ],
      "source": [
        "original_message = \"A second top secret message. A nice long message so we can see how well it works for long messages.\"\n",
        "\n",
        "import random\n",
        "\n",
        "encrypted_message = rotN(original_message, random.randint(1,25))\n",
        "\n",
        "for i in range(0, 26):\n",
        "    decrypted_message = rotN(encrypted_message, i)\n",
        "    vowel_count = decrypted_message.count('a') + decrypted_message.count('e') + decrypted_message.count('i') + decrypted_message.count('o') + decrypted_message.count('u')\n",
        "    total_characters = len(decrypted_message.replace(' ', '').replace('.', ''))\n",
        "    vowel_percentage = vowel_count / total_characters\n",
        "    if 0.35 <= vowel_percentage <= 0.40:\n",
        "        print(i)\n",
        "        print(decrypted_message)"
      ]
    },
    {
      "cell_type": "code",
      "execution_count": null,
      "metadata": {},
      "outputs": [],
      "source": []
    },
    {
      "source": [
        "### One time pad\n",
        "\n",
        "Rotate each letter by the number in the corresponding position on a \"pad\"."
      ],
      "cell_type": "markdown",
      "metadata": {}
    },
    {
      "source": [
        "Can we implement a one-time pad function?"
      ],
      "cell_type": "markdown",
      "metadata": {}
    },
    {
      "source": [
        "example_pad = [4,6,2,17,25,3,16,12,11,9,7]\n",
        "\n",
        "def otp(text, pad):\n",
        "    result = \"\"\n",
        "    for c in text:\n",
        "        n = pad[0]\n",
        "        pad = pad[1:]\n",
        "        if c.isalpha():\n",
        "            if ord('a') <= ord(c.lower()) <= ord('z') - n:\n",
        "                result += chr(ord(c) + n)\n",
        "            else:\n",
        "                result += chr(ord(c) - 26 + n)\n",
        "        else:\n",
        "            result += c\n",
        "    return result\n",
        "\n",
        "otp(\"CAR\", [13,2,24])\n",
        "otp(\"PCP\", [26-13, 26-2, 26-24])"
      ],
      "cell_type": "code",
      "metadata": {},
      "execution_count": 45,
      "outputs": [
        {
          "output_type": "execute_result",
          "data": {
            "text/plain": [
              "'CAR'"
            ]
          },
          "metadata": {},
          "execution_count": 45
        }
      ]
    },
    {
      "source": [
        "Can we \"crack\" a one-time pad?"
      ],
      "cell_type": "markdown",
      "metadata": {}
    },
    {
      "cell_type": "code",
      "execution_count": null,
      "metadata": {},
      "outputs": [],
      "source": [
        "# No, it's impossible"
      ]
    },
    {
      "source": [
        "### Practical encryption\n",
        "\n",
        "Using the [cryptography](https://cryptography.io) library in python we can encrypt and decrypt data with 'Frenet'."
      ],
      "cell_type": "markdown",
      "metadata": {}
    },
    {
      "cell_type": "code",
      "execution_count": null,
      "metadata": {},
      "outputs": [],
      "source": [
        "# AES - Advanced Encryption Scheme"
      ]
    },
    {
      "source": [
        "Can we encrypt this string?"
      ],
      "cell_type": "markdown",
      "metadata": {}
    },
    {
      "cell_type": "code",
      "execution_count": 52,
      "metadata": {},
      "outputs": [
        {
          "output_type": "execute_result",
          "data": {
            "text/plain": [
              "b'gAAAAABgbq_f4B3yNbOFpsjgZxMQwqLl4ghSZ2teB-LQhW5m0991e0IrpopYWDIo4O1zaVzJaO7LJhAG2-Iy6i5KwMZSdUAFABQ0705z-4uB1PwBPtgpnKpa0uPeIpLMl6JUXZ4PqSZGRndY6fgCV2-4-rg4swicnQ=='"
            ]
          },
          "metadata": {},
          "execution_count": 52
        }
      ],
      "source": [
        "secret_message = \"Starting your assessments early always results in higher marks\"\n",
        "\n",
        "from cryptography.fernet import Fernet\n",
        "\n",
        "key = Fernet.generate_key()\n",
        "f = Fernet(key)\n",
        "\n",
        "encrypted_message = f.encrypt(secret_message.encode())\n",
        "encrypted_message"
      ]
    },
    {
      "cell_type": "code",
      "execution_count": 54,
      "metadata": {},
      "outputs": [
        {
          "output_type": "execute_result",
          "data": {
            "text/plain": [
              "b'SqBLX_MRj-aJzWHuQfJezGxucyoG5iXDxuv9sxgEfj4='"
            ]
          },
          "metadata": {},
          "execution_count": 54
        }
      ],
      "source": [
        "f.decrypt(encrypted_message)\n",
        "key"
      ]
    },
    {
      "cell_type": "code",
      "execution_count": 58,
      "metadata": {},
      "outputs": [
        {
          "output_type": "execute_result",
          "data": {
            "text/plain": [
              "b'Starting your assessments early always results in higher marks'"
            ]
          },
          "metadata": {},
          "execution_count": 58
        }
      ],
      "source": [
        "f = Fernet(key)\n",
        "f.decrypt(encrypted_message)"
      ]
    },
    {
      "source": [
        "Can we \"crack\" Fernet?"
      ],
      "cell_type": "markdown",
      "metadata": {}
    },
    {
      "cell_type": "code",
      "execution_count": null,
      "metadata": {},
      "outputs": [],
      "source": [
        "# Not practically"
      ]
    },
    {
      "source": [
        "### Asymmetric Encryption\n",
        "\n",
        "* Symmetric Encryption: One key is used for both encrypting and decrypting\n",
        "* Asymmetric Encryption: Two keys are generated. Information encrypted with one key can be decrypted with the other key and vice versa"
      ],
      "cell_type": "markdown",
      "metadata": {}
    },
    {
      "source": [
        "Can we generate an RSA keypair?"
      ],
      "cell_type": "markdown",
      "metadata": {}
    },
    {
      "cell_type": "code",
      "execution_count": 63,
      "metadata": {},
      "outputs": [
        {
          "output_type": "execute_result",
          "data": {
            "text/plain": [
              "<RSAPublicNumbers(e=65537, n=26477305172154486136214494643209943295798987012456436779851317825667841364223186666356466431155210986740001502439149684965106079270564848476838586625161143439987460572715216237704428459045685280963844995089232866694273535195190777655600672032999584398049200610554204891125775926510169587008947681951280929041579608495749120097724280449930148771427966014498542555906025406801634829412638679672222488812526901151574971085848704829774294861505788285469484729321376885235935253463122577843461931450889522077515116575559093885473946338889832821633024433681134204579590610201749713147544977317256749272970110722721937728497)>"
            ]
          },
          "metadata": {},
          "execution_count": 63
        }
      ],
      "source": [
        "from cryptography.hazmat.primitives.asymmetric import rsa, padding\n",
        "\n",
        "private_key = rsa.generate_private_key(65537, 2048)\n",
        "\n",
        "private_key.public_key().public_numbers()"
      ]
    },
    {
      "cell_type": "code",
      "execution_count": 65,
      "metadata": {},
      "outputs": [],
      "source": [
        "public_key = private_key.public_key()"
      ]
    },
    {
      "source": [
        "Can we encrypt this string with our *private* key?"
      ],
      "cell_type": "markdown",
      "metadata": {}
    },
    {
      "cell_type": "code",
      "execution_count": 71,
      "metadata": {},
      "outputs": [],
      "source": [
        "secret_message = \"In 5 years, no one will care about your WAM\"\n",
        "\n",
        "encrypted_message = public_key.encrypt(secret_message.encode(), padding.PKCS1v15())"
      ]
    },
    {
      "cell_type": "code",
      "execution_count": 72,
      "metadata": {},
      "outputs": [
        {
          "output_type": "execute_result",
          "data": {
            "text/plain": [
              "b'In 5 years, no one will care about your WAM'"
            ]
          },
          "metadata": {},
          "execution_count": 72
        }
      ],
      "source": [
        "private_key.decrypt(encrypted_message, padding.PKCS1v15())"
      ]
    },
    {
      "source": [
        "### The reality of encryption\n",
        "\n",
        "![security](https://imgs.xkcd.com/comics/security.png)"
      ],
      "cell_type": "markdown",
      "metadata": {}
    },
    {
      "source": [
        "## Cryptographic Hashing\n",
        "\n",
        "Key terms:\n",
        "* Hashing: Transforming data of any size into a fixed-size representation (a hash). Typically:\n",
        "  * If the input data is changed even slightly, the hash is completely different.\n",
        "  * If you have the hash, you can't determine the exact input that was used, but you may be able to determine a *possible* input.\n",
        "* Cryptographic Hashing: Hashing where it's computationally difficult to determine a possible input."
      ],
      "cell_type": "markdown",
      "metadata": {}
    },
    {
      "source": [
        "Can we write a simple hash function?"
      ],
      "cell_type": "markdown",
      "metadata": {}
    },
    {
      "cell_type": "code",
      "execution_count": null,
      "metadata": {},
      "outputs": [],
      "source": []
    },
    {
      "source": [
        "Can we create a cryptographic hash for this string?"
      ],
      "cell_type": "markdown",
      "metadata": {}
    },
    {
      "cell_type": "code",
      "execution_count": null,
      "metadata": {},
      "outputs": [],
      "source": [
        "important_message = \"The exam is on the 12th of May\""
      ]
    },
    {
      "source": [
        "## Digital Signing\n",
        "\n",
        "By combining hashing and asymmetric encryption, we have a way of \"signing\" digital documents."
      ],
      "cell_type": "markdown",
      "metadata": {}
    },
    {
      "source": [
        "Can we digitally sign the following string?"
      ],
      "cell_type": "markdown",
      "metadata": {}
    },
    {
      "cell_type": "code",
      "execution_count": null,
      "metadata": {},
      "outputs": [],
      "source": [
        "verified_message = \"Don't forget to double-check your answers in an exam\""
      ]
    },
    {
      "source": [
        "## Authentication\n",
        "\n",
        "#### Authentication\n",
        "\n",
        "Checking whether someone is who they claim to be.\n",
        "\n",
        "Types of authentication:\n",
        " * Something you know (e.g. a password)\n",
        " * Something you have (e.g. a keycard)\n",
        " * Something you are (e.g. a fingerprint)\n",
        " * Someone you know (e.g. a friend verifies it's you)\n",
        "\n",
        "Two-factor authentication is when at least two of the above types of authentication are used."
      ],
      "cell_type": "markdown",
      "metadata": {}
    },
    {
      "source": [
        "## Social Engineering\n",
        "\n",
        "Social Engineering is the practice of exploiting the human components in systems, rather than the technological components.\n",
        "\n",
        "Examples:\n",
        " * Phishing\n",
        " * Baiting\n",
        " * Spearphishing\n",
        " * [Poor spelling in emails](https://academic.microsoft.com/paper/2169270715/citedby/search?q=Web%20Spam%20Taxonomy&qe=RId%253D2169270715&f=&orderBy=0)"
      ],
      "cell_type": "markdown",
      "metadata": {}
    }
  ]
}