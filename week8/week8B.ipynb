{
  "nbformat": 4,
  "nbformat_minor": 0,
  "metadata": {
    "colab": {
      "name": "week3A.ipynb",
      "provenance": [],
      "collapsed_sections": []
    },
    "kernelspec": {
      "name": "python38564bit16056ce0e98a49208e5744e26803b7c0",
      "display_name": "Python 3.8.5 64-bit"
    }
  },
  "cells": [
    {
      "source": [
        "# PyGame\n",
        "\n",
        "[PyGame](https://www.pygame.org/) is a Python library for making games.\n",
        "\n",
        "Recall the following:\n",
        "* Images consist of a grid of pixels.\n",
        "* Each pixel has a red, green and blue component."
      ],
      "cell_type": "markdown",
      "metadata": {}
    },
    {
      "source": [
        "Can we make \"Frankie the Fox\" bounce around a window?\n",
        "\n",
        "See `bouncing_frankie.py`."
      ],
      "cell_type": "markdown",
      "metadata": {}
    },
    {
      "source": [
        "Can we create \"Flappy Frankie\", a UNSW themed version of Flappy Bird?\n",
        "\n",
        "See `flappy_frankie.py`."
      ],
      "cell_type": "markdown",
      "metadata": {}
    },
    {
      "source": [
        "# Testing\n",
        "\n",
        "How do we know if our programs \"work\"? What does it even mean for a program to \"work\"?"
      ],
      "cell_type": "markdown",
      "metadata": {}
    },
    {
      "source": [
        "## Unit tests\n",
        "\n",
        "Unit tests test \"units\" of a larger program. Typically, these \"units\" are functions."
      ],
      "cell_type": "markdown",
      "metadata": {}
    },
    {
      "source": [
        "Can we write some unit tests for `swap_case()`, a function that replaces lower-case letters with upper-case letters and vice versa. "
      ],
      "cell_type": "markdown",
      "metadata": {}
    },
    {
      "cell_type": "code",
      "execution_count": null,
      "metadata": {},
      "outputs": [],
      "source": []
    },
    {
      "source": [
        "Using the tests as a guide, can we implement `swap_case()`?"
      ],
      "cell_type": "markdown",
      "metadata": {}
    },
    {
      "source": [],
      "cell_type": "code",
      "metadata": {},
      "execution_count": null,
      "outputs": []
    },
    {
      "source": [
        "Can we implement run-length encoding in Python with tests?\n",
        "\n",
        "See `run_length.py`"
      ],
      "cell_type": "markdown",
      "metadata": {}
    },
    {
      "source": [
        "## Usability testing\n",
        "\n",
        "Not everything we want our programs to achieve can be measured by a machine. With usability testing, we put the applications we have built in front of actual users to see if they can use them effectively.\n",
        "\n",
        "User testing advice:\n",
        " * Pick users who are representative of your target users.\n",
        " * If you have to instruct the user in how to do something, there is a learnability issue."
      ],
      "cell_type": "markdown",
      "metadata": {}
    },
    {
      "source": [
        "## Property-based tests (not examinable)\n",
        "\n",
        "Property-based tests use automatically generated data to test that functions obey specified properties."
      ],
      "cell_type": "markdown",
      "metadata": {}
    },
    {
      "source": [
        "Can we use property-based tests with our run-length encoder/decoder?\n",
        "\n",
        "See `run_length.py`"
      ],
      "cell_type": "markdown",
      "metadata": {}
    }
  ]
}