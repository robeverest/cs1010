{
  "nbformat": 4,
  "nbformat_minor": 0,
  "metadata": {
    "colab": {
      "name": "week3A.ipynb",
      "provenance": [],
      "collapsed_sections": []
    },
    "kernelspec": {
      "name": "python38564bit16056ce0e98a49208e5744e26803b7c0",
      "display_name": "Python 3.8.5 64-bit"
    }
  },
  "cells": [
    {
      "source": [
        "# PyGame\n",
        "\n",
        "[PyGame](https://www.pygame.org/) is a Python library for making games.\n",
        "\n",
        "Recall the following:\n",
        "* Images consist of a grid of pixels.\n",
        "* Each pixel has a red, green and blue component."
      ],
      "cell_type": "markdown",
      "metadata": {}
    },
    {
      "source": [
        "Can we create \"Flappy Frankie\", a UNSW themed version of Flappy Bird?\n",
        "\n",
        "See `flappy_frankie.py`."
      ],
      "cell_type": "markdown",
      "metadata": {}
    },
    {
      "source": [
        "# Cybersecurity\n",
        "\n",
        "What actually is cybersecurity?\n",
        "\n",
        "> Hacking, Viruses, Spyware, Cyberterrorism, Phishing, Information Security, Operational Security, Penetration Testing, Malware, Botnets..."
      ],
      "cell_type": "markdown",
      "metadata": {}
    },
    {
      "source": [
        "## Encryption and Decryption\n",
        "\n",
        "Key terms:\n",
        "* Encryption: Encoding information to hide its true meaning.\n",
        "* Decryption: Converting information from an encoded representation back to its original.\n",
        "* Plaintext: The original representation of information.\n",
        "* Ciphertext: The encrypted representation of information."
      ],
      "cell_type": "markdown",
      "metadata": {}
    },
    {
      "source": [
        "### ROT13\n",
        "\n",
        "The simplest form of encryption: rotate each letter 13 positions in the alphabet. CAR becomes PNE."
      ],
      "cell_type": "markdown",
      "metadata": {}
    },
    {
      "source": [
        "Can we write a function to ROT13 strings?"
      ],
      "cell_type": "markdown",
      "metadata": {}
    },
    {
      "cell_type": "code",
      "execution_count": null,
      "metadata": {},
      "outputs": [],
      "source": []
    },
    {
      "source": [
        "Can we \"crack\" ROT13 encryption?"
      ],
      "cell_type": "markdown",
      "metadata": {}
    },
    {
      "cell_type": "code",
      "execution_count": null,
      "metadata": {},
      "outputs": [],
      "source": []
    },
    {
      "source": [
        "### Caeser cipher\n",
        "\n",
        "Rotate each letter N alphabet positions"
      ],
      "cell_type": "markdown",
      "metadata": {}
    },
    {
      "source": [
        "Can we implement a Caeser cipher function?"
      ],
      "cell_type": "markdown",
      "metadata": {}
    },
    {
      "cell_type": "code",
      "execution_count": null,
      "metadata": {},
      "outputs": [],
      "source": []
    },
    {
      "source": [
        "Can we \"crack\" a Caeser cipher?"
      ],
      "cell_type": "markdown",
      "metadata": {}
    },
    {
      "cell_type": "code",
      "execution_count": null,
      "metadata": {},
      "outputs": [],
      "source": []
    },
    {
      "source": [
        "### One time pad\n",
        "\n",
        "Rotate each letter by the number in the corresponding position on a \"pad\"."
      ],
      "cell_type": "markdown",
      "metadata": {}
    },
    {
      "source": [
        "Can we implement a one-time pad function?"
      ],
      "cell_type": "markdown",
      "metadata": {}
    },
    {
      "source": [],
      "cell_type": "code",
      "metadata": {},
      "execution_count": null,
      "outputs": []
    },
    {
      "source": [
        "Can we \"crack\" a one-time pad?"
      ],
      "cell_type": "markdown",
      "metadata": {}
    },
    {
      "cell_type": "code",
      "execution_count": null,
      "metadata": {},
      "outputs": [],
      "source": []
    },
    {
      "source": [
        "### Practical encryption\n",
        "\n",
        "Using the [cryptography](https://cryptography.io) library in python we can encrypt and decrypt data with 'Frenet'."
      ],
      "cell_type": "markdown",
      "metadata": {}
    },
    {
      "source": [
        "Can we encrypt this string?"
      ],
      "cell_type": "markdown",
      "metadata": {}
    },
    {
      "cell_type": "code",
      "execution_count": null,
      "metadata": {},
      "outputs": [],
      "source": [
        "secret_message = \"Starting your assessments early always results in higher marks\""
      ]
    },
    {
      "source": [
        "Can we \"crack\" Frenet?"
      ],
      "cell_type": "markdown",
      "metadata": {}
    },
    {
      "cell_type": "code",
      "execution_count": null,
      "metadata": {},
      "outputs": [],
      "source": []
    },
    {
      "source": [
        "### Asymmetric Encryption\n",
        "\n",
        "* Symmetric Encryption: One key is used for both encrypting and decrypting\n",
        "* Asymmetric Encryption: Two keys are generated. Information encrypted with one key can be decrypted with the other key and vice versa"
      ],
      "cell_type": "markdown",
      "metadata": {}
    },
    {
      "source": [
        "Can we generate an RSA keypair?"
      ],
      "cell_type": "markdown",
      "metadata": {}
    },
    {
      "cell_type": "code",
      "execution_count": null,
      "metadata": {},
      "outputs": [],
      "source": []
    },
    {
      "source": [
        "Can we encrypt this string with our *private* key?"
      ],
      "cell_type": "markdown",
      "metadata": {}
    },
    {
      "cell_type": "code",
      "execution_count": null,
      "metadata": {},
      "outputs": [],
      "source": [
        "secret_message = \"In 5 years, no one will care about your WAM\""
      ]
    },
    {
      "source": [
        "### The reality of encryption\n",
        "\n",
        "![security](https://imgs.xkcd.com/comics/security.png)"
      ],
      "cell_type": "markdown",
      "metadata": {}
    },
    {
      "source": [
        "## Cryptographic Hashing\n",
        "\n",
        "Key terms:\n",
        "* Hashing: Transforming data of any size into a fixed-size representation (a hash). Typically:\n",
        "  * If the input data is changed even slightly, the hash is completely different.\n",
        "  * If you have the hash, you can't determine the exact input that was used, but you may be able to determine a *possible* input.\n",
        "* Cryptographic Hashing: Hashing where it's computationally difficult to determine a possible input."
      ],
      "cell_type": "markdown",
      "metadata": {}
    },
    {
      "source": [
        "Can we write a simple hash function?"
      ],
      "cell_type": "markdown",
      "metadata": {}
    },
    {
      "cell_type": "code",
      "execution_count": null,
      "metadata": {},
      "outputs": [],
      "source": []
    },
    {
      "source": [
        "Can we create a cryptographic hash for this string?"
      ],
      "cell_type": "markdown",
      "metadata": {}
    },
    {
      "cell_type": "code",
      "execution_count": null,
      "metadata": {},
      "outputs": [],
      "source": [
        "important_message = \"The exam is on the 12th of May\""
      ]
    },
    {
      "source": [
        "## Digital Signing\n",
        "\n",
        "By combining hashing and asymmetric encryption, we have a way of \"signing\" digital documents."
      ],
      "cell_type": "markdown",
      "metadata": {}
    },
    {
      "source": [
        "Can we digitally sign the following string?"
      ],
      "cell_type": "markdown",
      "metadata": {}
    },
    {
      "cell_type": "code",
      "execution_count": null,
      "metadata": {},
      "outputs": [],
      "source": [
        "verified_message = \"Don't forget to double-check your answers in an exam\""
      ]
    },
    {
      "source": [
        "## Authentication\n",
        "\n",
        "#### Authentication\n",
        "\n",
        "Checking whether someone is who they claim to be.\n",
        "\n",
        "Types of authentication:\n",
        " * Something you know (e.g. a password)\n",
        " * Something you have (e.g. a keycard)\n",
        " * Something you are (e.g. a fingerprint)\n",
        " * Someone you know (e.g. a friend verifies it's you)\n",
        "\n",
        "Two-factor authentication is when at least two of the above types of authentication are used."
      ],
      "cell_type": "markdown",
      "metadata": {}
    },
    {
      "source": [
        "## Social Engineering\n",
        "\n",
        "Social Engineering is the practice of exploiting the human components in systems, rather than the technological components.\n",
        "\n",
        "Examples:\n",
        " * Phishing\n",
        " * Baiting\n",
        " * Spearphishing\n",
        " * [Poor spelling in emails](https://academic.microsoft.com/paper/2169270715/citedby/search?q=Web%20Spam%20Taxonomy&qe=RId%253D2169270715&f=&orderBy=0)"
      ],
      "cell_type": "markdown",
      "metadata": {}
    }
  ]
}