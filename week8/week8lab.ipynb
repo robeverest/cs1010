{
 "metadata": {
  "language_info": {
   "codemirror_mode": {
    "name": "ipython",
    "version": 3
   },
   "file_extension": ".py",
   "mimetype": "text/x-python",
   "name": "python",
   "nbconvert_exporter": "python",
   "pygments_lexer": "ipython3",
   "version": "3.9.0"
  },
  "orig_nbformat": 2,
  "kernelspec": {
   "name": "python3",
   "display_name": "Python 3.9.0 64-bit",
   "metadata": {
    "interpreter": {
     "hash": "ac2eaa0ea0ebeafcc7822e65e46aa9d4f966f30b695406963e145ea4a91cd4fc"
    }
   }
  }
 },
 "nbformat": 4,
 "nbformat_minor": 2,
 "cells": [
  {
   "cell_type": "markdown",
   "metadata": {},
   "source": [
    "# Week 8 Lab (2 marks)\n",
    "\n",
    "**IMPORTANT NOTE** The first task in this lab is simply demonstrating progress in your project. You need to do this during your week 8 lab.\n",
    "\n",
    "The second task does not have to be shown to your lab demonstrator till the week 9 lab."
   ]
  },
  {
   "cell_type": "markdown",
   "metadata": {},
   "source": [
    "## Project Progress (1 mark)\n",
    "\n",
    "Show your progress in your project to the lab demonstrator."
   ]
  },
  {
   "source": [
    "## Cats (1 mark)\n",
    "\n",
    "Requests to the URL https://aws.random.cat/meow will get a response containing a link to a picture of a random cat.\n",
    "\n",
    "Similarly, the [cat-facts API](https://alexwohlbruck.github.io/cat-facts/docs/) can be used to retrieve a random fact about a cat.\n",
    "\n",
    "Play around with both of these in the cell below to determine the data you can get from them and what format it is in.\n",
    "\n",
    "In `cat_server.py`, implement a web server that produces a single page containing a picture of a random cat with a random cat fact below it.\n",
    "\n",
    "**HINT**: As long as you have a URL to an image, you don't need to request it. You can simply make it the `src` attribute of the `img` tag. "
   ],
   "cell_type": "markdown",
   "metadata": {}
  },
  {
   "cell_type": "code",
   "execution_count": 8,
   "metadata": {},
   "outputs": [
    {
     "output_type": "execute_result",
     "data": {
      "text/plain": [
       "'If you really want to treat your cat, get some lactose-free milk at the grocery store and offer some to the kitty.'"
      ]
     },
     "metadata": {},
     "execution_count": 8
    }
   ],
   "source": [
    "import requests\n",
    "import json\n",
    "\n",
    "response = requests.get('https://aws.random.cat/meow')\n",
    "\n",
    "cat_picture_url = json.loads(response.content)['file']\n",
    "\n",
    "response = requests.get('https://cat-fact.herokuapp.com/facts/random')\n",
    "cat_fact = json.loads(response.content)['text']"
   ]
  }
 ]
}