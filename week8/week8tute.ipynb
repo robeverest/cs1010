{
 "metadata": {
  "language_info": {
   "codemirror_mode": {
    "name": "ipython",
    "version": 3
   },
   "file_extension": ".py",
   "mimetype": "text/x-python",
   "name": "python",
   "nbconvert_exporter": "python",
   "pygments_lexer": "ipython3",
   "version": "3.8.5-final"
  },
  "orig_nbformat": 2,
  "kernelspec": {
   "name": "python38564bit16056ce0e98a49208e5744e26803b7c0",
   "display_name": "Python 3.8.5 64-bit"
  }
 },
 "nbformat": 4,
 "nbformat_minor": 2,
 "cells": [
  {
   "cell_type": "markdown",
   "metadata": {},
   "source": [
    "# Week 8 Tutorial"
   ]
  },
  {
   "cell_type": "markdown",
   "metadata": {},
   "source": [
    "## Kahoot\n",
    "\n",
    "Your tutor will run through a Kahoot with you to test how well you remember certain concepts from weeks 4 and 5.\n",
    "\n",
    "The Kahoot will be posted here after week 8."
   ]
  },
  {
   "source": [
    "## Usability\n",
    "\n",
    "Try to come up with examples of websites or applications that you feel have poor user interfaces.\n",
    "\n",
    "Are you able to identify which, if any, of the [Nielsen Usability Heuristics](https://www.nngroup.com/articles/ten-usability-heuristics/) have been violated?"
   ],
   "cell_type": "markdown",
   "metadata": {}
  },
  {
   "source": [
    "## Analysing Data with Pandas\n",
    "\n",
    "The live results of the Trump or Bot experiment are available at:\n",
    "\n",
    "https://www.cse.unsw.edu.au/~cs1010/20T3/trump_or_bot/trump_or_bot.csv\n",
    "\n",
    "Try to use Pandas to determine the average length of the all the fake *generated* tweets that were *incorrectly* identified as real. "
   ],
   "cell_type": "markdown",
   "metadata": {}
  },
  {
   "cell_type": "code",
   "execution_count": null,
   "metadata": {},
   "outputs": [],
   "source": []
  },
  {
   "source": [
    "## Web APIs\n",
    "\n",
    "The [Dog API](https://dog.ceo/dog-api/) allows you retrieve images of random dogs. Read its documentation, pick your favourite breed of dog, and see if you can display a random picture of a dog of that breed in this notebook."
   ],
   "cell_type": "markdown",
   "metadata": {}
  },
  {
   "cell_type": "code",
   "execution_count": null,
   "metadata": {},
   "outputs": [],
   "source": []
  }
 ]
}