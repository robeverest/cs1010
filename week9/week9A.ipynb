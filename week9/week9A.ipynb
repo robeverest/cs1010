{
  "nbformat": 4,
  "nbformat_minor": 0,
  "metadata": {
    "colab": {
      "name": "week3A.ipynb",
      "provenance": [],
      "collapsed_sections": []
    },
    "kernelspec": {
      "name": "python38564bit16056ce0e98a49208e5744e26803b7c0",
      "display_name": "Python 3.8.5 64-bit"
    }
  },
  "cells": [
    {
      "source": [
        "# Lab Recap"
      ],
      "cell_type": "markdown",
      "metadata": {}
    },
    {
      "source": [
        "Can we retrieve 3 random facts from the [Internet Chuck Norris Database](http://www.icndb.com/api/) and display them as formatted HTML?"
      ],
      "cell_type": "markdown",
      "metadata": {}
    },
    {
      "cell_type": "code",
      "execution_count": null,
      "metadata": {},
      "outputs": [],
      "source": []
    },
    {
      "source": [
        "# Sorting\n",
        "\n",
        "Sorting algorithms are one of the most frequently studied class of algorithms. Not only are there many such algorithms, it is also very easy to implement them incorrectly."
      ],
      "cell_type": "markdown",
      "metadata": {}
    },
    {
      "source": [
        "Can we implement [Bubble sort](https://en.wikipedia.org/wiki/Bubble_sort) in Python? How can we test it?\n",
        "\n",
        "See `sorting.py`."
      ],
      "cell_type": "markdown",
      "metadata": {}
    },
    {
      "source": [
        "Can we also implement [merge sort](https://en.wikipedia.org/wiki/Merge_sort)?\n",
        "\n",
        "See `sorting.py`."
      ],
      "cell_type": "markdown",
      "metadata": {}
    },
    {
      "source": [
        "# Error Handling\n",
        "\n",
        "What do we do when things go wrong?"
      ],
      "cell_type": "markdown",
      "metadata": {}
    },
    {
      "source": [
        "## Using `None`\n",
        "\n",
        "Consider a function `find(needle, haystack)` that finds the position of `needle` in the list `haystack`. Can we implement this function?"
      ],
      "cell_type": "markdown",
      "metadata": {}
    },
    {
      "cell_type": "code",
      "execution_count": null,
      "metadata": {},
      "outputs": [],
      "source": []
    },
    {
      "source": [
        "Does python have built-in functionality for doing this?"
      ],
      "cell_type": "markdown",
      "metadata": {}
    },
    {
      "cell_type": "code",
      "execution_count": null,
      "metadata": {},
      "outputs": [],
      "source": []
    },
    {
      "source": [
        "## Exceptions"
      ],
      "cell_type": "markdown",
      "metadata": {}
    },
    {
      "source": [
        "Can we change our `find()` function so that it raises an exception?"
      ],
      "cell_type": "markdown",
      "metadata": {}
    },
    {
      "source": [],
      "cell_type": "code",
      "metadata": {},
      "execution_count": null,
      "outputs": []
    },
    {
      "source": [
        "Consider the function, `score(card_points, cards)`, from the week 4 lab. It takes in a dictionary representing point values for different cards and a list of cards, and calculates the total score for that list.\n",
        "\n",
        "Can we implement this function differently using exceptions?"
      ],
      "cell_type": "markdown",
      "metadata": {}
    },
    {
      "cell_type": "code",
      "execution_count": null,
      "metadata": {},
      "outputs": [],
      "source": []
    },
    {
      "source": [
        "A number, `x`, inside a list, `list`, is said to lead back to itself in 1 step if `list[x] == x`. A number leads back to itself in 2 steps if `list[list[x]] == x`. Which of the numbers in the following list lead back to themselves in 3 steps."
      ],
      "cell_type": "markdown",
      "metadata": {}
    },
    {
      "cell_type": "code",
      "execution_count": null,
      "metadata": {},
      "outputs": [],
      "source": [
        "list = [0, 2, 1, 4, 5, 3, 9, 6, 7]"
      ]
    },
    {
      "source": [
        "# Alternative ways of working with data structures"
      ],
      "cell_type": "markdown",
      "metadata": {}
    },
    {
      "source": [
        "Can we implement the `score(card_points, cards)` function without conditionals or exception handling?"
      ],
      "cell_type": "markdown",
      "metadata": {}
    },
    {
      "cell_type": "code",
      "execution_count": null,
      "metadata": {},
      "outputs": [],
      "source": []
    },
    {
      "source": [
        "## List/Dictionary Comprehensions"
      ],
      "cell_type": "markdown",
      "metadata": {}
    },
    {
      "source": [
        "Can we extract a list of zids from these email addresses?"
      ],
      "cell_type": "markdown",
      "metadata": {}
    },
    {
      "cell_type": "code",
      "execution_count": null,
      "metadata": {},
      "outputs": [],
      "source": [
        "emails = [\"z1234567@student.unsw.edu.au\", \"z7654321@unsw.edu.au\", \"z7891234@ad.unsw.edu.au\", \"z1357924@student.unsw.edu.au\"]"
      ]
    },
    {
      "source": [
        "Can we create a dictionary with the zids as keys and the email addresses as values?"
      ],
      "cell_type": "markdown",
      "metadata": {}
    },
    {
      "cell_type": "code",
      "execution_count": null,
      "metadata": {},
      "outputs": [],
      "source": []
    },
    {
      "source": [
        "Find all the words that are palindromes in this list:"
      ],
      "cell_type": "markdown",
      "metadata": {}
    },
    {
      "cell_type": "code",
      "execution_count": null,
      "metadata": {},
      "outputs": [],
      "source": [
        "words = [\"kayak\", \"hello\", \"racecar\", \"madam\", \"moon\", \"noon\", \"shish\", \"level\"]"
      ]
    },
    {
      "source": [
        "# Functional Programming\n",
        "\n",
        "Functional programming is a programming paradigm where programs are built by composing *pure* functions"
      ],
      "cell_type": "markdown",
      "metadata": {}
    },
    {
      "source": [
        "## Functions as values\n",
        "\n"
      ],
      "cell_type": "markdown",
      "metadata": {}
    },
    {
      "source": [
        "Can we create a list of functions?"
      ],
      "cell_type": "markdown",
      "metadata": {}
    },
    {
      "cell_type": "code",
      "execution_count": null,
      "metadata": {},
      "outputs": [],
      "source": []
    },
    {
      "source": [
        "Can we write the function `apply_list(functions, value)` that applies all the functions in the list `functions` to `value` and returns the results in a new list?"
      ],
      "cell_type": "markdown",
      "metadata": {}
    },
    {
      "cell_type": "code",
      "execution_count": null,
      "metadata": {},
      "outputs": [],
      "source": []
    },
    {
      "source": [
        "Can we do the same with a single function and a list of values?"
      ],
      "cell_type": "markdown",
      "metadata": {}
    },
    {
      "cell_type": "code",
      "execution_count": null,
      "metadata": {},
      "outputs": [],
      "source": []
    },
    {
      "source": [
        "Do functions always have to be given a name?"
      ],
      "cell_type": "markdown",
      "metadata": {}
    },
    {
      "cell_type": "code",
      "execution_count": null,
      "metadata": {},
      "outputs": [],
      "source": []
    },
    {
      "source": [
        "## List Combinators\n",
        "\n",
        "List combinators are functions that perform operations on lists, typically used as an alternative to loops.\n",
        "\n",
        "Many are available form `functools` and `itertools`."
      ],
      "cell_type": "markdown",
      "metadata": {}
    },
    {
      "source": [
        "Consider a function, `common_letters(words)`, that calculates $2a + e$ where $a$ is the number of times the letter \"a\" appears in all the words in `words` and $e$ is the number of times the letter \"e\" occurs. Can we write such a function without using any form of loop."
      ],
      "cell_type": "markdown",
      "metadata": {}
    },
    {
      "cell_type": "code",
      "execution_count": null,
      "metadata": {},
      "outputs": [],
      "source": []
    },
    {
      "source": [
        "Consider this dictionary of first year courses and the number of enrolments they have:"
      ],
      "cell_type": "markdown",
      "metadata": {}
    },
    {
      "cell_type": "code",
      "execution_count": null,
      "metadata": {},
      "outputs": [],
      "source": [
        "first_year_courses = { \"COMP1010\": 45, \"COMP1511\": 560, \"COMP1911\": 100, \"MATH1131\": 1034, \"MATH1231\": 895, \"FINS1612\": 423, \"FINS1613\": 587, \"ACCT1501\": 327 }"
      ]
    },
    {
      "source": [
        "Can we get a list of all the courses with 500 or more enrolments?"
      ],
      "cell_type": "markdown",
      "metadata": {}
    },
    {
      "cell_type": "code",
      "execution_count": null,
      "metadata": {},
      "outputs": [],
      "source": []
    },
    {
      "source": [
        "Can we construct a dictionary containing all the subjects areas and the number of enrolments in those subject areas?"
      ],
      "cell_type": "markdown",
      "metadata": {}
    },
    {
      "cell_type": "code",
      "execution_count": null,
      "metadata": {},
      "outputs": [],
      "source": []
    },
    {
      "source": [
        "# Code Golf\n",
        "\n",
        "Code golf is the challenge of solving programming problems with the least amount of code possible. While a fun exercise, this is not necessarily a good way to write code.\n",
        "\n",
        "Some tips are [here](https://www.geeksforgeeks.org/code-golfing-in-python/)."
      ],
      "cell_type": "markdown",
      "metadata": {}
    },
    {
      "source": [
        "# "
      ],
      "cell_type": "markdown",
      "metadata": {}
    }
  ]
}