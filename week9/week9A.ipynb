{
  "nbformat": 4,
  "nbformat_minor": 0,
  "metadata": {
    "colab": {
      "name": "week3A.ipynb",
      "provenance": [],
      "collapsed_sections": []
    },
    "kernelspec": {
      "name": "python3",
      "display_name": "Python 3.9.0 64-bit",
      "metadata": {
        "interpreter": {
          "hash": "ac2eaa0ea0ebeafcc7822e65e46aa9d4f966f30b695406963e145ea4a91cd4fc"
        }
      }
    }
  },
  "cells": [
    {
      "source": [
        "# Lab Recap"
      ],
      "cell_type": "markdown",
      "metadata": {}
    },
    {
      "source": [
        "Can we retrieve 3 random facts from the [Internet Chuck Norris Database](http://www.icndb.com/api/) and display them as formatted HTML?"
      ],
      "cell_type": "markdown",
      "metadata": {}
    },
    {
      "cell_type": "code",
      "execution_count": 12,
      "metadata": {},
      "outputs": [
        {
          "output_type": "execute_result",
          "data": {
            "text/plain": [
              "<IPython.core.display.HTML object>"
            ],
            "text/html": "<div>\n  <p>\n    Chuck Norris invented black. In fact, he invented the entire spectrum of visible light. Except pink. Tom Cruise invented pink.\n  </p>\n  <p>\n    182,000 Americans die from Chuck Norris-related accidents every year.\n  </p>\n  <p>\n    Don&#x27;t worry about tests, Chuck Norris&#x27;s test cases cover your code too.\n  </p>\n</div>"
          },
          "metadata": {},
          "execution_count": 12
        }
      ],
      "source": [
        "import requests\n",
        "import json\n",
        "from pyhtml import p, div\n",
        "from IPython.display import HTML\n",
        "\n",
        "result = json.loads(requests.get('http://api.icndb.com/jokes/random/3').content)\n",
        "\n",
        "result\n",
        "\n",
        "jokes = []\n",
        "\n",
        "for entry in result['value']:\n",
        "    jokes.append(p(entry['joke']))\n",
        "\n",
        "HTML(str(div(jokes[0], jokes[1], jokes[2])))"
      ]
    },
    {
      "source": [
        "## Cryptographic Hashing\n",
        "\n",
        "Key terms:\n",
        "* Hashing: Transforming data of any size into a fixed-size representation (a hash). Typically:\n",
        "  * If the input data is changed even slightly, the hash is completely different.\n",
        "  * If you have the hash, you can't determine the exact input that was used, but you may be able to determine a *possible* input.\n",
        "* Cryptographic Hashing: Hashing where it's computationally difficult to determine a possible input."
      ],
      "cell_type": "markdown",
      "metadata": {}
    },
    {
      "source": [
        "Can we write a simple hash function?"
      ],
      "cell_type": "markdown",
      "metadata": {}
    },
    {
      "cell_type": "code",
      "execution_count": 13,
      "metadata": {},
      "outputs": [],
      "source": [
        "def simple_hash(text):\n",
        "    result = 0\n",
        "    for c in text:\n",
        "        result += ord(c)\n",
        "    result = result % 256\n",
        "    return result"
      ]
    },
    {
      "cell_type": "code",
      "execution_count": 19,
      "metadata": {},
      "outputs": [
        {
          "output_type": "execute_result",
          "data": {
            "text/plain": [
              "223"
            ]
          },
          "metadata": {},
          "execution_count": 19
        }
      ],
      "source": [
        "simple_hash(\"This is a very important message. We don't want information to be lost in transmission.\")"
      ]
    },
    {
      "cell_type": "code",
      "execution_count": 26,
      "metadata": {},
      "outputs": [
        {
          "output_type": "execute_result",
          "data": {
            "text/plain": [
              "223"
            ]
          },
          "metadata": {},
          "execution_count": 26
        }
      ],
      "source": [
        "simple_hash('ze')"
      ]
    },
    {
      "source": [
        "Can we create a cryptographic hash for this string?"
      ],
      "cell_type": "markdown",
      "metadata": {}
    },
    {
      "cell_type": "code",
      "execution_count": 37,
      "metadata": {},
      "outputs": [
        {
          "output_type": "execute_result",
          "data": {
            "text/plain": [
              "'90823e6ea7afcabb93b9d58a9fece349bc002aa880e374c2d0e43187dff37633'"
            ]
          },
          "metadata": {},
          "execution_count": 37
        }
      ],
      "source": [
        "important_message = \"The exam is on the 12th of May\"\n",
        "\n",
        "import hashlib\n",
        "\n",
        "hashlib.sha256(important_message.encode()).hexdigest()"
      ]
    },
    {
      "source": [
        "## Digital Signing\n",
        "\n",
        "By combining hashing and asymmetric encryption, we have a way of \"signing\" digital documents."
      ],
      "cell_type": "markdown",
      "metadata": {}
    },
    {
      "source": [
        "Can we digitally sign the following string?"
      ],
      "cell_type": "markdown",
      "metadata": {}
    },
    {
      "cell_type": "code",
      "execution_count": 41,
      "metadata": {},
      "outputs": [
        {
          "output_type": "execute_result",
          "data": {
            "text/plain": [
              "b'\\xb0^\\xa5\\x8b84W{1\\xc0u\\xe5\\xe7\\x02\\xc2\\xa9x[\\x11A\\xd1h\\tO1W\\xfc\\xb6,j{\\x0fF\\xe4@w\\xcc\\xff\\x0f\\x18\\xd0\\xda\\x17\\xa5w\\xac\\xf9\\xaf\"4Z/\\xd7[\\xfe\\x8d\\xbdS,\\xc0\\xd2T\\xb9\\xc9\\x9f\\xb6\\xd23\\xe2\\xb5\\xd7T]\\xe1O\\xc3\\xa6}2#3\\xe2\\xee\\x01\\xa8\\x87A\\x11S\\x97&=\\xf15\\x9b\\xde\\xf0\\xd6\\xbbZ4\\xad\\xbd\\x8a\\xee\\xe5\\x17N*bZ\\xf1 \\x8e]~1\\xb1\\x92\\xc6\\xe1\\xfb<\\xa2\\xcf\\xc6\\xd9\\x1c\\xb1\\xdbG\\x1b\\xd4@\\x1fAi{\\x8c\\xbb\\x94w \\xb1^.\\xc9\\xb1C\\x04\\xfa\\x81\\x8a\\x95\\xbd\\xc3\\x05G\\xe1\\xf9\\xaf\\xbd\\xc3^\\xefJy\\xa6\\\\\\x85\\t\\x97r\\xa58\\x88O7\\xc8h\\x7f\\x1d\\x1e\\xe5}\\xdc\\x06\\xf6\\x89D\\xb8\\x99m\\xe7^\\x9cs/\\xcfl\\xa2\\x078\\xcd\\xa0.\\xae\\x13\\\\\\xabV\\x01\\xf1\\x97\\x1d\\xf4#\\x1d\\xa4\\xfb\\x7fHW\\x92`\\xc5\\x9a_i\\xc8\\xbe\\xd2\\xc9SQQY\\x1a1\\xce\\xb9g$-\\xca\\r\\xa5\\x14\\xcf/\\xe0\\xf8\"\\xe6\\\\c'"
            ]
          },
          "metadata": {},
          "execution_count": 41
        }
      ],
      "source": [
        "verified_message = \"Don't forget to double-check your answers in an exam. It's really important. Also, go to the toilet before the exam.\"\n",
        "\n",
        "from cryptography.hazmat.primitives.asymmetric import rsa, padding\n",
        "from cryptography.hazmat.primitives.hashes import SHA256\n",
        "\n",
        "private_key = rsa.generate_private_key(65537, 2048)\n",
        "\n",
        "\n",
        "private_key.sign(verified_message.encode(), padding.PKCS1v15(), SHA256())"
      ]
    },
    {
      "cell_type": "markdown",
      "metadata": {
        "id": "2Kaag9CycH8b"
      },
      "source": [
        "# Searching"
      ]
    },
    {
      "cell_type": "markdown",
      "metadata": {
        "id": "kb1EMLsycH8c"
      },
      "source": [
        "Search algorithms are a well studied class of algorithms as many problems can be expressed as search problems.\n",
        "\n",
        "As an example, consider this \"map\" of Romania\n",
        "\n",
        "<img src=\"https://d3i71xaburhd42.cloudfront.net/437af7588c6a36fd55c410b7f92b7f47ef57653b/5-Figure3.2-1.png\" alt=\"Romania\" />"
      ]
    },
    {
      "cell_type": "code",
      "execution_count": 47,
      "metadata": {},
      "outputs": [
        {
          "output_type": "execute_result",
          "data": {
            "text/plain": [
              "607"
            ]
          },
          "metadata": {},
          "execution_count": 47
        }
      ],
      "source": [
        "75  + 71 + 151 + 99 + 211"
      ]
    },
    {
      "cell_type": "code",
      "execution_count": 48,
      "metadata": {},
      "outputs": [
        {
          "output_type": "execute_result",
          "data": {
            "text/plain": [
              "450"
            ]
          },
          "metadata": {},
          "execution_count": 48
        }
      ],
      "source": [
        "140 + 99 + 211"
      ]
    },
    {
      "cell_type": "code",
      "execution_count": 50,
      "metadata": {},
      "outputs": [
        {
          "output_type": "execute_result",
          "data": {
            "text/plain": [
              "418"
            ]
          },
          "metadata": {},
          "execution_count": 50
        }
      ],
      "source": [
        "140 + 80 + 97 + 101"
      ]
    },
    {
      "cell_type": "markdown",
      "metadata": {
        "id": "g8auus3QcH8c"
      },
      "source": [
        "### Depth-first search\n",
        "\n",
        "In depth-first search, we explore as far as possible along each path before going back and finding another one.\n",
        "\n",
        "<img src=\"https://d18l82el6cdm1i.cloudfront.net/uploads/mf7THWHAbL-mazegif.gif\" />\n",
        "<small>Animation from here: https://brilliant.org/wiki/depth-first-search-dfs/</small>"
      ]
    },
    {
      "cell_type": "markdown",
      "metadata": {
        "id": "eaWmzYrScH8d"
      },
      "source": [
        "This is the map of Romania as a dictionary of dictionaries:"
      ]
    },
    {
      "cell_type": "code",
      "metadata": {
        "id": "e2VzuYmfcH8d"
      },
      "source": [
        "romania = {\n",
        "    'Arad': { 'Zerind': 75, 'Sibiu': 140, 'Timisoara': 118 },\n",
        "    'Zerind': { 'Arad': 75, 'Oradea': 71 },\n",
        "    'Sibiu': { 'Arad': 140, 'Oradea': 151, 'Fagaras': 99, 'Rimnicu Vilcea': 80 },\n",
        "    'Timisoara': { 'Arad': 118, 'Lugoj': 111 },\n",
        "    'Oradea': { 'Zerind': 71, 'Sibiu': 151 },\n",
        "    'Lugoj': { 'Timisoara': 111, 'Mehadia': 70 },\n",
        "    'Fagaras': { 'Sibiu': 99, 'Bucharest': 211 },\n",
        "    'Rimnicu Vilcea': { 'Sibiu': 80, 'Pitesti': 97, 'Craiova': 146 },\n",
        "    'Mehadia': { 'Lugoj': 70, 'Dobreta': 75 },\n",
        "    'Bucharest': { 'Fagaras': 211, 'Pitesti': 101, 'Urziceni': 85, 'Giurglu': 90 },\n",
        "    'Pitesti': { 'Rimnicu Vilcea': 97, 'Bucharest': 101, 'Craiova': 138 },\n",
        "    'Craiova': { 'Rimnicu Vilcea': 146, 'Pitesti': 138, 'Dobreta': 120 },\n",
        "    'Dobreta': { 'Mehadia': 75, 'Craiova': 120 },\n",
        "    'Urziceni': { 'Bucharest': 85, 'Hirsova': 98, 'Vaslui': 142 },\n",
        "    'Giurglu': { 'Bucharest': 90 },\n",
        "    'Hirsova': { 'Urziceni': 98, 'Eforie': 86 },\n",
        "    'Vaslui': { 'Urziceni': 142, 'Lasi': 92 },\n",
        "    'Eforie': { 'Hirsova': 86 },\n",
        "    'Lasi': { 'Vaslui': 92, 'Neamt': 87 },\n",
        "    'Neamt': { 'Lasi': 87 }\n",
        "}"
      ],
      "execution_count": 43,
      "outputs": []
    },
    {
      "cell_type": "markdown",
      "metadata": {
        "id": "X5O2eGLfcH8f"
      },
      "source": [
        "Find a path from Arad to Bucharest using depth first search"
      ]
    },
    {
      "cell_type": "code",
      "metadata": {
        "id": "jXPZEZ7CcH8g",
        "outputId": "299da83c-2f68-4099-8c35-95d23777aad5",
        "colab": {
          "base_uri": "https://localhost:8080/",
          "height": 34
        }
      },
      "source": [
        "def depth_first(path_so_far):\n",
        "    current_city = path_so_far[-1]\n",
        "    if current_city == 'Bucharest':\n",
        "        return path_so_far\n",
        "    else:\n",
        "        for neighbour in romania[current_city]:\n",
        "            if neighbour not in path_so_far:\n",
        "                path_found = depth_first(path_so_far + [neighbour])\n",
        "                if path_found:\n",
        "                    return path_found\n",
        "\n",
        "depth_first(['Arad'])"
      ],
      "execution_count": 46,
      "outputs": [
        {
          "output_type": "execute_result",
          "data": {
            "text/plain": [
              "['Arad', 'Zerind', 'Oradea', 'Sibiu', 'Fagaras', 'Bucharest']"
            ]
          },
          "metadata": {},
          "execution_count": 46
        }
      ]
    },
    {
      "cell_type": "markdown",
      "metadata": {
        "id": "6scQ2e2TcH8j"
      },
      "source": [
        "### Breadth-first search\n",
        "\n",
        "In breadth-first search, we explore by moving outward from the start along all possible paths."
      ]
    },
    {
      "cell_type": "markdown",
      "metadata": {
        "id": "oS_q3rL_cH8j"
      },
      "source": [
        "Find a path from Arad to Bucharest using breadth-first search"
      ]
    },
    {
      "cell_type": "code",
      "metadata": {
        "id": "e_26bXkVcH8k",
        "outputId": "b8cd9d0e-a4da-4ec8-e061-18935e42521a",
        "colab": {
          "base_uri": "https://localhost:8080/",
          "height": 34
        }
      },
      "source": [
        "def breadth_first():\n",
        "    paths_so_far = []\n",
        "    current_path = [\"Arad\"]\n",
        "    while current_path[-1] != 'Bucharest':\n",
        "        current_city = current_path[-1]\n",
        "        for neighbour in romania[current_city]:\n",
        "            paths_so_far.append(current_path + [neighbour])\n",
        "        current_path = paths_so_far.pop(0)\n",
        "    return current_path\n",
        "\n",
        "breadth_first()"
      ],
      "execution_count": 49,
      "outputs": [
        {
          "output_type": "execute_result",
          "data": {
            "text/plain": [
              "['Arad', 'Sibiu', 'Fagaras', 'Bucharest']"
            ]
          },
          "metadata": {},
          "execution_count": 49
        }
      ]
    },
    {
      "source": [
        "#### Lab 4 challenge\n",
        "\n",
        "Write a function, `nearby(city)`, that returns a list containing all the cities within a 300 mile trip of the the given city, assuming you can only travel along the roads given. "
      ],
      "cell_type": "markdown",
      "metadata": {}
    },
    {
      "cell_type": "code",
      "execution_count": 59,
      "metadata": {},
      "outputs": [
        {
          "output_type": "execute_result",
          "data": {
            "text/plain": [
              "{'Arad',\n",
              " 'Fagaras',\n",
              " 'Lugoj',\n",
              " 'Mehadia',\n",
              " 'Oradea',\n",
              " 'Rimnicu Vilcea',\n",
              " 'Sibiu',\n",
              " 'Timisoara',\n",
              " 'Zerind'}"
            ]
          },
          "metadata": {},
          "execution_count": 59
        }
      ],
      "source": [
        "def nearby(city):\n",
        "    paths_so_far = []\n",
        "    current_path = ([city], 0)\n",
        "    explored_cities = set()\n",
        "    while current_path != None:\n",
        "        current_city = current_path[0][-1]\n",
        "        explored_cities.update([current_city])\n",
        "        for neighbour in romania[current_city]:\n",
        "            distance = current_path[1] + romania[current_city][neighbour]\n",
        "            if distance < 300:\n",
        "                paths_so_far.append((current_path[0] + [neighbour], distance))\n",
        "        if len(paths_so_far) > 0:\n",
        "            current_path = paths_so_far.pop(0)\n",
        "        else:\n",
        "            current_path = None\n",
        "    return explored_cities\n",
        "\n",
        "nearby('Arad')"
      ]
    },
    {
      "source": [
        "### Uniform cost search\n",
        "In uniform-cost search, we explore by moving outward from the start, but exploring along the shortest path found so far first."
      ],
      "cell_type": "markdown",
      "metadata": {}
    },
    {
      "source": [
        "Find the shortest path from Arad to Bucharest using uniform-cost search."
      ],
      "cell_type": "markdown",
      "metadata": {}
    },
    {
      "cell_type": "code",
      "execution_count": 62,
      "metadata": {},
      "outputs": [
        {
          "output_type": "execute_result",
          "data": {
            "text/plain": [
              "['Arad', 'Sibiu', 'Rimnicu Vilcea', 'Pitesti', 'Bucharest']"
            ]
          },
          "metadata": {},
          "execution_count": 62
        }
      ],
      "source": [
        "import heapq\n",
        "\n",
        "def uniform_cost():\n",
        "    paths_so_far = []\n",
        "    current_path = [\"Arad\"]\n",
        "    distance_travelled = 0\n",
        "    while current_path[-1] != 'Bucharest':\n",
        "        current_city = current_path[-1]\n",
        "        for neighbour in romania[current_city]:\n",
        "            new_distance = distance_travelled + romania[current_city][neighbour]\n",
        "            path_entry = current_path + [neighbour]\n",
        "            heapq.heappush(paths_so_far, (new_distance, path_entry))\n",
        "        distance_travelled, current_path = heapq.heappop(paths_so_far)\n",
        "\n",
        "    return current_path\n",
        "\n",
        "uniform_cost()"
      ]
    },
    {
      "source": [
        "# Sorting\n",
        "\n",
        "Sorting algorithms are one of the most frequently studied class of algorithms. Not only are there many such algorithms, it is also very easy to implement them incorrectly."
      ],
      "cell_type": "markdown",
      "metadata": {}
    },
    {
      "source": [
        "Can we implement [Bubble sort](https://en.wikipedia.org/wiki/Bubble_sort) in Python?"
      ],
      "cell_type": "markdown",
      "metadata": {}
    },
    {
      "cell_type": "code",
      "execution_count": 66,
      "metadata": {},
      "outputs": [
        {
          "output_type": "execute_result",
          "data": {
            "text/plain": [
              "[1, 2, 3, 5, 6]"
            ]
          },
          "metadata": {},
          "execution_count": 66
        }
      ],
      "source": [
        "example_list = [3,5,6,2,1]\n",
        "# [3,5,2,1,6]\n",
        "# [3,2,1,5,6]\n",
        "# ....\n",
        "# [1,2,3,5,6]\n",
        "\n",
        "def bubble_sort(numbers):\n",
        "    for _ in range(len(numbers) - 1):\n",
        "        for i in range(len(numbers) - 1):\n",
        "            if numbers[i] > numbers[i+1]:\n",
        "                temp = numbers[i]\n",
        "                numbers[i] = numbers[i+1]\n",
        "                numbers[i+1] = temp\n",
        "\n",
        "bubble_sort(example_list)\n",
        "example_list"
      ]
    },
    {
      "source": [
        "Can we also implement [merge sort](https://en.wikipedia.org/wiki/Merge_sort)?\n",
        "\n",
        "See `sorting.py`."
      ],
      "cell_type": "markdown",
      "metadata": {}
    },
    {
      "source": [
        "# Error Handling\n",
        "\n",
        "What do we do when things go wrong?"
      ],
      "cell_type": "markdown",
      "metadata": {}
    },
    {
      "source": [
        "## Using `None`\n",
        "\n",
        "Consider a function `find(needle, haystack)` that finds the position of `needle` in the list `haystack`. Can we implement this function?"
      ],
      "cell_type": "markdown",
      "metadata": {}
    },
    {
      "cell_type": "code",
      "execution_count": null,
      "metadata": {},
      "outputs": [],
      "source": []
    },
    {
      "source": [
        "Does python have built-in functionality for doing this?"
      ],
      "cell_type": "markdown",
      "metadata": {}
    },
    {
      "cell_type": "code",
      "execution_count": null,
      "metadata": {},
      "outputs": [],
      "source": []
    },
    {
      "source": [
        "## Exceptions"
      ],
      "cell_type": "markdown",
      "metadata": {}
    },
    {
      "source": [
        "Can we change our `find()` function so that it raises an exception?"
      ],
      "cell_type": "markdown",
      "metadata": {}
    },
    {
      "source": [],
      "cell_type": "code",
      "metadata": {},
      "execution_count": null,
      "outputs": []
    },
    {
      "source": [
        "Consider the function, `score(card_points, cards)`, from the week 4 lab. It takes in a dictionary representing point values for different cards and a list of cards, and calculates the total score for that list.\n",
        "\n",
        "Can we implement this function differently using exceptions?"
      ],
      "cell_type": "markdown",
      "metadata": {}
    },
    {
      "cell_type": "code",
      "execution_count": null,
      "metadata": {},
      "outputs": [],
      "source": []
    },
    {
      "source": [
        "A number, `x`, inside a list, `list`, is said to lead back to itself in 1 step if `list[x] == x`. A number leads back to itself in 2 steps if `list[list[x]] == x`. Which of the numbers in the following list lead back to themselves in 3 steps."
      ],
      "cell_type": "markdown",
      "metadata": {}
    },
    {
      "cell_type": "code",
      "execution_count": null,
      "metadata": {},
      "outputs": [],
      "source": [
        "list = [0, 2, 1, 4, 5, 3, 9, 6, 7]"
      ]
    },
    {
      "source": [
        "# Alternative ways of working with data structures"
      ],
      "cell_type": "markdown",
      "metadata": {}
    },
    {
      "source": [
        "Can we implement the `score(card_points, cards)` function without conditionals or exception handling?"
      ],
      "cell_type": "markdown",
      "metadata": {}
    },
    {
      "cell_type": "code",
      "execution_count": null,
      "metadata": {},
      "outputs": [],
      "source": []
    },
    {
      "source": [
        "## List/Dictionary Comprehensions"
      ],
      "cell_type": "markdown",
      "metadata": {}
    },
    {
      "source": [
        "Can we extract a list of zids from these email addresses?"
      ],
      "cell_type": "markdown",
      "metadata": {}
    },
    {
      "cell_type": "code",
      "execution_count": null,
      "metadata": {},
      "outputs": [],
      "source": [
        "emails = [\"z1234567@student.unsw.edu.au\", \"z7654321@unsw.edu.au\", \"z7891234@ad.unsw.edu.au\", \"z1357924@student.unsw.edu.au\"]"
      ]
    },
    {
      "source": [
        "Can we create a dictionary with the zids as keys and the email addresses as values?"
      ],
      "cell_type": "markdown",
      "metadata": {}
    },
    {
      "cell_type": "code",
      "execution_count": null,
      "metadata": {},
      "outputs": [],
      "source": []
    },
    {
      "source": [
        "Find all the words that are palindromes in this list:"
      ],
      "cell_type": "markdown",
      "metadata": {}
    },
    {
      "cell_type": "code",
      "execution_count": null,
      "metadata": {},
      "outputs": [],
      "source": [
        "words = [\"kayak\", \"hello\", \"racecar\", \"madam\", \"moon\", \"noon\", \"shish\", \"level\"]"
      ]
    }
  ]
}