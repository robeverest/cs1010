{
  "nbformat": 4,
  "nbformat_minor": 0,
  "metadata": {
    "colab": {
      "name": "week3A.ipynb",
      "provenance": [],
      "collapsed_sections": []
    },
    "kernelspec": {
      "name": "python38564bit16056ce0e98a49208e5744e26803b7c0",
      "display_name": "Python 3.8.5 64-bit"
    }
  },
  "cells": [
    {
      "source": [
        "# Lab Recap"
      ],
      "cell_type": "markdown",
      "metadata": {}
    },
    {
      "source": [
        "Can we retrieve 3 random facts from the [Internet Chuck Norris Database](http://www.icndb.com/api/) and display them as formatted HTML?"
      ],
      "cell_type": "markdown",
      "metadata": {}
    },
    {
      "cell_type": "code",
      "execution_count": null,
      "metadata": {},
      "outputs": [],
      "source": []
    },
    {
      "source": [
        "## Cryptographic Hashing\n",
        "\n",
        "Key terms:\n",
        "* Hashing: Transforming data of any size into a fixed-size representation (a hash). Typically:\n",
        "  * If the input data is changed even slightly, the hash is completely different.\n",
        "  * If you have the hash, you can't determine the exact input that was used, but you may be able to determine a *possible* input.\n",
        "* Cryptographic Hashing: Hashing where it's computationally difficult to determine a possible input."
      ],
      "cell_type": "markdown",
      "metadata": {}
    },
    {
      "source": [
        "Can we write a simple hash function?"
      ],
      "cell_type": "markdown",
      "metadata": {}
    },
    {
      "cell_type": "code",
      "execution_count": null,
      "metadata": {},
      "outputs": [],
      "source": []
    },
    {
      "source": [
        "Can we create a cryptographic hash for this string?"
      ],
      "cell_type": "markdown",
      "metadata": {}
    },
    {
      "cell_type": "code",
      "execution_count": null,
      "metadata": {},
      "outputs": [],
      "source": [
        "important_message = \"The exam is on the 12th of May\""
      ]
    },
    {
      "source": [
        "## Digital Signing\n",
        "\n",
        "By combining hashing and asymmetric encryption, we have a way of \"signing\" digital documents."
      ],
      "cell_type": "markdown",
      "metadata": {}
    },
    {
      "source": [
        "Can we digitally sign the following string?"
      ],
      "cell_type": "markdown",
      "metadata": {}
    },
    {
      "cell_type": "code",
      "execution_count": null,
      "metadata": {},
      "outputs": [],
      "source": [
        "verified_message = \"Don't forget to double-check your answers in an exam\""
      ]
    },
    {
      "cell_type": "markdown",
      "metadata": {
        "id": "2Kaag9CycH8b"
      },
      "source": [
        "# Searching"
      ]
    },
    {
      "cell_type": "markdown",
      "metadata": {
        "id": "kb1EMLsycH8c"
      },
      "source": [
        "Search algorithms are a well studied class of algorithms as many problems can be expressed as search problems.\n",
        "\n",
        "As an example, consider this \"map\" of Romania\n",
        "\n",
        "<img src=\"https://d3i71xaburhd42.cloudfront.net/437af7588c6a36fd55c410b7f92b7f47ef57653b/5-Figure3.2-1.png\" alt=\"Romania\" />"
      ]
    },
    {
      "cell_type": "markdown",
      "metadata": {
        "id": "g8auus3QcH8c"
      },
      "source": [
        "### Depth-first search\n",
        "\n",
        "In depth-first search, we explore as far as possible along each path before going back and finding another one.\n",
        "\n",
        "<img src=\"https://d18l82el6cdm1i.cloudfront.net/uploads/mf7THWHAbL-mazegif.gif\" />\n",
        "<small>Animation from here: https://brilliant.org/wiki/depth-first-search-dfs/</small>"
      ]
    },
    {
      "cell_type": "markdown",
      "metadata": {
        "id": "eaWmzYrScH8d"
      },
      "source": [
        "This is the map of Romania as a dictionary of dictionaries:"
      ]
    },
    {
      "cell_type": "code",
      "metadata": {
        "id": "e2VzuYmfcH8d"
      },
      "source": [
        "romania = {\n",
        "    'Arad': { 'Zerind': 75, 'Sibiu': 140, 'Timisoara': 118 },\n",
        "    'Zerind': { 'Arad': 75, 'Oradea': 71 },\n",
        "    'Sibiu': { 'Arad': 140, 'Oradea': 151, 'Fagaras': 99, 'Rimnicu Vilcea': 80 },\n",
        "    'Timisoara': { 'Arad': 118, 'Lugoj': 111 },\n",
        "    'Oradea': { 'Zerind': 71, 'Sibiu': 151 },\n",
        "    'Lugoj': { 'Timisoara': 111, 'Mehadia': 70 },\n",
        "    'Fagaras': { 'Sibiu': 99, 'Bucharest': 211 },\n",
        "    'Rimnicu Vilcea': { 'Sibiu': 80, 'Pitesti': 97, 'Craiova': 146 },\n",
        "    'Mehadia': { 'Lugoj': 70, 'Dobreta': 75 },\n",
        "    'Bucharest': { 'Fagaras': 211, 'Pitesti': 101, 'Urziceni': 85, 'Giurglu': 90 },\n",
        "    'Pitesti': { 'Rimnicu Vilcea': 97, 'Bucharest': 101, 'Craiova': 138 },\n",
        "    'Craiova': { 'Rimnicu Vilcea': 146, 'Pitesti': 138, 'Dobreta': 120 },\n",
        "    'Dobreta': { 'Mehadia': 75, 'Craiova': 120 },\n",
        "    'Urziceni': { 'Bucharest': 85, 'Hirsova': 98, 'Vaslui': 142 },\n",
        "    'Giurglu': { 'Bucharest': 90 },\n",
        "    'Hirsova': { 'Urziceni': 98, 'Eforie': 86 },\n",
        "    'Vaslui': { 'Urziceni': 142, 'Lasi': 92 },\n",
        "    'Eforie': { 'Hirsova': 86 },\n",
        "    'Lasi': { 'Vaslui': 92, 'Neamt': 87 },\n",
        "    'Neamt': { 'Lasi': 87 }\n",
        "}"
      ],
      "execution_count": null,
      "outputs": []
    },
    {
      "cell_type": "markdown",
      "metadata": {
        "id": "X5O2eGLfcH8f"
      },
      "source": [
        "Find a path from Arad to Bucharest using depth first search"
      ]
    },
    {
      "cell_type": "code",
      "metadata": {
        "id": "jXPZEZ7CcH8g",
        "outputId": "299da83c-2f68-4099-8c35-95d23777aad5",
        "colab": {
          "base_uri": "https://localhost:8080/",
          "height": 34
        }
      },
      "source": [],
      "execution_count": null,
      "outputs": []
    },
    {
      "cell_type": "markdown",
      "metadata": {
        "id": "6scQ2e2TcH8j"
      },
      "source": [
        "### Breadth-first search\n",
        "\n",
        "In breadth-first search, we explore by moving outward from the start along all possible paths."
      ]
    },
    {
      "cell_type": "markdown",
      "metadata": {
        "id": "oS_q3rL_cH8j"
      },
      "source": [
        "Find a path from Arad to Bucharest using breadth-first search"
      ]
    },
    {
      "cell_type": "code",
      "metadata": {
        "id": "e_26bXkVcH8k",
        "outputId": "b8cd9d0e-a4da-4ec8-e061-18935e42521a",
        "colab": {
          "base_uri": "https://localhost:8080/",
          "height": 34
        }
      },
      "source": [],
      "execution_count": null,
      "outputs": []
    },
    {
      "source": [
        "#### Lab 4 challenge\n",
        "\n",
        "Write a function, `nearby(city)`, that returns a list containing all the cities within a 300 mile trip of the the given city, assuming you can only travel along the roads given. "
      ],
      "cell_type": "markdown",
      "metadata": {}
    },
    {
      "cell_type": "code",
      "execution_count": null,
      "metadata": {},
      "outputs": [],
      "source": []
    },
    {
      "source": [
        "### Uniform cost search\n",
        "In uniform-cost search, we explore by moving outward from the start, but exploring along the shortest path found so far first."
      ],
      "cell_type": "markdown",
      "metadata": {}
    },
    {
      "source": [
        "Find the shortest path from Arad to Bucharest using uniform-cost search."
      ],
      "cell_type": "markdown",
      "metadata": {}
    },
    {
      "cell_type": "code",
      "execution_count": null,
      "metadata": {},
      "outputs": [],
      "source": []
    },
    {
      "source": [
        "# Sorting\n",
        "\n",
        "Sorting algorithms are one of the most frequently studied class of algorithms. Not only are there many such algorithms, it is also very easy to implement them incorrectly."
      ],
      "cell_type": "markdown",
      "metadata": {}
    },
    {
      "source": [
        "Can we implement [Bubble sort](https://en.wikipedia.org/wiki/Bubble_sort) in Python?\n",
        "\n",
        "See `sorting.py`."
      ],
      "cell_type": "markdown",
      "metadata": {}
    },
    {
      "source": [
        "Can we also implement [merge sort](https://en.wikipedia.org/wiki/Merge_sort)?\n",
        "\n",
        "See `sorting.py`."
      ],
      "cell_type": "markdown",
      "metadata": {}
    },
    {
      "source": [
        "# Error Handling\n",
        "\n",
        "What do we do when things go wrong?"
      ],
      "cell_type": "markdown",
      "metadata": {}
    },
    {
      "source": [
        "## Using `None`\n",
        "\n",
        "Consider a function `find(needle, haystack)` that finds the position of `needle` in the list `haystack`. Can we implement this function?"
      ],
      "cell_type": "markdown",
      "metadata": {}
    },
    {
      "cell_type": "code",
      "execution_count": null,
      "metadata": {},
      "outputs": [],
      "source": []
    },
    {
      "source": [
        "Does python have built-in functionality for doing this?"
      ],
      "cell_type": "markdown",
      "metadata": {}
    },
    {
      "cell_type": "code",
      "execution_count": null,
      "metadata": {},
      "outputs": [],
      "source": []
    },
    {
      "source": [
        "## Exceptions"
      ],
      "cell_type": "markdown",
      "metadata": {}
    },
    {
      "source": [
        "Can we change our `find()` function so that it raises an exception?"
      ],
      "cell_type": "markdown",
      "metadata": {}
    },
    {
      "source": [],
      "cell_type": "code",
      "metadata": {},
      "execution_count": null,
      "outputs": []
    },
    {
      "source": [
        "Consider the function, `score(card_points, cards)`, from the week 4 lab. It takes in a dictionary representing point values for different cards and a list of cards, and calculates the total score for that list.\n",
        "\n",
        "Can we implement this function differently using exceptions?"
      ],
      "cell_type": "markdown",
      "metadata": {}
    },
    {
      "cell_type": "code",
      "execution_count": null,
      "metadata": {},
      "outputs": [],
      "source": []
    },
    {
      "source": [
        "A number, `x`, inside a list, `list`, is said to lead back to itself in 1 step if `list[x] == x`. A number leads back to itself in 2 steps if `list[list[x]] == x`. Which of the numbers in the following list lead back to themselves in 3 steps."
      ],
      "cell_type": "markdown",
      "metadata": {}
    },
    {
      "cell_type": "code",
      "execution_count": null,
      "metadata": {},
      "outputs": [],
      "source": [
        "list = [0, 2, 1, 4, 5, 3, 9, 6, 7]"
      ]
    },
    {
      "source": [
        "# Alternative ways of working with data structures"
      ],
      "cell_type": "markdown",
      "metadata": {}
    },
    {
      "source": [
        "Can we implement the `score(card_points, cards)` function without conditionals or exception handling?"
      ],
      "cell_type": "markdown",
      "metadata": {}
    },
    {
      "cell_type": "code",
      "execution_count": null,
      "metadata": {},
      "outputs": [],
      "source": []
    },
    {
      "source": [
        "## List/Dictionary Comprehensions"
      ],
      "cell_type": "markdown",
      "metadata": {}
    },
    {
      "source": [
        "Can we extract a list of zids from these email addresses?"
      ],
      "cell_type": "markdown",
      "metadata": {}
    },
    {
      "cell_type": "code",
      "execution_count": null,
      "metadata": {},
      "outputs": [],
      "source": [
        "emails = [\"z1234567@student.unsw.edu.au\", \"z7654321@unsw.edu.au\", \"z7891234@ad.unsw.edu.au\", \"z1357924@student.unsw.edu.au\"]"
      ]
    },
    {
      "source": [
        "Can we create a dictionary with the zids as keys and the email addresses as values?"
      ],
      "cell_type": "markdown",
      "metadata": {}
    },
    {
      "cell_type": "code",
      "execution_count": null,
      "metadata": {},
      "outputs": [],
      "source": []
    },
    {
      "source": [
        "Find all the words that are palindromes in this list:"
      ],
      "cell_type": "markdown",
      "metadata": {}
    },
    {
      "cell_type": "code",
      "execution_count": null,
      "metadata": {},
      "outputs": [],
      "source": [
        "words = [\"kayak\", \"hello\", \"racecar\", \"madam\", \"moon\", \"noon\", \"shish\", \"level\"]"
      ]
    }
  ]
}