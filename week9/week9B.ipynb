{
  "nbformat": 4,
  "nbformat_minor": 0,
  "metadata": {
    "colab": {
      "name": "week3A.ipynb",
      "provenance": [],
      "collapsed_sections": []
    },
    "kernelspec": {
      "name": "python3",
      "display_name": "Python 3.9.0 64-bit",
      "metadata": {
        "interpreter": {
          "hash": "ac2eaa0ea0ebeafcc7822e65e46aa9d4f966f30b695406963e145ea4a91cd4fc"
        }
      }
    }
  },
  "cells": [
    {
      "source": [
        "# Week 10 plans\n",
        "\n",
        "* Tuesday will be revision.\n",
        "  * In-person in AGSM John B Reid Theatre (map reference G27, room G07)\n",
        "  * I will go through the week 5 and week 8 lab solutions.\n",
        "  * Discuss the exam in more detail.\n",
        "  * If you have any revision questions, send them to me. Please be as specific as possible.\n",
        "* Thursday will be to finish anything we weren't able to do on Tuesday and to give the chance for the online students to ask any revision questions in real time. Any remaining time will be reserved for advanced topics and course reflection."
      ],
      "cell_type": "markdown",
      "metadata": {}
    },
    {
      "source": [
        "# Sorting\n",
        "\n",
        "Sorting algorithms are one of the most frequently studied class of algorithms. Not only are there many such algorithms, it is also very easy to implement them incorrectly."
      ],
      "cell_type": "markdown",
      "metadata": {}
    },
    {
      "source": [
        "Can we implement [Bubble sort](https://en.wikipedia.org/wiki/Bubble_sort) in Python?"
      ],
      "cell_type": "markdown",
      "metadata": {}
    },
    {
      "cell_type": "code",
      "execution_count": 66,
      "metadata": {},
      "outputs": [
        {
          "output_type": "execute_result",
          "data": {
            "text/plain": [
              "[1, 2, 3, 5, 6]"
            ]
          },
          "metadata": {},
          "execution_count": 66
        }
      ],
      "source": [
        "example_list = [3,5,6,2,1]\n",
        "# [3,5,2,1,6]\n",
        "# [3,2,1,5,6]\n",
        "# ....\n",
        "# [1,2,3,5,6]\n",
        "\n",
        "def bubble_sort(numbers):\n",
        "    for _ in range(len(numbers) - 1):\n",
        "        for i in range(len(numbers) - 1):\n",
        "            if numbers[i] > numbers[i+1]:\n",
        "                temp = numbers[i]\n",
        "                numbers[i] = numbers[i+1]\n",
        "                numbers[i+1] = temp\n",
        "\n",
        "bubble_sort(example_list)\n",
        "example_list"
      ]
    },
    {
      "source": [
        "Can we also implement [merge sort](https://en.wikipedia.org/wiki/Merge_sort)?\n",
        "\n",
        "See `sorting.py`."
      ],
      "cell_type": "markdown",
      "metadata": {}
    },
    {
      "cell_type": "code",
      "execution_count": 1,
      "metadata": {},
      "outputs": [
        {
          "output_type": "execute_result",
          "data": {
            "text/plain": [
              "[1, 2, 2, 3, 4, 4, 5, 6, 8]"
            ]
          },
          "metadata": {},
          "execution_count": 1
        }
      ],
      "source": [
        "def merge(sorted1, sorted2):\n",
        "    result = []\n",
        "    while sorted1 != [] and sorted2 != []:\n",
        "        if sorted1[0] < sorted2[0]:\n",
        "            result.append(sorted1.pop(0))\n",
        "        else:\n",
        "            result.append(sorted2.pop(0))\n",
        "    result += sorted1\n",
        "    result += sorted2\n",
        "    return result\n",
        "\n",
        "merge([1,2,3,4,5], [2,4,6,8])"
      ]
    },
    {
      "cell_type": "code",
      "execution_count": 3,
      "metadata": {},
      "outputs": [
        {
          "output_type": "execute_result",
          "data": {
            "text/plain": [
              "3"
            ]
          },
          "metadata": {},
          "execution_count": 3
        }
      ],
      "source": [
        "8 // 2\n",
        "7 // 2"
      ]
    },
    {
      "cell_type": "code",
      "execution_count": 11,
      "metadata": {},
      "outputs": [
        {
          "output_type": "execute_result",
          "data": {
            "text/plain": [
              "[2, 2, 3, 4, 4, 5, 5, 7, 8, 8, 9]"
            ]
          },
          "metadata": {},
          "execution_count": 11
        }
      ],
      "source": [
        "def mergesort(numbers):\n",
        "    if len(numbers) <= 1:\n",
        "        return numbers\n",
        "    else:\n",
        "        mid = len(numbers) // 2\n",
        "        left = numbers[:mid]\n",
        "        right = numbers[mid:]\n",
        "        left = mergesort(left)\n",
        "        right = mergesort(right)\n",
        "        return merge(left, right)\n",
        "\n",
        "mergesort([7,8,5,2,4,8,4,2,5,9,3])"
      ]
    },
    {
      "source": [
        "# Error Handling\n",
        "\n",
        "What do we do when things go wrong?"
      ],
      "cell_type": "markdown",
      "metadata": {}
    },
    {
      "source": [
        "## Using `None`\n",
        "\n",
        "Consider a function `find(needle, haystack)` that finds the position of `needle` in the list `haystack`. Can we implement this function?"
      ],
      "cell_type": "markdown",
      "metadata": {}
    },
    {
      "cell_type": "code",
      "execution_count": 15,
      "metadata": {},
      "outputs": [
        {
          "output_type": "execute_result",
          "data": {
            "text/plain": [
              "NoneType"
            ]
          },
          "metadata": {},
          "execution_count": 15
        }
      ],
      "source": [
        "def find(needle, haystack):\n",
        "    for i in range(len(haystack)):\n",
        "        if needle == haystack[i]:\n",
        "            return i\n",
        "    return None\n",
        "\n",
        "find(1, [5,6,8,2,3,7,1])\n",
        "type(find(4, [5,6,8,2,3,7,1]))"
      ]
    },
    {
      "source": [
        "Does python have built-in functionality for doing this?"
      ],
      "cell_type": "markdown",
      "metadata": {}
    },
    {
      "cell_type": "code",
      "execution_count": 19,
      "metadata": {},
      "outputs": [
        {
          "output_type": "error",
          "ename": "ValueError",
          "evalue": "3 is not in list",
          "traceback": [
            "\u001b[0;31m---------------------------------------------------------------------------\u001b[0m",
            "\u001b[0;31mValueError\u001b[0m                                Traceback (most recent call last)",
            "\u001b[0;32m<ipython-input-19-ff61f6cb4180>\u001b[0m in \u001b[0;36m<module>\u001b[0;34m\u001b[0m\n\u001b[1;32m      1\u001b[0m \u001b[0mexample_list\u001b[0m \u001b[0;34m=\u001b[0m \u001b[0;34m[\u001b[0m\u001b[0;36m7\u001b[0m\u001b[0;34m,\u001b[0m\u001b[0;36m5\u001b[0m\u001b[0;34m,\u001b[0m\u001b[0;36m2\u001b[0m\u001b[0;34m,\u001b[0m\u001b[0;36m9\u001b[0m\u001b[0;34m,\u001b[0m\u001b[0;36m4\u001b[0m\u001b[0;34m]\u001b[0m\u001b[0;34m\u001b[0m\u001b[0;34m\u001b[0m\u001b[0m\n\u001b[0;32m----> 2\u001b[0;31m \u001b[0mexample_list\u001b[0m\u001b[0;34m.\u001b[0m\u001b[0mindex\u001b[0m\u001b[0;34m(\u001b[0m\u001b[0;36m3\u001b[0m\u001b[0;34m)\u001b[0m\u001b[0;34m\u001b[0m\u001b[0;34m\u001b[0m\u001b[0m\n\u001b[0m",
            "\u001b[0;31mValueError\u001b[0m: 3 is not in list"
          ]
        }
      ],
      "source": [
        "example_list = [7,5,2,9,4]\n",
        "example_list.index(3)"
      ]
    },
    {
      "source": [
        "## Exceptions"
      ],
      "cell_type": "markdown",
      "metadata": {}
    },
    {
      "source": [
        "Can we change our `find()` function so that it raises an exception?"
      ],
      "cell_type": "markdown",
      "metadata": {}
    },
    {
      "source": [
        "def find(needle, haystack):\n",
        "    for i in range(len(haystack)):\n",
        "        if needle == haystack[i]:\n",
        "            return i\n",
        "    raise ValueError(str(needle) + \" is not in haystack\")\n",
        "\n",
        "find(1, [5,6,8,2,3,7,1])\n",
        "type(find(4, [5,6,8,2,3,7,1]))"
      ],
      "cell_type": "code",
      "metadata": {},
      "execution_count": 21,
      "outputs": [
        {
          "output_type": "error",
          "ename": "ValueError",
          "evalue": "4 is not in haystack",
          "traceback": [
            "\u001b[0;31m---------------------------------------------------------------------------\u001b[0m",
            "\u001b[0;31mValueError\u001b[0m                                Traceback (most recent call last)",
            "\u001b[0;32m<ipython-input-21-6ec3a39073c1>\u001b[0m in \u001b[0;36m<module>\u001b[0;34m\u001b[0m\n\u001b[1;32m      6\u001b[0m \u001b[0;34m\u001b[0m\u001b[0m\n\u001b[1;32m      7\u001b[0m \u001b[0mfind\u001b[0m\u001b[0;34m(\u001b[0m\u001b[0;36m1\u001b[0m\u001b[0;34m,\u001b[0m \u001b[0;34m[\u001b[0m\u001b[0;36m5\u001b[0m\u001b[0;34m,\u001b[0m\u001b[0;36m6\u001b[0m\u001b[0;34m,\u001b[0m\u001b[0;36m8\u001b[0m\u001b[0;34m,\u001b[0m\u001b[0;36m2\u001b[0m\u001b[0;34m,\u001b[0m\u001b[0;36m3\u001b[0m\u001b[0;34m,\u001b[0m\u001b[0;36m7\u001b[0m\u001b[0;34m,\u001b[0m\u001b[0;36m1\u001b[0m\u001b[0;34m]\u001b[0m\u001b[0;34m)\u001b[0m\u001b[0;34m\u001b[0m\u001b[0;34m\u001b[0m\u001b[0m\n\u001b[0;32m----> 8\u001b[0;31m \u001b[0mtype\u001b[0m\u001b[0;34m(\u001b[0m\u001b[0mfind\u001b[0m\u001b[0;34m(\u001b[0m\u001b[0;36m4\u001b[0m\u001b[0;34m,\u001b[0m \u001b[0;34m[\u001b[0m\u001b[0;36m5\u001b[0m\u001b[0;34m,\u001b[0m\u001b[0;36m6\u001b[0m\u001b[0;34m,\u001b[0m\u001b[0;36m8\u001b[0m\u001b[0;34m,\u001b[0m\u001b[0;36m2\u001b[0m\u001b[0;34m,\u001b[0m\u001b[0;36m3\u001b[0m\u001b[0;34m,\u001b[0m\u001b[0;36m7\u001b[0m\u001b[0;34m,\u001b[0m\u001b[0;36m1\u001b[0m\u001b[0;34m]\u001b[0m\u001b[0;34m)\u001b[0m\u001b[0;34m)\u001b[0m\u001b[0;34m\u001b[0m\u001b[0;34m\u001b[0m\u001b[0m\n\u001b[0m",
            "\u001b[0;32m<ipython-input-21-6ec3a39073c1>\u001b[0m in \u001b[0;36mfind\u001b[0;34m(needle, haystack)\u001b[0m\n\u001b[1;32m      3\u001b[0m         \u001b[0;32mif\u001b[0m \u001b[0mneedle\u001b[0m \u001b[0;34m==\u001b[0m \u001b[0mhaystack\u001b[0m\u001b[0;34m[\u001b[0m\u001b[0mi\u001b[0m\u001b[0;34m]\u001b[0m\u001b[0;34m:\u001b[0m\u001b[0;34m\u001b[0m\u001b[0;34m\u001b[0m\u001b[0m\n\u001b[1;32m      4\u001b[0m             \u001b[0;32mreturn\u001b[0m \u001b[0mi\u001b[0m\u001b[0;34m\u001b[0m\u001b[0;34m\u001b[0m\u001b[0m\n\u001b[0;32m----> 5\u001b[0;31m     \u001b[0;32mraise\u001b[0m \u001b[0mValueError\u001b[0m\u001b[0;34m(\u001b[0m\u001b[0mstr\u001b[0m\u001b[0;34m(\u001b[0m\u001b[0mneedle\u001b[0m\u001b[0;34m)\u001b[0m \u001b[0;34m+\u001b[0m \u001b[0;34m\" is not in haystack\"\u001b[0m\u001b[0;34m)\u001b[0m\u001b[0;34m\u001b[0m\u001b[0;34m\u001b[0m\u001b[0m\n\u001b[0m\u001b[1;32m      6\u001b[0m \u001b[0;34m\u001b[0m\u001b[0m\n\u001b[1;32m      7\u001b[0m \u001b[0mfind\u001b[0m\u001b[0;34m(\u001b[0m\u001b[0;36m1\u001b[0m\u001b[0;34m,\u001b[0m \u001b[0;34m[\u001b[0m\u001b[0;36m5\u001b[0m\u001b[0;34m,\u001b[0m\u001b[0;36m6\u001b[0m\u001b[0;34m,\u001b[0m\u001b[0;36m8\u001b[0m\u001b[0;34m,\u001b[0m\u001b[0;36m2\u001b[0m\u001b[0;34m,\u001b[0m\u001b[0;36m3\u001b[0m\u001b[0;34m,\u001b[0m\u001b[0;36m7\u001b[0m\u001b[0;34m,\u001b[0m\u001b[0;36m1\u001b[0m\u001b[0;34m]\u001b[0m\u001b[0;34m)\u001b[0m\u001b[0;34m\u001b[0m\u001b[0;34m\u001b[0m\u001b[0m\n",
            "\u001b[0;31mValueError\u001b[0m: 4 is not in haystack"
          ]
        }
      ]
    },
    {
      "source": [
        "Consider the function, `score(card_points, cards)`, from the week 4 lab. It takes in a dictionary representing point values for different cards and a list of cards, and calculates the total score for that list.\n",
        "\n",
        "Can we implement this function differently using exceptions?"
      ],
      "cell_type": "markdown",
      "metadata": {}
    },
    {
      "cell_type": "code",
      "execution_count": 28,
      "metadata": {},
      "outputs": [
        {
          "output_type": "error",
          "ename": "KeyError",
          "evalue": "'snake'",
          "traceback": [
            "\u001b[0;31m---------------------------------------------------------------------------\u001b[0m",
            "\u001b[0;31mKeyError\u001b[0m                                  Traceback (most recent call last)",
            "\u001b[0;32m<ipython-input-28-7d7a8a8eee6c>\u001b[0m in \u001b[0;36m<module>\u001b[0;34m\u001b[0m\n\u001b[1;32m      5\u001b[0m \u001b[0mexample_dict\u001b[0m \u001b[0;34m=\u001b[0m \u001b[0;34m{\u001b[0m \u001b[0;34m\"cat\"\u001b[0m\u001b[0;34m:\u001b[0m \u001b[0;36m1\u001b[0m\u001b[0;34m,\u001b[0m \u001b[0;34m\"dog\"\u001b[0m\u001b[0;34m:\u001b[0m \u001b[0;36m2\u001b[0m\u001b[0;34m}\u001b[0m\u001b[0;34m\u001b[0m\u001b[0;34m\u001b[0m\u001b[0m\n\u001b[1;32m      6\u001b[0m \u001b[0;34m\u001b[0m\u001b[0m\n\u001b[0;32m----> 7\u001b[0;31m \u001b[0mexample_dict\u001b[0m\u001b[0;34m[\u001b[0m\u001b[0;34m\"snake\"\u001b[0m\u001b[0;34m]\u001b[0m\u001b[0;34m\u001b[0m\u001b[0;34m\u001b[0m\u001b[0m\n\u001b[0m",
            "\u001b[0;31mKeyError\u001b[0m: 'snake'"
          ]
        }
      ],
      "source": [
        "example_list = [3,2,1]\n",
        "\n",
        "# example_list[3]\n",
        "\n",
        "example_dict = { \"cat\": 1, \"dog\": 2}\n",
        "\n",
        "example_dict[\"snake\"]"
      ]
    },
    {
      "cell_type": "code",
      "execution_count": null,
      "metadata": {},
      "outputs": [],
      "source": [
        "def score(card_points, cards):\n",
        "    total_score = 0\n",
        "    for card in cards:\n",
        "        try:\n",
        "            total_score += card_points[card]\n",
        "        except KeyError:\n",
        "            pass\n",
        "    return total_score"
      ]
    },
    {
      "source": [
        "A number, `x`, inside a list, `list`, is said to lead back to itself in 1 step if `list[x] == x`. A number leads back to itself in 2 steps if `list[list[x]] == x`. Which of the numbers in the following list lead back to themselves in 3 steps."
      ],
      "cell_type": "markdown",
      "metadata": {}
    },
    {
      "cell_type": "code",
      "execution_count": 37,
      "metadata": {},
      "outputs": [
        {
          "output_type": "stream",
          "name": "stdout",
          "text": [
            "0\n4\n5\n3\n"
          ]
        }
      ],
      "source": [
        "list = [0, 2, 1, 4, 5, 3, 9, 6, 7]\n",
        "\n",
        "for x in list:\n",
        "    try:\n",
        "        if list[list[list[x]]] == x:\n",
        "            print(x)\n",
        "    except IndexError:\n",
        "        pass"
      ]
    },
    {
      "source": [
        "# Alternative ways of working with data structures"
      ],
      "cell_type": "markdown",
      "metadata": {}
    },
    {
      "source": [
        "Can we implement the `score(card_points, cards)` function without conditionals or exception handling?"
      ],
      "cell_type": "markdown",
      "metadata": {}
    },
    {
      "cell_type": "code",
      "execution_count": 42,
      "metadata": {},
      "outputs": [
        {
          "output_type": "execute_result",
          "data": {
            "text/plain": [
              "14"
            ]
          },
          "metadata": {},
          "execution_count": 42
        }
      ],
      "source": [
        "def score(card_points, cards):\n",
        "    total_score = 0\n",
        "    for card in cards:\n",
        "        total_score += card_points.get(card, 0)\n",
        "    return total_score\n",
        "\n",
        "score({\"Ace\": 5, \"King\": 3, \"Queen\": 2, \"Jack\": 1 },\n",
        "             [\"10\", \"Jack\", \"Ace\", \"King\", \"Queen\", \"King\", \"3\"])"
      ]
    },
    {
      "source": [
        "## List/Dictionary Comprehensions"
      ],
      "cell_type": "markdown",
      "metadata": {}
    },
    {
      "source": [
        "Can we extract a list of zids from these email addresses?"
      ],
      "cell_type": "markdown",
      "metadata": {}
    },
    {
      "cell_type": "code",
      "execution_count": 44,
      "metadata": {},
      "outputs": [
        {
          "output_type": "execute_result",
          "data": {
            "text/plain": [
              "['z1234567', 'z7654321', 'z7891234', 'z1357924']"
            ]
          },
          "metadata": {},
          "execution_count": 44
        }
      ],
      "source": [
        "emails = [\"z1234567@student.unsw.edu.au\", \"z7654321@unsw.edu.au\", \"z7891234@ad.unsw.edu.au\", \"z1357924@student.unsw.edu.au\"]\n",
        "\n",
        "zids = [email.split('@')[0] for email in emails]\n",
        "zids = [email[0:8] for email in emails]\n",
        "\n",
        "zids"
      ]
    },
    {
      "source": [
        "Can we create a dictionary with the zids as keys and the email addresses as values?"
      ],
      "cell_type": "markdown",
      "metadata": {}
    },
    {
      "cell_type": "code",
      "execution_count": 45,
      "metadata": {},
      "outputs": [
        {
          "output_type": "execute_result",
          "data": {
            "text/plain": [
              "{'z1234567': 'z1234567@student.unsw.edu.au',\n",
              " 'z7654321': 'z7654321@unsw.edu.au',\n",
              " 'z7891234': 'z7891234@ad.unsw.edu.au',\n",
              " 'z1357924': 'z1357924@student.unsw.edu.au'}"
            ]
          },
          "metadata": {},
          "execution_count": 45
        }
      ],
      "source": [
        "zid_to_email = { email[0:8]: email for email in emails }\n",
        "\n",
        "zid_to_email"
      ]
    },
    {
      "source": [
        "Find all the words that are palindromes in this list:"
      ],
      "cell_type": "markdown",
      "metadata": {}
    },
    {
      "cell_type": "code",
      "execution_count": 46,
      "metadata": {},
      "outputs": [
        {
          "output_type": "execute_result",
          "data": {
            "text/plain": [
              "['kayak', 'racecar', 'madam', 'noon', 'level']"
            ]
          },
          "metadata": {},
          "execution_count": 46
        }
      ],
      "source": [
        "words = [\"kayak\", \"hello\", \"racecar\", \"madam\", \"moon\", \"noon\", \"shish\", \"level\"]\n",
        "\n",
        "palindromes = [ word for word in words if word == word[::-1] ]\n",
        "\n",
        "palindromes"
      ]
    },
    {
      "cell_type": "code",
      "execution_count": 61,
      "metadata": {},
      "outputs": [
        {
          "output_type": "execute_result",
          "data": {
            "text/plain": [
              "['f', 'e', 'd', 'c', 'b', 'a']"
            ]
          },
          "metadata": {},
          "execution_count": 61
        }
      ],
      "source": [
        "example_list = [\"a\", \"b\", \"c\", \"d\", \"e\", \"f\"]\n",
        "\n",
        "example_list[::-1]"
      ]
    },
    {
      "source": [
        "# Functional Programming\n",
        "\n",
        "Functional programming is a programming paradigm where programs are built by composing *pure* functions"
      ],
      "cell_type": "markdown",
      "metadata": {}
    },
    {
      "source": [
        "## Functions as values\n",
        "\n"
      ],
      "cell_type": "markdown",
      "metadata": {}
    },
    {
      "source": [
        "Can we create a list of functions?"
      ],
      "cell_type": "markdown",
      "metadata": {}
    },
    {
      "cell_type": "code",
      "execution_count": 65,
      "metadata": {},
      "outputs": [
        {
          "output_type": "execute_result",
          "data": {
            "text/plain": [
              "8"
            ]
          },
          "metadata": {},
          "execution_count": 65
        }
      ],
      "source": [
        "def double(n):\n",
        "    return 2*n\n",
        "\n",
        "def triple(n):\n",
        "    return 3*n\n",
        "\n",
        "def power2(n):\n",
        "    return 2 ** n\n",
        "\n",
        "list_functions = [double, triple, power2]\n",
        "\n",
        "list_functions[2](3)"
      ]
    },
    {
      "source": [
        "Can we write the function `apply_list(functions, value)` that applies all the functions in the list `functions` to `value` and returns the results in a new list?"
      ],
      "cell_type": "markdown",
      "metadata": {}
    },
    {
      "cell_type": "code",
      "execution_count": 67,
      "metadata": {},
      "outputs": [
        {
          "output_type": "execute_result",
          "data": {
            "text/plain": [
              "[10, 15, 32]"
            ]
          },
          "metadata": {},
          "execution_count": 67
        }
      ],
      "source": [
        "def apply_list(functions, value):\n",
        "    result = []\n",
        "    for function in functions:\n",
        "        result.append(function(value))\n",
        "    return result\n",
        "\n",
        "apply_list(list_functions, 5)"
      ]
    },
    {
      "source": [
        "Can we do the same with a single function and a list of values?"
      ],
      "cell_type": "markdown",
      "metadata": {}
    },
    {
      "cell_type": "code",
      "execution_count": 69,
      "metadata": {},
      "outputs": [
        {
          "output_type": "execute_result",
          "data": {
            "text/plain": [
              "[2, 4, 6, 8, 10, 12, 14]"
            ]
          },
          "metadata": {},
          "execution_count": 69
        }
      ],
      "source": [
        "def list_apply(function, values):\n",
        "    result = []\n",
        "    for value in values:\n",
        "        result.append(function(value))\n",
        "    return result\n",
        "\n",
        "list_apply(double, [1,2,3,4,5,6,7])"
      ]
    },
    {
      "source": [
        "Do functions always have to be given a name?"
      ],
      "cell_type": "markdown",
      "metadata": {}
    },
    {
      "cell_type": "code",
      "execution_count": 71,
      "metadata": {},
      "outputs": [
        {
          "output_type": "execute_result",
          "data": {
            "text/plain": [
              "<function __main__.<lambda>(x)>"
            ]
          },
          "metadata": {},
          "execution_count": 71
        }
      ],
      "source": [
        "list_apply(lambda x: x*x, [1,2,3,4,5,6,7])\n",
        "\n",
        "double = lambda x: 2*x\n",
        "\n",
        "double"
      ]
    },
    {
      "cell_type": "code",
      "execution_count": 1,
      "metadata": {},
      "outputs": [
        {
          "output_type": "execute_result",
          "data": {
            "text/plain": [
              "[1, 4, 9, 16, 25, 36, 49]"
            ]
          },
          "metadata": {},
          "execution_count": 1
        }
      ],
      "source": [
        "list(map(lambda x: x*x, [1,2,3,4,5,6,7]))"
      ]
    },
    {
      "source": [
        "## List Combinators\n",
        "\n",
        "List combinators are functions that perform operations on lists, typically used as an alternative to loops.\n",
        "\n",
        "Many are available form `functools` and `itertools`."
      ],
      "cell_type": "markdown",
      "metadata": {}
    },
    {
      "source": [
        "Consider a function, `common_letters(words)`, that calculates $2a + e$ where $a$ is the number of times the letter \"a\" appears in all the words in `words` and $e$ is the number of times the letter \"e\" occurs. Can we write such a function without using any form of loop?"
      ],
      "cell_type": "markdown",
      "metadata": {}
    },
    {
      "cell_type": "code",
      "execution_count": 74,
      "metadata": {},
      "outputs": [
        {
          "output_type": "execute_result",
          "data": {
            "text/plain": [
              "24"
            ]
          },
          "metadata": {},
          "execution_count": 74
        }
      ],
      "source": [
        "example_list = [8,5,4,7]\n",
        "\n",
        "reduce(lambda total, number: total + number, example_list)"
      ]
    },
    {
      "cell_type": "code",
      "execution_count": 77,
      "metadata": {},
      "outputs": [
        {
          "output_type": "execute_result",
          "data": {
            "text/plain": [
              "8"
            ]
          },
          "metadata": {},
          "execution_count": 77
        }
      ],
      "source": [
        "from functools import reduce\n",
        "\n",
        "def common_letters(words):\n",
        "    return reduce(lambda total, word: total + 2*word.count('a') + word.count('e'), words, 0)\n",
        "\n",
        "common_letters(['correct', 'horse', 'battery', 'staple'])"
      ]
    },
    {
      "source": [
        "Consider this dictionary of first year courses and the number of enrolments they have:"
      ],
      "cell_type": "markdown",
      "metadata": {}
    },
    {
      "cell_type": "code",
      "execution_count": 2,
      "metadata": {},
      "outputs": [],
      "source": [
        "first_year_courses = { \"COMP1010\": 45, \"COMP1511\": 560, \"COMP1911\": 100, \"MATH1131\": 1034, \"MATH1231\": 895, \"FINS1612\": 423, \"FINS1613\": 587, \"ACCT1501\": 327 }"
      ]
    },
    {
      "source": [
        "Can we get a list of all the courses with 500 or more enrolments?"
      ],
      "cell_type": "markdown",
      "metadata": {}
    },
    {
      "cell_type": "code",
      "execution_count": 7,
      "metadata": {},
      "outputs": [
        {
          "output_type": "execute_result",
          "data": {
            "text/plain": [
              "['COMP1511', 'MATH1131', 'MATH1231', 'FINS1613']"
            ]
          },
          "metadata": {},
          "execution_count": 7
        }
      ],
      "source": [
        "list(map(lambda course_enrolment: course_enrolment[0], filter(lambda course_enrolment: course_enrolment[1] > 500, first_year_courses.items())))"
      ]
    },
    {
      "source": [
        "Can we construct a dictionary containing all the subject areas and the number of enrolments in those subject areas?"
      ],
      "cell_type": "markdown",
      "metadata": {}
    },
    {
      "cell_type": "code",
      "execution_count": 9,
      "metadata": {},
      "outputs": [
        {
          "output_type": "execute_result",
          "data": {
            "text/plain": [
              "{'COMP': 705, 'MATH': 1929, 'FINS': 1010, 'ACCT': 327}"
            ]
          },
          "metadata": {},
          "execution_count": 9
        }
      ],
      "source": [
        "subject_areas = {}\n",
        "\n",
        "def update_subject_areas(course_enrolment):\n",
        "    course = course_enrolment[0]\n",
        "    enrolments = course_enrolment[1]\n",
        "    if course[:4] in subject_areas:\n",
        "        subject_areas[course[:4]] += enrolments\n",
        "    else:\n",
        "        subject_areas[course[:4]] = enrolments\n",
        "\n",
        "list(map(update_subject_areas, first_year_courses.items()))\n",
        "\n",
        "subject_areas"
      ]
    },
    {
      "source": [
        "# Code Golf\n",
        "\n",
        "Code golf is the challenge of solving programming problems with the least amount of code possible. While a fun exercise, this is not necessarily a good way to write code.\n",
        "\n",
        "Some tips are [here](https://www.geeksforgeeks.org/code-golfing-in-python/)."
      ],
      "cell_type": "markdown",
      "metadata": {}
    },
    {
      "cell_type": "code",
      "execution_count": 11,
      "metadata": {},
      "outputs": [
        {
          "output_type": "stream",
          "name": "stdout",
          "text": [
            "Ahhh\neeehhh\nummmm\n"
          ]
        },
        {
          "output_type": "execute_result",
          "data": {
            "text/plain": [
              "-6"
            ]
          },
          "metadata": {},
          "execution_count": 11
        }
      ],
      "source": [
        "m = 3\n",
        "n = 2\n",
        "\n",
        "if m:\n",
        "    print(\"Ahhh\")\n",
        "\n",
        "x = True\n",
        "y = True\n",
        "\n",
        "if x + y:\n",
        "    print(\"eeehhh\")\n",
        "\n",
        "if x * y:\n",
        "    print(\"ummmm\")\n",
        "\n",
        "\n",
        "~5"
      ]
    }
  ]
}