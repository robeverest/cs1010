{
  "nbformat": 4,
  "nbformat_minor": 0,
  "metadata": {
    "colab": {
      "name": "week3A.ipynb",
      "provenance": [],
      "collapsed_sections": []
    },
    "kernelspec": {
      "name": "Python 3.8.5 64-bit",
      "display_name": "Python 3.8.5 64-bit",
      "metadata": {
        "interpreter": {
          "hash": "1ee38ef4a5a9feb55287fd749643f13d043cb0a7addaab2a9c224cbe137c0062"
        }
      }
    }
  },
  "cells": [
    {
      "source": [
        "# Week 10 plans\n",
        "\n",
        "* Tuesday will be revision.\n",
        "  * In-person in AGSM John B Reid Theatre (map reference G27, room G07)\n",
        "  * I will go through the week 5 and week 8 lab solutions.\n",
        "  * Discuss the exam in more detail.\n",
        "  * If you have any revision questions, send them to me. Please be as specific as possible.\n",
        "* Thursday will be to finish anything we weren't able to do on Tuesday and to give the chance for the online students to ask any revision questions in real time. Any remaining time will be reserved for advanced topics and course reflection."
      ],
      "cell_type": "markdown",
      "metadata": {}
    },
    {
      "source": [
        "# Sorting\n",
        "\n",
        "Sorting algorithms are one of the most frequently studied class of algorithms. Not only are there many such algorithms, it is also very easy to implement them incorrectly."
      ],
      "cell_type": "markdown",
      "metadata": {}
    },
    {
      "source": [
        "Can we implement [Bubble sort](https://en.wikipedia.org/wiki/Bubble_sort) in Python?"
      ],
      "cell_type": "markdown",
      "metadata": {}
    },
    {
      "cell_type": "code",
      "execution_count": 66,
      "metadata": {},
      "outputs": [
        {
          "output_type": "execute_result",
          "data": {
            "text/plain": [
              "[1, 2, 3, 5, 6]"
            ]
          },
          "metadata": {},
          "execution_count": 66
        }
      ],
      "source": [
        "example_list = [3,5,6,2,1]\n",
        "# [3,5,2,1,6]\n",
        "# [3,2,1,5,6]\n",
        "# ....\n",
        "# [1,2,3,5,6]\n",
        "\n",
        "def bubble_sort(numbers):\n",
        "    for _ in range(len(numbers) - 1):\n",
        "        for i in range(len(numbers) - 1):\n",
        "            if numbers[i] > numbers[i+1]:\n",
        "                temp = numbers[i]\n",
        "                numbers[i] = numbers[i+1]\n",
        "                numbers[i+1] = temp\n",
        "\n",
        "bubble_sort(example_list)\n",
        "example_list"
      ]
    },
    {
      "source": [
        "Can we also implement [merge sort](https://en.wikipedia.org/wiki/Merge_sort)?\n",
        "\n",
        "See `sorting.py`."
      ],
      "cell_type": "markdown",
      "metadata": {}
    },
    {
      "source": [
        "# Error Handling\n",
        "\n",
        "What do we do when things go wrong?"
      ],
      "cell_type": "markdown",
      "metadata": {}
    },
    {
      "source": [
        "## Using `None`\n",
        "\n",
        "Consider a function `find(needle, haystack)` that finds the position of `needle` in the list `haystack`. Can we implement this function?"
      ],
      "cell_type": "markdown",
      "metadata": {}
    },
    {
      "cell_type": "code",
      "execution_count": null,
      "metadata": {},
      "outputs": [],
      "source": []
    },
    {
      "source": [
        "Does python have built-in functionality for doing this?"
      ],
      "cell_type": "markdown",
      "metadata": {}
    },
    {
      "cell_type": "code",
      "execution_count": null,
      "metadata": {},
      "outputs": [],
      "source": []
    },
    {
      "source": [
        "## Exceptions"
      ],
      "cell_type": "markdown",
      "metadata": {}
    },
    {
      "source": [
        "Can we change our `find()` function so that it raises an exception?"
      ],
      "cell_type": "markdown",
      "metadata": {}
    },
    {
      "source": [],
      "cell_type": "code",
      "metadata": {},
      "execution_count": null,
      "outputs": []
    },
    {
      "source": [
        "Consider the function, `score(card_points, cards)`, from the week 4 lab. It takes in a dictionary representing point values for different cards and a list of cards, and calculates the total score for that list.\n",
        "\n",
        "Can we implement this function differently using exceptions?"
      ],
      "cell_type": "markdown",
      "metadata": {}
    },
    {
      "cell_type": "code",
      "execution_count": null,
      "metadata": {},
      "outputs": [],
      "source": []
    },
    {
      "source": [
        "A number, `x`, inside a list, `list`, is said to lead back to itself in 1 step if `list[x] == x`. A number leads back to itself in 2 steps if `list[list[x]] == x`. Which of the numbers in the following list lead back to themselves in 3 steps."
      ],
      "cell_type": "markdown",
      "metadata": {}
    },
    {
      "cell_type": "code",
      "execution_count": null,
      "metadata": {},
      "outputs": [],
      "source": [
        "list = [0, 2, 1, 4, 5, 3, 9, 6, 7]"
      ]
    },
    {
      "source": [
        "# Alternative ways of working with data structures"
      ],
      "cell_type": "markdown",
      "metadata": {}
    },
    {
      "source": [
        "Can we implement the `score(card_points, cards)` function without conditionals or exception handling?"
      ],
      "cell_type": "markdown",
      "metadata": {}
    },
    {
      "cell_type": "code",
      "execution_count": null,
      "metadata": {},
      "outputs": [],
      "source": []
    },
    {
      "source": [
        "## List/Dictionary Comprehensions"
      ],
      "cell_type": "markdown",
      "metadata": {}
    },
    {
      "source": [
        "Can we extract a list of zids from these email addresses?"
      ],
      "cell_type": "markdown",
      "metadata": {}
    },
    {
      "cell_type": "code",
      "execution_count": null,
      "metadata": {},
      "outputs": [],
      "source": [
        "emails = [\"z1234567@student.unsw.edu.au\", \"z7654321@unsw.edu.au\", \"z7891234@ad.unsw.edu.au\", \"z1357924@student.unsw.edu.au\"]"
      ]
    },
    {
      "source": [
        "Can we create a dictionary with the zids as keys and the email addresses as values?"
      ],
      "cell_type": "markdown",
      "metadata": {}
    },
    {
      "cell_type": "code",
      "execution_count": null,
      "metadata": {},
      "outputs": [],
      "source": []
    },
    {
      "source": [
        "Find all the words that are palindromes in this list:"
      ],
      "cell_type": "markdown",
      "metadata": {}
    },
    {
      "cell_type": "code",
      "execution_count": null,
      "metadata": {},
      "outputs": [],
      "source": [
        "words = [\"kayak\", \"hello\", \"racecar\", \"madam\", \"moon\", \"noon\", \"shish\", \"level\"]"
      ]
    },
    {
      "source": [
        "# Functional Programming\n",
        "\n",
        "Functional programming is a programming paradigm where programs are built by composing *pure* functions"
      ],
      "cell_type": "markdown",
      "metadata": {}
    },
    {
      "source": [
        "## Functions as values\n",
        "\n"
      ],
      "cell_type": "markdown",
      "metadata": {}
    },
    {
      "source": [
        "Can we create a list of functions?"
      ],
      "cell_type": "markdown",
      "metadata": {}
    },
    {
      "cell_type": "code",
      "execution_count": null,
      "metadata": {},
      "outputs": [],
      "source": []
    },
    {
      "source": [
        "Can we write the function `apply_list(functions, value)` that applies all the functions in the list `functions` to `value` and returns the results in a new list?"
      ],
      "cell_type": "markdown",
      "metadata": {}
    },
    {
      "cell_type": "code",
      "execution_count": null,
      "metadata": {},
      "outputs": [],
      "source": []
    },
    {
      "source": [
        "Can we do the same with a single function and a list of values?"
      ],
      "cell_type": "markdown",
      "metadata": {}
    },
    {
      "cell_type": "code",
      "execution_count": null,
      "metadata": {},
      "outputs": [],
      "source": []
    },
    {
      "source": [
        "Do functions always have to be given a name?"
      ],
      "cell_type": "markdown",
      "metadata": {}
    },
    {
      "cell_type": "code",
      "execution_count": null,
      "metadata": {},
      "outputs": [],
      "source": []
    },
    {
      "source": [
        "## List Combinators\n",
        "\n",
        "List combinators are functions that perform operations on lists, typically used as an alternative to loops.\n",
        "\n",
        "Many are available form `functools` and `itertools`."
      ],
      "cell_type": "markdown",
      "metadata": {}
    },
    {
      "source": [
        "Consider a function, `common_letters(words)`, that calculates $2a + e$ where $a$ is the number of times the letter \"a\" appears in all the words in `words` and $e$ is the number of times the letter \"e\" occurs. Can we write such a function without using any form of loop?"
      ],
      "cell_type": "markdown",
      "metadata": {}
    },
    {
      "cell_type": "code",
      "execution_count": null,
      "metadata": {},
      "outputs": [],
      "source": []
    },
    {
      "source": [
        "Consider this dictionary of first year courses and the number of enrolments they have:"
      ],
      "cell_type": "markdown",
      "metadata": {}
    },
    {
      "cell_type": "code",
      "execution_count": null,
      "metadata": {},
      "outputs": [],
      "source": [
        "first_year_courses = { \"COMP1010\": 45, \"COMP1511\": 560, \"COMP1911\": 100, \"MATH1131\": 1034, \"MATH1231\": 895, \"FINS1612\": 423, \"FINS1613\": 587, \"ACCT1501\": 327 }"
      ]
    },
    {
      "source": [
        "Can we get a list of all the courses with 500 or more enrolments?"
      ],
      "cell_type": "markdown",
      "metadata": {}
    },
    {
      "cell_type": "code",
      "execution_count": null,
      "metadata": {},
      "outputs": [],
      "source": []
    },
    {
      "source": [
        "Can we construct a dictionary containing all the subject areas and the number of enrolments in those subject areas?"
      ],
      "cell_type": "markdown",
      "metadata": {}
    },
    {
      "cell_type": "code",
      "execution_count": null,
      "metadata": {},
      "outputs": [],
      "source": []
    },
    {
      "source": [
        "# Code Golf\n",
        "\n",
        "Code golf is the challenge of solving programming problems with the least amount of code possible. While a fun exercise, this is not necessarily a good way to write code.\n",
        "\n",
        "Some tips are [here](https://www.geeksforgeeks.org/code-golfing-in-python/)."
      ],
      "cell_type": "markdown",
      "metadata": {}
    },
    {
      "source": [
        "# Types\n",
        "\n",
        "Python is a *dynamically* typed language. This means that values have types, which we can find using `type(...)`, but there is no restriction on what types of values variables can contain, functions can return, data structures can aggregate, etc."
      ],
      "cell_type": "markdown",
      "metadata": {}
    },
    {
      "source": [
        "How can we mix types in Python?"
      ],
      "cell_type": "markdown",
      "metadata": {}
    },
    {
      "cell_type": "code",
      "execution_count": null,
      "metadata": {},
      "outputs": [],
      "source": []
    },
    {
      "source": [
        "## Static typing\n",
        "\n",
        "*Statically* typed languages restrict what types of values can be used in particular situations. For example, they may enforce that all elements of a list must be the same type. Importantly, it is possible to check whether a program meets these restrictions without actually running code.\n",
        "\n",
        "More recently, it has become possible to do static type checking in Python via external tools. Doing so can mean that:\n",
        "* Whole classes of bugs can be eliminated.\n",
        "* Fewer tests need to be written.\n",
        "* More information is available to programmer on how code works."
      ],
      "cell_type": "markdown",
      "metadata": {}
    },
    {
      "source": [
        "MyPy is a popular static type checker in Python. You can install it by running this cell."
      ],
      "cell_type": "markdown",
      "metadata": {}
    },
    {
      "cell_type": "code",
      "execution_count": null,
      "metadata": {},
      "outputs": [],
      "source": [
        "!pip3 install mypy"
      ]
    },
    {
      "source": [
        "Can we do static type checking on our `find(...)` function?\n",
        "\n",
        "See `finding.py`."
      ],
      "cell_type": "markdown",
      "metadata": {}
    }
  ]
}