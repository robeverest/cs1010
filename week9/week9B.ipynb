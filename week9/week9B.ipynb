{
  "nbformat": 4,
  "nbformat_minor": 0,
  "metadata": {
    "colab": {
      "name": "week3A.ipynb",
      "provenance": [],
      "collapsed_sections": []
    },
    "kernelspec": {
      "name": "Python 3.8.5 64-bit",
      "display_name": "Python 3.8.5 64-bit",
      "metadata": {
        "interpreter": {
          "hash": "1ee38ef4a5a9feb55287fd749643f13d043cb0a7addaab2a9c224cbe137c0062"
        }
      }
    }
  },
  "cells": [
    {
      "source": [
        "# Week 10 plans\n",
        "\n",
        "* Tuesday will be revision.\n",
        "  * I will go through the week 5 and week 8 lab solutions.\n",
        "  * If you have any revision questions, send them to me. Please be as specific as possible.\n",
        "* Wednesday will finish anything we weren't able to do on Tuesday. Any remaining time will be reserved for advanced topics and course reflection."
      ],
      "cell_type": "markdown",
      "metadata": {}
    },
    {
      "source": [
        "# Functional Programming\n",
        "\n",
        "Functional programming is a programming paradigm where programs are built by composing *pure* functions"
      ],
      "cell_type": "markdown",
      "metadata": {}
    },
    {
      "source": [
        "## Functions as values\n",
        "\n"
      ],
      "cell_type": "markdown",
      "metadata": {}
    },
    {
      "source": [
        "Can we create a list of functions?"
      ],
      "cell_type": "markdown",
      "metadata": {}
    },
    {
      "cell_type": "code",
      "execution_count": null,
      "metadata": {},
      "outputs": [],
      "source": []
    },
    {
      "source": [
        "Can we write the function `apply_list(functions, value)` that applies all the functions in the list `functions` to `value` and returns the results in a new list?"
      ],
      "cell_type": "markdown",
      "metadata": {}
    },
    {
      "cell_type": "code",
      "execution_count": null,
      "metadata": {},
      "outputs": [],
      "source": []
    },
    {
      "source": [
        "Can we do the same with a single function and a list of values?"
      ],
      "cell_type": "markdown",
      "metadata": {}
    },
    {
      "cell_type": "code",
      "execution_count": null,
      "metadata": {},
      "outputs": [],
      "source": []
    },
    {
      "source": [
        "Do functions always have to be given a name?"
      ],
      "cell_type": "markdown",
      "metadata": {}
    },
    {
      "cell_type": "code",
      "execution_count": null,
      "metadata": {},
      "outputs": [],
      "source": []
    },
    {
      "source": [
        "## List Combinators\n",
        "\n",
        "List combinators are functions that perform operations on lists, typically used as an alternative to loops.\n",
        "\n",
        "Many are available form `functools` and `itertools`."
      ],
      "cell_type": "markdown",
      "metadata": {}
    },
    {
      "source": [
        "Consider a function, `common_letters(words)`, that calculates $2a + e$ where $a$ is the number of times the letter \"a\" appears in all the words in `words` and $e$ is the number of times the letter \"e\" occurs. Can we write such a function without using any form of loop."
      ],
      "cell_type": "markdown",
      "metadata": {}
    },
    {
      "cell_type": "code",
      "execution_count": null,
      "metadata": {},
      "outputs": [],
      "source": []
    },
    {
      "source": [
        "Consider this dictionary of first year courses and the number of enrolments they have:"
      ],
      "cell_type": "markdown",
      "metadata": {}
    },
    {
      "cell_type": "code",
      "execution_count": null,
      "metadata": {},
      "outputs": [],
      "source": [
        "first_year_courses = { \"COMP1010\": 45, \"COMP1511\": 560, \"COMP1911\": 100, \"MATH1131\": 1034, \"MATH1231\": 895, \"FINS1612\": 423, \"FINS1613\": 587, \"ACCT1501\": 327 }"
      ]
    },
    {
      "source": [
        "Can we get a list of all the courses with 500 or more enrolments?"
      ],
      "cell_type": "markdown",
      "metadata": {}
    },
    {
      "cell_type": "code",
      "execution_count": null,
      "metadata": {},
      "outputs": [],
      "source": []
    },
    {
      "source": [
        "Can we construct a dictionary containing all the subject areas and the number of enrolments in those subject areas?"
      ],
      "cell_type": "markdown",
      "metadata": {}
    },
    {
      "cell_type": "code",
      "execution_count": null,
      "metadata": {},
      "outputs": [],
      "source": []
    },
    {
      "source": [
        "# Code Golf\n",
        "\n",
        "Code golf is the challenge of solving programming problems with the least amount of code possible. While a fun exercise, this is not necessarily a good way to write code.\n",
        "\n",
        "Some tips are [here](https://www.geeksforgeeks.org/code-golfing-in-python/)."
      ],
      "cell_type": "markdown",
      "metadata": {}
    },
    {
      "source": [
        "# Types\n",
        "\n",
        "Python is a *dynamically* typed language. This means that values have types, which we can find using `type(...)`, but there is no restriction on what types of values variables can contain, functions can return, data structures can aggregate, etc."
      ],
      "cell_type": "markdown",
      "metadata": {}
    },
    {
      "source": [
        "How can we mix types in Python?"
      ],
      "cell_type": "markdown",
      "metadata": {}
    },
    {
      "cell_type": "code",
      "execution_count": null,
      "metadata": {},
      "outputs": [],
      "source": []
    },
    {
      "source": [
        "## Static typing\n",
        "\n",
        "*Statically* typed languages restrict what types of values can be used in particular situations. For example, they may enforce that all elements of a list must be the same type. Importantly, it is possible to check whether a program meets these restrictions without actually running code.\n",
        "\n",
        "More recently, it has become possible to do static type checking in Python via external tools. Doing so can mean that:\n",
        "* Whole classes of bugs can be eliminated.\n",
        "* Fewer tests need to be written.\n",
        "* More information is available to programmer on how code works."
      ],
      "cell_type": "markdown",
      "metadata": {}
    },
    {
      "source": [
        "MyPy is a popular static type checker in Python. You can install it by running this cell."
      ],
      "cell_type": "markdown",
      "metadata": {}
    },
    {
      "cell_type": "code",
      "execution_count": null,
      "metadata": {},
      "outputs": [],
      "source": [
        "!pip3 install mypy"
      ]
    },
    {
      "source": [
        "Can we do static type checking on our `find(...)` function?\n",
        "\n",
        "See `finding.py`."
      ],
      "cell_type": "markdown",
      "metadata": {}
    }
  ]
}