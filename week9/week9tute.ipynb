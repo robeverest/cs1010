{
 "metadata": {
  "language_info": {
   "codemirror_mode": {
    "name": "ipython",
    "version": 3
   },
   "file_extension": ".py",
   "mimetype": "text/x-python",
   "name": "python",
   "nbconvert_exporter": "python",
   "pygments_lexer": "ipython3",
   "version": "3.8.5-final"
  },
  "orig_nbformat": 2,
  "kernelspec": {
   "name": "python38564bit16056ce0e98a49208e5744e26803b7c0",
   "display_name": "Python 3.8.5 64-bit"
  }
 },
 "nbformat": 4,
 "nbformat_minor": 2,
 "cells": [
  {
   "cell_type": "markdown",
   "metadata": {},
   "source": [
    "# Week 9 Tutorial"
   ]
  },
  {
   "source": [
    "## Cookies\n",
    "\n",
    "Implement a web server that acts as the guessing player in a number guessing game-- i.e. it tries to guess a number the user has come up with and the user can respond with \"higher\" or \"lower\". Importantly, it should tell the user if it thinks they are cheating and changing their number halfway through the game\n",
    "\n",
    "Use `session` to store the application state in cookies."
   ],
   "cell_type": "markdown",
   "metadata": {}
  },
  {
   "source": [
    "## Databases\n",
    "\n",
    "Use SQLite in Python to construct a database table containing some famous movies and their genres.\n",
    "\n",
    "Create an additional table to store students in this class and their favourite movie genre.\n",
    "\n",
    "If we wanted to keep track of what movies students had seen, is there a way we do that? Keep in mind that each student will have seen multiple movies and each movie will have been seen by multiple students."
   ],
   "cell_type": "markdown",
   "metadata": {}
  },
  {
   "cell_type": "code",
   "execution_count": null,
   "metadata": {},
   "outputs": [],
   "source": []
  }
 ]
}