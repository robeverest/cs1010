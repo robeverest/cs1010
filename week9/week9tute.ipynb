{
 "metadata": {
  "language_info": {
   "codemirror_mode": {
    "name": "ipython",
    "version": 3
   },
   "file_extension": ".py",
   "mimetype": "text/x-python",
   "name": "python",
   "nbconvert_exporter": "python",
   "pygments_lexer": "ipython3",
   "version": "3.8.5-final"
  },
  "orig_nbformat": 2,
  "kernelspec": {
   "name": "python38564bit16056ce0e98a49208e5744e26803b7c0",
   "display_name": "Python 3.8.5 64-bit"
  }
 },
 "nbformat": 4,
 "nbformat_minor": 2,
 "cells": [
  {
   "cell_type": "markdown",
   "metadata": {},
   "source": [
    "# Week 9 Tutorial"
   ]
  },
  {
   "source": [
    "## Cookies\n",
    "\n",
    "Implement a web server that acts as the guessing player in the number guessing game-- i.e. it tries to guess a number the user has come up with and the user can respond with \"higher\" or \"lower\". Importantly, it should tell the user if it thinks they are cheating by changing their number halfway through the game.\n",
    "\n",
    "Use `session` to store the application state in cookies."
   ],
   "cell_type": "markdown",
   "metadata": {}
  },
  {
   "source": [
    "## Databases\n",
    "\n",
    "Use SQLite in Python to construct a database table containing some famous movies and their genres.\n",
    "\n",
    "Create an additional table to store students in this class and their favourite movie genre.\n",
    "\n",
    "If we wanted to keep track of what movies students had seen, is there a way we do that? Keep in mind that each student will have seen multiple movies and each movie will have been seen by multiple students."
   ],
   "cell_type": "markdown",
   "metadata": {}
  },
  {
   "cell_type": "code",
   "execution_count": null,
   "metadata": {},
   "outputs": [],
   "source": []
  },
  {
   "source": [
    "## Testing\n",
    "\n",
    "The following function adds together two lists of numbers element-wise, treating non-existing elements as zero. However, it has a significant bug. See if you can write tests the find the bug."
   ],
   "cell_type": "markdown",
   "metadata": {}
  },
  {
   "cell_type": "code",
   "execution_count": null,
   "metadata": {},
   "outputs": [],
   "source": [
    "def add_lists(list1, list2):\n",
    "    result = []\n",
    "    for i in range(len(list1)):\n",
    "        a = list1[i]\n",
    "        if i < len(list2):\n",
    "            b = list2[i]\n",
    "        else:\n",
    "            b = 0\n",
    "        result.append(a + b)\n",
    "    return result"
   ]
  },
  {
   "source": [
    "With any time remaining, try to fix the bug. Also, see if you can simplify the function using other Python features."
   ],
   "cell_type": "markdown",
   "metadata": {}
  }
 ]
}